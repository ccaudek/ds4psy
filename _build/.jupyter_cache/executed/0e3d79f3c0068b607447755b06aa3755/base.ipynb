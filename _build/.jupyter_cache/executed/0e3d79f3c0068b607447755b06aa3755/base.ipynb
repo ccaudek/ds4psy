{
 "cells": [
  {
   "cell_type": "code",
   "execution_count": 1,
   "metadata": {},
   "outputs": [
    {
     "name": "stdout",
     "output_type": "stream",
     "text": [
      "{1, 2}\n",
      "<class 'set'>\n"
     ]
    }
   ],
   "source": [
    "Set1 = {1, 2}\n",
    "print(Set1)\n",
    "print(type(Set1))\n"
   ]
  },
  {
   "cell_type": "code",
   "execution_count": 2,
   "metadata": {},
   "outputs": [
    {
     "name": "stdout",
     "output_type": "stream",
     "text": [
      "{1, 2, 3, 4}\n"
     ]
    }
   ],
   "source": [
    "my_list = [1, 2, 3, 4]\n",
    "my_set_from_list = set(my_list)\n",
    "print(my_set_from_list)\n"
   ]
  },
  {
   "cell_type": "code",
   "execution_count": 3,
   "metadata": {},
   "outputs": [
    {
     "name": "stdout",
     "output_type": "stream",
     "text": [
      "Ecco il mio insieme: {1, 3, 5}\n",
      "1 appartiene all'insieme: True\n",
      "2 non appartiene all'insieme: False\n",
      "4 NON appartiene all'insieme: True\n"
     ]
    }
   ],
   "source": [
    "my_set = set([1, 3, 5])\n",
    "print(\"Ecco il mio insieme:\", my_set)\n",
    "print(\"1 appartiene all'insieme:\", 1 in my_set)\n",
    "print(\"2 non appartiene all'insieme:\", 2 in my_set)\n",
    "print(\"4 NON appartiene all'insieme:\", 4 not in my_set)\n"
   ]
  },
  {
   "cell_type": "code",
   "execution_count": 4,
   "metadata": {},
   "outputs": [],
   "source": [
    "Univ = set([x for x in range(11)])\n",
    "Super = set([x for x in range(11) if x % 2 == 0])\n",
    "Disj = set([x for x in range(11) if x % 2 == 1])\n",
    "Sub = set([4, 6])\n",
    "Null = set([x for x in range(11) if x > 10])\n"
   ]
  },
  {
   "cell_type": "code",
   "execution_count": 5,
   "metadata": {},
   "outputs": [
    {
     "name": "stdout",
     "output_type": "stream",
     "text": [
      "Insieme Universo (tutti gli interi positivi fino a 10): {0, 1, 2, 3, 4, 5, 6, 7, 8, 9, 10}\n",
      "Tutti gli interi positivi pari fino a 10: {0, 2, 4, 6, 8, 10}\n",
      "Tutti gli interi positivi dispari fino a 10: {1, 3, 5, 7, 9}\n",
      "Insieme di due elementi, 4 e 6: {4, 6}\n",
      "Un isieme vuoto: set()\n"
     ]
    }
   ],
   "source": [
    "print(\"Insieme Universo (tutti gli interi positivi fino a 10):\", Univ)\n",
    "print(\"Tutti gli interi positivi pari fino a 10:\", Super)\n",
    "print(\"Tutti gli interi positivi dispari fino a 10:\", Disj)\n",
    "print(\"Insieme di due elementi, 4 e 6:\", Sub)\n",
    "print(\"Un isieme vuoto:\", Null)\n"
   ]
  },
  {
   "cell_type": "code",
   "execution_count": 6,
   "metadata": {},
   "outputs": [
    {
     "name": "stdout",
     "output_type": "stream",
     "text": [
      "È \"Super\" un sovrainsieme di \"Sub\"? True\n",
      "È \"Super\" un sottoinsieme di \"Univ\"? True\n",
      "È \"Sub\" un sovrainsieme di \"Super\"? False\n",
      "Sono \"Super\" e \"Disj\" insiemi disgiunti? True\n"
     ]
    }
   ],
   "source": [
    "print('È \"Super\" un sovrainsieme di \"Sub\"?', Super.issuperset(Sub))\n",
    "print('È \"Super\" un sottoinsieme di \"Univ\"?', Super.issubset(Univ))\n",
    "print('È \"Sub\" un sovrainsieme di \"Super\"?', Sub.issuperset(Super))\n",
    "print('Sono \"Super\" e \"Disj\" insiemi disgiunti?', Sub.isdisjoint(Disj))\n"
   ]
  },
  {
   "cell_type": "code",
   "execution_count": 7,
   "metadata": {},
   "outputs": [
    {
     "name": "stdout",
     "output_type": "stream",
     "text": [
      "S1 e S2 sono uguali perché l'ordine o la ripetizione di elementi non importano per gli insiemi\n",
      "S1==S2: True\n"
     ]
    }
   ],
   "source": [
    "S1 = {1, 2}\n",
    "S2 = {2, 2, 1, 1, 2}\n",
    "print(\n",
    "    \"S1 e S2 sono uguali perché l'ordine o la ripetizione di elementi non importano per gli insiemi\\nS1==S2:\",\n",
    "    S1 == S2,\n",
    ")\n"
   ]
  },
  {
   "cell_type": "code",
   "execution_count": 8,
   "metadata": {},
   "outputs": [
    {
     "name": "stdout",
     "output_type": "stream",
     "text": [
      "S1 e S2 NON sono uguali perché si differenziano per almeno uno dei loro elementi\n",
      "S1==S2: False\n"
     ]
    }
   ],
   "source": [
    "S1 = {1, 2, 3, 4, 5, 6}\n",
    "S2 = {1, 2, 3, 4, 0, 6}\n",
    "print(\n",
    "    \"S1 e S2 NON sono uguali perché si differenziano per almeno uno dei loro elementi\\nS1==S2:\",\n",
    "    S1 == S2,\n",
    ")\n"
   ]
  },
  {
   "cell_type": "code",
   "execution_count": 9,
   "metadata": {},
   "outputs": [
    {
     "name": "stdout",
     "output_type": "stream",
     "text": [
      "S1: {9, 3, 6}\n"
     ]
    }
   ],
   "source": [
    "S1 = set([x for x in range(1, 11) if x % 3 == 0])\n",
    "print(\"S1:\", S1)\n"
   ]
  },
  {
   "cell_type": "code",
   "execution_count": 10,
   "metadata": {},
   "outputs": [
    {
     "name": "stdout",
     "output_type": "stream",
     "text": [
      "S2: {1, 2, 3, 4, 5, 6}\n"
     ]
    }
   ],
   "source": [
    "S2 = set([x for x in range(1, 7)])\n",
    "print(\"S2:\", S2)\n"
   ]
  },
  {
   "cell_type": "code",
   "execution_count": 11,
   "metadata": {},
   "outputs": [
    {
     "name": "stdout",
     "output_type": "stream",
     "text": [
      "Intersezione di S1 e S2: {3, 6}\n",
      "Intersezione di S1 e S2: {3, 6}\n"
     ]
    }
   ],
   "source": [
    "S_intersection = S1.intersection(S2)\n",
    "print(\"Intersezione di S1 e S2:\", S_intersection)\n",
    "\n",
    "S_intersection = S1 & S2\n",
    "print(\"Intersezione di S1 e S2:\", S_intersection)\n"
   ]
  },
  {
   "cell_type": "code",
   "execution_count": 12,
   "metadata": {},
   "outputs": [
    {
     "name": "stdout",
     "output_type": "stream",
     "text": [
      "S3: {8, 9, 6, 7}\n",
      "Intersection of S1, S2, and S3: {6}\n"
     ]
    }
   ],
   "source": [
    "S3 = set([x for x in range(6, 10)])\n",
    "print(\"S3:\", S3)\n",
    "S1_S2_S3 = S1.intersection(S2).intersection(S3)\n",
    "print(\"Intersection of S1, S2, and S3:\", S1_S2_S3)\n"
   ]
  },
  {
   "cell_type": "code",
   "execution_count": 13,
   "metadata": {},
   "outputs": [
    {
     "name": "stdout",
     "output_type": "stream",
     "text": [
      "S1: {9, 3, 6}\n",
      "S2: {1, 2, 3, 4}\n",
      "Unione di S1 e S2: {1, 2, 3, 4, 6, 9}\n",
      "Unione di S1 e S2: {1, 2, 3, 4, 6, 9}\n"
     ]
    }
   ],
   "source": [
    "S1 = set([x for x in range(1, 11) if x % 3 == 0])\n",
    "print(\"S1:\", S1)\n",
    "S2 = set([x for x in range(1, 5)])\n",
    "print(\"S2:\", S2)\n",
    "\n",
    "S_union = S1.union(S2)\n",
    "print(\"Unione di S1 e S2:\", S_union)\n",
    "S_union = S1 | S2\n",
    "print(\"Unione di S1 e S2:\", S_union)\n"
   ]
  },
  {
   "cell_type": "code",
   "execution_count": 14,
   "metadata": {},
   "outputs": [
    {
     "name": "stdout",
     "output_type": "stream",
     "text": [
      "S è l'insieme dei numeri interi pari tra 0 e 20: {0, 2, 4, 6, 8, 10, 12, 14, 16, 18, 20}\n"
     ]
    }
   ],
   "source": [
    "S = set([x for x in range(21) if x % 2 == 0])\n",
    "print(\"S è l'insieme dei numeri interi pari tra 0 e 20:\", S)\n"
   ]
  },
  {
   "cell_type": "code",
   "execution_count": 15,
   "metadata": {},
   "outputs": [
    {
     "name": "stdout",
     "output_type": "stream",
     "text": [
      "S_complement è l'insieme dei numeri interi dispari tra 0 e 20: {1, 3, 5, 7, 9, 11, 13, 15, 17, 19}\n"
     ]
    }
   ],
   "source": [
    "S_complement = set([x for x in range(21) if x % 2 != 0])\n",
    "print(\"S_complement è l'insieme dei numeri interi dispari tra 0 e 20:\", S_complement)\n"
   ]
  },
  {
   "cell_type": "code",
   "execution_count": 16,
   "metadata": {},
   "outputs": [
    {
     "name": "stdout",
     "output_type": "stream",
     "text": [
      "È l'unione di S e S_complement uguale a tutti i numeri interi tra 0 e 20? True\n"
     ]
    }
   ],
   "source": [
    "print(\n",
    "    \"È l'unione di S e S_complement uguale a tutti i numeri interi tra 0 e 20?\",\n",
    "    S.union(S_complement) == set([x for x in range(21)]),\n",
    ")\n"
   ]
  },
  {
   "cell_type": "code",
   "execution_count": 17,
   "metadata": {},
   "outputs": [
    {
     "name": "stdout",
     "output_type": "stream",
     "text": [
      "Set S1: {0, 3, 6, 9, 12, 15, 18, 21, 24, 27, 30}\n"
     ]
    }
   ],
   "source": [
    "S1 = set([x for x in range(31) if x % 3 == 0])\n",
    "print(\"Set S1:\", S1)\n"
   ]
  },
  {
   "cell_type": "code",
   "execution_count": 18,
   "metadata": {},
   "outputs": [
    {
     "name": "stdout",
     "output_type": "stream",
     "text": [
      "Set S2: {0, 5, 10, 15, 20, 25, 30}\n"
     ]
    }
   ],
   "source": [
    "S2 = set([x for x in range(31) if x % 5 == 0])\n",
    "print(\"Set S2:\", S2)\n"
   ]
  },
  {
   "cell_type": "code",
   "execution_count": 19,
   "metadata": {},
   "outputs": [
    {
     "name": "stdout",
     "output_type": "stream",
     "text": [
      "Differenza tra S2 e S1, i.e. S2\\S1: {25, 10, 20, 5}\n",
      "Differenza tra S1 e S2, i.e. S1\\S2: {3, 6, 9, 12, 18, 21, 24, 27}\n"
     ]
    }
   ],
   "source": [
    "S_difference = S2 - S1\n",
    "print(\"Differenza tra S2 e S1, i.e. S2\\S1:\", S_difference)\n",
    "\n",
    "S_difference = S1.difference(S2)\n",
    "print(\"Differenza tra S1 e S2, i.e. S1\\S2:\", S_difference)\n"
   ]
  },
  {
   "cell_type": "code",
   "execution_count": 20,
   "metadata": {},
   "outputs": [
    {
     "name": "stdout",
     "output_type": "stream",
     "text": [
      "S1 {0, 3, 6, 9, 12, 15, 18, 21, 24, 27, 30}\n",
      "S2 {0, 5, 10, 15, 20, 25, 30}\n",
      "Differenza simmetrica {3, 5, 6, 9, 10, 12, 18, 20, 21, 24, 25, 27}\n",
      "Differenza simmetrica {3, 5, 6, 9, 10, 12, 18, 20, 21, 24, 25, 27}\n"
     ]
    }
   ],
   "source": [
    "print(\"S1\", S1)\n",
    "print(\"S2\", S2)\n",
    "print(\"Differenza simmetrica\", S1 ^ S2)\n",
    "print(\"Differenza simmetrica\", S2.symmetric_difference(S1))\n"
   ]
  },
  {
   "cell_type": "code",
   "execution_count": 21,
   "metadata": {},
   "outputs": [],
   "source": [
    "A = set([\"a\", \"b\", \"c\"])\n",
    "S = {1, 2, 3}\n"
   ]
  },
  {
   "cell_type": "code",
   "execution_count": 22,
   "metadata": {},
   "outputs": [],
   "source": [
    "def cartesian_product(S1, S2):\n",
    "    result = set()\n",
    "    for i in S1:\n",
    "        for j in S2:\n",
    "            result.add(tuple([i, j]))\n",
    "    return result\n"
   ]
  },
  {
   "cell_type": "code",
   "execution_count": 23,
   "metadata": {},
   "outputs": [
    {
     "name": "stdout",
     "output_type": "stream",
     "text": [
      "Prodotto cartesiano di A e S\n",
      "{'b', 'c', 'a'} x {1, 2, 3} = {('b', 1), ('c', 2), ('a', 3), ('c', 1), ('b', 3), ('a', 2), ('b', 2), ('a', 1), ('c', 3)}\n"
     ]
    }
   ],
   "source": [
    "C = cartesian_product(A, S)\n",
    "print(f\"Prodotto cartesiano di A e S\\n{A} x {S} = {C}\")"
   ]
  },
  {
   "cell_type": "code",
   "execution_count": 24,
   "metadata": {},
   "outputs": [
    {
     "name": "stdout",
     "output_type": "stream",
     "text": [
      "La cardinalità dell'insieme prodotto cartesiano è: 9\n"
     ]
    }
   ],
   "source": [
    "print(\"La cardinalità dell'insieme prodotto cartesiano è:\", len(C))\n"
   ]
  },
  {
   "cell_type": "code",
   "execution_count": 25,
   "metadata": {},
   "outputs": [],
   "source": [
    "from itertools import product as prod"
   ]
  },
  {
   "cell_type": "code",
   "execution_count": 26,
   "metadata": {},
   "outputs": [
    {
     "name": "stdout",
     "output_type": "stream",
     "text": [
      "A è l'insieme di tutti i possibili lanci di un dado: {1, 2, 3, 4, 5, 6}\n",
      "B è l'insieme di tutti i possibili lanci di un dado: {1, 2, 3, 4, 5, 6}\n",
      "\n",
      "Il prodotto di A e B è l'insieme dei risultati che si possono ottenere lanciando due dadi:\n",
      " [(1, 1), (1, 2), (1, 3), (1, 4), (1, 5), (1, 6), (2, 1), (2, 2), (2, 3), (2, 4), (2, 5), (2, 6), (3, 1), (3, 2), (3, 3), (3, 4), (3, 5), (3, 6), (4, 1), (4, 2), (4, 3), (4, 4), (4, 5), (4, 6), (5, 1), (5, 2), (5, 3), (5, 4), (5, 5), (5, 6), (6, 1), (6, 2), (6, 3), (6, 4), (6, 5), (6, 6)]\n"
     ]
    }
   ],
   "source": [
    "A = set([x for x in range(1, 7)])\n",
    "B = set([x for x in range(1, 7)])\n",
    "p = list(prod(A, B))\n",
    "\n",
    "print(\"A è l'insieme di tutti i possibili lanci di un dado:\", A)\n",
    "print(\"B è l'insieme di tutti i possibili lanci di un dado:\", B)\n",
    "print(\n",
    "    \"\\nIl prodotto di A e B è l'insieme dei risultati che si possono ottenere lanciando due dadi:\\n\",\n",
    "    p,\n",
    ")\n"
   ]
  },
  {
   "cell_type": "code",
   "execution_count": 27,
   "metadata": {},
   "outputs": [
    {
     "name": "stdout",
     "output_type": "stream",
     "text": [
      "Il quadrato dell'insieme A è un insieme che contiene 4 elementi: [('Head', 'Head'), ('Head', 'Tail'), ('Tail', 'Head'), ('Tail', 'Tail')]\n"
     ]
    }
   ],
   "source": [
    "A = {\"Head\", \"Tail\"} \n",
    "p2 = list(prod(A, repeat=2))  \n",
    "print(f\"Il quadrato dell'insieme A è un insieme che contiene {len(p2)} elementi: {p2}\")"
   ]
  },
  {
   "cell_type": "code",
   "execution_count": 28,
   "metadata": {},
   "outputs": [
    {
     "name": "stdout",
     "output_type": "stream",
     "text": [
      "L'insieme A elevato alla terza potenza è costituito da 8 elementi: [('Head', 'Head', 'Head'), ('Head', 'Head', 'Tail'), ('Head', 'Tail', 'Head'), ('Head', 'Tail', 'Tail'), ('Tail', 'Head', 'Head'), ('Tail', 'Head', 'Tail'), ('Tail', 'Tail', 'Head'), ('Tail', 'Tail', 'Tail')]\n"
     ]
    }
   ],
   "source": [
    "p3 = list(prod(A, repeat=3))  \n",
    "print(f\"L'insieme A elevato alla terza potenza è costituito da {len(p3)} elementi: {p3}\")"
   ]
  },
  {
   "cell_type": "code",
   "execution_count": 29,
   "metadata": {},
   "outputs": [
    {
     "name": "stdout",
     "output_type": "stream",
     "text": [
      "Last updated: Sun Sep 17 2023\n",
      "\n",
      "Python implementation: CPython\n",
      "Python version       : 3.11.5\n",
      "IPython version      : 8.15.0\n",
      "\n",
      "Watermark: 2.4.3\n",
      "\n"
     ]
    }
   ],
   "source": [
    "%load_ext watermark\n",
    "%watermark -n -u -v -iv -w"
   ]
  }
 ],
 "metadata": {
  "kernelspec": {
   "display_name": "pymc",
   "language": "python",
   "name": "python3"
  },
  "language_info": {
   "codemirror_mode": {
    "name": "ipython",
    "version": 3
   },
   "file_extension": ".py",
   "mimetype": "text/x-python",
   "name": "python",
   "nbconvert_exporter": "python",
   "pygments_lexer": "ipython3",
   "version": "3.11.5"
  }
 },
 "nbformat": 4,
 "nbformat_minor": 2
}