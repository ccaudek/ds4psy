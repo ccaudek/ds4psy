{
 "cells": [
  {
   "cell_type": "code",
   "execution_count": 1,
   "metadata": {},
   "outputs": [],
   "source": [
    "import numpy as np\n",
    "import scipy.stats as stats\n",
    "from scipy.stats import binom, geom\n",
    "from scipy.special import comb"
   ]
  },
  {
   "cell_type": "code",
   "execution_count": 2,
   "metadata": {},
   "outputs": [
    {
     "name": "stdout",
     "output_type": "stream",
     "text": [
      "1.8961522623996823\n"
     ]
    }
   ],
   "source": [
    "T = (0.56 - 0.50) / (0.179 / np.sqrt(32))\n",
    "print(T)"
   ]
  },
  {
   "cell_type": "code",
   "execution_count": 3,
   "metadata": {},
   "outputs": [
    {
     "name": "stdout",
     "output_type": "stream",
     "text": [
      "0.033647093369739034\n"
     ]
    }
   ],
   "source": [
    "p = 1 - stats.t.cdf(T, 31)\n",
    "print(p)"
   ]
  },
  {
   "cell_type": "code",
   "execution_count": 4,
   "metadata": {},
   "outputs": [
    {
     "data": {
      "text/plain": [
       "(0.109375, 0.03125)"
      ]
     },
     "execution_count": 4,
     "metadata": {},
     "output_type": "execute_result"
    }
   ],
   "source": [
    "# Parametri\n",
    "n_binomial = 6  # Numero fisso di tentativi per la distribuzione binomiale\n",
    "n_success = 5  # Numero di successi desiderato\n",
    "p = 0.5  # Probabilità di successo (indovinare la tazza di tè)\n",
    "\n",
    "# Calcolo del p-value per la distribuzione binomiale\n",
    "p_value_binomial = 1 - binom.cdf(n_success - 1, n_binomial, p)\n",
    "\n",
    "# Calcolo del p-value per la distribuzione geometrica negativa\n",
    "p_value_geom_corrected = 0\n",
    "for k in range(n_binomial - n_success):  # Numero di fallimenti prima del 5° successo\n",
    "    p_value_geom_corrected += (\n",
    "        comb(k + n_success - 1, k) * ((1 - p) ** k) * (p**n_success)\n",
    "    )\n",
    "\n",
    "p_value_binomial, p_value_geom_corrected"
   ]
  },
  {
   "cell_type": "code",
   "execution_count": 5,
   "metadata": {},
   "outputs": [
    {
     "name": "stdout",
     "output_type": "stream",
     "text": [
      "Last updated: Mon Oct 16 2023\n",
      "\n",
      "Python implementation: CPython\n",
      "Python version       : 3.11.5\n",
      "IPython version      : 8.15.0\n",
      "\n",
      "numpy: 1.25.2\n",
      "scipy: 1.11.2\n",
      "\n",
      "Watermark: 2.4.3\n",
      "\n"
     ]
    }
   ],
   "source": [
    "%load_ext watermark\n",
    "%watermark -n -u -v -iv -w "
   ]
  }
 ],
 "metadata": {
  "kernelspec": {
   "display_name": "bambi_env",
   "language": "python",
   "name": "python3"
  },
  "language_info": {
   "codemirror_mode": {
    "name": "ipython",
    "version": 3
   },
   "file_extension": ".py",
   "mimetype": "text/x-python",
   "name": "python",
   "nbconvert_exporter": "python",
   "pygments_lexer": "ipython3",
   "version": "3.11.5"
  },
  "vscode": {
   "interpreter": {
    "hash": "e957f8d2d9272acec629608affb587206e5d92bb0d8d335f71da72c549770d8b"
   }
  }
 },
 "nbformat": 4,
 "nbformat_minor": 2
}