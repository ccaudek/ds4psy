{
 "cells": [
  {
   "cell_type": "code",
   "execution_count": 1,
   "metadata": {},
   "outputs": [
    {
     "name": "stdout",
     "output_type": "stream",
     "text": [
      "Intel MKL WARNING: Support of Intel(R) Streaming SIMD Extensions 4.2 (Intel(R) SSE4.2) enabled only processors has been deprecated. Intel oneAPI Math Kernel Library 2025.0 will require Intel(R) Advanced Vector Extensions (Intel(R) AVX) instructions.\n",
      "Intel MKL WARNING: Support of Intel(R) Streaming SIMD Extensions 4.2 (Intel(R) SSE4.2) enabled only processors has been deprecated. Intel oneAPI Math Kernel Library 2025.0 will require Intel(R) Advanced Vector Extensions (Intel(R) AVX) instructions.\n"
     ]
    }
   ],
   "source": [
    "import matplotlib.pyplot as plt\n",
    "import numpy as np\n",
    "import pandas as pd\n",
    "import math\n",
    "import seaborn as sns\n",
    "from collections import defaultdict\n",
    "from scipy.constants import golden"
   ]
  },
  {
   "cell_type": "code",
   "execution_count": 2,
   "metadata": {},
   "outputs": [],
   "source": [
    "%matplotlib inline\n",
    "sns.set_theme(\n",
    "    context=\"paper\",\n",
    "    style=\"darkgrid\",\n",
    "    palette=\"colorblind\",\n",
    "    rc={\"figure.figsize\": (5.0, 5.0 / golden)},\n",
    ")\n",
    "\n",
    "SEED = 12345\n",
    "rng = np.random.default_rng(SEED)"
   ]
  },
  {
   "cell_type": "code",
   "execution_count": 3,
   "metadata": {},
   "outputs": [
    {
     "data": {
      "text/plain": [
       "[1, 2, 3, 4, 5, 6]"
      ]
     },
     "execution_count": 3,
     "metadata": {},
     "output_type": "execute_result"
    }
   ],
   "source": [
    "sample = [dice1 for dice1 in range(1, 7)]\n",
    "list(sample)"
   ]
  },
  {
   "cell_type": "code",
   "execution_count": 4,
   "metadata": {},
   "outputs": [
    {
     "name": "stdout",
     "output_type": "stream",
     "text": [
      "[1, 2, 3]\n"
     ]
    }
   ],
   "source": [
    "event = [roll for roll in sample if roll < 4]\n",
    "print(list(event))"
   ]
  },
  {
   "cell_type": "code",
   "execution_count": 5,
   "metadata": {},
   "outputs": [
    {
     "name": "stdout",
     "output_type": "stream",
     "text": [
      "La probabilità dell'evento è 3/6.\n"
     ]
    }
   ],
   "source": [
    "print(f\"La probabilità dell'evento è {len(event)}/{len(sample)}.\")"
   ]
  },
  {
   "cell_type": "code",
   "execution_count": 6,
   "metadata": {},
   "outputs": [
    {
     "data": {
      "text/plain": [
       "[(1, 1),\n",
       " (1, 2),\n",
       " (1, 3),\n",
       " (1, 4),\n",
       " (1, 5),\n",
       " (1, 6),\n",
       " (2, 1),\n",
       " (2, 2),\n",
       " (2, 3),\n",
       " (2, 4),\n",
       " (2, 5),\n",
       " (2, 6),\n",
       " (3, 1),\n",
       " (3, 2),\n",
       " (3, 3),\n",
       " (3, 4),\n",
       " (3, 5),\n",
       " (3, 6),\n",
       " (4, 1),\n",
       " (4, 2),\n",
       " (4, 3),\n",
       " (4, 4),\n",
       " (4, 5),\n",
       " (4, 6),\n",
       " (5, 1),\n",
       " (5, 2),\n",
       " (5, 3),\n",
       " (5, 4),\n",
       " (5, 5),\n",
       " (5, 6),\n",
       " (6, 1),\n",
       " (6, 2),\n",
       " (6, 3),\n",
       " (6, 4),\n",
       " (6, 5),\n",
       " (6, 6)]"
      ]
     },
     "execution_count": 6,
     "metadata": {},
     "output_type": "execute_result"
    }
   ],
   "source": [
    "sample = [(dice1, dice2) for dice1 in range(1, 7) for dice2 in range(1, 7)]\n",
    "sample"
   ]
  },
  {
   "cell_type": "code",
   "execution_count": 7,
   "metadata": {},
   "outputs": [
    {
     "data": {
      "text/plain": [
       "[(1, 6),\n",
       " (2, 6),\n",
       " (3, 6),\n",
       " (4, 6),\n",
       " (5, 6),\n",
       " (6, 1),\n",
       " (6, 2),\n",
       " (6, 3),\n",
       " (6, 4),\n",
       " (6, 5),\n",
       " (6, 6)]"
      ]
     },
     "execution_count": 7,
     "metadata": {},
     "output_type": "execute_result"
    }
   ],
   "source": [
    "event = [roll for roll in sample if roll[0] == 6 or roll[1] == 6]\n",
    "event"
   ]
  },
  {
   "cell_type": "code",
   "execution_count": 8,
   "metadata": {},
   "outputs": [
    {
     "name": "stdout",
     "output_type": "stream",
     "text": [
      "11 / 36\n"
     ]
    }
   ],
   "source": [
    "print(f\"{len(event)} / {len(sample)}\")"
   ]
  },
  {
   "cell_type": "code",
   "execution_count": 9,
   "metadata": {},
   "outputs": [
    {
     "data": {
      "text/plain": [
       "[(1, 1),\n",
       " (1, 2),\n",
       " (1, 3),\n",
       " (1, 4),\n",
       " (1, 5),\n",
       " (2, 1),\n",
       " (2, 2),\n",
       " (2, 3),\n",
       " (2, 4),\n",
       " (2, 5),\n",
       " (3, 1),\n",
       " (3, 2),\n",
       " (3, 3),\n",
       " (3, 4),\n",
       " (3, 5),\n",
       " (4, 1),\n",
       " (4, 2),\n",
       " (4, 3),\n",
       " (4, 4),\n",
       " (4, 5),\n",
       " (5, 1),\n",
       " (5, 2),\n",
       " (5, 3),\n",
       " (5, 4),\n",
       " (5, 5)]"
      ]
     },
     "execution_count": 9,
     "metadata": {},
     "output_type": "execute_result"
    }
   ],
   "source": [
    "event = [roll for roll in sample if roll[0] != 6 and roll[1] != 6]\n",
    "event"
   ]
  },
  {
   "cell_type": "code",
   "execution_count": 10,
   "metadata": {},
   "outputs": [
    {
     "name": "stdout",
     "output_type": "stream",
     "text": [
      "25 / 36\n"
     ]
    }
   ],
   "source": [
    "print(f\"{len(event)} / {len(sample)}\")"
   ]
  },
  {
   "cell_type": "code",
   "execution_count": 11,
   "metadata": {},
   "outputs": [
    {
     "data": {
      "text/plain": [
       "[(1, 3), (2, 2), (3, 1)]"
      ]
     },
     "execution_count": 11,
     "metadata": {},
     "output_type": "execute_result"
    }
   ],
   "source": [
    "event = [roll for roll in sample if sum(roll) == 4]\n",
    "event"
   ]
  },
  {
   "cell_type": "code",
   "execution_count": 12,
   "metadata": {},
   "outputs": [
    {
     "name": "stdout",
     "output_type": "stream",
     "text": [
      "3 / 36\n"
     ]
    }
   ],
   "source": [
    "print(f\"{len(event)} / {len(sample)}\")"
   ]
  },
  {
   "cell_type": "code",
   "execution_count": 13,
   "metadata": {},
   "outputs": [
    {
     "name": "stdout",
     "output_type": "stream",
     "text": [
      "[(1, 3, 6), (1, 4, 5), (1, 5, 4), (1, 6, 3), (2, 2, 6), (2, 3, 5), (2, 4, 4), (2, 5, 3), (2, 6, 2), (3, 1, 6), (3, 2, 5), (3, 3, 4), (3, 4, 3), (3, 5, 2), (3, 6, 1), (4, 1, 5), (4, 2, 4), (4, 3, 3), (4, 4, 2), (4, 5, 1), (5, 1, 4), (5, 2, 3), (5, 3, 2), (5, 4, 1), (6, 1, 3), (6, 2, 2), (6, 3, 1)]\n",
      "27 / 216\n"
     ]
    }
   ],
   "source": [
    "r = range(1, 7)\n",
    "sample = [(i, j, k) for i in r for j in r for k in r]\n",
    "event = [roll for roll in sample if sum(roll) == 10]\n",
    "print(event)\n",
    "print(f\"{len(event)} / {len(sample)}\")"
   ]
  },
  {
   "cell_type": "code",
   "execution_count": 14,
   "metadata": {},
   "outputs": [
    {
     "name": "stdout",
     "output_type": "stream",
     "text": [
      "140 / 1296\n"
     ]
    }
   ],
   "source": [
    "r = range(1, 7)\n",
    "sample = [(i, j, k, l) for i in r for j in r for k in r for l in r]\n",
    "event = [roll for roll in sample if sum(roll) == 13]\n",
    "print(f\"{len(event)} / {len(sample)}\")"
   ]
  },
  {
   "cell_type": "code",
   "execution_count": 15,
   "metadata": {},
   "outputs": [
    {
     "name": "stdout",
     "output_type": "stream",
     "text": [
      "[(1, 6), (2, 6), (3, 6), (4, 6), (5, 6), (6, 1), (6, 2), (6, 3), (6, 4), (6, 5)]\n"
     ]
    }
   ],
   "source": [
    "\n",
    "sample = [(i, j) for i in r for j in r]\n",
    "\n",
    "\n",
    "def numsix(roll):\n",
    "    return len([dice for dice in roll if dice == 6])\n",
    "\n",
    "\n",
    "event = [roll for roll in sample if numsix(roll) == 1]\n",
    "print(event)"
   ]
  },
  {
   "cell_type": "code",
   "execution_count": 16,
   "metadata": {},
   "outputs": [
    {
     "name": "stdout",
     "output_type": "stream",
     "text": [
      "10 / 36\n"
     ]
    }
   ],
   "source": [
    "print(f\"{len(event)} / {len(sample)}\")"
   ]
  },
  {
   "cell_type": "code",
   "execution_count": 17,
   "metadata": {},
   "outputs": [
    {
     "name": "stdout",
     "output_type": "stream",
     "text": [
      "500 / 1296\n"
     ]
    }
   ],
   "source": [
    "sample = [(i, j, k, l) for i in r for j in r for k in r for l in r]\n",
    "\n",
    "event = [roll for roll in sample if numsix(roll) == 1]\n",
    "print(f\"{len(event)} / {len(sample)}\")"
   ]
  },
  {
   "cell_type": "code",
   "execution_count": 18,
   "metadata": {},
   "outputs": [
    {
     "name": "stdout",
     "output_type": "stream",
     "text": [
      "20 / 1296\n"
     ]
    }
   ],
   "source": [
    "event = [roll for roll in sample if numsix(roll)==3]\n",
    "print(f\"{len(event)} / {len(sample)}\")"
   ]
  },
  {
   "cell_type": "code",
   "execution_count": 19,
   "metadata": {},
   "outputs": [],
   "source": [
    "from itertools import combinations, product\n"
   ]
  },
  {
   "cell_type": "code",
   "execution_count": 20,
   "metadata": {},
   "outputs": [
    {
     "data": {
      "text/plain": [
       "[(1, 1), (1, 2), (1, 3), (2, 1), (2, 2), (2, 3)]"
      ]
     },
     "execution_count": 20,
     "metadata": {},
     "output_type": "execute_result"
    }
   ],
   "source": [
    "cards = list(product(range(1,3), range(1,4)))\n",
    "cards"
   ]
  },
  {
   "cell_type": "code",
   "execution_count": 21,
   "metadata": {},
   "outputs": [
    {
     "data": {
      "text/plain": [
       "15"
      ]
     },
     "execution_count": 21,
     "metadata": {},
     "output_type": "execute_result"
    }
   ],
   "source": [
    "math.comb(6, 2)"
   ]
  },
  {
   "cell_type": "code",
   "execution_count": 22,
   "metadata": {},
   "outputs": [
    {
     "data": {
      "text/plain": [
       "[((1, 1), (1, 2)),\n",
       " ((1, 1), (1, 3)),\n",
       " ((1, 1), (2, 1)),\n",
       " ((1, 1), (2, 2)),\n",
       " ((1, 1), (2, 3)),\n",
       " ((1, 2), (1, 3)),\n",
       " ((1, 2), (2, 1)),\n",
       " ((1, 2), (2, 2)),\n",
       " ((1, 2), (2, 3)),\n",
       " ((1, 3), (2, 1)),\n",
       " ((1, 3), (2, 2)),\n",
       " ((1, 3), (2, 3)),\n",
       " ((2, 1), (2, 2)),\n",
       " ((2, 1), (2, 3)),\n",
       " ((2, 2), (2, 3))]"
      ]
     },
     "execution_count": 22,
     "metadata": {},
     "output_type": "execute_result"
    }
   ],
   "source": [
    "sample = list(combinations(cards, 2))\n",
    "sample"
   ]
  },
  {
   "cell_type": "code",
   "execution_count": 23,
   "metadata": {},
   "outputs": [
    {
     "data": {
      "text/plain": [
       "15"
      ]
     },
     "execution_count": 23,
     "metadata": {},
     "output_type": "execute_result"
    }
   ],
   "source": [
    "len(sample)"
   ]
  },
  {
   "cell_type": "code",
   "execution_count": 24,
   "metadata": {},
   "outputs": [
    {
     "name": "stdout",
     "output_type": "stream",
     "text": [
      "1 / 15\n"
     ]
    }
   ],
   "source": [
    "def numval(hand, val):\n",
    "    return len([card for card in hand if card[1] == val])\n",
    "\n",
    "\n",
    "def numace(hand):\n",
    "    return numval(hand, 1)\n",
    "\n",
    "\n",
    "event = [hand for hand in sample if numace(hand) == 2]\n",
    "print(f\"{len(event)} / {len(sample)}\")"
   ]
  },
  {
   "cell_type": "code",
   "execution_count": 25,
   "metadata": {},
   "outputs": [
    {
     "data": {
      "text/plain": [
       "2598960"
      ]
     },
     "execution_count": 25,
     "metadata": {},
     "output_type": "execute_result"
    }
   ],
   "source": [
    "cards = list(product(range(1,5), range(1,14)))\n",
    "sample = list(combinations(cards, 5))\n",
    "len(sample)"
   ]
  },
  {
   "cell_type": "code",
   "execution_count": 26,
   "metadata": {},
   "outputs": [
    {
     "name": "stdout",
     "output_type": "stream",
     "text": [
      "48 / 2598960\n"
     ]
    }
   ],
   "source": [
    "event = [hand for hand in sample if numace(hand) == 4]\n",
    "print(f\"{len(event)} / {len(sample)}\")"
   ]
  },
  {
   "cell_type": "code",
   "execution_count": 27,
   "metadata": {},
   "outputs": [
    {
     "name": "stdout",
     "output_type": "stream",
     "text": [
      "1584 / 2598960\n"
     ]
    }
   ],
   "source": [
    "def numjack(hand):\n",
    "    return numval(hand, 11)\n",
    "\n",
    "\n",
    "event = [hand for hand in sample if numace(hand) == 2 and numjack(hand) == 2]\n",
    "print(f\"{len(event)} / {len(sample)}\")"
   ]
  },
  {
   "cell_type": "code",
   "execution_count": 28,
   "metadata": {},
   "outputs": [
    {
     "data": {
      "text/plain": [
       "{(1, 1): 2,\n",
       " (1, 2): 3,\n",
       " (1, 3): 4,\n",
       " (1, 4): 5,\n",
       " (1, 5): 6,\n",
       " (1, 6): 7,\n",
       " (2, 1): 3,\n",
       " (2, 2): 4,\n",
       " (2, 3): 5,\n",
       " (2, 4): 6,\n",
       " (2, 5): 7,\n",
       " (2, 6): 8,\n",
       " (3, 1): 4,\n",
       " (3, 2): 5,\n",
       " (3, 3): 6,\n",
       " (3, 4): 7,\n",
       " (3, 5): 8,\n",
       " (3, 6): 9,\n",
       " (4, 1): 5,\n",
       " (4, 2): 6,\n",
       " (4, 3): 7,\n",
       " (4, 4): 8,\n",
       " (4, 5): 9,\n",
       " (4, 6): 10,\n",
       " (5, 1): 6,\n",
       " (5, 2): 7,\n",
       " (5, 3): 8,\n",
       " (5, 4): 9,\n",
       " (5, 5): 10,\n",
       " (5, 6): 11,\n",
       " (6, 1): 7,\n",
       " (6, 2): 8,\n",
       " (6, 3): 9,\n",
       " (6, 4): 10,\n",
       " (6, 5): 11,\n",
       " (6, 6): 12}"
      ]
     },
     "execution_count": 28,
     "metadata": {},
     "output_type": "execute_result"
    }
   ],
   "source": [
    "d = {(i, j): i + j for i in range(1, 7) for j in range(1, 7)}\n",
    "d"
   ]
  },
  {
   "cell_type": "code",
   "execution_count": 29,
   "metadata": {},
   "outputs": [
    {
     "data": {
      "text/plain": [
       "defaultdict(list,\n",
       "            {2: [(1, 1)],\n",
       "             3: [(1, 2), (2, 1)],\n",
       "             4: [(1, 3), (2, 2), (3, 1)],\n",
       "             5: [(1, 4), (2, 3), (3, 2), (4, 1)],\n",
       "             6: [(1, 5), (2, 4), (3, 3), (4, 2), (5, 1)],\n",
       "             7: [(1, 6), (2, 5), (3, 4), (4, 3), (5, 2), (6, 1)],\n",
       "             8: [(2, 6), (3, 5), (4, 4), (5, 3), (6, 2)],\n",
       "             9: [(3, 6), (4, 5), (5, 4), (6, 3)],\n",
       "             10: [(4, 6), (5, 5), (6, 4)],\n",
       "             11: [(5, 6), (6, 5)],\n",
       "             12: [(6, 6)]})"
      ]
     },
     "execution_count": 29,
     "metadata": {},
     "output_type": "execute_result"
    }
   ],
   "source": [
    "dinv = defaultdict(list)\n",
    "for i, j in d.items():\n",
    "    dinv[j].append(i)\n",
    "\n",
    "dinv"
   ]
  },
  {
   "cell_type": "code",
   "execution_count": 30,
   "metadata": {},
   "outputs": [
    {
     "data": {
      "text/plain": [
       "[(1, 6), (2, 5), (3, 4), (4, 3), (5, 2), (6, 1)]"
      ]
     },
     "execution_count": 30,
     "metadata": {},
     "output_type": "execute_result"
    }
   ],
   "source": [
    "dinv[7]"
   ]
  },
  {
   "cell_type": "code",
   "execution_count": 31,
   "metadata": {},
   "outputs": [
    {
     "data": {
      "text/plain": [
       "{2: 0.027777777777777776,\n",
       " 3: 0.05555555555555555,\n",
       " 4: 0.08333333333333333,\n",
       " 5: 0.1111111111111111,\n",
       " 6: 0.1388888888888889,\n",
       " 7: 0.16666666666666666,\n",
       " 8: 0.1388888888888889,\n",
       " 9: 0.1111111111111111,\n",
       " 10: 0.08333333333333333,\n",
       " 11: 0.05555555555555555,\n",
       " 12: 0.027777777777777776}"
      ]
     },
     "execution_count": 31,
     "metadata": {},
     "output_type": "execute_result"
    }
   ],
   "source": [
    "X = {i: len(j) / 36.0 for i, j in dinv.items()}\n",
    "X\n"
   ]
  },
  {
   "cell_type": "code",
   "execution_count": 32,
   "metadata": {},
   "outputs": [
    {
     "data": {
      "text/plain": [
       "{'Suppose': 1,\n",
       " 'I': 2,\n",
       " 'need': 1,\n",
       " 'to': 2,\n",
       " 'count': 1,\n",
       " 'the': 1,\n",
       " 'number': 1,\n",
       " 'of': 1,\n",
       " 'word': 1,\n",
       " 'occurrences': 1,\n",
       " 'in': 1,\n",
       " 'a': 1,\n",
       " 'text.': 1,\n",
       " 'How': 1,\n",
       " 'could': 1,\n",
       " 'do': 2,\n",
       " 'that?': 1,\n",
       " 'Python': 1,\n",
       " 'provides': 1,\n",
       " 'us': 1,\n",
       " 'with': 1,\n",
       " 'multiple': 1,\n",
       " 'ways': 1,\n",
       " 'this': 1,\n",
       " 'same': 1,\n",
       " 'thing.': 1}"
      ]
     },
     "execution_count": 32,
     "metadata": {},
     "output_type": "execute_result"
    }
   ],
   "source": [
    "text = \"Suppose I need to count the number of word occurrences in a text. How could I do that? Python provides us with multiple ways to do this same thing.\"\n",
    "word_count_dict = {}\n",
    "for w in text.split(\" \"):\n",
    "    if w in word_count_dict:\n",
    "        word_count_dict[w]+=1\n",
    "    else:\n",
    "        word_count_dict[w]=1\n",
    "\n",
    "word_count_dict"
   ]
  },
  {
   "cell_type": "code",
   "execution_count": 33,
   "metadata": {},
   "outputs": [
    {
     "data": {
      "text/plain": [
       "defaultdict(int,\n",
       "            {'Suppose': 1,\n",
       "             'I': 2,\n",
       "             'need': 1,\n",
       "             'to': 2,\n",
       "             'count': 1,\n",
       "             'the': 1,\n",
       "             'number': 1,\n",
       "             'of': 1,\n",
       "             'word': 1,\n",
       "             'occurrences': 1,\n",
       "             'in': 1,\n",
       "             'a': 1,\n",
       "             'text.': 1,\n",
       "             'How': 1,\n",
       "             'could': 1,\n",
       "             'do': 2,\n",
       "             'that?': 1,\n",
       "             'Python': 1,\n",
       "             'provides': 1,\n",
       "             'us': 1,\n",
       "             'with': 1,\n",
       "             'multiple': 1,\n",
       "             'ways': 1,\n",
       "             'this': 1,\n",
       "             'same': 1,\n",
       "             'thing.': 1})"
      ]
     },
     "execution_count": 33,
     "metadata": {},
     "output_type": "execute_result"
    }
   ],
   "source": [
    "word_count_dict = defaultdict(int)\n",
    "for w in text.split(\" \"):\n",
    "    word_count_dict[w] += 1\n",
    "\n",
    "word_count_dict\n"
   ]
  },
  {
   "cell_type": "code",
   "execution_count": 34,
   "metadata": {},
   "outputs": [
    {
     "data": {
      "text/plain": [
       "dict_items([((1, 1), 2), ((1, 2), 3), ((1, 3), 4), ((1, 4), 5), ((1, 5), 6), ((1, 6), 7), ((2, 1), 3), ((2, 2), 4), ((2, 3), 5), ((2, 4), 6), ((2, 5), 7), ((2, 6), 8), ((3, 1), 4), ((3, 2), 5), ((3, 3), 6), ((3, 4), 7), ((3, 5), 8), ((3, 6), 9), ((4, 1), 5), ((4, 2), 6), ((4, 3), 7), ((4, 4), 8), ((4, 5), 9), ((4, 6), 10), ((5, 1), 6), ((5, 2), 7), ((5, 3), 8), ((5, 4), 9), ((5, 5), 10), ((5, 6), 11), ((6, 1), 7), ((6, 2), 8), ((6, 3), 9), ((6, 4), 10), ((6, 5), 11), ((6, 6), 12)])"
      ]
     },
     "execution_count": 34,
     "metadata": {},
     "output_type": "execute_result"
    }
   ],
   "source": [
    "d.items()"
   ]
  },
  {
   "cell_type": "code",
   "execution_count": 35,
   "metadata": {},
   "outputs": [
    {
     "name": "stdout",
     "output_type": "stream",
     "text": [
      "(1, 1) 2\n",
      "(1, 2) 3\n",
      "(1, 3) 4\n",
      "(1, 4) 5\n",
      "(1, 5) 6\n",
      "(1, 6) 7\n",
      "(2, 1) 3\n",
      "(2, 2) 4\n",
      "(2, 3) 5\n",
      "(2, 4) 6\n",
      "(2, 5) 7\n",
      "(2, 6) 8\n",
      "(3, 1) 4\n",
      "(3, 2) 5\n",
      "(3, 3) 6\n",
      "(3, 4) 7\n",
      "(3, 5) 8\n",
      "(3, 6) 9\n",
      "(4, 1) 5\n",
      "(4, 2) 6\n",
      "(4, 3) 7\n",
      "(4, 4) 8\n",
      "(4, 5) 9\n",
      "(4, 6) 10\n",
      "(5, 1) 6\n",
      "(5, 2) 7\n",
      "(5, 3) 8\n",
      "(5, 4) 9\n",
      "(5, 5) 10\n",
      "(5, 6) 11\n",
      "(6, 1) 7\n",
      "(6, 2) 8\n",
      "(6, 3) 9\n",
      "(6, 4) 10\n",
      "(6, 5) 11\n",
      "(6, 6) 12\n"
     ]
    }
   ],
   "source": [
    "for i, j in d.items():\n",
    "    print(i,j)"
   ]
  },
  {
   "cell_type": "code",
   "execution_count": 36,
   "metadata": {},
   "outputs": [
    {
     "name": "stdout",
     "output_type": "stream",
     "text": [
      "(1, 1)\n",
      "(1, 2)\n",
      "(1, 3)\n",
      "(1, 4)\n",
      "(1, 5)\n",
      "(1, 6)\n",
      "(2, 1)\n",
      "(2, 2)\n",
      "(2, 3)\n",
      "(2, 4)\n",
      "(2, 5)\n",
      "(2, 6)\n",
      "(3, 1)\n",
      "(3, 2)\n",
      "(3, 3)\n",
      "(3, 4)\n",
      "(3, 5)\n",
      "(3, 6)\n",
      "(4, 1)\n",
      "(4, 2)\n",
      "(4, 3)\n",
      "(4, 4)\n",
      "(4, 5)\n",
      "(4, 6)\n",
      "(5, 1)\n",
      "(5, 2)\n",
      "(5, 3)\n",
      "(5, 4)\n",
      "(5, 5)\n",
      "(5, 6)\n",
      "(6, 1)\n",
      "(6, 2)\n",
      "(6, 3)\n",
      "(6, 4)\n",
      "(6, 5)\n",
      "(6, 6)\n"
     ]
    }
   ],
   "source": [
    "for i, j in d.items():\n",
    "    print(i)\n"
   ]
  },
  {
   "cell_type": "code",
   "execution_count": 37,
   "metadata": {},
   "outputs": [
    {
     "name": "stdout",
     "output_type": "stream",
     "text": [
      "2\n",
      "3\n",
      "4\n",
      "5\n",
      "6\n",
      "7\n",
      "3\n",
      "4\n",
      "5\n",
      "6\n",
      "7\n",
      "8\n",
      "4\n",
      "5\n",
      "6\n",
      "7\n",
      "8\n",
      "9\n",
      "5\n",
      "6\n",
      "7\n",
      "8\n",
      "9\n",
      "10\n",
      "6\n",
      "7\n",
      "8\n",
      "9\n",
      "10\n",
      "11\n",
      "7\n",
      "8\n",
      "9\n",
      "10\n",
      "11\n",
      "12\n"
     ]
    }
   ],
   "source": [
    "for i, j in d.items():\n",
    "    print(j)"
   ]
  },
  {
   "cell_type": "code",
   "execution_count": 38,
   "metadata": {},
   "outputs": [],
   "source": [
    "dinv = defaultdict(list)\n",
    "for i, j in d.items():\n",
    "    dinv[j].append(i)"
   ]
  },
  {
   "cell_type": "code",
   "execution_count": 39,
   "metadata": {},
   "outputs": [
    {
     "data": {
      "text/plain": [
       "{(1, 1, 1): False,\n",
       " (1, 1, 2): False,\n",
       " (1, 1, 3): False,\n",
       " (1, 1, 4): False,\n",
       " (1, 1, 5): False,\n",
       " (1, 1, 6): False,\n",
       " (1, 2, 1): False,\n",
       " (1, 2, 2): False,\n",
       " (1, 2, 3): False,\n",
       " (1, 2, 4): False,\n",
       " (1, 2, 5): False,\n",
       " (1, 2, 6): False,\n",
       " (1, 3, 1): False,\n",
       " (1, 3, 2): False,\n",
       " (1, 3, 3): False,\n",
       " (1, 3, 4): False,\n",
       " (1, 3, 5): False,\n",
       " (1, 3, 6): False,\n",
       " (1, 4, 1): False,\n",
       " (1, 4, 2): False,\n",
       " (1, 4, 3): False,\n",
       " (1, 4, 4): False,\n",
       " (1, 4, 5): False,\n",
       " (1, 4, 6): True,\n",
       " (1, 5, 1): False,\n",
       " (1, 5, 2): False,\n",
       " (1, 5, 3): False,\n",
       " (1, 5, 4): False,\n",
       " (1, 5, 5): True,\n",
       " (1, 5, 6): True,\n",
       " (1, 6, 1): False,\n",
       " (1, 6, 2): False,\n",
       " (1, 6, 3): False,\n",
       " (1, 6, 4): True,\n",
       " (1, 6, 5): True,\n",
       " (1, 6, 6): True,\n",
       " (2, 1, 1): False,\n",
       " (2, 1, 2): False,\n",
       " (2, 1, 3): False,\n",
       " (2, 1, 4): False,\n",
       " (2, 1, 5): False,\n",
       " (2, 1, 6): False,\n",
       " (2, 2, 1): False,\n",
       " (2, 2, 2): False,\n",
       " (2, 2, 3): False,\n",
       " (2, 2, 4): False,\n",
       " (2, 2, 5): True,\n",
       " (2, 2, 6): True,\n",
       " (2, 3, 1): False,\n",
       " (2, 3, 2): False,\n",
       " (2, 3, 3): True,\n",
       " (2, 3, 4): True,\n",
       " (2, 3, 5): True,\n",
       " (2, 3, 6): True,\n",
       " (2, 4, 1): False,\n",
       " (2, 4, 2): False,\n",
       " (2, 4, 3): True,\n",
       " (2, 4, 4): True,\n",
       " (2, 4, 5): True,\n",
       " (2, 4, 6): True,\n",
       " (2, 5, 1): False,\n",
       " (2, 5, 2): True,\n",
       " (2, 5, 3): True,\n",
       " (2, 5, 4): True,\n",
       " (2, 5, 5): True,\n",
       " (2, 5, 6): True,\n",
       " (2, 6, 1): False,\n",
       " (2, 6, 2): True,\n",
       " (2, 6, 3): True,\n",
       " (2, 6, 4): True,\n",
       " (2, 6, 5): True,\n",
       " (2, 6, 6): True,\n",
       " (3, 1, 1): False,\n",
       " (3, 1, 2): False,\n",
       " (3, 1, 3): False,\n",
       " (3, 1, 4): False,\n",
       " (3, 1, 5): False,\n",
       " (3, 1, 6): False,\n",
       " (3, 2, 1): False,\n",
       " (3, 2, 2): False,\n",
       " (3, 2, 3): True,\n",
       " (3, 2, 4): True,\n",
       " (3, 2, 5): True,\n",
       " (3, 2, 6): True,\n",
       " (3, 3, 1): False,\n",
       " (3, 3, 2): True,\n",
       " (3, 3, 3): True,\n",
       " (3, 3, 4): True,\n",
       " (3, 3, 5): True,\n",
       " (3, 3, 6): True,\n",
       " (3, 4, 1): False,\n",
       " (3, 4, 2): True,\n",
       " (3, 4, 3): True,\n",
       " (3, 4, 4): True,\n",
       " (3, 4, 5): True,\n",
       " (3, 4, 6): True,\n",
       " (3, 5, 1): False,\n",
       " (3, 5, 2): True,\n",
       " (3, 5, 3): True,\n",
       " (3, 5, 4): True,\n",
       " (3, 5, 5): True,\n",
       " (3, 5, 6): True,\n",
       " (3, 6, 1): False,\n",
       " (3, 6, 2): True,\n",
       " (3, 6, 3): True,\n",
       " (3, 6, 4): True,\n",
       " (3, 6, 5): True,\n",
       " (3, 6, 6): True,\n",
       " (4, 1, 1): False,\n",
       " (4, 1, 2): False,\n",
       " (4, 1, 3): False,\n",
       " (4, 1, 4): False,\n",
       " (4, 1, 5): False,\n",
       " (4, 1, 6): True,\n",
       " (4, 2, 1): False,\n",
       " (4, 2, 2): False,\n",
       " (4, 2, 3): True,\n",
       " (4, 2, 4): True,\n",
       " (4, 2, 5): True,\n",
       " (4, 2, 6): True,\n",
       " (4, 3, 1): False,\n",
       " (4, 3, 2): True,\n",
       " (4, 3, 3): True,\n",
       " (4, 3, 4): True,\n",
       " (4, 3, 5): True,\n",
       " (4, 3, 6): True,\n",
       " (4, 4, 1): False,\n",
       " (4, 4, 2): True,\n",
       " (4, 4, 3): True,\n",
       " (4, 4, 4): True,\n",
       " (4, 4, 5): True,\n",
       " (4, 4, 6): True,\n",
       " (4, 5, 1): False,\n",
       " (4, 5, 2): True,\n",
       " (4, 5, 3): True,\n",
       " (4, 5, 4): True,\n",
       " (4, 5, 5): True,\n",
       " (4, 5, 6): True,\n",
       " (4, 6, 1): True,\n",
       " (4, 6, 2): True,\n",
       " (4, 6, 3): True,\n",
       " (4, 6, 4): True,\n",
       " (4, 6, 5): True,\n",
       " (4, 6, 6): True,\n",
       " (5, 1, 1): False,\n",
       " (5, 1, 2): False,\n",
       " (5, 1, 3): False,\n",
       " (5, 1, 4): False,\n",
       " (5, 1, 5): True,\n",
       " (5, 1, 6): True,\n",
       " (5, 2, 1): False,\n",
       " (5, 2, 2): True,\n",
       " (5, 2, 3): True,\n",
       " (5, 2, 4): True,\n",
       " (5, 2, 5): True,\n",
       " (5, 2, 6): True,\n",
       " (5, 3, 1): False,\n",
       " (5, 3, 2): True,\n",
       " (5, 3, 3): True,\n",
       " (5, 3, 4): True,\n",
       " (5, 3, 5): True,\n",
       " (5, 3, 6): True,\n",
       " (5, 4, 1): False,\n",
       " (5, 4, 2): True,\n",
       " (5, 4, 3): True,\n",
       " (5, 4, 4): True,\n",
       " (5, 4, 5): True,\n",
       " (5, 4, 6): True,\n",
       " (5, 5, 1): True,\n",
       " (5, 5, 2): True,\n",
       " (5, 5, 3): True,\n",
       " (5, 5, 4): True,\n",
       " (5, 5, 5): True,\n",
       " (5, 5, 6): True,\n",
       " (5, 6, 1): True,\n",
       " (5, 6, 2): True,\n",
       " (5, 6, 3): True,\n",
       " (5, 6, 4): True,\n",
       " (5, 6, 5): True,\n",
       " (5, 6, 6): True,\n",
       " (6, 1, 1): False,\n",
       " (6, 1, 2): False,\n",
       " (6, 1, 3): False,\n",
       " (6, 1, 4): True,\n",
       " (6, 1, 5): True,\n",
       " (6, 1, 6): True,\n",
       " (6, 2, 1): False,\n",
       " (6, 2, 2): True,\n",
       " (6, 2, 3): True,\n",
       " (6, 2, 4): True,\n",
       " (6, 2, 5): True,\n",
       " (6, 2, 6): True,\n",
       " (6, 3, 1): False,\n",
       " (6, 3, 2): True,\n",
       " (6, 3, 3): True,\n",
       " (6, 3, 4): True,\n",
       " (6, 3, 5): True,\n",
       " (6, 3, 6): True,\n",
       " (6, 4, 1): True,\n",
       " (6, 4, 2): True,\n",
       " (6, 4, 3): True,\n",
       " (6, 4, 4): True,\n",
       " (6, 4, 5): True,\n",
       " (6, 4, 6): True,\n",
       " (6, 5, 1): True,\n",
       " (6, 5, 2): True,\n",
       " (6, 5, 3): True,\n",
       " (6, 5, 4): True,\n",
       " (6, 5, 5): True,\n",
       " (6, 5, 6): True,\n",
       " (6, 6, 1): True,\n",
       " (6, 6, 2): True,\n",
       " (6, 6, 3): True,\n",
       " (6, 6, 4): True,\n",
       " (6, 6, 5): True,\n",
       " (6, 6, 6): True}"
      ]
     },
     "execution_count": 39,
     "metadata": {},
     "output_type": "execute_result"
    }
   ],
   "source": [
    "d = {\n",
    "    (i, j, k): ((i * j * k) / 2 > i + j + k)\n",
    "    for i in range(1, 7)\n",
    "    for j in range(1, 7)\n",
    "    for k in range(1, 7)\n",
    "}\n",
    "d"
   ]
  },
  {
   "cell_type": "code",
   "execution_count": 40,
   "metadata": {},
   "outputs": [
    {
     "data": {
      "text/plain": [
       "defaultdict(list,\n",
       "            {False: [(1, 1, 1),\n",
       "              (1, 1, 2),\n",
       "              (1, 1, 3),\n",
       "              (1, 1, 4),\n",
       "              (1, 1, 5),\n",
       "              (1, 1, 6),\n",
       "              (1, 2, 1),\n",
       "              (1, 2, 2),\n",
       "              (1, 2, 3),\n",
       "              (1, 2, 4),\n",
       "              (1, 2, 5),\n",
       "              (1, 2, 6),\n",
       "              (1, 3, 1),\n",
       "              (1, 3, 2),\n",
       "              (1, 3, 3),\n",
       "              (1, 3, 4),\n",
       "              (1, 3, 5),\n",
       "              (1, 3, 6),\n",
       "              (1, 4, 1),\n",
       "              (1, 4, 2),\n",
       "              (1, 4, 3),\n",
       "              (1, 4, 4),\n",
       "              (1, 4, 5),\n",
       "              (1, 5, 1),\n",
       "              (1, 5, 2),\n",
       "              (1, 5, 3),\n",
       "              (1, 5, 4),\n",
       "              (1, 6, 1),\n",
       "              (1, 6, 2),\n",
       "              (1, 6, 3),\n",
       "              (2, 1, 1),\n",
       "              (2, 1, 2),\n",
       "              (2, 1, 3),\n",
       "              (2, 1, 4),\n",
       "              (2, 1, 5),\n",
       "              (2, 1, 6),\n",
       "              (2, 2, 1),\n",
       "              (2, 2, 2),\n",
       "              (2, 2, 3),\n",
       "              (2, 2, 4),\n",
       "              (2, 3, 1),\n",
       "              (2, 3, 2),\n",
       "              (2, 4, 1),\n",
       "              (2, 4, 2),\n",
       "              (2, 5, 1),\n",
       "              (2, 6, 1),\n",
       "              (3, 1, 1),\n",
       "              (3, 1, 2),\n",
       "              (3, 1, 3),\n",
       "              (3, 1, 4),\n",
       "              (3, 1, 5),\n",
       "              (3, 1, 6),\n",
       "              (3, 2, 1),\n",
       "              (3, 2, 2),\n",
       "              (3, 3, 1),\n",
       "              (3, 4, 1),\n",
       "              (3, 5, 1),\n",
       "              (3, 6, 1),\n",
       "              (4, 1, 1),\n",
       "              (4, 1, 2),\n",
       "              (4, 1, 3),\n",
       "              (4, 1, 4),\n",
       "              (4, 1, 5),\n",
       "              (4, 2, 1),\n",
       "              (4, 2, 2),\n",
       "              (4, 3, 1),\n",
       "              (4, 4, 1),\n",
       "              (4, 5, 1),\n",
       "              (5, 1, 1),\n",
       "              (5, 1, 2),\n",
       "              (5, 1, 3),\n",
       "              (5, 1, 4),\n",
       "              (5, 2, 1),\n",
       "              (5, 3, 1),\n",
       "              (5, 4, 1),\n",
       "              (6, 1, 1),\n",
       "              (6, 1, 2),\n",
       "              (6, 1, 3),\n",
       "              (6, 2, 1),\n",
       "              (6, 3, 1)],\n",
       "             True: [(1, 4, 6),\n",
       "              (1, 5, 5),\n",
       "              (1, 5, 6),\n",
       "              (1, 6, 4),\n",
       "              (1, 6, 5),\n",
       "              (1, 6, 6),\n",
       "              (2, 2, 5),\n",
       "              (2, 2, 6),\n",
       "              (2, 3, 3),\n",
       "              (2, 3, 4),\n",
       "              (2, 3, 5),\n",
       "              (2, 3, 6),\n",
       "              (2, 4, 3),\n",
       "              (2, 4, 4),\n",
       "              (2, 4, 5),\n",
       "              (2, 4, 6),\n",
       "              (2, 5, 2),\n",
       "              (2, 5, 3),\n",
       "              (2, 5, 4),\n",
       "              (2, 5, 5),\n",
       "              (2, 5, 6),\n",
       "              (2, 6, 2),\n",
       "              (2, 6, 3),\n",
       "              (2, 6, 4),\n",
       "              (2, 6, 5),\n",
       "              (2, 6, 6),\n",
       "              (3, 2, 3),\n",
       "              (3, 2, 4),\n",
       "              (3, 2, 5),\n",
       "              (3, 2, 6),\n",
       "              (3, 3, 2),\n",
       "              (3, 3, 3),\n",
       "              (3, 3, 4),\n",
       "              (3, 3, 5),\n",
       "              (3, 3, 6),\n",
       "              (3, 4, 2),\n",
       "              (3, 4, 3),\n",
       "              (3, 4, 4),\n",
       "              (3, 4, 5),\n",
       "              (3, 4, 6),\n",
       "              (3, 5, 2),\n",
       "              (3, 5, 3),\n",
       "              (3, 5, 4),\n",
       "              (3, 5, 5),\n",
       "              (3, 5, 6),\n",
       "              (3, 6, 2),\n",
       "              (3, 6, 3),\n",
       "              (3, 6, 4),\n",
       "              (3, 6, 5),\n",
       "              (3, 6, 6),\n",
       "              (4, 1, 6),\n",
       "              (4, 2, 3),\n",
       "              (4, 2, 4),\n",
       "              (4, 2, 5),\n",
       "              (4, 2, 6),\n",
       "              (4, 3, 2),\n",
       "              (4, 3, 3),\n",
       "              (4, 3, 4),\n",
       "              (4, 3, 5),\n",
       "              (4, 3, 6),\n",
       "              (4, 4, 2),\n",
       "              (4, 4, 3),\n",
       "              (4, 4, 4),\n",
       "              (4, 4, 5),\n",
       "              (4, 4, 6),\n",
       "              (4, 5, 2),\n",
       "              (4, 5, 3),\n",
       "              (4, 5, 4),\n",
       "              (4, 5, 5),\n",
       "              (4, 5, 6),\n",
       "              (4, 6, 1),\n",
       "              (4, 6, 2),\n",
       "              (4, 6, 3),\n",
       "              (4, 6, 4),\n",
       "              (4, 6, 5),\n",
       "              (4, 6, 6),\n",
       "              (5, 1, 5),\n",
       "              (5, 1, 6),\n",
       "              (5, 2, 2),\n",
       "              (5, 2, 3),\n",
       "              (5, 2, 4),\n",
       "              (5, 2, 5),\n",
       "              (5, 2, 6),\n",
       "              (5, 3, 2),\n",
       "              (5, 3, 3),\n",
       "              (5, 3, 4),\n",
       "              (5, 3, 5),\n",
       "              (5, 3, 6),\n",
       "              (5, 4, 2),\n",
       "              (5, 4, 3),\n",
       "              (5, 4, 4),\n",
       "              (5, 4, 5),\n",
       "              (5, 4, 6),\n",
       "              (5, 5, 1),\n",
       "              (5, 5, 2),\n",
       "              (5, 5, 3),\n",
       "              (5, 5, 4),\n",
       "              (5, 5, 5),\n",
       "              (5, 5, 6),\n",
       "              (5, 6, 1),\n",
       "              (5, 6, 2),\n",
       "              (5, 6, 3),\n",
       "              (5, 6, 4),\n",
       "              (5, 6, 5),\n",
       "              (5, 6, 6),\n",
       "              (6, 1, 4),\n",
       "              (6, 1, 5),\n",
       "              (6, 1, 6),\n",
       "              (6, 2, 2),\n",
       "              (6, 2, 3),\n",
       "              (6, 2, 4),\n",
       "              (6, 2, 5),\n",
       "              (6, 2, 6),\n",
       "              (6, 3, 2),\n",
       "              (6, 3, 3),\n",
       "              (6, 3, 4),\n",
       "              (6, 3, 5),\n",
       "              (6, 3, 6),\n",
       "              (6, 4, 1),\n",
       "              (6, 4, 2),\n",
       "              (6, 4, 3),\n",
       "              (6, 4, 4),\n",
       "              (6, 4, 5),\n",
       "              (6, 4, 6),\n",
       "              (6, 5, 1),\n",
       "              (6, 5, 2),\n",
       "              (6, 5, 3),\n",
       "              (6, 5, 4),\n",
       "              (6, 5, 5),\n",
       "              (6, 5, 6),\n",
       "              (6, 6, 1),\n",
       "              (6, 6, 2),\n",
       "              (6, 6, 3),\n",
       "              (6, 6, 4),\n",
       "              (6, 6, 5),\n",
       "              (6, 6, 6)]})"
      ]
     },
     "execution_count": 40,
     "metadata": {},
     "output_type": "execute_result"
    }
   ],
   "source": [
    "dinv = defaultdict(list)\n",
    "for i, j in d.items():\n",
    "    dinv[j].append(i)\n",
    "\n",
    "dinv"
   ]
  },
  {
   "cell_type": "code",
   "execution_count": 41,
   "metadata": {},
   "outputs": [
    {
     "name": "stdout",
     "output_type": "stream",
     "text": [
      "{False: 0.37037037037037035, True: 0.6296296296296297}\n"
     ]
    }
   ],
   "source": [
    "X = {i: len(j) / 6.0**3 for i, j in dinv.items()}\n",
    "print(X)\n"
   ]
  },
  {
   "cell_type": "code",
   "execution_count": 42,
   "metadata": {},
   "outputs": [
    {
     "data": {
      "text/html": [
       "<div>\n",
       "<style scoped>\n",
       "    .dataframe tbody tr th:only-of-type {\n",
       "        vertical-align: middle;\n",
       "    }\n",
       "\n",
       "    .dataframe tbody tr th {\n",
       "        vertical-align: top;\n",
       "    }\n",
       "\n",
       "    .dataframe thead th {\n",
       "        text-align: right;\n",
       "    }\n",
       "</style>\n",
       "<table border=\"1\" class=\"dataframe\">\n",
       "  <thead>\n",
       "    <tr style=\"text-align: right;\">\n",
       "      <th></th>\n",
       "      <th>sm</th>\n",
       "      <th>d1</th>\n",
       "      <th>d2</th>\n",
       "      <th>pd1</th>\n",
       "      <th>pd2</th>\n",
       "      <th>p</th>\n",
       "    </tr>\n",
       "  </thead>\n",
       "  <tbody>\n",
       "    <tr>\n",
       "      <th>(1, 1)</th>\n",
       "      <td>NaN</td>\n",
       "      <td>NaN</td>\n",
       "      <td>NaN</td>\n",
       "      <td>NaN</td>\n",
       "      <td>NaN</td>\n",
       "      <td>NaN</td>\n",
       "    </tr>\n",
       "    <tr>\n",
       "      <th>(1, 2)</th>\n",
       "      <td>NaN</td>\n",
       "      <td>NaN</td>\n",
       "      <td>NaN</td>\n",
       "      <td>NaN</td>\n",
       "      <td>NaN</td>\n",
       "      <td>NaN</td>\n",
       "    </tr>\n",
       "    <tr>\n",
       "      <th>(1, 3)</th>\n",
       "      <td>NaN</td>\n",
       "      <td>NaN</td>\n",
       "      <td>NaN</td>\n",
       "      <td>NaN</td>\n",
       "      <td>NaN</td>\n",
       "      <td>NaN</td>\n",
       "    </tr>\n",
       "    <tr>\n",
       "      <th>(1, 4)</th>\n",
       "      <td>NaN</td>\n",
       "      <td>NaN</td>\n",
       "      <td>NaN</td>\n",
       "      <td>NaN</td>\n",
       "      <td>NaN</td>\n",
       "      <td>NaN</td>\n",
       "    </tr>\n",
       "    <tr>\n",
       "      <th>(1, 5)</th>\n",
       "      <td>NaN</td>\n",
       "      <td>NaN</td>\n",
       "      <td>NaN</td>\n",
       "      <td>NaN</td>\n",
       "      <td>NaN</td>\n",
       "      <td>NaN</td>\n",
       "    </tr>\n",
       "    <tr>\n",
       "      <th>(1, 6)</th>\n",
       "      <td>NaN</td>\n",
       "      <td>NaN</td>\n",
       "      <td>NaN</td>\n",
       "      <td>NaN</td>\n",
       "      <td>NaN</td>\n",
       "      <td>NaN</td>\n",
       "    </tr>\n",
       "    <tr>\n",
       "      <th>(2, 1)</th>\n",
       "      <td>NaN</td>\n",
       "      <td>NaN</td>\n",
       "      <td>NaN</td>\n",
       "      <td>NaN</td>\n",
       "      <td>NaN</td>\n",
       "      <td>NaN</td>\n",
       "    </tr>\n",
       "    <tr>\n",
       "      <th>(2, 2)</th>\n",
       "      <td>NaN</td>\n",
       "      <td>NaN</td>\n",
       "      <td>NaN</td>\n",
       "      <td>NaN</td>\n",
       "      <td>NaN</td>\n",
       "      <td>NaN</td>\n",
       "    </tr>\n",
       "    <tr>\n",
       "      <th>(2, 3)</th>\n",
       "      <td>NaN</td>\n",
       "      <td>NaN</td>\n",
       "      <td>NaN</td>\n",
       "      <td>NaN</td>\n",
       "      <td>NaN</td>\n",
       "      <td>NaN</td>\n",
       "    </tr>\n",
       "    <tr>\n",
       "      <th>(2, 4)</th>\n",
       "      <td>NaN</td>\n",
       "      <td>NaN</td>\n",
       "      <td>NaN</td>\n",
       "      <td>NaN</td>\n",
       "      <td>NaN</td>\n",
       "      <td>NaN</td>\n",
       "    </tr>\n",
       "    <tr>\n",
       "      <th>(2, 5)</th>\n",
       "      <td>NaN</td>\n",
       "      <td>NaN</td>\n",
       "      <td>NaN</td>\n",
       "      <td>NaN</td>\n",
       "      <td>NaN</td>\n",
       "      <td>NaN</td>\n",
       "    </tr>\n",
       "    <tr>\n",
       "      <th>(2, 6)</th>\n",
       "      <td>NaN</td>\n",
       "      <td>NaN</td>\n",
       "      <td>NaN</td>\n",
       "      <td>NaN</td>\n",
       "      <td>NaN</td>\n",
       "      <td>NaN</td>\n",
       "    </tr>\n",
       "    <tr>\n",
       "      <th>(3, 1)</th>\n",
       "      <td>NaN</td>\n",
       "      <td>NaN</td>\n",
       "      <td>NaN</td>\n",
       "      <td>NaN</td>\n",
       "      <td>NaN</td>\n",
       "      <td>NaN</td>\n",
       "    </tr>\n",
       "    <tr>\n",
       "      <th>(3, 2)</th>\n",
       "      <td>NaN</td>\n",
       "      <td>NaN</td>\n",
       "      <td>NaN</td>\n",
       "      <td>NaN</td>\n",
       "      <td>NaN</td>\n",
       "      <td>NaN</td>\n",
       "    </tr>\n",
       "    <tr>\n",
       "      <th>(3, 3)</th>\n",
       "      <td>NaN</td>\n",
       "      <td>NaN</td>\n",
       "      <td>NaN</td>\n",
       "      <td>NaN</td>\n",
       "      <td>NaN</td>\n",
       "      <td>NaN</td>\n",
       "    </tr>\n",
       "    <tr>\n",
       "      <th>(3, 4)</th>\n",
       "      <td>NaN</td>\n",
       "      <td>NaN</td>\n",
       "      <td>NaN</td>\n",
       "      <td>NaN</td>\n",
       "      <td>NaN</td>\n",
       "      <td>NaN</td>\n",
       "    </tr>\n",
       "    <tr>\n",
       "      <th>(3, 5)</th>\n",
       "      <td>NaN</td>\n",
       "      <td>NaN</td>\n",
       "      <td>NaN</td>\n",
       "      <td>NaN</td>\n",
       "      <td>NaN</td>\n",
       "      <td>NaN</td>\n",
       "    </tr>\n",
       "    <tr>\n",
       "      <th>(3, 6)</th>\n",
       "      <td>NaN</td>\n",
       "      <td>NaN</td>\n",
       "      <td>NaN</td>\n",
       "      <td>NaN</td>\n",
       "      <td>NaN</td>\n",
       "      <td>NaN</td>\n",
       "    </tr>\n",
       "    <tr>\n",
       "      <th>(4, 1)</th>\n",
       "      <td>NaN</td>\n",
       "      <td>NaN</td>\n",
       "      <td>NaN</td>\n",
       "      <td>NaN</td>\n",
       "      <td>NaN</td>\n",
       "      <td>NaN</td>\n",
       "    </tr>\n",
       "    <tr>\n",
       "      <th>(4, 2)</th>\n",
       "      <td>NaN</td>\n",
       "      <td>NaN</td>\n",
       "      <td>NaN</td>\n",
       "      <td>NaN</td>\n",
       "      <td>NaN</td>\n",
       "      <td>NaN</td>\n",
       "    </tr>\n",
       "    <tr>\n",
       "      <th>(4, 3)</th>\n",
       "      <td>NaN</td>\n",
       "      <td>NaN</td>\n",
       "      <td>NaN</td>\n",
       "      <td>NaN</td>\n",
       "      <td>NaN</td>\n",
       "      <td>NaN</td>\n",
       "    </tr>\n",
       "    <tr>\n",
       "      <th>(4, 4)</th>\n",
       "      <td>NaN</td>\n",
       "      <td>NaN</td>\n",
       "      <td>NaN</td>\n",
       "      <td>NaN</td>\n",
       "      <td>NaN</td>\n",
       "      <td>NaN</td>\n",
       "    </tr>\n",
       "    <tr>\n",
       "      <th>(4, 5)</th>\n",
       "      <td>NaN</td>\n",
       "      <td>NaN</td>\n",
       "      <td>NaN</td>\n",
       "      <td>NaN</td>\n",
       "      <td>NaN</td>\n",
       "      <td>NaN</td>\n",
       "    </tr>\n",
       "    <tr>\n",
       "      <th>(4, 6)</th>\n",
       "      <td>NaN</td>\n",
       "      <td>NaN</td>\n",
       "      <td>NaN</td>\n",
       "      <td>NaN</td>\n",
       "      <td>NaN</td>\n",
       "      <td>NaN</td>\n",
       "    </tr>\n",
       "    <tr>\n",
       "      <th>(5, 1)</th>\n",
       "      <td>NaN</td>\n",
       "      <td>NaN</td>\n",
       "      <td>NaN</td>\n",
       "      <td>NaN</td>\n",
       "      <td>NaN</td>\n",
       "      <td>NaN</td>\n",
       "    </tr>\n",
       "    <tr>\n",
       "      <th>(5, 2)</th>\n",
       "      <td>NaN</td>\n",
       "      <td>NaN</td>\n",
       "      <td>NaN</td>\n",
       "      <td>NaN</td>\n",
       "      <td>NaN</td>\n",
       "      <td>NaN</td>\n",
       "    </tr>\n",
       "    <tr>\n",
       "      <th>(5, 3)</th>\n",
       "      <td>NaN</td>\n",
       "      <td>NaN</td>\n",
       "      <td>NaN</td>\n",
       "      <td>NaN</td>\n",
       "      <td>NaN</td>\n",
       "      <td>NaN</td>\n",
       "    </tr>\n",
       "    <tr>\n",
       "      <th>(5, 4)</th>\n",
       "      <td>NaN</td>\n",
       "      <td>NaN</td>\n",
       "      <td>NaN</td>\n",
       "      <td>NaN</td>\n",
       "      <td>NaN</td>\n",
       "      <td>NaN</td>\n",
       "    </tr>\n",
       "    <tr>\n",
       "      <th>(5, 5)</th>\n",
       "      <td>NaN</td>\n",
       "      <td>NaN</td>\n",
       "      <td>NaN</td>\n",
       "      <td>NaN</td>\n",
       "      <td>NaN</td>\n",
       "      <td>NaN</td>\n",
       "    </tr>\n",
       "    <tr>\n",
       "      <th>(5, 6)</th>\n",
       "      <td>NaN</td>\n",
       "      <td>NaN</td>\n",
       "      <td>NaN</td>\n",
       "      <td>NaN</td>\n",
       "      <td>NaN</td>\n",
       "      <td>NaN</td>\n",
       "    </tr>\n",
       "    <tr>\n",
       "      <th>(6, 1)</th>\n",
       "      <td>NaN</td>\n",
       "      <td>NaN</td>\n",
       "      <td>NaN</td>\n",
       "      <td>NaN</td>\n",
       "      <td>NaN</td>\n",
       "      <td>NaN</td>\n",
       "    </tr>\n",
       "    <tr>\n",
       "      <th>(6, 2)</th>\n",
       "      <td>NaN</td>\n",
       "      <td>NaN</td>\n",
       "      <td>NaN</td>\n",
       "      <td>NaN</td>\n",
       "      <td>NaN</td>\n",
       "      <td>NaN</td>\n",
       "    </tr>\n",
       "    <tr>\n",
       "      <th>(6, 3)</th>\n",
       "      <td>NaN</td>\n",
       "      <td>NaN</td>\n",
       "      <td>NaN</td>\n",
       "      <td>NaN</td>\n",
       "      <td>NaN</td>\n",
       "      <td>NaN</td>\n",
       "    </tr>\n",
       "    <tr>\n",
       "      <th>(6, 4)</th>\n",
       "      <td>NaN</td>\n",
       "      <td>NaN</td>\n",
       "      <td>NaN</td>\n",
       "      <td>NaN</td>\n",
       "      <td>NaN</td>\n",
       "      <td>NaN</td>\n",
       "    </tr>\n",
       "    <tr>\n",
       "      <th>(6, 5)</th>\n",
       "      <td>NaN</td>\n",
       "      <td>NaN</td>\n",
       "      <td>NaN</td>\n",
       "      <td>NaN</td>\n",
       "      <td>NaN</td>\n",
       "      <td>NaN</td>\n",
       "    </tr>\n",
       "    <tr>\n",
       "      <th>(6, 6)</th>\n",
       "      <td>NaN</td>\n",
       "      <td>NaN</td>\n",
       "      <td>NaN</td>\n",
       "      <td>NaN</td>\n",
       "      <td>NaN</td>\n",
       "      <td>NaN</td>\n",
       "    </tr>\n",
       "  </tbody>\n",
       "</table>\n",
       "</div>"
      ],
      "text/plain": [
       "         sm   d1   d2  pd1  pd2    p\n",
       "(1, 1)  NaN  NaN  NaN  NaN  NaN  NaN\n",
       "(1, 2)  NaN  NaN  NaN  NaN  NaN  NaN\n",
       "(1, 3)  NaN  NaN  NaN  NaN  NaN  NaN\n",
       "(1, 4)  NaN  NaN  NaN  NaN  NaN  NaN\n",
       "(1, 5)  NaN  NaN  NaN  NaN  NaN  NaN\n",
       "(1, 6)  NaN  NaN  NaN  NaN  NaN  NaN\n",
       "(2, 1)  NaN  NaN  NaN  NaN  NaN  NaN\n",
       "(2, 2)  NaN  NaN  NaN  NaN  NaN  NaN\n",
       "(2, 3)  NaN  NaN  NaN  NaN  NaN  NaN\n",
       "(2, 4)  NaN  NaN  NaN  NaN  NaN  NaN\n",
       "(2, 5)  NaN  NaN  NaN  NaN  NaN  NaN\n",
       "(2, 6)  NaN  NaN  NaN  NaN  NaN  NaN\n",
       "(3, 1)  NaN  NaN  NaN  NaN  NaN  NaN\n",
       "(3, 2)  NaN  NaN  NaN  NaN  NaN  NaN\n",
       "(3, 3)  NaN  NaN  NaN  NaN  NaN  NaN\n",
       "(3, 4)  NaN  NaN  NaN  NaN  NaN  NaN\n",
       "(3, 5)  NaN  NaN  NaN  NaN  NaN  NaN\n",
       "(3, 6)  NaN  NaN  NaN  NaN  NaN  NaN\n",
       "(4, 1)  NaN  NaN  NaN  NaN  NaN  NaN\n",
       "(4, 2)  NaN  NaN  NaN  NaN  NaN  NaN\n",
       "(4, 3)  NaN  NaN  NaN  NaN  NaN  NaN\n",
       "(4, 4)  NaN  NaN  NaN  NaN  NaN  NaN\n",
       "(4, 5)  NaN  NaN  NaN  NaN  NaN  NaN\n",
       "(4, 6)  NaN  NaN  NaN  NaN  NaN  NaN\n",
       "(5, 1)  NaN  NaN  NaN  NaN  NaN  NaN\n",
       "(5, 2)  NaN  NaN  NaN  NaN  NaN  NaN\n",
       "(5, 3)  NaN  NaN  NaN  NaN  NaN  NaN\n",
       "(5, 4)  NaN  NaN  NaN  NaN  NaN  NaN\n",
       "(5, 5)  NaN  NaN  NaN  NaN  NaN  NaN\n",
       "(5, 6)  NaN  NaN  NaN  NaN  NaN  NaN\n",
       "(6, 1)  NaN  NaN  NaN  NaN  NaN  NaN\n",
       "(6, 2)  NaN  NaN  NaN  NaN  NaN  NaN\n",
       "(6, 3)  NaN  NaN  NaN  NaN  NaN  NaN\n",
       "(6, 4)  NaN  NaN  NaN  NaN  NaN  NaN\n",
       "(6, 5)  NaN  NaN  NaN  NaN  NaN  NaN\n",
       "(6, 6)  NaN  NaN  NaN  NaN  NaN  NaN"
      ]
     },
     "execution_count": 42,
     "metadata": {},
     "output_type": "execute_result"
    }
   ],
   "source": [
    "d = pd.DataFrame(\n",
    "    index=[(i, j) for i in range(1, 7) for j in range(1, 7)],\n",
    "    columns=[\"sm\", \"d1\", \"d2\", \"pd1\", \"pd2\", \"p\"],\n",
    ")\n",
    "d"
   ]
  },
  {
   "cell_type": "code",
   "execution_count": 43,
   "metadata": {},
   "outputs": [
    {
     "data": {
      "text/plain": [
       "(         sm  d1  d2  pd1  pd2    p\n",
       " (1, 1)  NaN   1   1  NaN  NaN  NaN\n",
       " (1, 2)  NaN   1   2  NaN  NaN  NaN\n",
       " (1, 3)  NaN   1   3  NaN  NaN  NaN\n",
       " (1, 4)  NaN   1   4  NaN  NaN  NaN\n",
       " (1, 5)  NaN   1   5  NaN  NaN  NaN,\n",
       "          sm  d1  d2  pd1  pd2    p\n",
       " (6, 2)  NaN   6   2  NaN  NaN  NaN\n",
       " (6, 3)  NaN   6   3  NaN  NaN  NaN\n",
       " (6, 4)  NaN   6   4  NaN  NaN  NaN\n",
       " (6, 5)  NaN   6   5  NaN  NaN  NaN\n",
       " (6, 6)  NaN   6   6  NaN  NaN  NaN)"
      ]
     },
     "execution_count": 43,
     "metadata": {},
     "output_type": "execute_result"
    }
   ],
   "source": [
    "d.d1 = [i[0] for i in d.index]\n",
    "d.d2 = [i[1] for i in d.index]\n",
    "\n",
    "d.head(), d.tail()"
   ]
  },
  {
   "cell_type": "code",
   "execution_count": 44,
   "metadata": {},
   "outputs": [
    {
     "data": {
      "text/html": [
       "<div>\n",
       "<style scoped>\n",
       "    .dataframe tbody tr th:only-of-type {\n",
       "        vertical-align: middle;\n",
       "    }\n",
       "\n",
       "    .dataframe tbody tr th {\n",
       "        vertical-align: top;\n",
       "    }\n",
       "\n",
       "    .dataframe thead th {\n",
       "        text-align: right;\n",
       "    }\n",
       "</style>\n",
       "<table border=\"1\" class=\"dataframe\">\n",
       "  <thead>\n",
       "    <tr style=\"text-align: right;\">\n",
       "      <th></th>\n",
       "      <th>sm</th>\n",
       "      <th>d1</th>\n",
       "      <th>d2</th>\n",
       "      <th>pd1</th>\n",
       "      <th>pd2</th>\n",
       "      <th>p</th>\n",
       "    </tr>\n",
       "  </thead>\n",
       "  <tbody>\n",
       "    <tr>\n",
       "      <th>(1, 1)</th>\n",
       "      <td>2</td>\n",
       "      <td>1</td>\n",
       "      <td>1</td>\n",
       "      <td>NaN</td>\n",
       "      <td>NaN</td>\n",
       "      <td>NaN</td>\n",
       "    </tr>\n",
       "    <tr>\n",
       "      <th>(1, 2)</th>\n",
       "      <td>3</td>\n",
       "      <td>1</td>\n",
       "      <td>2</td>\n",
       "      <td>NaN</td>\n",
       "      <td>NaN</td>\n",
       "      <td>NaN</td>\n",
       "    </tr>\n",
       "    <tr>\n",
       "      <th>(1, 3)</th>\n",
       "      <td>4</td>\n",
       "      <td>1</td>\n",
       "      <td>3</td>\n",
       "      <td>NaN</td>\n",
       "      <td>NaN</td>\n",
       "      <td>NaN</td>\n",
       "    </tr>\n",
       "    <tr>\n",
       "      <th>(1, 4)</th>\n",
       "      <td>5</td>\n",
       "      <td>1</td>\n",
       "      <td>4</td>\n",
       "      <td>NaN</td>\n",
       "      <td>NaN</td>\n",
       "      <td>NaN</td>\n",
       "    </tr>\n",
       "    <tr>\n",
       "      <th>(1, 5)</th>\n",
       "      <td>6</td>\n",
       "      <td>1</td>\n",
       "      <td>5</td>\n",
       "      <td>NaN</td>\n",
       "      <td>NaN</td>\n",
       "      <td>NaN</td>\n",
       "    </tr>\n",
       "  </tbody>\n",
       "</table>\n",
       "</div>"
      ],
      "text/plain": [
       "        sm  d1  d2  pd1  pd2    p\n",
       "(1, 1)   2   1   1  NaN  NaN  NaN\n",
       "(1, 2)   3   1   2  NaN  NaN  NaN\n",
       "(1, 3)   4   1   3  NaN  NaN  NaN\n",
       "(1, 4)   5   1   4  NaN  NaN  NaN\n",
       "(1, 5)   6   1   5  NaN  NaN  NaN"
      ]
     },
     "execution_count": 44,
     "metadata": {},
     "output_type": "execute_result"
    }
   ],
   "source": [
    "d[\"sm\"] = d[\"d1\"] + d[\"d2\"]\n",
    "d.head()"
   ]
  },
  {
   "cell_type": "code",
   "execution_count": 45,
   "metadata": {},
   "outputs": [
    {
     "data": {
      "text/html": [
       "<div>\n",
       "<style scoped>\n",
       "    .dataframe tbody tr th:only-of-type {\n",
       "        vertical-align: middle;\n",
       "    }\n",
       "\n",
       "    .dataframe tbody tr th {\n",
       "        vertical-align: top;\n",
       "    }\n",
       "\n",
       "    .dataframe thead th {\n",
       "        text-align: right;\n",
       "    }\n",
       "</style>\n",
       "<table border=\"1\" class=\"dataframe\">\n",
       "  <thead>\n",
       "    <tr style=\"text-align: right;\">\n",
       "      <th></th>\n",
       "      <th>sm</th>\n",
       "      <th>d1</th>\n",
       "      <th>d2</th>\n",
       "      <th>pd1</th>\n",
       "      <th>pd2</th>\n",
       "      <th>p</th>\n",
       "    </tr>\n",
       "  </thead>\n",
       "  <tbody>\n",
       "    <tr>\n",
       "      <th>(1, 1)</th>\n",
       "      <td>2</td>\n",
       "      <td>1</td>\n",
       "      <td>1</td>\n",
       "      <td>0.166667</td>\n",
       "      <td>0.166667</td>\n",
       "      <td>0.027778</td>\n",
       "    </tr>\n",
       "    <tr>\n",
       "      <th>(1, 2)</th>\n",
       "      <td>3</td>\n",
       "      <td>1</td>\n",
       "      <td>2</td>\n",
       "      <td>0.166667</td>\n",
       "      <td>0.166667</td>\n",
       "      <td>0.027778</td>\n",
       "    </tr>\n",
       "    <tr>\n",
       "      <th>(1, 3)</th>\n",
       "      <td>4</td>\n",
       "      <td>1</td>\n",
       "      <td>3</td>\n",
       "      <td>0.166667</td>\n",
       "      <td>0.166667</td>\n",
       "      <td>0.027778</td>\n",
       "    </tr>\n",
       "    <tr>\n",
       "      <th>(1, 4)</th>\n",
       "      <td>5</td>\n",
       "      <td>1</td>\n",
       "      <td>4</td>\n",
       "      <td>0.166667</td>\n",
       "      <td>0.166667</td>\n",
       "      <td>0.027778</td>\n",
       "    </tr>\n",
       "    <tr>\n",
       "      <th>(1, 5)</th>\n",
       "      <td>6</td>\n",
       "      <td>1</td>\n",
       "      <td>5</td>\n",
       "      <td>0.166667</td>\n",
       "      <td>0.166667</td>\n",
       "      <td>0.027778</td>\n",
       "    </tr>\n",
       "  </tbody>\n",
       "</table>\n",
       "</div>"
      ],
      "text/plain": [
       "        sm  d1  d2       pd1       pd2         p\n",
       "(1, 1)   2   1   1  0.166667  0.166667  0.027778\n",
       "(1, 2)   3   1   2  0.166667  0.166667  0.027778\n",
       "(1, 3)   4   1   3  0.166667  0.166667  0.027778\n",
       "(1, 4)   5   1   4  0.166667  0.166667  0.027778\n",
       "(1, 5)   6   1   5  0.166667  0.166667  0.027778"
      ]
     },
     "execution_count": 45,
     "metadata": {},
     "output_type": "execute_result"
    }
   ],
   "source": [
    "d[\"pd1\"] = 1/6\n",
    "d[\"pd2\"] = 1/6\n",
    "d[\"p\"] = d[\"pd1\"] * d[\"pd2\"]\n",
    "d.head()"
   ]
  },
  {
   "cell_type": "code",
   "execution_count": 46,
   "metadata": {},
   "outputs": [
    {
     "data": {
      "text/plain": [
       "1.0"
      ]
     },
     "execution_count": 46,
     "metadata": {},
     "output_type": "execute_result"
    }
   ],
   "source": [
    "d[\"p\"].sum()"
   ]
  },
  {
   "cell_type": "code",
   "execution_count": 47,
   "metadata": {},
   "outputs": [
    {
     "data": {
      "text/plain": [
       "sm\n",
       "2     0.027778\n",
       "3     0.055556\n",
       "4     0.083333\n",
       "5     0.111111\n",
       "6     0.138889\n",
       "7     0.166667\n",
       "8     0.138889\n",
       "9     0.111111\n",
       "10    0.083333\n",
       "11    0.055556\n",
       "12    0.027778\n",
       "Name: p, dtype: float64"
      ]
     },
     "execution_count": 47,
     "metadata": {},
     "output_type": "execute_result"
    }
   ],
   "source": [
    "d.groupby('sm')['p'].sum()"
   ]
  },
  {
   "cell_type": "code",
   "execution_count": 48,
   "metadata": {},
   "outputs": [
    {
     "name": "stdout",
     "output_type": "stream",
     "text": [
      "Last updated: Sun Sep 17 2023\n",
      "\n",
      "Python implementation: CPython\n",
      "Python version       : 3.11.5\n",
      "IPython version      : 8.15.0\n",
      "\n",
      "seaborn   : 0.12.2\n",
      "pandas    : 2.0.3\n",
      "matplotlib: 3.7.2\n",
      "numpy     : 1.25.2\n",
      "\n",
      "Watermark: 2.4.3\n",
      "\n"
     ]
    }
   ],
   "source": [
    "%load_ext watermark\n",
    "%watermark -n -u -v -iv -w"
   ]
  }
 ],
 "metadata": {
  "kernelspec": {
   "display_name": "pymc",
   "language": "python",
   "name": "python3"
  },
  "language_info": {
   "codemirror_mode": {
    "name": "ipython",
    "version": 3
   },
   "file_extension": ".py",
   "mimetype": "text/x-python",
   "name": "python",
   "nbconvert_exporter": "python",
   "pygments_lexer": "ipython3",
   "version": "3.11.5"
  }
 },
 "nbformat": 4,
 "nbformat_minor": 2
}