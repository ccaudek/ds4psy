{
 "cells": [
  {
   "cell_type": "code",
   "execution_count": 1,
   "id": "6f5d5aa9",
   "metadata": {},
   "outputs": [
    {
     "name": "stdout",
     "output_type": "stream",
     "text": [
      "Intel MKL WARNING: Support of Intel(R) Streaming SIMD Extensions 4.2 (Intel(R) SSE4.2) enabled only processors has been deprecated. Intel oneAPI Math Kernel Library 2025.0 will require Intel(R) Advanced Vector Extensions (Intel(R) AVX) instructions.\n",
      "Intel MKL WARNING: Support of Intel(R) Streaming SIMD Extensions 4.2 (Intel(R) SSE4.2) enabled only processors has been deprecated. Intel oneAPI Math Kernel Library 2025.0 will require Intel(R) Advanced Vector Extensions (Intel(R) AVX) instructions.\n"
     ]
    }
   ],
   "source": [
    "import pandas as pd\n",
    "import numpy as np\n",
    "import seaborn as sns\n",
    "from matplotlib import pyplot as plt\n",
    "from scipy import stats\n",
    "import arviz as az\n",
    "import warnings\n",
    "\n",
    "warnings.filterwarnings(\"ignore\", category=UserWarning)\n",
    "warnings.filterwarnings(\"ignore\", category=FutureWarning)\n",
    "warnings.filterwarnings(\"ignore\", category=Warning)"
   ]
  },
  {
   "cell_type": "code",
   "execution_count": 2,
   "id": "2cd342e8",
   "metadata": {},
   "outputs": [],
   "source": [
    "%config InlineBackend.figure_format = 'retina'\n",
    "RANDOM_SEED = 12345\n",
    "rng = np.random.default_rng(RANDOM_SEED)\n",
    "az.style.use(\"arviz-viridish\")"
   ]
  },
  {
   "cell_type": "code",
   "execution_count": 3,
   "id": "94332902",
   "metadata": {},
   "outputs": [
    {
     "data": {
      "text/plain": [
       "32.6"
      ]
     },
     "execution_count": 3,
     "metadata": {},
     "output_type": "execute_result"
    }
   ],
   "source": [
    "(12 + 44 + 21 + 62 + 24) / 5"
   ]
  },
  {
   "cell_type": "code",
   "execution_count": 4,
   "id": "0d64148c",
   "metadata": {},
   "outputs": [
    {
     "data": {
      "text/plain": [
       "32.6"
      ]
     },
     "execution_count": 4,
     "metadata": {},
     "output_type": "execute_result"
    }
   ],
   "source": [
    "x = np.array([12, 44, 21, 62, 24])\n",
    "np.mean(x)"
   ]
  },
  {
   "cell_type": "code",
   "execution_count": 5,
   "id": "81659932",
   "metadata": {},
   "outputs": [
    {
     "data": {
      "text/plain": [
       "32.6"
      ]
     },
     "execution_count": 5,
     "metadata": {},
     "output_type": "execute_result"
    }
   ],
   "source": [
    "np.average(x)"
   ]
  },
  {
   "cell_type": "code",
   "execution_count": 6,
   "id": "a0235a4c",
   "metadata": {},
   "outputs": [
    {
     "name": "stdout",
     "output_type": "stream",
     "text": [
      "3\n"
     ]
    }
   ],
   "source": [
    "zero_one = np.array([1, 1, 1, 0])\n",
    "result = sum(zero_one)\n",
    "print(result) "
   ]
  },
  {
   "cell_type": "code",
   "execution_count": 7,
   "id": "ce72974c",
   "metadata": {},
   "outputs": [
    {
     "data": {
      "text/plain": [
       "0.75"
      ]
     },
     "execution_count": 7,
     "metadata": {},
     "output_type": "execute_result"
    }
   ],
   "source": [
    "np.mean(zero_one)"
   ]
  },
  {
   "cell_type": "code",
   "execution_count": 8,
   "id": "4435c993",
   "metadata": {},
   "outputs": [
    {
     "data": {
      "text/plain": [
       "0.75"
      ]
     },
     "execution_count": 8,
     "metadata": {},
     "output_type": "execute_result"
    }
   ],
   "source": [
    "np.mean(np.array([(True, True, True, False)]))"
   ]
  },
  {
   "cell_type": "code",
   "execution_count": 9,
   "id": "74e7e9c2",
   "metadata": {},
   "outputs": [
    {
     "data": {
      "text/html": [
       "<div>\n",
       "<style scoped>\n",
       "    .dataframe tbody tr th:only-of-type {\n",
       "        vertical-align: middle;\n",
       "    }\n",
       "\n",
       "    .dataframe tbody tr th {\n",
       "        vertical-align: top;\n",
       "    }\n",
       "\n",
       "    .dataframe thead th {\n",
       "        text-align: right;\n",
       "    }\n",
       "</style>\n",
       "<table border=\"1\" class=\"dataframe\">\n",
       "  <thead>\n",
       "    <tr style=\"text-align: right;\">\n",
       "      <th></th>\n",
       "      <th>classtype</th>\n",
       "      <th>reading</th>\n",
       "      <th>math</th>\n",
       "      <th>graduated</th>\n",
       "    </tr>\n",
       "  </thead>\n",
       "  <tbody>\n",
       "    <tr>\n",
       "      <th>0</th>\n",
       "      <td>small</td>\n",
       "      <td>578</td>\n",
       "      <td>610</td>\n",
       "      <td>1</td>\n",
       "    </tr>\n",
       "    <tr>\n",
       "      <th>1</th>\n",
       "      <td>regular</td>\n",
       "      <td>612</td>\n",
       "      <td>612</td>\n",
       "      <td>1</td>\n",
       "    </tr>\n",
       "    <tr>\n",
       "      <th>2</th>\n",
       "      <td>regular</td>\n",
       "      <td>583</td>\n",
       "      <td>606</td>\n",
       "      <td>1</td>\n",
       "    </tr>\n",
       "    <tr>\n",
       "      <th>3</th>\n",
       "      <td>small</td>\n",
       "      <td>661</td>\n",
       "      <td>648</td>\n",
       "      <td>1</td>\n",
       "    </tr>\n",
       "    <tr>\n",
       "      <th>4</th>\n",
       "      <td>small</td>\n",
       "      <td>614</td>\n",
       "      <td>636</td>\n",
       "      <td>1</td>\n",
       "    </tr>\n",
       "  </tbody>\n",
       "</table>\n",
       "</div>"
      ],
      "text/plain": [
       "  classtype  reading  math  graduated\n",
       "0     small      578   610          1\n",
       "1   regular      612   612          1\n",
       "2   regular      583   606          1\n",
       "3     small      661   648          1\n",
       "4     small      614   636          1"
      ]
     },
     "execution_count": 9,
     "metadata": {},
     "output_type": "execute_result"
    }
   ],
   "source": [
    "df = pd.read_csv(\"../data/STAR.csv\")\n",
    "df.head()"
   ]
  },
  {
   "cell_type": "code",
   "execution_count": 10,
   "id": "f3b5bf49",
   "metadata": {},
   "outputs": [
    {
     "data": {
      "text/plain": [
       "graduated\n",
       "0     166\n",
       "1    1108\n",
       "dtype: int64"
      ]
     },
     "execution_count": 10,
     "metadata": {},
     "output_type": "execute_result"
    }
   ],
   "source": [
    "df.groupby(\"graduated\").size()"
   ]
  },
  {
   "cell_type": "code",
   "execution_count": 11,
   "id": "ee558672",
   "metadata": {},
   "outputs": [
    {
     "data": {
      "text/plain": [
       "graduated\n",
       "0    606.64\n",
       "1    635.33\n",
       "Name: math, dtype: float64"
      ]
     },
     "execution_count": 11,
     "metadata": {},
     "output_type": "execute_result"
    }
   ],
   "source": [
    "df.groupby(\"graduated\")[\"math\"].mean().round(2)"
   ]
  },
  {
   "cell_type": "code",
   "execution_count": 12,
   "id": "dfb5ea96",
   "metadata": {},
   "outputs": [
    {
     "data": {
      "text/html": [
       "<div>\n",
       "<style scoped>\n",
       "    .dataframe tbody tr th:only-of-type {\n",
       "        vertical-align: middle;\n",
       "    }\n",
       "\n",
       "    .dataframe tbody tr th {\n",
       "        vertical-align: top;\n",
       "    }\n",
       "\n",
       "    .dataframe thead th {\n",
       "        text-align: right;\n",
       "    }\n",
       "</style>\n",
       "<table border=\"1\" class=\"dataframe\">\n",
       "  <thead>\n",
       "    <tr style=\"text-align: right;\">\n",
       "      <th></th>\n",
       "      <th>count</th>\n",
       "      <th>mean</th>\n",
       "      <th>std</th>\n",
       "      <th>min</th>\n",
       "      <th>25%</th>\n",
       "      <th>50%</th>\n",
       "      <th>75%</th>\n",
       "      <th>max</th>\n",
       "    </tr>\n",
       "    <tr>\n",
       "      <th>graduated</th>\n",
       "      <th></th>\n",
       "      <th></th>\n",
       "      <th></th>\n",
       "      <th></th>\n",
       "      <th></th>\n",
       "      <th></th>\n",
       "      <th></th>\n",
       "      <th></th>\n",
       "    </tr>\n",
       "  </thead>\n",
       "  <tbody>\n",
       "    <tr>\n",
       "      <th>0</th>\n",
       "      <td>166.0</td>\n",
       "      <td>606.6</td>\n",
       "      <td>34.1</td>\n",
       "      <td>526.0</td>\n",
       "      <td>580.5</td>\n",
       "      <td>606.0</td>\n",
       "      <td>629.0</td>\n",
       "      <td>711.0</td>\n",
       "    </tr>\n",
       "    <tr>\n",
       "      <th>1</th>\n",
       "      <td>1108.0</td>\n",
       "      <td>635.3</td>\n",
       "      <td>38.1</td>\n",
       "      <td>515.0</td>\n",
       "      <td>609.5</td>\n",
       "      <td>634.0</td>\n",
       "      <td>659.0</td>\n",
       "      <td>774.0</td>\n",
       "    </tr>\n",
       "  </tbody>\n",
       "</table>\n",
       "</div>"
      ],
      "text/plain": [
       "            count   mean   std    min    25%    50%    75%    max\n",
       "graduated                                                        \n",
       "0           166.0  606.6  34.1  526.0  580.5  606.0  629.0  711.0\n",
       "1          1108.0  635.3  38.1  515.0  609.5  634.0  659.0  774.0"
      ]
     },
     "execution_count": 12,
     "metadata": {},
     "output_type": "execute_result"
    }
   ],
   "source": [
    "df.groupby(\"graduated\")[\"math\"].describe().round(1)"
   ]
  },
  {
   "cell_type": "code",
   "execution_count": 13,
   "id": "b26b1be9",
   "metadata": {},
   "outputs": [
    {
     "data": {
      "text/plain": [
       "605.6492537313433"
      ]
     },
     "execution_count": 13,
     "metadata": {},
     "output_type": "execute_result"
    }
   ],
   "source": [
    "not_graduated = df[df[\"graduated\"] == 0].math\n",
    "stats.trim_mean(not_graduated, 0.10)"
   ]
  },
  {
   "cell_type": "code",
   "execution_count": 14,
   "id": "00eb0085",
   "metadata": {},
   "outputs": [
    {
     "data": {
      "text/plain": [
       "634.4403153153153"
      ]
     },
     "execution_count": 14,
     "metadata": {},
     "output_type": "execute_result"
    }
   ],
   "source": [
    "graduated = df[df[\"graduated\"] == 1].math\n",
    "stats.trim_mean(graduated, 0.10)"
   ]
  },
  {
   "cell_type": "code",
   "execution_count": 15,
   "id": "115e2983",
   "metadata": {},
   "outputs": [
    {
     "data": {
      "text/plain": [
       "[588.0, 684.0]"
      ]
     },
     "execution_count": 15,
     "metadata": {},
     "output_type": "execute_result"
    }
   ],
   "source": [
    "# Quantili di ordine 0.1 e 0.9 per il gruppo di studenti che hanno completato la scuola superiore\n",
    "[\n",
    "    df[df[\"graduated\"] == 1][\"math\"].quantile(0.1), \n",
    "    df[df[\"graduated\"] == 1][\"math\"].quantile(0.9)\n",
    "]"
   ]
  },
  {
   "cell_type": "code",
   "execution_count": 16,
   "id": "4fd3e5d9",
   "metadata": {},
   "outputs": [
    {
     "data": {
      "text/plain": [
       "[564.5, 651.0]"
      ]
     },
     "execution_count": 16,
     "metadata": {},
     "output_type": "execute_result"
    }
   ],
   "source": [
    "# Quantili di ordine 0.1 e 0.9 per il gruppo di studenti che non hanno completato la scuola superiore\n",
    "[\n",
    "    df[df[\"graduated\"] == 0][\"math\"].quantile(0.1),\n",
    "    df[df[\"graduated\"] == 0][\"math\"].quantile(0.9),\n",
    "]"
   ]
  },
  {
   "cell_type": "code",
   "execution_count": 17,
   "id": "d84b8699",
   "metadata": {},
   "outputs": [
    {
     "data": {
      "text/plain": [
       "1507.2328523125227"
      ]
     },
     "execution_count": 17,
     "metadata": {},
     "output_type": "execute_result"
    }
   ],
   "source": [
    "sum((df[\"math\"] - np.mean(df[\"math\"])) ** 2) / len(df[\"math\"])"
   ]
  },
  {
   "cell_type": "code",
   "execution_count": 18,
   "id": "16f5f8da",
   "metadata": {},
   "outputs": [
    {
     "data": {
      "text/plain": [
       "1507.2328523125227"
      ]
     },
     "execution_count": 18,
     "metadata": {},
     "output_type": "execute_result"
    }
   ],
   "source": [
    "np.var(df[\"math\"])"
   ]
  },
  {
   "cell_type": "code",
   "execution_count": 19,
   "id": "ca24a3fd",
   "metadata": {},
   "outputs": [
    {
     "data": {
      "image/png": "[encoded data removed]",
      "text/plain": [
       "<Figure size 640x480 with 1 Axes>"
      ]
     },
     "metadata": {
      "image/png": {
       "height": 432,
       "width": 584
      }
     },
     "output_type": "display_data"
    }
   ],
   "source": [
    "x = np.arange(100 - 4 * 15, 100 + 4 * 15, 0.001)\n",
    "\n",
    "mu = 100\n",
    "sigma = 15\n",
    "\n",
    "pdf = stats.norm.pdf(x, mu, sigma)\n",
    "plt.plot(x, pdf)\n",
    "plt.xlabel(\"x\")\n",
    "plt.ylabel(\"f(x)\")\n",
    "plt.show()"
   ]
  },
  {
   "cell_type": "code",
   "execution_count": 20,
   "id": "b9375641",
   "metadata": {},
   "outputs": [
    {
     "name": "stdout",
     "output_type": "stream",
     "text": [
      "[ 78.64262445 118.95592687  86.94007393  96.11240148]\n"
     ]
    }
   ],
   "source": [
    "x = rng.normal(loc=100, scale=15, size=4)\n",
    "print(x)"
   ]
  },
  {
   "cell_type": "code",
   "execution_count": 21,
   "id": "ca74a27b",
   "metadata": {},
   "outputs": [
    {
     "data": {
      "text/plain": [
       "226.88601335241407"
      ]
     },
     "execution_count": 21,
     "metadata": {},
     "output_type": "execute_result"
    }
   ],
   "source": [
    "np.var(x)"
   ]
  },
  {
   "cell_type": "code",
   "execution_count": 22,
   "id": "a076381c",
   "metadata": {},
   "outputs": [],
   "source": [
    "mu = 100\n",
    "sigma = 15\n",
    "size = 4\n",
    "niter = 10\n",
    "random_samples = []\n",
    "\n",
    "for i in range(niter):\n",
    "    one_sample = rng.normal(loc=mu, scale=sigma, size=size)\n",
    "    random_samples.append(one_sample)"
   ]
  },
  {
   "cell_type": "code",
   "execution_count": 23,
   "id": "a800f254",
   "metadata": {},
   "outputs": [
    {
     "data": {
      "text/plain": [
       "array([ 98.86985039,  88.88673022,  79.48310947, 109.73339203])"
      ]
     },
     "execution_count": 23,
     "metadata": {},
     "output_type": "execute_result"
    }
   ],
   "source": [
    "random_samples[0]"
   ]
  },
  {
   "cell_type": "code",
   "execution_count": 24,
   "id": "82febd4c",
   "metadata": {},
   "outputs": [
    {
     "data": {
      "text/plain": [
       "array([104.69354378,  98.03782465, 119.04974681,  98.60556313])"
      ]
     },
     "execution_count": 24,
     "metadata": {},
     "output_type": "execute_result"
    }
   ],
   "source": [
    "random_samples[9]"
   ]
  },
  {
   "cell_type": "code",
   "execution_count": 25,
   "id": "642d8f4c",
   "metadata": {},
   "outputs": [
    {
     "data": {
      "text/plain": [
       "array([[ 98.86985039,  88.88673022,  79.48310947, 109.73339203],\n",
       "       [105.4158717 ,  70.70705405, 135.21114482, 114.52745359],\n",
       "       [ 88.60919229, 113.53297411,  92.9957024 ,  99.08965722],\n",
       "       [111.83266517,  81.149978  , 108.63786272, 120.98468492],\n",
       "       [119.83447091,  95.50452227, 113.54379012,  75.67625899],\n",
       "       [ 97.62716109, 106.74225898,  79.84598391,  98.77468614],\n",
       "       [125.87109898, 139.2723914 , 111.66042016, 112.42949793],\n",
       "       [ 85.6151753 ,  81.8591757 ,  78.8156198 , 108.12320245],\n",
       "       [111.27909093,  90.11859521,  81.56987522, 103.86336653],\n",
       "       [104.69354378,  98.03782465, 119.04974681,  98.60556313]])"
      ]
     },
     "execution_count": 25,
     "metadata": {},
     "output_type": "execute_result"
    }
   ],
   "source": [
    "rs = np.array(random_samples)\n",
    "rs"
   ]
  },
  {
   "cell_type": "code",
   "execution_count": 26,
   "id": "5cf6390c",
   "metadata": {},
   "outputs": [
    {
     "name": "stdout",
     "output_type": "stream",
     "text": [
      "[126.97599599 542.76884186  88.61260836 220.63907623 295.87449185\n",
      "  96.60998017 127.86050222 132.80934429 134.02475959  71.7031573 ]\n"
     ]
    }
   ],
   "source": [
    "x_var = np.var(rs, axis=1)  # applichiamo la funzione su ciascuna riga\n",
    "print(x_var)"
   ]
  },
  {
   "cell_type": "code",
   "execution_count": 27,
   "id": "e63c1187",
   "metadata": {},
   "outputs": [],
   "source": [
    "mu = 100\n",
    "sigma = 15\n",
    "size = 4\n",
    "niter = 10000\n",
    "random_samples = []\n",
    "\n",
    "for i in range(niter):\n",
    "    one_sample = rng.normal(loc=mu, scale=sigma, size=size)\n",
    "    random_samples.append(one_sample)\n",
    "\n",
    "rs = np.array(random_samples)\n",
    "x_var = np.var(rs, axis=1)"
   ]
  },
  {
   "cell_type": "code",
   "execution_count": 28,
   "id": "3e3059a8",
   "metadata": {},
   "outputs": [
    {
     "data": {
      "image/png": "[encoded data removed]",
      "text/plain": [
       "<Figure size 640x480 with 1 Axes>"
      ]
     },
     "metadata": {
      "image/png": {
       "height": 454,
       "width": 592
      }
     },
     "output_type": "display_data"
    }
   ],
   "source": [
    "plt.hist(x_var, bins=10, edgecolor='black')\n",
    "plt.xlabel(\"X Variable\")\n",
    "plt.ylabel(\"Frequency\")\n",
    "plt.title(\"Histogram of X Variable\")\n",
    "plt.show()"
   ]
  },
  {
   "cell_type": "code",
   "execution_count": 29,
   "id": "c871ead1",
   "metadata": {},
   "outputs": [
    {
     "data": {
      "text/plain": [
       "168.46237726900875"
      ]
     },
     "execution_count": 29,
     "metadata": {},
     "output_type": "execute_result"
    }
   ],
   "source": [
    "np.mean(x_var)"
   ]
  },
  {
   "cell_type": "code",
   "execution_count": 30,
   "id": "68e19e67",
   "metadata": {},
   "outputs": [
    {
     "data": {
      "text/plain": [
       "224.39184690244988"
      ]
     },
     "execution_count": 30,
     "metadata": {},
     "output_type": "execute_result"
    }
   ],
   "source": [
    "mu = 100\n",
    "sigma = 15\n",
    "size = 4\n",
    "niter = 10000\n",
    "random_samples = []\n",
    "\n",
    "for i in range(niter):\n",
    "    one_sample = rng.normal(loc=mu, scale=sigma, size=size)\n",
    "    random_samples.append(one_sample)\n",
    "\n",
    "rs = np.array(random_samples)\n",
    "x_var = np.var(rs, ddof=1, axis=1)\n",
    "\n",
    "np.mean(x_var)"
   ]
  },
  {
   "cell_type": "code",
   "execution_count": 31,
   "id": "39892d7a",
   "metadata": {},
   "outputs": [
    {
     "data": {
      "text/plain": [
       "38.82309689234648"
      ]
     },
     "execution_count": 31,
     "metadata": {},
     "output_type": "execute_result"
    }
   ],
   "source": [
    "np.std(df.math)"
   ]
  },
  {
   "cell_type": "code",
   "execution_count": 32,
   "id": "a8824979",
   "metadata": {},
   "outputs": [
    {
     "data": {
      "text/plain": [
       "graduated\n",
       "0    34.105746\n",
       "1    38.130136\n",
       "Name: math, dtype: float64"
      ]
     },
     "execution_count": 32,
     "metadata": {},
     "output_type": "execute_result"
    }
   ],
   "source": [
    "df.groupby(\"graduated\")[\"math\"].std()"
   ]
  },
  {
   "cell_type": "code",
   "execution_count": 33,
   "id": "ba8c9505",
   "metadata": {},
   "outputs": [
    {
     "data": {
      "text/plain": [
       "38.82309689234648"
      ]
     },
     "execution_count": 33,
     "metadata": {},
     "output_type": "execute_result"
    }
   ],
   "source": [
    "np.std(df[\"math\"])"
   ]
  },
  {
   "cell_type": "code",
   "execution_count": 34,
   "id": "b4db0b96",
   "metadata": {},
   "outputs": [
    {
     "data": {
      "text/plain": [
       "30.9682664274501"
      ]
     },
     "execution_count": 34,
     "metadata": {},
     "output_type": "execute_result"
    }
   ],
   "source": [
    "np.mean(np.abs(df.math - np.mean(df.math)))"
   ]
  },
  {
   "cell_type": "code",
   "execution_count": 35,
   "id": "947c2c3e",
   "metadata": {},
   "outputs": [
    {
     "data": {
      "text/plain": [
       "41.5128"
      ]
     },
     "execution_count": 35,
     "metadata": {},
     "output_type": "execute_result"
    }
   ],
   "source": [
    "1.4826 * np.median(np.abs(df[\"math\"] - np.median(df[\"math\"])))"
   ]
  },
  {
   "cell_type": "code",
   "execution_count": 36,
   "id": "3fe5bc55",
   "metadata": {},
   "outputs": [
    {
     "data": {
      "text/plain": [
       "15.13538014236026"
      ]
     },
     "execution_count": 36,
     "metadata": {},
     "output_type": "execute_result"
    }
   ],
   "source": [
    "x = np.random.normal(loc=100, scale=15, size=10000)\n",
    "1.4826 * np.median(np.abs(x - np.median(x)))"
   ]
  },
  {
   "cell_type": "code",
   "execution_count": 37,
   "id": "baa663c8",
   "metadata": {},
   "outputs": [
    {
     "name": "stdout",
     "output_type": "stream",
     "text": [
      "Last updated: Sun Sep 17 2023\n",
      "\n",
      "Python implementation: CPython\n",
      "Python version       : 3.11.5\n",
      "IPython version      : 8.15.0\n",
      "\n",
      "scipy     : 1.10.1\n",
      "seaborn   : 0.12.2\n",
      "matplotlib: 3.7.2\n",
      "numpy     : 1.25.2\n",
      "arviz     : 0.16.0\n",
      "pandas    : 2.0.3\n",
      "\n",
      "Watermark: 2.4.3\n",
      "\n"
     ]
    }
   ],
   "source": [
    "%load_ext watermark\n",
    "%watermark -n -u -v -iv -w "
   ]
  }
 ],
 "metadata": {
  "kernelspec": {
   "display_name": "Python 3",
   "language": "python",
   "name": "python3"
  },
  "language_info": {
   "codemirror_mode": {
    "name": "ipython",
    "version": 3
   },
   "file_extension": ".py",
   "mimetype": "text/x-python",
   "name": "python",
   "nbconvert_exporter": "python",
   "pygments_lexer": "ipython3",
   "version": "3.11.5"
  },
  "vscode": {
   "interpreter": {
    "hash": "2fb22ef73048ab480306a3a8971dd9d9ae74918bef9be9e93ea3e01644b9825e"
   }
  }
 },
 "nbformat": 4,
 "nbformat_minor": 5
}