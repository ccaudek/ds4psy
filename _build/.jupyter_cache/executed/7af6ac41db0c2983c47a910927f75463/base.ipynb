{
 "cells": [
  {
   "cell_type": "code",
   "execution_count": 1,
   "metadata": {},
   "outputs": [
    {
     "name": "stderr",
     "output_type": "stream",
     "text": [
      "/Users/corrado/opt/anaconda3/envs/pymc_env/lib/python3.11/site-packages/tqdm/auto.py:21: TqdmWarning: IProgress not found. Please update jupyter and ipywidgets. See https://ipywidgets.readthedocs.io/en/stable/user_install.html\n",
      "  from .autonotebook import tqdm as notebook_tqdm\n"
     ]
    }
   ],
   "source": [
    "import numpy as np\n",
    "import pandas as pd\n",
    "import scipy as sp\n",
    "import scipy.stats as stats\n",
    "import statsmodels.api as sm\n",
    "from statsmodels.graphics import tsaplots\n",
    "import matplotlib.pyplot as plt\n",
    "import seaborn as sns\n",
    "import pymc as pm\n",
    "import pymc.sampling_jax\n",
    "from scipy.stats import beta\n",
    "from scipy.integrate import quad\n",
    "import arviz as az"
   ]
  },
  {
   "cell_type": "code",
   "execution_count": 2,
   "metadata": {},
   "outputs": [],
   "source": [
    "%config InlineBackend.figure_format = 'retina'\n",
    "RANDOM_SEED = 42\n",
    "rng = np.random.default_rng(RANDOM_SEED)\n",
    "az.style.use(\"arviz-darkgrid\")\n",
    "sns.set_theme(palette=\"colorblind\")"
   ]
  },
  {
   "cell_type": "code",
   "execution_count": 3,
   "metadata": {},
   "outputs": [],
   "source": [
    "p = np.array([0.2, 0.5, 0.3])\n",
    "q = np.array([0.1, 0.2, 0.7])"
   ]
  },
  {
   "cell_type": "code",
   "execution_count": 4,
   "metadata": {},
   "outputs": [
    {
     "name": "stdout",
     "output_type": "stream",
     "text": [
      "Entropia di p:  1.0296530140645737\n"
     ]
    }
   ],
   "source": [
    "h_p = -np.sum(p * np.log(p))\n",
    "print(\"Entropia di p: \", h_p)"
   ]
  },
  {
   "cell_type": "code",
   "execution_count": 5,
   "metadata": {},
   "outputs": [
    {
     "name": "stdout",
     "output_type": "stream",
     "text": [
      "Entropia incrociata tra p e q:  1.372238457997479\n"
     ]
    }
   ],
   "source": [
    "h_pq = -np.sum(p * np.log(q))\n",
    "print(\"Entropia incrociata tra p e q: \", h_pq)"
   ]
  },
  {
   "cell_type": "code",
   "execution_count": 6,
   "metadata": {},
   "outputs": [
    {
     "name": "stdout",
     "output_type": "stream",
     "text": [
      "Divergenza KL da p a q:  0.34258544393290524\n"
     ]
    }
   ],
   "source": [
    "kl_pq = h_pq - h_p\n",
    "print(\"Divergenza KL da p a q: \", kl_pq)"
   ]
  },
  {
   "cell_type": "code",
   "execution_count": 7,
   "metadata": {},
   "outputs": [
    {
     "data": {
      "text/plain": [
       "0.3425854439329054"
      ]
     },
     "execution_count": 7,
     "metadata": {},
     "output_type": "execute_result"
    }
   ],
   "source": [
    "np.sum(p * (np.log(p) - np.log(q)))"
   ]
  },
  {
   "cell_type": "code",
   "execution_count": 8,
   "metadata": {},
   "outputs": [
    {
     "data": {
      "text/plain": [
       "0.007041377136023895"
      ]
     },
     "execution_count": 8,
     "metadata": {},
     "output_type": "execute_result"
    }
   ],
   "source": [
    "p = np.array([0.2, 0.5, 0.3])\n",
    "q = np.array([0.2, 0.55, 0.25])\n",
    "np.sum(p * (np.log(p) - np.log(q)))"
   ]
  },
  {
   "cell_type": "code",
   "execution_count": 9,
   "metadata": {},
   "outputs": [
    {
     "name": "stdout",
     "output_type": "stream",
     "text": [
      "[0.4096 0.4096 0.1536 0.0256 0.0016]\n"
     ]
    }
   ],
   "source": [
    "# Define the parameters\n",
    "n = 4\n",
    "p = 0.2\n",
    "\n",
    "# Compute the probability mass function\n",
    "true_py = stats.binom.pmf(range(n + 1), n, p)\n",
    "print(true_py)"
   ]
  },
  {
   "cell_type": "code",
   "execution_count": 10,
   "metadata": {},
   "outputs": [
    {
     "name": "stdout",
     "output_type": "stream",
     "text": [
      "[0.46 0.42 0.1  0.01 0.01]\n"
     ]
    }
   ],
   "source": [
    "q1 = np.array([0.46, 0.42, 0.10, 0.01, 0.01])\n",
    "print(q1)"
   ]
  },
  {
   "cell_type": "code",
   "execution_count": 11,
   "metadata": {},
   "outputs": [
    {
     "name": "stdout",
     "output_type": "stream",
     "text": [
      "[0.2, 0.2, 0.2, 0.2, 0.2]\n"
     ]
    }
   ],
   "source": [
    "q2 = [0.2] * 5\n",
    "print(q2)"
   ]
  },
  {
   "cell_type": "code",
   "execution_count": 12,
   "metadata": {},
   "outputs": [
    {
     "name": "stdout",
     "output_type": "stream",
     "text": [
      "Divergenza KL di q1 da p:  0.02925199033345885\n"
     ]
    }
   ],
   "source": [
    "kl_pq1 = np.sum(true_py * (np.log(true_py) - np.log(q1)))\n",
    "print(\"Divergenza KL di q1 da p: \", kl_pq1)"
   ]
  },
  {
   "cell_type": "code",
   "execution_count": 13,
   "metadata": {},
   "outputs": [
    {
     "name": "stdout",
     "output_type": "stream",
     "text": [
      "Divergenza KL di q2 da p:  0.4863577787141543\n"
     ]
    }
   ],
   "source": [
    "kl_pq2 = np.sum(true_py * (np.log(true_py) - np.log(q2)))\n",
    "print(\"Divergenza KL di q2 da p: \", kl_pq2)"
   ]
  },
  {
   "cell_type": "code",
   "execution_count": 14,
   "metadata": {},
   "outputs": [
    {
     "name": "stdout",
     "output_type": "stream",
     "text": [
      "Entropia di p: 0.056001534354847345\n",
      "Entropia incrociata da p a q: 1.1954998257220641\n",
      "Divergenza KL da p a q: 1.1394982913672167\n",
      "\n",
      "Entropia di q: 0.6108643020548935\n",
      "Entropia incrociata da q a p: 3.226634230947714\n",
      "Divergenza KL da q a p: 2.6157699288928207\n"
     ]
    }
   ],
   "source": [
    "# Definire le distribuzioni p e q\n",
    "p = np.array([0.01, 0.99])\n",
    "q = np.array([0.7, 0.3])\n",
    "\n",
    "# Calcolo dell'entropia di p\n",
    "h_p = -np.sum(p * np.log(p))\n",
    "\n",
    "# Calcolo dell'entropia incrociata da p a q\n",
    "h_pq = -np.sum(p * np.log(q))\n",
    "\n",
    "# Calcolo della divergenza KL da p a q\n",
    "kl_pq = h_pq - h_p\n",
    "\n",
    "# Calcolo dell'entropia di q\n",
    "h_q = -np.sum(q * np.log(q))\n",
    "\n",
    "# Calcolo dell'entropia incrociata da q a p\n",
    "h_qp = -np.sum(q * np.log(p))\n",
    "\n",
    "# Calcolo della divergenza KL da q a p\n",
    "kl_qp = h_qp - h_q\n",
    "\n",
    "print(f\"Entropia di p: {h_p}\")\n",
    "print(f\"Entropia incrociata da p a q: {h_pq}\")\n",
    "print(f\"Divergenza KL da p a q: {kl_pq}\")\n",
    "\n",
    "print(f\"\\nEntropia di q: {h_q}\")\n",
    "print(f\"Entropia incrociata da q a p: {h_qp}\")\n",
    "print(f\"Divergenza KL da q a p: {kl_qp}\")"
   ]
  },
  {
   "cell_type": "code",
   "execution_count": 15,
   "metadata": {},
   "outputs": [
    {
     "name": "stdout",
     "output_type": "stream",
     "text": [
      "[0.21810354 0.05532253 0.13545025 0.42102514 0.14728608 0.11052926]\n"
     ]
    }
   ],
   "source": [
    "np.random.seed(75)\n",
    "\n",
    "# Number of samples\n",
    "n = 10000\n",
    "\n",
    "# Draw samples from a Beta distribution\n",
    "y_data = np.random.beta(1, 3, n)\n",
    "print(y_data[:6])"
   ]
  },
  {
   "cell_type": "code",
   "execution_count": 16,
   "metadata": {},
   "outputs": [
    {
     "name": "stdout",
     "output_type": "stream",
     "text": [
      "-0.37490719743844486\n"
     ]
    }
   ],
   "source": [
    "# True distribution\n",
    "def p_t(y):\n",
    "    return beta.pdf(y, 1, 3)\n",
    "\n",
    "# Predictive distribution\n",
    "def p(y):\n",
    "    return beta.pdf(y, 2, 2)\n",
    "\n",
    "# Integration\n",
    "def integrand(y):\n",
    "    return p_t(y) * np.log(p(y))\n",
    "\n",
    "# Perform numerical integration\n",
    "result, error = quad(integrand, 0, 1)\n",
    "\n",
    "print(result)"
   ]
  },
  {
   "cell_type": "code",
   "execution_count": 17,
   "metadata": {},
   "outputs": [
    {
     "data": {
      "text/plain": [
       "-0.3721938430299501"
      ]
     },
     "execution_count": 17,
     "metadata": {},
     "output_type": "execute_result"
    }
   ],
   "source": [
    "1 / n * np.sum(np.log(p(y_data)))"
   ]
  },
  {
   "cell_type": "code",
   "execution_count": 18,
   "metadata": {},
   "outputs": [
    {
     "name": "stdout",
     "output_type": "stream",
     "text": [
      "[ 5.99342831  4.7234714   6.29537708  8.04605971  4.53169325  4.53172609\n",
      "  8.15842563  6.53486946  4.06105123  6.08512009  4.07316461  4.06854049\n",
      "  5.48392454  1.17343951  1.55016433  3.87542494  2.97433776  5.62849467\n",
      "  3.18395185  2.1753926   7.93129754  4.5484474   5.13505641  2.15050363\n",
      "  3.91123455  5.22184518  2.69801285  5.75139604  3.79872262  4.4166125\n",
      "  3.79658678  8.70455637  4.97300555  2.88457814  6.64508982  2.5583127\n",
      "  5.41772719  1.08065975  2.3436279   5.39372247  6.47693316  5.34273656\n",
      "  4.76870344  4.39779261  2.04295602  3.56031158  4.07872246  7.11424445\n",
      "  5.68723658  1.47391969  5.64816794  4.22983544  3.646156    6.22335258\n",
      "  7.06199904  6.86256024  3.32156495  4.38157525  5.66252686  6.95109025\n",
      "  4.04165152  4.62868205  2.78733005  2.60758675  6.62505164  7.71248006\n",
      "  4.85597976  7.0070658   5.72327205  3.70976049  5.72279121  8.07607313\n",
      "  4.92834792  8.12928731 -0.23949021  6.64380501  5.17409414  4.4019853\n",
      "  5.18352155  1.02486217  4.56065622  5.71422514  7.95578809  3.96345956\n",
      "  3.38301279  3.99648591  6.83080424  5.65750222  3.94047959  6.02653487\n",
      "  5.1941551   6.93728998  3.59589381  4.34467571  4.21578369  2.0729701\n",
      "  5.59224055  5.52211054  5.01022691  4.53082573]\n"
     ]
    }
   ],
   "source": [
    "SEED = 42  # Scegli un valore per il seed\n",
    "np.random.seed(SEED)\n",
    "\n",
    "data = np.random.normal(loc=5, scale=2, size=100)\n",
    "print(data)"
   ]
  },
  {
   "cell_type": "code",
   "execution_count": 19,
   "metadata": {
    "tags": [
     "hide-output"
    ]
   },
   "outputs": [
    {
     "name": "stderr",
     "output_type": "stream",
     "text": [
      "Compiling...\n"
     ]
    },
    {
     "name": "stderr",
     "output_type": "stream",
     "text": [
      "Compilation time = 0:00:01.261976\n"
     ]
    },
    {
     "name": "stderr",
     "output_type": "stream",
     "text": [
      "Sampling...\n"
     ]
    },
    {
     "name": "stderr",
     "output_type": "stream",
     "text": [
      "\r",
      "  0%|                                                                                  | 0/2000 [00:00<?, ?it/s]"
     ]
    },
    {
     "name": "stderr",
     "output_type": "stream",
     "text": [
      "\r",
      "Compiling.. :   0%|                                                                    | 0/2000 [00:00<?, ?it/s]"
     ]
    },
    {
     "name": "stderr",
     "output_type": "stream",
     "text": [
      "\n"
     ]
    },
    {
     "name": "stderr",
     "output_type": "stream",
     "text": [
      "\r",
      "  0%|                                                                                  | 0/2000 [00:00<?, ?it/s]"
     ]
    },
    {
     "name": "stderr",
     "output_type": "stream",
     "text": [
      "\u001b[A"
     ]
    },
    {
     "name": "stderr",
     "output_type": "stream",
     "text": [
      "\n"
     ]
    },
    {
     "name": "stderr",
     "output_type": "stream",
     "text": [
      "\r",
      "Compiling.. :   0%|                                                                    | 0/2000 [00:00<?, ?it/s]"
     ]
    },
    {
     "name": "stderr",
     "output_type": "stream",
     "text": [
      "\u001b[A"
     ]
    },
    {
     "name": "stderr",
     "output_type": "stream",
     "text": [
      "\n",
      "\n"
     ]
    },
    {
     "name": "stderr",
     "output_type": "stream",
     "text": [
      "\r",
      "  0%|                                                                                  | 0/2000 [00:00<?, ?it/s]"
     ]
    },
    {
     "name": "stderr",
     "output_type": "stream",
     "text": [
      "\u001b[A\u001b[A"
     ]
    },
    {
     "name": "stderr",
     "output_type": "stream",
     "text": [
      "\n",
      "\n"
     ]
    },
    {
     "name": "stderr",
     "output_type": "stream",
     "text": [
      "\r",
      "Compiling.. :   0%|                                                                    | 0/2000 [00:00<?, ?it/s]"
     ]
    },
    {
     "name": "stderr",
     "output_type": "stream",
     "text": [
      "\u001b[A\u001b[A"
     ]
    },
    {
     "name": "stderr",
     "output_type": "stream",
     "text": [
      "\n",
      "\n",
      "\n"
     ]
    },
    {
     "name": "stderr",
     "output_type": "stream",
     "text": [
      "\r",
      "  0%|                                                                                  | 0/2000 [00:00<?, ?it/s]"
     ]
    },
    {
     "name": "stderr",
     "output_type": "stream",
     "text": [
      "\u001b[A\u001b[A\u001b[A"
     ]
    },
    {
     "name": "stderr",
     "output_type": "stream",
     "text": [
      "\n",
      "\n",
      "\n"
     ]
    },
    {
     "name": "stderr",
     "output_type": "stream",
     "text": [
      "\r",
      "Compiling.. :   0%|                                                                    | 0/2000 [00:00<?, ?it/s]"
     ]
    },
    {
     "name": "stderr",
     "output_type": "stream",
     "text": [
      "\u001b[A\u001b[A\u001b[A"
     ]
    },
    {
     "name": "stderr",
     "output_type": "stream",
     "text": [
      "\r",
      "Running chain 0:   0%|                                                                 | 0/2000 [00:01<?, ?it/s]"
     ]
    },
    {
     "name": "stderr",
     "output_type": "stream",
     "text": [
      "\n",
      "\n"
     ]
    },
    {
     "name": "stderr",
     "output_type": "stream",
     "text": [
      "\r",
      "Running chain 2:   0%|                                                                 | 0/2000 [00:01<?, ?it/s]"
     ]
    },
    {
     "name": "stderr",
     "output_type": "stream",
     "text": [
      "\u001b[A\u001b[A"
     ]
    },
    {
     "name": "stderr",
     "output_type": "stream",
     "text": [
      "\n"
     ]
    },
    {
     "name": "stderr",
     "output_type": "stream",
     "text": [
      "\r",
      "Running chain 1:   0%|                                                                 | 0/2000 [00:01<?, ?it/s]"
     ]
    },
    {
     "name": "stderr",
     "output_type": "stream",
     "text": [
      "\u001b[A"
     ]
    },
    {
     "name": "stderr",
     "output_type": "stream",
     "text": [
      "\n",
      "\n",
      "\n"
     ]
    },
    {
     "name": "stderr",
     "output_type": "stream",
     "text": [
      "\r",
      "Running chain 3:   0%|                                                                 | 0/2000 [00:01<?, ?it/s]"
     ]
    },
    {
     "name": "stderr",
     "output_type": "stream",
     "text": [
      "\u001b[A\u001b[A\u001b[A"
     ]
    },
    {
     "name": "stderr",
     "output_type": "stream",
     "text": [
      "\r",
      "Running chain 0: 100%|████████████████████████████████████████████████████| 2000/2000 [00:01<00:00, 1636.71it/s]"
     ]
    },
    {
     "name": "stderr",
     "output_type": "stream",
     "text": [
      "\n",
      "\r",
      "Running chain 1: 100%|████████████████████████████████████████████████████| 2000/2000 [00:01<00:00, 1638.20it/s]"
     ]
    },
    {
     "name": "stderr",
     "output_type": "stream",
     "text": [
      "\n",
      "\r",
      "Running chain 2: 100%|████████████████████████████████████████████████████| 2000/2000 [00:01<00:00, 1639.85it/s]"
     ]
    },
    {
     "name": "stderr",
     "output_type": "stream",
     "text": [
      "\n",
      "\r",
      "Running chain 3: 100%|████████████████████████████████████████████████████| 2000/2000 [00:01<00:00, 1642.14it/s]"
     ]
    },
    {
     "name": "stderr",
     "output_type": "stream",
     "text": [
      "\n",
      "Sampling time = 0:00:01.553419\n"
     ]
    },
    {
     "name": "stderr",
     "output_type": "stream",
     "text": [
      "Transforming variables...\n"
     ]
    },
    {
     "name": "stderr",
     "output_type": "stream",
     "text": [
      "Transformation time = 0:00:00.059396\n"
     ]
    },
    {
     "name": "stderr",
     "output_type": "stream",
     "text": [
      "Sampling: [y]\n"
     ]
    },
    {
     "data": {
      "text/html": [
       "\n",
       "<style>\n",
       "    /* Turns off some styling */\n",
       "    progress {\n",
       "        /* gets rid of default border in Firefox and Opera. */\n",
       "        border: none;\n",
       "        /* Needs to be in here for Safari polyfill so background images work as expected. */\n",
       "        background-size: auto;\n",
       "    }\n",
       "    progress:not([value]), progress:not([value])::-webkit-progress-bar {\n",
       "        background: repeating-linear-gradient(45deg, #7e7e7e, #7e7e7e 10px, #5c5c5c 10px, #5c5c5c 20px);\n",
       "    }\n",
       "    .progress-bar-interrupted, .progress-bar-interrupted::-webkit-progress-bar {\n",
       "        background: #F44336;\n",
       "    }\n",
       "</style>\n"
      ],
      "text/plain": [
       "<IPython.core.display.HTML object>"
      ]
     },
     "metadata": {},
     "output_type": "display_data"
    },
    {
     "data": {
      "text/html": [
       "\n",
       "    <div>\n",
       "      <progress value='4000' class='' max='4000' style='width:300px; height:20px; vertical-align: middle;'></progress>\n",
       "      100.00% [4000/4000 00:00&lt;00:00]\n",
       "    </div>\n",
       "    "
      ],
      "text/plain": [
       "<IPython.core.display.HTML object>"
      ]
     },
     "metadata": {},
     "output_type": "display_data"
    }
   ],
   "source": [
    "with pm.Model() as model:\n",
    "    mu = pm.Normal(\"mu\", mu=0, sigma=10)\n",
    "    sigma = pm.HalfNormal(\"sigma\", sigma=10)\n",
    "    y = pm.Normal(\"y\", mu=mu, sigma=sigma, observed=data)\n",
    "    # Sampling from the posterior\n",
    "    trace = pm.sampling_jax.sample_numpyro_nuts(1000)\n",
    "    # Generating posterior predictive samples\n",
    "    ppc = pm.sample_posterior_predictive(\n",
    "        trace, var_names=[\"y\"]\n",
    "    )"
   ]
  },
  {
   "cell_type": "code",
   "execution_count": 20,
   "metadata": {},
   "outputs": [
    {
     "data": {
      "image/png": "[encoded data removed]",
      "text/plain": [
       "<Figure size 720x480 with 1 Axes>"
      ]
     },
     "metadata": {
      "image/png": {
       "height": 491,
       "width": 731
      }
     },
     "output_type": "display_data"
    }
   ],
   "source": [
    "post_pred = ppc.posterior_predictive\n",
    "y_i_post_pred = post_pred[\"y\"].values[:, :, 0]\n",
    "\n",
    "plt.hist(y_i_post_pred.flatten(), bins=30, alpha=0.5)\n",
    "plt.axvline(data[0], color=\"r\")\n",
    "plt.title(\"Posterior Predictive Check for the First Observation\")\n",
    "plt.xlabel(\"Value\")\n",
    "plt.ylabel(\"Frequency\")\n",
    "plt.legend([\"Observed Data\", \"Posterior Predictive\"])\n",
    "plt.show()"
   ]
  },
  {
   "cell_type": "code",
   "execution_count": 21,
   "metadata": {},
   "outputs": [
    {
     "data": {
      "text/plain": [
       "5.993428306022466"
      ]
     },
     "execution_count": 21,
     "metadata": {},
     "output_type": "execute_result"
    }
   ],
   "source": [
    "y_i = data[0]\n",
    "y_i"
   ]
  },
  {
   "cell_type": "code",
   "execution_count": 22,
   "metadata": {},
   "outputs": [
    {
     "data": {
      "text/plain": [
       "array([4.77321145, 5.22839673, 5.03811446, 4.87284405, 4.74023865,\n",
       "       4.63888214, 4.39736459, 5.12644519, 4.94374397, 5.07238779])"
      ]
     },
     "execution_count": 22,
     "metadata": {},
     "output_type": "execute_result"
    }
   ],
   "source": [
    "mu_samples = trace.posterior[\"mu\"].values.flatten()\n",
    "mu_samples[0:10]"
   ]
  },
  {
   "cell_type": "code",
   "execution_count": 23,
   "metadata": {},
   "outputs": [
    {
     "data": {
      "text/plain": [
       "array([1.64244649, 1.85571417, 1.97032087, 1.82498678, 2.15662621,\n",
       "       1.63512571, 1.72016594, 1.89081096, 1.94516264, 2.00355102])"
      ]
     },
     "execution_count": 23,
     "metadata": {},
     "output_type": "execute_result"
    }
   ],
   "source": [
    "sigma_samples = trace.posterior[\"sigma\"].values.flatten()\n",
    "sigma_samples[0:10]"
   ]
  },
  {
   "cell_type": "code",
   "execution_count": 24,
   "metadata": {},
   "outputs": [
    {
     "data": {
      "text/plain": [
       "[0.18431754125401914,\n",
       " 0.19746653237262696,\n",
       " 0.18002210477772218,\n",
       " 0.18104248817015536,\n",
       " 0.1562473049881412]"
      ]
     },
     "execution_count": 24,
     "metadata": {},
     "output_type": "execute_result"
    }
   ],
   "source": [
    "pdf_values = [\n",
    "    stats.norm.pdf(y_i, mu, sigma) for mu, sigma in zip(mu_samples, sigma_samples)\n",
    "]\n",
    "\n",
    "pdf_values[0:5]"
   ]
  },
  {
   "cell_type": "code",
   "execution_count": 25,
   "metadata": {},
   "outputs": [
    {
     "data": {
      "text/plain": [
       "array([-1.69109524, -1.62218617, -1.71467563, -1.70902353, -1.85631524])"
      ]
     },
     "execution_count": 25,
     "metadata": {},
     "output_type": "execute_result"
    }
   ],
   "source": [
    "log_pdf_values = np.log(pdf_values)\n",
    "log_pdf_values[0:5]"
   ]
  },
  {
   "cell_type": "code",
   "execution_count": 26,
   "metadata": {},
   "outputs": [
    {
     "data": {
      "text/plain": [
       "-1.7482695815087654"
      ]
     },
     "execution_count": 26,
     "metadata": {},
     "output_type": "execute_result"
    }
   ],
   "source": [
    "mean_log_density = np.mean(log_pdf_values)\n",
    "mean_log_density"
   ]
  },
  {
   "cell_type": "code",
   "execution_count": 27,
   "metadata": {},
   "outputs": [],
   "source": [
    "# Calcolo della densità logaritmica predittiva per ogni osservazione\n",
    "all_log_densities = []\n",
    "for y_i in data:\n",
    "    pdf_values = [\n",
    "        stats.norm.pdf(y_i, mu, sigma) for mu, sigma in zip(mu_samples, sigma_samples)\n",
    "    ]\n",
    "    log_pdf_values = np.log(pdf_values)\n",
    "    mean_log_density = np.mean(log_pdf_values)\n",
    "    all_log_densities.append(mean_log_density)"
   ]
  },
  {
   "cell_type": "code",
   "execution_count": 28,
   "metadata": {},
   "outputs": [
    {
     "data": {
      "text/plain": [
       "-2.021046525453409"
      ]
     },
     "execution_count": 28,
     "metadata": {},
     "output_type": "execute_result"
    }
   ],
   "source": [
    "# Calcolo della media su tutte le osservazioni\n",
    "overall_mean_log_density = np.mean(all_log_densities)\n",
    "overall_mean_log_density"
   ]
  },
  {
   "cell_type": "code",
   "execution_count": 29,
   "metadata": {},
   "outputs": [
    {
     "name": "stdout",
     "output_type": "stream",
     "text": [
      "Last updated: Thu Jan 25 2024\n",
      "\n",
      "Python implementation: CPython\n",
      "Python version       : 3.11.7\n",
      "IPython version      : 8.19.0\n",
      "\n",
      "pymc       : 5.10.3\n",
      "arviz      : 0.17.0\n",
      "pandas     : 2.1.4\n",
      "numpy      : 1.26.2\n",
      "scipy      : 1.11.4\n",
      "matplotlib : 3.8.2\n",
      "seaborn    : 0.13.0\n",
      "statsmodels: 0.14.1\n",
      "\n",
      "Watermark: 2.4.3\n",
      "\n"
     ]
    }
   ],
   "source": [
    "%load_ext watermark\n",
    "%watermark -n -u -v -iv -w"
   ]
  }
 ],
 "metadata": {
  "kernelspec": {
   "display_name": "pymc5_env",
   "language": "python",
   "name": "python3"
  },
  "language_info": {
   "codemirror_mode": {
    "name": "ipython",
    "version": 3
   },
   "file_extension": ".py",
   "mimetype": "text/x-python",
   "name": "python",
   "nbconvert_exporter": "python",
   "pygments_lexer": "ipython3",
   "version": "3.11.7"
  }
 },
 "nbformat": 4,
 "nbformat_minor": 2
}