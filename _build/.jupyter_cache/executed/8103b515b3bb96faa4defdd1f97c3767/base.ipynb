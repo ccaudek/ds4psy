{
 "cells": [
  {
   "cell_type": "code",
   "execution_count": 1,
   "metadata": {},
   "outputs": [
    {
     "name": "stdout",
     "output_type": "stream",
     "text": [
      "Intel MKL WARNING: Support of Intel(R) Streaming SIMD Extensions 4.2 (Intel(R) SSE4.2) enabled only processors has been deprecated. Intel oneAPI Math Kernel Library 2025.0 will require Intel(R) Advanced Vector Extensions (Intel(R) AVX) instructions.\n",
      "Intel MKL WARNING: Support of Intel(R) Streaming SIMD Extensions 4.2 (Intel(R) SSE4.2) enabled only processors has been deprecated. Intel oneAPI Math Kernel Library 2025.0 will require Intel(R) Advanced Vector Extensions (Intel(R) AVX) instructions.\n"
     ]
    }
   ],
   "source": [
    "import pandas as pd\n",
    "import numpy as np\n",
    "from matplotlib import pyplot as plt\n",
    "import matplotlib.image as mpimg\n",
    "import seaborn as sns\n",
    "import statistics as st\n",
    "import scipy.stats as stats\n",
    "import math\n",
    "import itertools\n",
    "import arviz as az\n",
    "import warnings\n",
    "\n",
    "warnings.filterwarnings(\"ignore\", category=UserWarning)\n",
    "warnings.filterwarnings(\"ignore\", category=FutureWarning)\n",
    "warnings.filterwarnings(\"ignore\", category=Warning)"
   ]
  },
  {
   "cell_type": "code",
   "execution_count": 2,
   "metadata": {},
   "outputs": [],
   "source": [
    "%config InlineBackend.figure_format = 'retina'\n",
    "\n",
    "RANDOM_SEED = 42\n",
    "rng = np.random.default_rng(RANDOM_SEED)\n",
    "\n",
    "az.style.use(\"arviz-grayscale\")\n",
    "plt.rcParams['figure.dpi'] = 300"
   ]
  },
  {
   "cell_type": "code",
   "execution_count": 3,
   "metadata": {},
   "outputs": [
    {
     "data": {
      "text/html": [
       "<div>\n",
       "<style scoped>\n",
       "    .dataframe tbody tr th:only-of-type {\n",
       "        vertical-align: middle;\n",
       "    }\n",
       "\n",
       "    .dataframe tbody tr th {\n",
       "        vertical-align: top;\n",
       "    }\n",
       "\n",
       "    .dataframe thead th {\n",
       "        text-align: right;\n",
       "    }\n",
       "</style>\n",
       "<table border=\"1\" class=\"dataframe\">\n",
       "  <thead>\n",
       "    <tr style=\"text-align: right;\">\n",
       "      <th></th>\n",
       "      <th>outcome</th>\n",
       "      <th>condition</th>\n",
       "    </tr>\n",
       "  </thead>\n",
       "  <tbody>\n",
       "    <tr>\n",
       "      <th>0</th>\n",
       "      <td>7.145137</td>\n",
       "      <td>Violent game</td>\n",
       "    </tr>\n",
       "    <tr>\n",
       "      <th>1</th>\n",
       "      <td>7.484930</td>\n",
       "      <td>Violent game</td>\n",
       "    </tr>\n",
       "    <tr>\n",
       "      <th>2</th>\n",
       "      <td>7.297470</td>\n",
       "      <td>Violent game</td>\n",
       "    </tr>\n",
       "    <tr>\n",
       "      <th>3</th>\n",
       "      <td>7.760477</td>\n",
       "      <td>Violent game</td>\n",
       "    </tr>\n",
       "    <tr>\n",
       "      <th>4</th>\n",
       "      <td>6.497964</td>\n",
       "      <td>Violent game</td>\n",
       "    </tr>\n",
       "  </tbody>\n",
       "</table>\n",
       "</div>"
      ],
      "text/plain": [
       "    outcome     condition\n",
       "0  7.145137  Violent game\n",
       "1  7.484930  Violent game\n",
       "2  7.297470  Violent game\n",
       "3  7.760477  Violent game\n",
       "4  6.497964  Violent game"
      ]
     },
     "execution_count": 3,
     "metadata": {},
     "output_type": "execute_result"
    }
   ],
   "source": [
    "df = pd.read_csv(\"../data/video_games.csv\")\n",
    "df.head()"
   ]
  },
  {
   "cell_type": "code",
   "execution_count": 4,
   "metadata": {},
   "outputs": [
    {
     "data": {
      "text/plain": [
       "(800, 2)"
      ]
     },
     "execution_count": 4,
     "metadata": {},
     "output_type": "execute_result"
    }
   ],
   "source": [
    "df.shape"
   ]
  },
  {
   "cell_type": "code",
   "execution_count": 5,
   "metadata": {},
   "outputs": [
    {
     "name": "stdout",
     "output_type": "stream",
     "text": [
      "                  mean  standard_deviation  standard_error\n",
      "condition                                                 \n",
      "Non-violent game  6.65                0.53          0.0265\n",
      "Violent game      6.81                0.51          0.0255\n"
     ]
    }
   ],
   "source": [
    "summary = df.groupby('condition')['outcome'].agg(\n",
    "    mean='mean',\n",
    "    standard_deviation='std',\n",
    "    standard_error=lambda x: x.std() / len(x) ** 0.5\n",
    ")\n",
    "\n",
    "print(summary)"
   ]
  },
  {
   "cell_type": "code",
   "execution_count": 6,
   "metadata": {},
   "outputs": [],
   "source": [
    "# Assuming df has at least 100 rows\n",
    "df_100 = df.sample(n=100)"
   ]
  },
  {
   "cell_type": "code",
   "execution_count": 7,
   "metadata": {},
   "outputs": [
    {
     "name": "stdout",
     "output_type": "stream",
     "text": [
      "                      mean  standard_deviation  standard_error\n",
      "condition                                                     \n",
      "Non-violent game  6.705947            0.495681        0.071545\n",
      "Violent game      6.827266            0.451882        0.062665\n"
     ]
    }
   ],
   "source": [
    "summary_100 = df_100.groupby('condition')['outcome'].agg(\n",
    "    mean='mean',\n",
    "    standard_deviation='std',\n",
    "    standard_error=lambda x: x.std() / len(x) ** 0.5\n",
    ")\n",
    "\n",
    "print(summary_100)"
   ]
  },
  {
   "cell_type": "code",
   "execution_count": 8,
   "metadata": {},
   "outputs": [],
   "source": [
    "def cohen_d(mean1, mean2, sd1, sd2, n1, n2):\n",
    "    pooled_sd = math.sqrt(((n1 - 1) * sd1**2 + (n2 - 1) * sd2**2) / (n1 + n2 - 2))\n",
    "    return (mean2 - mean1) / pooled_sd"
   ]
  },
  {
   "cell_type": "code",
   "execution_count": 9,
   "metadata": {},
   "outputs": [
    {
     "name": "stdout",
     "output_type": "stream",
     "text": [
      "Cohen's d: 0.3637871999925845\n"
     ]
    }
   ],
   "source": [
    "mean1 = 6.663322\n",
    "mean2 = 6.861076\n",
    "sd1 = 0.566330\n",
    "sd2 = 0.519873\n",
    "n1 = n2 = 100\n",
    "\n",
    "result = cohen_d(mean1, mean2, sd1, sd2, n1, n2)\n",
    "print(\"Cohen's d:\", result)"
   ]
  },
  {
   "cell_type": "code",
   "execution_count": 10,
   "metadata": {},
   "outputs": [
    {
     "name": "stdout",
     "output_type": "stream",
     "text": [
      "Cohen's d: 0.3076354277014899\n"
     ]
    }
   ],
   "source": [
    "mean1 = 6.65\n",
    "mean2 = 6.81\n",
    "sd1 = 0.53\n",
    "sd2 = 0.51\n",
    "n1 = n2 = 800\n",
    "\n",
    "result = cohen_d(mean1, mean2, sd1, sd2, n1, n2)\n",
    "print(\"Cohen's d:\", result)"
   ]
  },
  {
   "cell_type": "code",
   "execution_count": 11,
   "metadata": {},
   "outputs": [
    {
     "name": "stdout",
     "output_type": "stream",
     "text": [
      "Last updated: Sun Sep 17 2023\n",
      "\n",
      "Python implementation: CPython\n",
      "Python version       : 3.11.5\n",
      "IPython version      : 8.15.0\n",
      "\n",
      "arviz     : 0.16.0\n",
      "seaborn   : 0.12.2\n",
      "pandas    : 2.0.3\n",
      "numpy     : 1.25.2\n",
      "matplotlib: 3.7.2\n",
      "scipy     : 1.10.1\n",
      "\n"
     ]
    }
   ],
   "source": [
    "%load_ext watermark\n",
    "%watermark -n -u -v -iv "
   ]
  }
 ],
 "metadata": {
  "kernelspec": {
   "display_name": "bambi_env",
   "language": "python",
   "name": "python3"
  },
  "language_info": {
   "codemirror_mode": {
    "name": "ipython",
    "version": 3
   },
   "file_extension": ".py",
   "mimetype": "text/x-python",
   "name": "python",
   "nbconvert_exporter": "python",
   "pygments_lexer": "ipython3",
   "version": "3.11.5"
  },
  "vscode": {
   "interpreter": {
    "hash": "e957f8d2d9272acec629608affb587206e5d92bb0d8d335f71da72c549770d8b"
   }
  }
 },
 "nbformat": 4,
 "nbformat_minor": 2
}