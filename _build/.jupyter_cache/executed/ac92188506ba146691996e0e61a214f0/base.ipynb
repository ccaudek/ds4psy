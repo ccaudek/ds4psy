{
 "cells": [
  {
   "cell_type": "code",
   "execution_count": 1,
   "metadata": {},
   "outputs": [],
   "source": [
    "import pandas as pd\n",
    "import numpy as np\n",
    "from matplotlib import pyplot as plt\n",
    "import itertools as it\n",
    "import math\n",
    "import scipy.stats as stats\n",
    "import arviz as az"
   ]
  },
  {
   "cell_type": "code",
   "execution_count": 2,
   "metadata": {},
   "outputs": [],
   "source": [
    "%config InlineBackend.figure_format = 'retina'\n",
    "RANDOM_SEED = 42\n",
    "rng = np.random.default_rng(RANDOM_SEED)\n",
    "az.style.use(\"arviz-viridish\")"
   ]
  },
  {
   "cell_type": "code",
   "execution_count": 3,
   "metadata": {},
   "outputs": [
    {
     "name": "stdout",
     "output_type": "stream",
     "text": [
      "[(1, 1), (1, 2), (1, 3), (1, 4), (1, 5), (1, 6), (2, 1), (2, 2), (2, 3), (2, 4), (2, 5), (2, 6), (3, 1), (3, 2), (3, 3), (3, 4), (3, 5), (3, 6), (4, 1), (4, 2), (4, 3), (4, 4), (4, 5), (4, 6), (5, 1), (5, 2), (5, 3), (5, 4), (5, 5), (5, 6), (6, 1), (6, 2), (6, 3), (6, 4), (6, 5), (6, 6)]\n"
     ]
    }
   ],
   "source": [
    "r = range(1, 7)\n",
    "sample = [(i, j) for i in r for j in r]\n",
    "print(sample)"
   ]
  },
  {
   "cell_type": "code",
   "execution_count": 4,
   "metadata": {},
   "outputs": [
    {
     "data": {
      "text/plain": [
       "36"
      ]
     },
     "execution_count": 4,
     "metadata": {},
     "output_type": "execute_result"
    }
   ],
   "source": [
    "len(sample)"
   ]
  },
  {
   "cell_type": "code",
   "execution_count": 5,
   "metadata": {},
   "outputs": [
    {
     "data": {
      "text/plain": [
       "2"
      ]
     },
     "execution_count": 5,
     "metadata": {},
     "output_type": "execute_result"
    }
   ],
   "source": [
    "sum(sample[0])"
   ]
  },
  {
   "cell_type": "code",
   "execution_count": 6,
   "metadata": {},
   "outputs": [
    {
     "data": {
      "text/plain": [
       "12"
      ]
     },
     "execution_count": 6,
     "metadata": {},
     "output_type": "execute_result"
    }
   ],
   "source": [
    "sum(sample[35])"
   ]
  },
  {
   "cell_type": "code",
   "execution_count": 7,
   "metadata": {},
   "outputs": [
    {
     "data": {
      "text/plain": [
       "[2,\n",
       " 3,\n",
       " 4,\n",
       " 5,\n",
       " 6,\n",
       " 7,\n",
       " 3,\n",
       " 4,\n",
       " 5,\n",
       " 6,\n",
       " 7,\n",
       " 8,\n",
       " 4,\n",
       " 5,\n",
       " 6,\n",
       " 7,\n",
       " 8,\n",
       " 9,\n",
       " 5,\n",
       " 6,\n",
       " 7,\n",
       " 8,\n",
       " 9,\n",
       " 10,\n",
       " 6,\n",
       " 7,\n",
       " 8,\n",
       " 9,\n",
       " 10,\n",
       " 11,\n",
       " 7,\n",
       " 8,\n",
       " 9,\n",
       " 10,\n",
       " 11,\n",
       " 12]"
      ]
     },
     "execution_count": 7,
     "metadata": {},
     "output_type": "execute_result"
    }
   ],
   "source": [
    "z = [sum(point) for point in sample]\n",
    "z"
   ]
  },
  {
   "cell_type": "code",
   "execution_count": 8,
   "metadata": {},
   "outputs": [
    {
     "name": "stdout",
     "output_type": "stream",
     "text": [
      "[(1, 1)]\n",
      "z = 2 : 1 / 36\n",
      "[(1, 2), (2, 1)]\n",
      "z = 3 : 2 / 36\n",
      "[(1, 3), (2, 2), (3, 1)]\n",
      "z = 4 : 3 / 36\n",
      "[(1, 4), (2, 3), (3, 2), (4, 1)]\n",
      "z = 5 : 4 / 36\n",
      "[(1, 5), (2, 4), (3, 3), (4, 2), (5, 1)]\n",
      "z = 6 : 5 / 36\n",
      "[(1, 6), (2, 5), (3, 4), (4, 3), (5, 2), (6, 1)]\n",
      "z = 7 : 6 / 36\n",
      "[(2, 6), (3, 5), (4, 4), (5, 3), (6, 2)]\n",
      "z = 8 : 5 / 36\n",
      "[(3, 6), (4, 5), (5, 4), (6, 3)]\n",
      "z = 9 : 4 / 36\n",
      "[(4, 6), (5, 5), (6, 4)]\n",
      "z = 10 : 3 / 36\n",
      "[(5, 6), (6, 5)]\n",
      "z = 11 : 2 / 36\n",
      "[(6, 6)]\n",
      "z = 12 : 1 / 36\n"
     ]
    }
   ],
   "source": [
    "for i in range(2, 13):\n",
    "    event = [roll for roll in sample if sum(roll) == i]\n",
    "    print(event)\n",
    "    print(f\"z = {i} : {len(event)} / {len(sample)}\")"
   ]
  },
  {
   "cell_type": "code",
   "execution_count": 9,
   "metadata": {},
   "outputs": [
    {
     "name": "stdout",
     "output_type": "stream",
     "text": [
      "[0.028 0.056 0.083 0.111 0.139 0.167 0.139 0.111 0.083 0.056 0.028]\n"
     ]
    }
   ],
   "source": [
    "px = []\n",
    "\n",
    "for i in range(2, 13):\n",
    "    event = [roll for roll in sample if sum(roll) == i]\n",
    "    px.append(len(event) / len(sample))\n",
    "\n",
    "print(np.array(px).round(3))"
   ]
  },
  {
   "cell_type": "code",
   "execution_count": 10,
   "metadata": {},
   "outputs": [
    {
     "data": {
      "text/plain": [
       "[(2, 0.027777777777777776),\n",
       " (3, 0.05555555555555555),\n",
       " (4, 0.08333333333333333),\n",
       " (5, 0.1111111111111111),\n",
       " (6, 0.1388888888888889),\n",
       " (7, 0.16666666666666666),\n",
       " (8, 0.1388888888888889),\n",
       " (9, 0.1111111111111111),\n",
       " (10, 0.08333333333333333),\n",
       " (11, 0.05555555555555555),\n",
       " (12, 0.027777777777777776)]"
      ]
     },
     "execution_count": 10,
     "metadata": {},
     "output_type": "execute_result"
    }
   ],
   "source": [
    "list(zip(list(range(2, 13)), px))"
   ]
  },
  {
   "cell_type": "code",
   "execution_count": 11,
   "metadata": {},
   "outputs": [
    {
     "data": {
      "text/html": [
       "<div>\n",
       "<style scoped>\n",
       "    .dataframe tbody tr th:only-of-type {\n",
       "        vertical-align: middle;\n",
       "    }\n",
       "\n",
       "    .dataframe tbody tr th {\n",
       "        vertical-align: top;\n",
       "    }\n",
       "\n",
       "    .dataframe thead th {\n",
       "        text-align: right;\n",
       "    }\n",
       "</style>\n",
       "<table border=\"1\" class=\"dataframe\">\n",
       "  <thead>\n",
       "    <tr style=\"text-align: right;\">\n",
       "      <th></th>\n",
       "      <th>Z</th>\n",
       "      <th>Probability</th>\n",
       "    </tr>\n",
       "  </thead>\n",
       "  <tbody>\n",
       "    <tr>\n",
       "      <th>0</th>\n",
       "      <td>2</td>\n",
       "      <td>0.028</td>\n",
       "    </tr>\n",
       "    <tr>\n",
       "      <th>1</th>\n",
       "      <td>3</td>\n",
       "      <td>0.056</td>\n",
       "    </tr>\n",
       "    <tr>\n",
       "      <th>2</th>\n",
       "      <td>4</td>\n",
       "      <td>0.083</td>\n",
       "    </tr>\n",
       "    <tr>\n",
       "      <th>3</th>\n",
       "      <td>5</td>\n",
       "      <td>0.111</td>\n",
       "    </tr>\n",
       "    <tr>\n",
       "      <th>4</th>\n",
       "      <td>6</td>\n",
       "      <td>0.139</td>\n",
       "    </tr>\n",
       "    <tr>\n",
       "      <th>5</th>\n",
       "      <td>7</td>\n",
       "      <td>0.167</td>\n",
       "    </tr>\n",
       "    <tr>\n",
       "      <th>6</th>\n",
       "      <td>8</td>\n",
       "      <td>0.139</td>\n",
       "    </tr>\n",
       "    <tr>\n",
       "      <th>7</th>\n",
       "      <td>9</td>\n",
       "      <td>0.111</td>\n",
       "    </tr>\n",
       "    <tr>\n",
       "      <th>8</th>\n",
       "      <td>10</td>\n",
       "      <td>0.083</td>\n",
       "    </tr>\n",
       "    <tr>\n",
       "      <th>9</th>\n",
       "      <td>11</td>\n",
       "      <td>0.056</td>\n",
       "    </tr>\n",
       "    <tr>\n",
       "      <th>10</th>\n",
       "      <td>12</td>\n",
       "      <td>0.028</td>\n",
       "    </tr>\n",
       "  </tbody>\n",
       "</table>\n",
       "</div>"
      ],
      "text/plain": [
       "     Z  Probability\n",
       "0    2        0.028\n",
       "1    3        0.056\n",
       "2    4        0.083\n",
       "3    5        0.111\n",
       "4    6        0.139\n",
       "5    7        0.167\n",
       "6    8        0.139\n",
       "7    9        0.111\n",
       "8   10        0.083\n",
       "9   11        0.056\n",
       "10  12        0.028"
      ]
     },
     "execution_count": 11,
     "metadata": {},
     "output_type": "execute_result"
    }
   ],
   "source": [
    "df = pd.DataFrame()\n",
    "df[\"Z\"] = np.array(range(2, 13))\n",
    "df[\"Probability\"] = px\n",
    "\n",
    "df.round(3)"
   ]
  },
  {
   "cell_type": "code",
   "execution_count": 12,
   "metadata": {},
   "outputs": [],
   "source": [
    "def roll_die():\n",
    "    \"\"\"\n",
    "    returns a random int between 1 and 6\n",
    "    \"\"\"\n",
    "    return rng.choice([1, 2, 3, 4, 5, 6])"
   ]
  },
  {
   "cell_type": "code",
   "execution_count": 13,
   "metadata": {},
   "outputs": [],
   "source": [
    "def roll_two_dice(n):\n",
    "    \"\"\"\n",
    "    returns a random int between 2 and 12\n",
    "    \"\"\"\n",
    "    rolls = []\n",
    "    for i in range(n):\n",
    "        two_dice = roll_die() + roll_die()\n",
    "        rolls.append(two_dice)\n",
    "    return rolls\n"
   ]
  },
  {
   "cell_type": "code",
   "execution_count": 14,
   "metadata": {},
   "outputs": [
    {
     "name": "stdout",
     "output_type": "stream",
     "text": [
      "7 9 6 3 10 10 10 5 9 7 8 9 8 7 5 5 7 11 6 6 8 7 9 10 7 6 4 5 10 11 9 5 9 4 7 4 8 4 9 9 6 9 3 10 8 9 8 7 5\n"
     ]
    }
   ],
   "source": [
    "nrolls = 100000\n",
    "res = roll_two_dice(nrolls)\n",
    "print(*res[1:50])"
   ]
  },
  {
   "cell_type": "code",
   "execution_count": 15,
   "metadata": {},
   "outputs": [],
   "source": [
    "df = pd.DataFrame()\n",
    "df[\"y\"] = res "
   ]
  },
  {
   "cell_type": "code",
   "execution_count": 16,
   "metadata": {},
   "outputs": [
    {
     "data": {
      "text/plain": [
       "[(2, 0.0279),\n",
       " (3, 0.05467),\n",
       " (4, 0.083),\n",
       " (5, 0.11032),\n",
       " (6, 0.13932),\n",
       " (7, 0.16827),\n",
       " (8, 0.13834),\n",
       " (9, 0.11061),\n",
       " (10, 0.08499),\n",
       " (11, 0.05482),\n",
       " (12, 0.02776)]"
      ]
     },
     "execution_count": 16,
     "metadata": {},
     "output_type": "execute_result"
    }
   ],
   "source": [
    "abs_freqs = df[\"y\"].value_counts().sort_index()\n",
    "px = abs_freqs / nrolls\n",
    "list(zip(list(range(2, 13)), px))"
   ]
  },
  {
   "cell_type": "code",
   "execution_count": 17,
   "metadata": {},
   "outputs": [
    {
     "name": "stdout",
     "output_type": "stream",
     "text": [
      "For 10 est. prob. of a shared birthday is 0.1203\n",
      "Actual prob. for N = 100 = 0.1166454118039999\n"
     ]
    },
    {
     "name": "stdout",
     "output_type": "stream",
     "text": [
      "For 23 est. prob. of a shared birthday is 0.5122\n",
      "Actual prob. for N = 100 = 0.5063230118194599\n"
     ]
    },
    {
     "name": "stdout",
     "output_type": "stream",
     "text": [
      "For 30 est. prob. of a shared birthday is 0.707\n",
      "Actual prob. for N = 100 = 0.7053034120089917\n"
     ]
    }
   ],
   "source": [
    "def same_date(num_people, num_same):\n",
    "    # initialize list from 0 to 365\n",
    "    possible_dates = range(366)\n",
    "    # list of zeros\n",
    "    birthdays = [0] * 366\n",
    "    # increments by 1 the days corresponding to to the randomly chosen\n",
    "    # birthdays of num_people individuals\n",
    "    for p in range(num_people):\n",
    "        birth_date = rng.choice(possible_dates)\n",
    "        birthdays[birth_date] += 1\n",
    "    # True if at least one day records a number of birthdays >= num_same;\n",
    "    # False otherwise\n",
    "    return max(birthdays) >= num_same\n",
    "\n",
    "\n",
    "def birthday_prob(num_people, num_same, num_trials):\n",
    "    num_hits = 0\n",
    "    # repeat the simulation num_trials times\n",
    "    for t in range(num_trials):\n",
    "        # if same_date() returns True, then increment num_hits by 1\n",
    "        if same_date(num_people, num_same):\n",
    "            num_hits += 1\n",
    "    return num_hits / num_trials\n",
    "\n",
    "\n",
    "for num_people in [10, 23, 30]:\n",
    "    print(\n",
    "        \"For\",\n",
    "        num_people,\n",
    "        \"est. prob. of a shared birthday is\",\n",
    "        birthday_prob(num_people, 2, 10000),\n",
    "    )\n",
    "    numerator = math.factorial(366)\n",
    "    denom = (366**num_people) * math.factorial(366 - num_people)\n",
    "    print(\"Actual prob. for N = 100 =\", 1 - numerator / denom)\n"
   ]
  },
  {
   "cell_type": "code",
   "execution_count": 18,
   "metadata": {},
   "outputs": [
    {
     "data": {
      "image/png": "[encoded data removed]",
      "text/plain": [
       "<Figure size 640x480 with 1 Axes>"
      ]
     },
     "metadata": {
      "image/png": {
       "height": 454,
       "width": 576
      }
     },
     "output_type": "display_data"
    }
   ],
   "source": [
    "def simulate_dice_rolls(num_rolls):\n",
    "    \"\"\"Simulate dice rolls and return the average value for each roll.\"\"\"\n",
    "    total = 0\n",
    "    averages = []\n",
    "    for i in range(1, num_rolls + 1):\n",
    "        roll = roll_die()\n",
    "        total += roll\n",
    "        averages.append(total / i)\n",
    "    return averages\n",
    "\n",
    "\n",
    "def plot_dice_rolls(averages, num_rolls):\n",
    "    \"\"\"\n",
    "    Plot the average value after each dice roll.\n",
    "    \"\"\"\n",
    "    x = range(1, num_rolls + 1)\n",
    "    plt.plot(x, averages, linewidth=2)\n",
    "    plt.hlines(y=3.5, xmin=0, xmax=num_rolls, color=\"red\", label=\"Valore atteso\")\n",
    "    plt.xlabel(\"Numero di lanci\")\n",
    "    plt.ylabel(\"Valore medio\")\n",
    "    plt.title(\"Legge dei grandi numeri\")\n",
    "    plt.legend()\n",
    "    plt.show()\n",
    "\n",
    "\n",
    "if __name__ == \"__main__\":\n",
    "    num_rolls = 10000\n",
    "    averages = simulate_dice_rolls(num_rolls)\n",
    "    plot_dice_rolls(averages, num_rolls)\n"
   ]
  },
  {
   "cell_type": "code",
   "execution_count": 19,
   "metadata": {},
   "outputs": [
    {
     "name": "stdout",
     "output_type": "stream",
     "text": [
      "Compleanno agosto 3: Mario Rossi, Giovanna Bianchi, Maria Neri, Maria Gallo\n",
      "Compleanno giugno 12: Francesco Ferrari, Giovanna Romano\n"
     ]
    }
   ],
   "source": [
    "def count_same_birthdays(birthday_list):\n",
    "    same_birthdays = {}\n",
    "    for name, birthday in birthday_list:\n",
    "        if birthday in same_birthdays:\n",
    "            same_birthdays[birthday].append(name)\n",
    "        else:\n",
    "            same_birthdays[birthday] = [name]\n",
    "\n",
    "    return same_birthdays\n",
    "\n",
    "\n",
    "# Example input with 5 students\n",
    "birthday_list = [\n",
    "    (\"Mario Rossi\", \"agosto 3\"),\n",
    "    (\"Giovanna Bianchi\", \"agosto 3\"),\n",
    "    (\"Maria Neri\", \"agosto 3\"),\n",
    "    (\"Francesco Ferrari\", \"giugno 12\"),\n",
    "    (\"Alice Esposito\", \"maggio 26\"),\n",
    "    (\"Giovanna Romano\", \"giugno 12\"),\n",
    "    (\"Maria Gallo\", \"agosto 3\"),\n",
    "]\n",
    "\n",
    "same_birthdays = count_same_birthdays(birthday_list)\n",
    "\n",
    "# Print shared birthdays\n",
    "for birthday, students in same_birthdays.items():\n",
    "    if len(students) > 1:\n",
    "        print(f\"Compleanno {birthday}: {', '.join(students)}\")"
   ]
  },
  {
   "cell_type": "code",
   "execution_count": 20,
   "metadata": {},
   "outputs": [
    {
     "name": "stdout",
     "output_type": "stream",
     "text": [
      "Last updated: Mon Oct 30 2023\n",
      "\n",
      "Python implementation: CPython\n",
      "Python version       : 3.11.6\n",
      "IPython version      : 8.16.1\n",
      "\n",
      "pandas    : 2.1.1\n",
      "arviz     : 0.16.1\n",
      "scipy     : 1.11.3\n",
      "numpy     : 1.25.2\n",
      "matplotlib: 3.8.0\n",
      "\n",
      "Watermark: 2.4.3\n",
      "\n"
     ]
    }
   ],
   "source": [
    "%load_ext watermark\n",
    "%watermark -n -u -v -iv -w"
   ]
  }
 ],
 "metadata": {
  "kernelspec": {
   "display_name": "pymc",
   "language": "python",
   "name": "python3"
  },
  "language_info": {
   "codemirror_mode": {
    "name": "ipython",
    "version": 3
   },
   "file_extension": ".py",
   "mimetype": "text/x-python",
   "name": "python",
   "nbconvert_exporter": "python",
   "pygments_lexer": "ipython3",
   "version": "3.11.6"
  },
  "vscode": {
   "interpreter": {
    "hash": "cbb367cc0128e23b7454d788d5a4229ca1f9848fd2e857f4797fbd26ab3b0776"
   }
  }
 },
 "nbformat": 4,
 "nbformat_minor": 2
}