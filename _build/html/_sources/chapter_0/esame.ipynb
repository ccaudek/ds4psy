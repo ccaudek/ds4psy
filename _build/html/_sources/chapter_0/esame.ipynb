{
 "cells": [
  {
   "attachments": {},
   "cell_type": "markdown",
   "metadata": {},
   "source": [
    "# Modalità di valutazione dell'apprendimento\n",
    "\n",
    "L'esame sarà condotto seguendo la modalità \"a libri aperti\", permettendo così agli studenti di consultare il testo di riferimento, la dispensa e i propri appunti senza restrizioni. Sarà però tassativamente vietato fare ricorso a strumenti di intelligenza artificiale destinati alla programmazione assistita.\n",
    "\n",
    "Al fine di preservare equità e integrità durante la valutazione, è essenziale che ogni studente lavori in completa autonomia, senza intrattenere alcun tipo di collaborazione con altri durante l'esame.\n",
    "\n",
    "La valutazione delle prestazioni adotterà un criterio relativo, fondato sulla distribuzione dei risultati ottenuti da tutti gli studenti partecipanti all'esame.\n",
    "\n",
    "## 💻 Quiz Moodle\n",
    "\n",
    "Gli esami per gli studenti frequentanti e le prove in itinere per gli studenti non frequentanti si svolgeranno tramite *quiz Moodle*.\n",
    "\n",
    "- Ogni quiz Moodle consisterà in domande a scelta multipla, con 5 opzioni di risposta, di cui solo una sarà corretta. Le risposte corrette saranno valutate con un punto, le risposte errate riceveranno una penalizzazione di -0.25 punti e le risposte non date avranno un punteggio di 0.\n",
    "- Durante il quiz Moodle, gli studenti dovranno rispondere alle domande in ordine sequenziale, senza possibilità di tornare indietro o saltare a domande successive.\n",
    "- I problemi assegnati a ciascuno studente saranno estratti casualmente da un database, il che comporta variazioni possibili tra gli studenti.\n",
    "- Durante il quiz Moodle, gli studenti dovranno rispondere sotto pressione temporale.\n",
    "- Per partecipare ai quiz Moodle, gli studenti dovranno utilizzare il proprio computer.\n",
    "- I quiz Moodle riguardanti l'inferenza bayesiana richiederanno l'uso di PyMC, che dovrà essere installato sul computer dello studente. In alternativa, gli studenti potranno utilizzare PyMC su Colab.\n",
    "\n",
    "## Studenti frequentanti\n",
    "\n",
    "Per essere considerati \"frequentanti\", gli studenti devono soddisfare i seguenti requisiti:\n",
    "\n",
    "1. **Consegna dei report in itinere**: Devono essere consegnati tutti i report in itinere entro le scadenze stabilite, ricevendo un giudizio positivo per ciascuno di essi.\n",
    "2. **Prove parziali**: È necessario sostenere le due prove parziali programmate durante il semestre.\n",
    "3. **Progetto di gruppo**: Gli studenti sono tenuti a redigere e consegnare un report scritto, oltre a realizzare una presentazione orale, relativi a un progetto di gruppo focalizzato sull'analisi dei dati di una recente pubblicazione in campo psicologico.\n",
    "\n",
    "### Dettagli sulle attività e la valutazione\n",
    "\n",
    "- **Gruppi di lavoro**: Gli studenti verranno suddivisi in piccoli team, ai quali saranno affidate due principali responsabilità:\n",
    "  1. **Realizzazione di un progetto di gruppo**: il cuore del lavoro sarà la realizzazione di un report che includerà l'analisi approfondita dei dati tratti da una recente pubblicazione  psicologica. Questo progetto, una volta completato e valutato, inciderà sul voto finale di ciascun partecipante.\n",
    "  2. **Redazione di report in itinere**: al fine di monitorare il progresso del gruppo nel corso del semestre, sarà necessario presentare report periodici che illustrino le attività svolte fino a quel momento. Ogni report dovrà contenere un riassunto delle attività svolte e un'appendice che specifichi i contributi individuali di ciascun membro del gruppo. Questi report saranno valutati secondo un criterio \"pass\" o \"fail\".\n",
    "- **Partecipazione alle lezioni**: Contribuirà per 10 punti al voto finale; per ottenerli, è necessario partecipare all'80% delle lezioni.\n",
    "- **Prove parziali**: Il primo e il secondo esame parziale contribuiranno ciascuno per 30 punti al voto finale.\n",
    "- **Progetto di gruppo**: La presentazione orale e scritta del progetto di gruppo contribuirà per 30 punti al voto finale.\n",
    "- **Voto finale**: Il voto finale sarà valutato su un totale di 100 punti, successivamente convertiti in un voto in trentesimi basato sulla distribuzione dei punteggi di tutti gli studenti.\n",
    "\n",
    "### Considerazioni aggiuntive\n",
    "- **Bonus**: Gli studenti hanno l'opzione di guadagnare 2 punti bonus partecipando a un laboratorio online (impegno di circa 5 ore). Questi punti saranno aggiunti al voto finale in trentesimi.\n",
    "- **Laboratorio online**: Nonostante non sia obbligatorio, offre l'opportunità di aumentare il punteggio e acquisire una visione pratica dei progetti di ricerca in psicologia. Si noti che, durante questo laboratorio, si adotteranno tecniche di analisi statistica per identificare comportamenti inappropriati come il \"careless responding\". In caso di comportamenti scorretti, gli studenti perderanno l'opportunità di guadagnare punti bonus e saranno sottoposti a un'integrazione orale obbligatoria per superare l'esame.\n",
    "- **Storico**: Negli anni accademici passati, la maggior parte degli studenti ha optato per il percorso \"frequentanti\", conseguendo risultati positivi.\n",
    "\n",
    "Gli studenti sono incoraggiati a sfruttare questo percorso per ottenere una formazione pratica approfondita e un voto finale soddisfacente.\n",
    "\n",
    "```{tip} \n",
    "Gli studenti frequentanti che avranno ottenuto un voto sufficiente **saranno tenuti** ad iscriversi al primo appello utile d'esame. Una volta iscritti all'esame, non dovranno effettuare ulteriori azioni, poiché sarò io a provvedere alla verbalizzazione e all'inserimento del voto.\n",
    "```\n",
    "\n",
    "## Studenti non frequentanti\n",
    "\n",
    "L'esame per le sessioni degli esami sarà condotto tramite un quiz Moodle, simile agli esercizi presenti nella dispensa.\n",
    "\n",
    "```{warning} \n",
    "Per partecipare all'esame, è richiesto che gli studenti portino con sé un computer portatile alla Torretta il giorno dell'esame, come richiesto anche agli studenti frequentanti.\n",
    "```\n",
    "\n",
    "Desidero sottolineare che il programma d'esame rimarrà invariato e sarà applicato uniformemente sia agli studenti frequentanti che a quelli non frequentanti."
   ]
  }
 ],
 "metadata": {
  "kernelspec": {
   "display_name": "Python 3",
   "language": "python",
   "name": "python3"
  },
  "language_info": {
   "codemirror_mode": {
    "name": "ipython",
    "version": 3
   },
   "file_extension": ".py",
   "mimetype": "text/x-python",
   "name": "python",
   "nbconvert_exporter": "python",
   "pygments_lexer": "ipython3",
   "version": "3.11.5"
  },
  "orig_nbformat": 4,
  "vscode": {
   "interpreter": {
    "hash": "c300c63927c1d487b2df0ca7f55d9699efd42c18a65d5b05a5383e492fa5764c"
   }
  }
 },
 "nbformat": 4,
 "nbformat_minor": 2
}
