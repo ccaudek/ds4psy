{
 "cells": [
  {
   "attachments": {},
   "cell_type": "markdown",
   "metadata": {},
   "source": [
    "# Materiali didattici\n",
    "\n",
    "Per un'efficace preparazione all'esame, si raccomanda di consultare e studiare in dettaglio i seguenti materiali didattici:\n",
    "\n",
    "1. *Introduction to Probability* di Joseph K. Blitzstein e Jessica Hwang (Edizione 2019, CRC Press) - Le sezioni specifiche da esaminare sono elencate nel calendario didattico del corso. È disponibile una versione online gratuita della seconda edizione del libro sul sito [probabilitybook.net](http://probabilitybook.net).\n",
    "\n",
    "2. [Bayes Rules! An Introduction to Applied Bayesian Modeling](https://www.bayesrulesbook.com/index.html) - Questo testo offre un'introduzione completa alla modellazione Bayesiana applicata.\n",
    "\n",
    "3. Dispensa del corso - La dispensa contenuta in questo sito web fornisce una copertura completa dei temi trattati. Inoltre, include una varietà di esercizi pratici, con istruzioni dettagliate in Python per eseguire le analisi dati rilevanti per l'esame.\n",
    "\n",
    "4. Articoli scientifici selezionati - Si richiede un'analisi accurata degli articoli specificati, disponibili nella sezione Moodle del corso.\n",
    "   - Loken, E., & Gelman, A. (2017). Measurement error and the replication crisis. *Science*, *355*(6325), 584-585.\n",
    "   - Amrhein, V., Greenland, S., & McShane, B. (2019). Comment: Retire statistical significance. *Nature*, *567*, 305-307.\n",
    "   - Wasserstein, R. L., Schirm, A. L., & Lazar, N. A. (2019). Moving to a world beyond “p< 0.05”. *The American Statistician*, *73*(sup1), 1-19.\n",
    "\n",
    "Questi materiali sono essenziali per una comprensione approfondita degli argomenti del corso e per il successo nell'esame finale.\n",
    "\n",
    "## Materiali supplementari\n",
    "\n",
    "I seguenti materiali supplementari sono forniti come risorse aggiuntive per coloro che desiderano approfondire gli argomenti trattati nella dispensa o consultare testi che presentano gli stessi contenuti da prospettive diverse.\n",
    "\n",
    "1. \"Data Analysis for Social Science: A Friendly and Practical Introduction\" scritto da Elena Llaudet e Kosuke Imai (2022) e pubblicato dalla Princeton University Press, offre un'introduzione accessibile all'analisi dei dati utilizzando il software statistico R. Pur non trattando la statistica bayesiana, il libro rappresenta un'eccellente introduzione agli argomenti trattati nel contesto del presente corso. Si sottolinea che, nonostante gli esempi forniti siano basati su R e non su Python, questa differenza non costituisce una limitazione significativa, poiché con l'assistenza di ChatGPT è possibile agevolmente convertire la sintassi R in Python.\n",
    "\n",
    "2. Il sito [Python Programming for Data Science](https://www.tomasbeuzen.com/python-programming-for-data-science/README.html) offre una guida per imparare il linguaggio di programmazione Python. Per questo corso, una conoscenza di base degli argomenti trattati in questo sito risulta essere sufficiente, oltre ai contenuti forniti.\n",
    "\n",
    "3. Recentemente sono stati pubblicati diversi testi, tra cui quello di Johnson, Ott e Dogucu adottato nel corso, che offrono un'ottima introduzione all'inferenza bayesiana. Due dei tre testi elencati, \"Bayesian Data Analysis for Newcomers\" di Albert e Hu (2020) e \"Introduction to Bayesian Statistics\" di Martin, Ravin e Junpeng (2021), sono accessibili online. Chiunque desideri approfondire l'argomento può consultarli facilmente.\n",
    "\n",
    "   - [Probability and Bayesian Modeling](https://bayesball.github.io/BOOK/probability-a-measurement-of-uncertainty.html)\n",
    "   - [Statistical rethinking](https://xcelab.net/rm/statistical-rethinking/)\n",
    "   - [Bayesian Modeling and Computation in Python](https://bayesiancomputationbook.com/welcome.html)\n"
   ]
  }
 ],
 "metadata": {
  "kernelspec": {
   "display_name": "bambi_env",
   "language": "python",
   "name": "python3"
  },
  "language_info": {
   "name": "python",
   "version": "3.8.15 (default, Nov 24 2022, 09:04:07) \n[Clang 14.0.6 ]"
  },
  "orig_nbformat": 4,
  "vscode": {
   "interpreter": {
    "hash": "e957f8d2d9272acec629608affb587206e5d92bb0d8d335f71da72c549770d8b"
   }
  }
 },
 "nbformat": 4,
 "nbformat_minor": 2
}
