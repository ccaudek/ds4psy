{
 "cells": [
  {
   "cell_type": "markdown",
   "metadata": {},
   "source": [
    "# ✏️ Esercizi"
   ]
  },
  {
   "cell_type": "code",
   "execution_count": 4,
   "metadata": {},
   "outputs": [],
   "source": [
    "from scipy.stats import norm"
   ]
  },
  {
   "cell_type": "markdown",
   "metadata": {},
   "source": [
    "In questo esercizio verrà presentato un problema relativo al modello di regressione lineare bivariata.\n",
    "\n",
    "Si consideri il seguente output relativo ad un modello di regressione che è stato adattato usando PyMC:\n",
    "\n",
    "````\n",
    "  variable    mean  median     sd    mad       q5     q95  rhat ess_bulk ess_tail\n",
    "1 alpha    474.    474.    21.1   20.4   439.     508.     1.00   12093.    9976.\n",
    "2 beta       0.309   0.315  0.145  0.139   0.0640   0.536  1.00   11148.    9048.\n",
    "3 sigma    117.    115.    17.6   16.1    92.4    149.     1.00   10085.    9068.\n",
    "````\n",
    "\n",
    "Supponiamo che il modello ipotizzi una distribuzione gaussiana di possibili valori $y$ centrati su $\\hat{y}$. Si consideri una tale distribuzione in corrispondenza di $x_i$ pari a 1.5; si trovi il valore $y_i \\mid x_i$ che lascia sotto di sé una probabilità pari a 0.2. Prima di eseguire l'analisi di regressione, si standardizzino i dati.\n",
    "\n",
    "## Soluzione"
   ]
  },
  {
   "cell_type": "code",
   "execution_count": 2,
   "metadata": {},
   "outputs": [
    {
     "name": "stdout",
     "output_type": "stream",
     "text": [
      "474.4635\n"
     ]
    }
   ],
   "source": [
    "# Given parameters\n",
    "b0 = 474\n",
    "b1 = 0.309\n",
    "sigma = 117\n",
    "x_i = 1.5\n",
    "\n",
    "# Calculating the mean of the distribution\n",
    "mean = b0 + b1 * x_i\n",
    "print(mean)"
   ]
  },
  {
   "cell_type": "code",
   "execution_count": 6,
   "metadata": {},
   "outputs": [
    {
     "name": "stdout",
     "output_type": "stream",
     "text": [
      "The quantile of order 0.2 for the distribution is: 375.99381567196906\n"
     ]
    }
   ],
   "source": [
    "# Finding the quantile of order 0.2 for the distribution\n",
    "quantile_0_2 = norm.ppf(0.2, loc=mean, scale=sigma)\n",
    "print(\"The quantile of order 0.2 for the distribution is:\", quantile_0_2)"
   ]
  }
 ],
 "metadata": {
  "kernelspec": {
   "display_name": "pymc5_env",
   "language": "python",
   "name": "python3"
  },
  "language_info": {
   "codemirror_mode": {
    "name": "ipython",
    "version": 3
   },
   "file_extension": ".py",
   "mimetype": "text/x-python",
   "name": "python",
   "nbconvert_exporter": "python",
   "pygments_lexer": "ipython3",
   "version": "3.11.4"
  },
  "orig_nbformat": 4
 },
 "nbformat": 4,
 "nbformat_minor": 2
}
