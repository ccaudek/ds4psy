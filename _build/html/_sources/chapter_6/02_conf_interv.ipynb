{
 "cells": [
  {
   "attachments": {},
   "cell_type": "markdown",
   "metadata": {},
   "source": [
    "(confidence-interval-notebook)=\n",
    "# Intervallo di confidenza"
   ]
  },
  {
   "cell_type": "code",
   "execution_count": 4,
   "metadata": {},
   "outputs": [
    {
     "name": "stderr",
     "output_type": "stream",
     "text": [
      "/Users/corrado/opt/anaconda3/envs/pymc_env/lib/python3.11/site-packages/tqdm/auto.py:21: TqdmWarning: IProgress not found. Please update jupyter and ipywidgets. See https://ipywidgets.readthedocs.io/en/stable/user_install.html\n",
      "  from .autonotebook import tqdm as notebook_tqdm\n"
     ]
    }
   ],
   "source": [
    "import numpy as np\n",
    "import pandas as pd\n",
    "import matplotlib.pyplot as plt\n",
    "import scipy.stats as st\n",
    "import arviz as az\n",
    "import pymc as pm\n",
    "import pymc.sampling_jax\n",
    "import warnings\n",
    "\n",
    "warnings.filterwarnings(\"ignore\")\n",
    "warnings.simplefilter(\"ignore\")\n",
    "pd.options.mode.chained_assignment = None"
   ]
  },
  {
   "cell_type": "code",
   "execution_count": 5,
   "metadata": {},
   "outputs": [],
   "source": [
    "%config InlineBackend.figure_format = 'retina'\n",
    "RANDOM_SEED = 42\n",
    "rng = np.random.default_rng(RANDOM_SEED)\n",
    "az.style.use(\"arviz-darkgrid\")"
   ]
  },
  {
   "attachments": {},
   "cell_type": "markdown",
   "metadata": {},
   "source": [
    "## Approcci Distinti nell'Inferenza Statistica\n",
    "\n",
    "Il campo della statistica utilizza prevalentemente due metodi fondamentali per l'inferenza statistica:\n",
    "\n",
    "1. **Approccio Bayesianista**: L'approccio bayesiano, come delineato da {cite:t}`jaynes2003probability`, considera la probabilità come una misura del grado di convinzione o credenza nella realizzazione di un evento o nella validità di un'affermazione. \n",
    "\n",
    "2. **Approccio Frequentista**: Al contrario, l'approccio frequentista interpreta la probabilità come la frequenza relativa di un evento nel lungo termine.\n",
    "\n",
    "### Inferenza Statistica Frequentista: Intervallo di Confidenza\n",
    "\n",
    "Nell'approccio frequentista, si pone enfasi sulla ripetizione di esperimenti in contesti casuali. Questo principio è fondamentale per comprendere l'intervallo di confidenza, un concetto chiave in questo approccio.\n",
    "\n",
    "Quando si estrae un campione casuale da una popolazione più vasta, i risultati statistici derivanti dal campione possono non corrispondere esattamente ai parametri reali della popolazione. Questa discrepanza è attribuibile alla \"variabilità campionaria\". Per quantificarla e comprenderla meglio, si utilizza un indicatore chiamato \"errore standard\".\n",
    "\n",
    "L'errore standard è una stima della deviazione standard della distribuzione di un estimatore statistico, che indica quanto si possa aspettare che la nostra stima si discosti dal valore vero nella popolazione. Questa misura è essenziale perché, nella maggior parte dei casi, non è possibile calcolare direttamente la deviazione standard della distribuzione campionaria, dato che ciò richiederebbe l'accesso a numerosi campioni dalla popolazione, una situazione raramente realizzabile. Di conseguenza, si stima la deviazione standard basandosi sul singolo campione disponibile, definendo tale stima come \"errore standard\" dello stimatore.\n",
    "\n",
    "L'errore standard valuta la variabilità delle stime del parametro tra diversi campioni, fornendo un'indicazione su quanto la stima possa variare rispetto al valore vero del parametro nella popolazione. Attraverso l'errore standard, gli statistici frequentisti costruiscono l' \"intervallo di confidenza\", che rappresenta l'insieme di valori entro cui, a lungo termine, il vero parametro della popolazione si dovrebbe trovare con una certa probabilità $\\gamma$. Ad esempio, con un livello di confidenza del 95%, ci aspettiamo che il vero valore del parametro rientri nel 95% degli intervalli di confidenza calcolati.\n",
    "\n",
    "Questo metodo si applica a vari parametri statistici, come media, varianza o proporzione di una popolazione, offrendo una stima affidabile dell'intervallo entro cui il parametro della popolazione è presumibilmente situato, basata sui dati raccolti dal campione.\n",
    "\n",
    "## Determinazione dell'intervallo di Confidenza\n",
    "\n",
    "Nei casi in cui la distribuzione delle statistiche campionarie si avvicina a una distribuzione Normale, l'intervallo di confidenza al 95% è calcolato come:\n",
    "\n",
    "$$\n",
    "\\hat{\\theta} \\pm 1.96 \\cdot \\text{SE},\n",
    "$$\n",
    "\n",
    "dove $\\hat{\\theta}$ rappresenta la stima del parametro e SE l'errore standard.\n",
    "\n",
    "### Derivazione dell'Intervallo di Confidenza per una Popolazione Normale con Varianza Nota\n",
    "\n",
    "Si consideri una popolazione che segue una distribuzione normale con una media nota $\\mu$ e varianza $\\sigma^2$. Prendiamo un campione casuale di dimensione $n$ da questa popolazione, indicato come $X_1, X_2, \\dots, X_n$. Grazie alle proprietà delle distribuzioni normali, la media campionaria $\\bar{X}$ segue anch'essa una distribuzione normale, nello specifico $\\bar{X} \\sim \\mathcal{N}(\\mu, \\sigma^2/n)$.\n",
    "\n",
    "#### Passo 1: Standardizzazione della Media Campionaria\n",
    "- Per standardizzare la media campionaria in una variabile distribuita normalmente standard, sottraiamo la media della popolazione $\\mu$ e dividiamo per lo scarto standard della media campionaria $\\sigma/\\sqrt{n}$. Ciò porta alla seguente trasformazione:\n",
    "  \n",
    "  $$\n",
    "  Z = \\frac{\\bar{X} - \\mu}{\\sigma/\\sqrt{n}} \\sim \\mathcal{N}(0, 1).\n",
    "  $$\n",
    "\n",
    "#### Passo 2: Stabilire il Livello di Confidenza\n",
    "- Definiamo un livello di confidenza $\\gamma = 1 - \\alpha$, ad esempio $\\gamma = 0.95$ per un livello di confidenza del 95%.\n",
    "- Identifichiamo il valore critico $z$, corrispondente al quantile $(1 - \\alpha/2)$ della distribuzione normale standard. Il valore $z$ rappresenta il punto di taglio alle estremità della distribuzione:\n",
    "  \n",
    "  $$\n",
    "  P(-z \\leq Z \\leq z) = \\gamma.\n",
    "  $$\n",
    "\n",
    "#### Passo 3: Formulazione dell'Intervallo di Confidenza\n",
    "- Con il valore $z$ definito, formuliamo l'intervallo di confidenza per la media della popolazione:\n",
    "  \n",
    "  $$\n",
    "  P\\left(-z \\leq \\frac{\\bar{X} - \\mu}{\\sigma/\\sqrt{n}} \\leq z\\right) = \\gamma.\n",
    "  $$\n",
    "\n",
    "#### Passo 4: Manipolazione Algebrica per Definire i Limiti\n",
    "- Rielaboriamo la disuguaglianza per esporre i limiti dell'intervallo di confidenza:\n",
    "  \n",
    "  $$$\n",
    "  \\begin{align}\n",
    "  P\\bigg(-z \\leq &\\frac{ \\bar{X} - \\mu } {\\sigma} \\sqrt{n} \\leq z\\bigg) = \\gamma\\notag\\\\\n",
    "  P\\bigg(-z {\\frac{\\sigma}{\\sqrt{n}}} \\leq  &\\bar{X} - \\mu \\leq z \\frac{\\sigma}{\\sqrt{n}}\\bigg) = \\gamma\\notag\\\\\n",
    "  P\\bigg(-\\bar{X}-z {\\frac{\\sigma}{\\sqrt{n}}} \\leq &-\\mu \\leq -\\bar{X} + z \\frac{\\sigma}{\\sqrt{n}}\\bigg) = \\gamma\\notag\\\\\n",
    "  P\\bigg(\\bar{X}+z \\frac{\\sigma}{\\sqrt{n}} \\geq &\\mu \\geq  \\bar{X} -z \\frac{\\sigma}{\\sqrt{n}}\\bigg) = \\gamma.\\notag\n",
    "  \\end{align}\n",
    "  $$   \n",
    "\n",
    "#### Passo 5: Specificazione dei Limiti dell'Intervallo\n",
    "- Definiamo i limiti dell'intervallo di confidenza, $\\hat{a}$ e $\\hat{b}$, come segue:\n",
    "  \n",
    "  $$\n",
    "  \\hat{a} = \\bar{X} - z \\frac{\\sigma}{\\sqrt{n}}, \n",
    "  \\quad \\hat{b} = \\bar{X} + z \\frac{\\sigma}{\\sqrt{n}},\n",
    "  $$\n",
    "  \n",
    "  con $P(\\hat{a} \\leq \\mu \\leq \\hat{b}) = \\gamma$.\n",
    "\n",
    "#### Conclusione: \n",
    "- L'intervallo di confidenza $(\\hat{a}, \\hat{b})$ racchiude il vero valore della media della popolazione $\\mu$ con una probabilità $\\gamma$.\n",
    "\n",
    "\n",
    "### Stima dell'Intervallo di Confidenza per Popolazioni Normali con Varianza Incognita\n",
    "\n",
    "In contesti reali, quando si preleva un campione $X_1, \\dots, X_n$ da una popolazione, la varianza $\\sigma^2$ della popolazione è spesso incognita. Questo aggiunge incertezza riguardo alla media della popolazione $\\mu$, che è il parametro di interesse. In questi casi, si adotta la distribuzione t di Student per la stima dell'intervallo di confidenza della media $\\mu$, a causa della varianza incognita.\n",
    "\n",
    "#### Passo 1: Impiego della Distribuzione t di Student\n",
    "- Applichiamo la formula seguente per calcolare l'intervallo:\n",
    "  \n",
    "  $$\n",
    "  P\\left(−t^{\\ast} \\leq \\frac{\\bar{X} - \\mu}{s/\\sqrt{n}} \\leq t^{\\ast}\\right) = \\gamma,\n",
    "  $$\n",
    "  \n",
    "  dove $\\gamma = 1 - \\alpha$ è il livello di confidenza, $s$ è la stima della deviazione standard $\\sigma$ della popolazione, e $t^{\\ast}$ è il quantile di ordine $1 - \\alpha/2$ della distribuzione t con $n−1$ gradi di libertà. \n",
    "\n",
    "#### Passo 2: Determinazione dei Limiti dell'Intervallo di Confidenza\n",
    "- Calcoliamo i limiti inferiore $\\hat{a}$ e superiore $\\hat{b}$ dell'intervallo di confidenza così:\n",
    "  \n",
    "  $$\n",
    "  \\hat{a} = \\bar{X} - t^{\\ast} \\frac{s}{\\sqrt{n}},\n",
    "  \\quad \\hat{b} = \\bar{X} + t^{\\ast} \\frac{s}{\\sqrt{n}}.\n",
    "  $$\n",
    "\n",
    "#### Conclusione \n",
    "\n",
    "In queste circostanze, si sostituisce la varianza sconosciuta $\\sigma^2$ con la sua stima $s$ e si utilizza la distribuzione t di Student invece della normale.\n",
    "\n",
    "Applicabilità e Limitazioni:\n",
    "- Il metodo presuppone che la popolazione segua una distribuzione normale e è valido anche per campioni di piccole dimensioni (ad esempio, $n < 30$) prelevati da tale popolazione.\n",
    "- Se la popolazione non è normalmente distribuita e la dimensione del campione è ridotta, questo metodo potrebbe non essere idoneo.\n",
    "- Tuttavia, per campioni di grandi dimensioni ($n \\geq 30$), questo approccio rimane valido per la stima dell'intervallo di confidenza grazie al teorema del limite centrale, che si applica anche a popolazioni con distribuzioni non normali."
   ]
  },
  {
   "attachments": {},
   "cell_type": "markdown",
   "metadata": {},
   "source": [
    "## Livello di Copertura\n",
    "\n",
    "Il concetto di \"livello di copertura\" è fondamentale per interpretare correttamente gli intervalli di fiducia. Questo livello indica la frequenza con cui l'intervallo di fiducia include il valore reale del parametro della popolazione, in una serie di esperimenti ripetuti. \n",
    "\n",
    "Esempio di Livello di Copertura:\n",
    "- Se il livello di copertura è del 95%, significa che, nel lungo periodo, il 95% degli intervalli di fiducia costruiti conterrà il valore vero del parametro. \n",
    "- Importante: Questo non implica che ci sia una probabilità del 95% che il valore vero del parametro cada in un particolare intervallo di fiducia. Infatti, il parametro della popolazione è un valore fisso e non soggetto a probabilità; piuttosto, l'incertezza risiede nell'intervallo di fiducia stesso.\n",
    "\n",
    "Come Funziona la Copertura:\n",
    "- Nel contesto frequentista, la \"probabilità\" si riferisce alla frequenza a lungo termine di un certo evento in un gran numero di ripetizioni dell'esperimento. \n",
    "- Nel caso degli intervalli di fiducia, l'\"esperimento\" è l'estrazione di un campione dalla popolazione, e l'\"evento\" è la generazione di un intervallo di fiducia che contiene il valore vero del parametro.\n",
    "- Il livello di copertura, generalmente indicato come $1-\\alpha$, rappresenta la probabilità a lungo termine che intervalli di fiducia costruiti con questa metodologia includano il vero valore del parametro.\n",
    "\n",
    "Simulazione Pratica:\n",
    "- Per illustrare questo concetto, eseguiamo una simulazione con la popolazione degli adulti maschi italiani, assunta come normalmente distribuita con media 175 cm e varianza 49 cm². \n",
    "- Eseguiamo 1000 ripetizioni di un esperimento, estraendo ogni volta un campione di 30 individui. \n",
    "- Per ciascun campione, calcoliamo l'intervallo di fiducia al 95% usando la formula:\n",
    "  \n",
    "  $$\n",
    "  \\bar{X} \\pm t \\frac{s}{\\sqrt{n}},\n",
    "  $$\n",
    "  \n",
    "  dove $\\bar{X}$ è la media campionaria, $s$ è la deviazione standard campionaria e $t$ è il valore critico della distribuzione t-Student per $n-1$ gradi di libertà al livello di significatività $\\alpha/2 = 0.025$.\n",
    "- Registriamo i limiti di ciascun intervallo e controlliamo quanti di essi includono effettivamente il vero valore medio della popolazione.\n",
    "\n",
    "Attraverso questa simulazione, possiamo visualizzare concretamente il concetto di livello di copertura e la sua importanza nella statistica frequentista.\n",
    "\n",
    "Iniziamo generando 1000 campioni casuali di dimensione $n=30$ da una distribuzione normale con media $175$ e deviazione standard $7$."
   ]
  },
  {
   "cell_type": "code",
   "execution_count": 6,
   "metadata": {},
   "outputs": [
    {
     "data": {
      "text/plain": [
       "(1000, 30)"
      ]
     },
     "execution_count": 6,
     "metadata": {},
     "output_type": "execute_result"
    }
   ],
   "source": [
    "mu = 175\n",
    "sigma = 7\n",
    "n = 30\n",
    "n_samples = 1000\n",
    "\n",
    "samples = np.stack([np.random.normal(loc=mu, scale=sigma, size=n) for i in range(n_samples)])\n",
    "samples.shape"
   ]
  },
  {
   "attachments": {},
   "cell_type": "markdown",
   "metadata": {},
   "source": [
    "Il primo campione di ampiezza $n$ = 30 che abbiamo ottenuto è il seguente."
   ]
  },
  {
   "cell_type": "code",
   "execution_count": 7,
   "metadata": {},
   "outputs": [
    {
     "name": "stdout",
     "output_type": "stream",
     "text": [
      "170.00293263413323 175.19638272793568 184.12392246387512 176.65221637854987 178.15789421406672 179.80018548314635 166.35118852814176 169.6702508213654 184.57539267587077 169.57368349415333 174.2805942980782 173.664258159258 183.11764884456898 175.39457080447852 168.4276272568962 174.71315315001002 177.7291733323958 170.43031864210658 186.8929527015246 168.2921988916936 172.81765898713584 175.25883728674714 179.63929989660173 174.38907524246 186.93548556442286 165.45808146200784 171.94757688200147 180.09101019998405 163.94880782136852 173.01403031293236\n"
     ]
    }
   ],
   "source": [
    "print(*samples[1, :])"
   ]
  },
  {
   "attachments": {},
   "cell_type": "markdown",
   "metadata": {},
   "source": [
    "Stampiamo qui di seguito le medie dei primi dieci campioni."
   ]
  },
  {
   "cell_type": "code",
   "execution_count": 8,
   "metadata": {},
   "outputs": [
    {
     "name": "stdout",
     "output_type": "stream",
     "text": [
      "176.67784603826757 175.01821363859702 174.29561661066802 173.82704561000824 176.52346918085803 175.3383350834592 176.94482525695628 174.75960574003983 173.7649330035815 172.39860332882756\n"
     ]
    }
   ],
   "source": [
    "xbar = samples.mean(axis=1)\n",
    "print(*xbar[0:10])"
   ]
  },
  {
   "attachments": {},
   "cell_type": "markdown",
   "metadata": {},
   "source": [
    "Troviamo ora il valore critico della distribuzione $t$ di Student con (30-1) gradi di libertà."
   ]
  },
  {
   "cell_type": "code",
   "execution_count": 9,
   "metadata": {},
   "outputs": [
    {
     "data": {
      "text/plain": [
       "2.045229642132703"
      ]
     },
     "execution_count": 9,
     "metadata": {},
     "output_type": "execute_result"
    }
   ],
   "source": [
    "alpha = 0.05\n",
    "t = st.t.ppf(1 - alpha/2, n-1)\n",
    "t"
   ]
  },
  {
   "attachments": {},
   "cell_type": "markdown",
   "metadata": {},
   "source": [
    "Utilizzando le informazioni precedenti, possiamo calcolare 1000 intervalli di confidenza per la media della popolazione."
   ]
  },
  {
   "cell_type": "code",
   "execution_count": 10,
   "metadata": {},
   "outputs": [],
   "source": [
    "interval_width = t * samples.std(axis=1, ddof=1) / np.sqrt(n)\n",
    "CI_low = samples.mean(axis=1) - interval_width\n",
    "CI_high = samples.mean(axis=1) + interval_width"
   ]
  },
  {
   "attachments": {},
   "cell_type": "markdown",
   "metadata": {},
   "source": [
    "Calcoliamo ora il livello di copertura, ovvero il numero di volte in cui l'intervallo di confidenza calcolato contiene il vero valore del parametro."
   ]
  },
  {
   "cell_type": "code",
   "execution_count": 11,
   "metadata": {},
   "outputs": [
    {
     "data": {
      "text/plain": [
       "0.943"
      ]
     },
     "execution_count": 11,
     "metadata": {},
     "output_type": "execute_result"
    }
   ],
   "source": [
    "coverage_p = np.sum(np.logical_and(CI_low < mu, mu < CI_high)) / samples.shape[0]\n",
    "coverage_p"
   ]
  },
  {
   "attachments": {},
   "cell_type": "markdown",
   "metadata": {},
   "source": [
    "In conclusione, ripetendo la simulazione per 1000 volte, abbiamo ottenuto una proporzione di intervalli di confidenza del 95% che contengono il parametro (ovvero il livello di copertura) molto vicino al valore nominale di $1 - \\alpha = 0.95$.\n",
    "\n",
    "\n",
    "### Il Concetto di Livello di Confidenza\n",
    "Gli intervalli di confidenza sono range di valori che, con una certa sicurezza statistica, si ritiene includano il parametro di interesse. Tuttavia, è cruciale distinguere tra \"livello di confidenza\" e \"probabilità che il parametro sia all'interno dell'intervallo\". \n",
    "- Il livello di confidenza (es. 95%) indica la frequenza con cui, se ripetessimo l'esperimento molte volte, gli intervalli calcolati includerebbero il vero valore del parametro.\n",
    "- Non è corretto interpretarlo come la probabilità che in un dato intervallo di confidenza si trovi il parametro.\n",
    "\n",
    "### L'Interpretazione Frequentista\n",
    "Secondo l'approccio frequentista, l'intervallo di confidenza si deve considerare come una metodologia:\n",
    "- Se ripetiamo l'esperimento (estrarre un campione e calcolare l'intervallo di confidenza) molte volte, il metodo produce un intervallo che coprirà il valore vero del parametro nel 95% dei casi, assumendo un livello di confidenza del 95%.\n",
    "- Non è corretto affermare che un specifico intervallo di confidenza contenga con certezza il valore vero del parametro.\n",
    "\n",
    "### L'Errore Comune nell'Interpretazione\n",
    "È un errore comune, anche tra i ricercatori, interpretare l'intervallo di confidenza come la probabilità che il parametro (es. la media della popolazione $\\mu$) si trovi all'interno di un intervallo specifico (es. $[\\hat{a}, \\hat{b}]$).\n",
    "\n",
    "La formulazione corretta è:\n",
    "- \"La metodologia usata per calcolare l'intervallo $[\\hat{a}, \\hat{b}]$ ha il 95% di probabilità di generare un intervallo che include il vero valore del parametro\".\n",
    "- Questo significa che l'intervallo di confidenza non dà una probabilità sulla posizione esatta del parametro, ma indica la probabilità che la procedura usata per calcolarlo produca un intervallo che lo include.\n",
    "\n",
    "In sintesi, l'intervallo di confidenza ci offre una sicurezza statistica sulla procedura utilizzata per calcolarlo, piuttosto che una probabilità sulla posizione del parametro stesso.\n",
    "\n",
    "### Fraintendimenti Comuni sugli Intervalli di Confidenza\n",
    "\n",
    "Nel loro lavoro, {cite}`hoekstra2014robust` evidenziano come, nonostante l'ampio riconoscimento dei limiti dei test di ipotesi nulle, gli intervalli di confidenza siano spesso consigliati per l'inferenza statistica. Anche l'American Psychological Association (APA) suggerisce che gli intervalli di confidenza siano \"in generale, la migliore strategia di reportistica\". Tuttavia, {cite}`hoekstra2014robust` sottolineano che queste raccomandazioni non considerano la difficoltà nel fornire una corretta interpretazione degli intervalli di confidenza.\n",
    "\n",
    "Per indagare l'interpretazione degli intervalli di confidenza, Hoekstra et al. hanno condotto uno studio con due domande principali:\n",
    "\n",
    "1. Quanto frequentemente intervalli di confidenza sono mal interpretati da studenti e ricercatori?\n",
    "2. L'esperienza nella ricerca riduce le interpretazioni errate degli intervalli di confidenza?\n",
    "\n",
    "Prima di presentare lo studio, {cite}`hoekstra2014robust` ricordano qual è l'interpretazione corretta degli intervalli di confidenza. \n",
    "\n",
    "> A CI is a numerical interval constructed around the estimate of a parameter. Such an interval does not, however, directly indicate a property of the parameter; instead, it indicates a property of the procedure, as is typical for a frequentist technique. Specifically, we may find that a particular procedure, when used repeatedly across a series of hypothetical data sets (i.e., the sample space), yields intervals that contain the true parameter value in 95% of the cases. When such a procedure is applied to a particular data set, the resulting interval is said to be a 95% CI. The key point is that the CIs do not provide for a statement about the parameter as it relates to the particular sample at hand; instead, they provide for a statement about the performance of the procedure of drawing such intervals in repeated use. Hence, it is incorrect to interpret a CI as the probability that the true value is within the interval (e.g., Berger & Wolpert, 1988). As is the case with $p$-values, CIs do not allow one to make probability statements about parameters or hypotheses.\n",
    "\n",
    "Nel loro studio, {cite:t}`hoekstra2014robust` hanno presentato un questionario a 596 partecipanti, tra cui studenti universitari e ricercatori, con le seguenti affermazioni riguardanti l'interpretazione degli intervalli di confidenza.\n",
    "\n",
    "> Professor Bumbledorf conducts an experiment, analyzes the data, and reports: \"The 95% confidence interval for the mean ranges from 0.1 to 0.4.\" Please mark each of the statements below as 'true' or 'false'.\n",
    "\n",
    "> 1.  The probability that the true mean is greater than 0 is at least 95%.\n",
    "> 2.  The probability that the true mean equals 0 is smaller than 5%.\n",
    "> 3.  The \"null hypothesis\" that the true mean equals 0 is likely to be incorrect.\n",
    "> 4.  There is a 95% probability that the true mean lies between 0.1 and 0.4.\n",
    "> 5.  We can be 95% confident that the true mean lies between 0.1 and 0.4.\n",
    "> 6.  If we were to repeat the experiment over and over, then 95% of the time the true mean falls between 0.1 and 0.4.\n",
    "\n",
    "Sorprendentemente, tutte le sei affermazioni nel questionario erano tecnicamente errate, ma molti partecipanti hanno concordato con esse. I risultati mostrano che, in media, i partecipanti hanno concordato con circa 3.5 affermazioni errate su 6. Non è stata rilevata una differenza di rilievo nell'interpretazione degli intervalli di confidenza tra studenti e ricercatori, suggerendo che l'esperienza nella ricerca non migliora necessariamente la comprensione di questo concetto.\n",
    "\n",
    "Questi risultati suggeriscono che le interpretazioni errate degli intervalli di confidenza sono ampiamente diffuse, e che l'esperienza nella ricerca non garantisce una comprensione migliore. Ciò solleva dubbi sull'efficacia degli intervalli di confidenza frequentisti e porta alcuni a favorire gli \"intervalli di credibilità\" Bayesiani, che tendono ad essere più intuitivi e più facilmente interpretati correttamente.\n",
    "\n",
    "## Confronto tra Intervalli Frequentisti e Bayesiani\n",
    "\n",
    "Concludiamo questo capitolo esaminando le differenze tra l'intervallo di confidenza frequentista e l'intervallo di credibilità bayesiano, utilizzando lo stesso set di dati per entrambi i calcoli.\n",
    "\n",
    "Immaginiamo di avere un gruppo di 20 osservazioni relative alla performance in un test cognitivo. Il nostro obiettivo è stimare la media della popolazione da cui sono state tratte queste osservazioni. Per farlo, simuliamo 20 valori casuali da una popolazione che segue una distribuzione normale con media 50 e deviazione standard 10, rappresentata da $\\mathcal{N}(50, 10)$."
   ]
  },
  {
   "cell_type": "code",
   "execution_count": 12,
   "metadata": {},
   "outputs": [
    {
     "name": "stdout",
     "output_type": "stream",
     "text": [
      "[56.0305258  52.52339693 54.9910904  53.18065876 45.79192842 47.30106826\n",
      " 59.62641622 45.11480575 51.98267322 60.69982913 59.45678874 49.59149892\n",
      " 71.72270416 43.43053671 43.64227441 41.33133116 34.15425944 42.39884093\n",
      " 34.30821691 69.38668476 47.39328071 44.22790308 54.58045019 40.63885391\n",
      " 42.31778281 46.37670712 48.03300309 52.93306762 69.47558468 58.76316973]\n"
     ]
    }
   ],
   "source": [
    "sample_size = 20\n",
    "mu = 50\n",
    "sigma = 10\n",
    "sample_data = np.random.normal(loc=mu, scale=sigma, size=n)\n",
    "print(sample_data)"
   ]
  },
  {
   "cell_type": "code",
   "execution_count": 13,
   "metadata": {},
   "outputs": [
    {
     "data": {
      "image/png": "[encoded data removed]",
      "text/plain": [
       "<Figure size 720x480 with 1 Axes>"
      ]
     },
     "metadata": {
      "image/png": {
       "height": 491,
       "width": 731
      }
     },
     "output_type": "display_data"
    }
   ],
   "source": [
    "plt.hist(sample_data, density=True, alpha=0.5)\n",
    "plt.show()"
   ]
  },
  {
   "attachments": {},
   "cell_type": "markdown",
   "metadata": {},
   "source": [
    "### Intervallo di Confidenza Frequentista\n",
    "\n",
    "Quando ci si avvicina al problema di stimare la media della popolazione, $\\mu$, attraverso un approccio frequentista, uno dei metodi più comuni è la stima puntuale. Questo metodo consiste nell'utilizzare un unico valore, solitamente la media del campione, per rappresentare il parametro della popolazione che non conosciamo.\n",
    "\n",
    "La media campionaria, indicata come $\\hat{\\mu}$, è una scelta frequente per la stima puntuale della media della popolazione, $\\mu$. Si calcola sommando tutti i valori osservati nel campione, ovvero $X_1, X_2, ..., X_n$, e dividendo questa somma per il numero totale di osservazioni nel campione, $n$:\n",
    "\n",
    "$$\n",
    "\\hat{\\mu} = \\frac{1}{n} \\sum_{i=1}^n X_i.\n",
    "$$\n",
    "\n",
    "Applicando questa formula ai dati del nostro esempio, otteniamo"
   ]
  },
  {
   "cell_type": "code",
   "execution_count": 14,
   "metadata": {},
   "outputs": [
    {
     "data": {
      "text/plain": [
       "50.71351106578959"
      ]
     },
     "execution_count": 14,
     "metadata": {},
     "output_type": "execute_result"
    }
   ],
   "source": [
    "sample_mean = np.mean(sample_data)\n",
    "sample_mean"
   ]
  },
  {
   "attachments": {},
   "cell_type": "markdown",
   "metadata": {},
   "source": [
    "Mentre le stime puntuali offrono un valore specifico per rappresentare il parametro della popolazione, non riescono da sole a descrivere completamente l'incertezza associata a questa stima. Per affrontare questa lacuna, l'approccio frequentista si avvale degli intervalli di confidenza. Un intervallo di confidenza fornisce una gamma di valori all'interno dei quali si presume che il vero parametro della popolazione cada, basandosi sui dati osservati. Questo intervallo viene definito aggiungendo e sottraendo un margine di errore alla stima puntuale:\n",
    "\n",
    "$$\\hat{\\mu} \\pm m = [\\hat{\\mu} - m, \\hat{\\mu} + m].$$\n",
    "\n",
    "Il margine di errore, che riflette la variabilità dei dati del campione, dipende sia dal livello di confidenza scelto, indicato come $1-\\alpha$, sia dalla dimensione del campione, $n$. Ad esempio, un intervallo di confidenza del 95% significa che ci si aspetta che l'intervallo includa il vero parametro della popolazione nel 95% delle applicazioni di questa procedura.\n",
    "\n",
    "Il margine di errore si calcola normalmente attraverso l'errore standard (SE) della stima puntuale, e viene definito da:\n",
    "\n",
    "$$m = t_{1-\\frac{\\alpha}{2}, n-1} \\times SE,$$\n",
    "\n",
    "dove $t_{1-\\frac{\\alpha}{2}, n-1}$ rappresenta il valore critico dalla distribuzione t per il livello di confidenza desiderato e $n-1$ gradi di libertà.\n",
    "\n",
    "L'errore standard della media campionaria si ottiene dividendo la deviazione standard del campione, $\\sigma$, per la radice quadrata della dimensione del campione:\n",
    "\n",
    "$$SE = \\frac{\\sigma}{\\sqrt{n}}.$$\n",
    "\n",
    "Applicando questa formula ai dati del nostro esempio, la deviazione standard del campione risulta"
   ]
  },
  {
   "cell_type": "code",
   "execution_count": 15,
   "metadata": {},
   "outputs": [
    {
     "data": {
      "text/plain": [
       "9.582675457680686"
      ]
     },
     "execution_count": 15,
     "metadata": {},
     "output_type": "execute_result"
    }
   ],
   "source": [
    "sample_stddev = np.std(sample_data, ddof=1)\n",
    "sample_stddev"
   ]
  },
  {
   "attachments": {},
   "cell_type": "markdown",
   "metadata": {},
   "source": [
    "L'errore standard della media è"
   ]
  },
  {
   "cell_type": "code",
   "execution_count": 16,
   "metadata": {},
   "outputs": [
    {
     "name": "stdout",
     "output_type": "stream",
     "text": [
      "2.1427513729692924\n"
     ]
    }
   ],
   "source": [
    "standard_error = sample_stddev / np.sqrt(sample_size)\n",
    "print(standard_error)"
   ]
  },
  {
   "attachments": {},
   "cell_type": "markdown",
   "metadata": {},
   "source": [
    "L'errore standard della media rappresenta una stima della deviazione standard della distribuzione delle medie campionarie per campioni di dimensione $n$ (in questo caso, $n$ = 20).\n",
    "\n",
    "Supponiamo di voler avere un livello di confidenza del 95%. Per trovare il valore critico della distribuzione $t$ di Student, dobbiamo trovare il valore della statistica $T$ che lascia il 2.5% dell'area sotto la coda a sinistra e il 2.5% dell'area sotto la coda a destra della distribuzione $t$ di Student con 19 gradi di libertà."
   ]
  },
  {
   "cell_type": "code",
   "execution_count": 17,
   "metadata": {},
   "outputs": [
    {
     "name": "stdout",
     "output_type": "stream",
     "text": [
      "2.093024054408263\n"
     ]
    }
   ],
   "source": [
    "degrees_of_freedom = sample_size - 1\n",
    "t_val = st.t.ppf(0.975, degrees_of_freedom)\n",
    "print(t_val)"
   ]
  },
  {
   "attachments": {},
   "cell_type": "markdown",
   "metadata": {},
   "source": [
    "Il margine d'errore è uguale a \n",
    "\n",
    "$$t \\cdot SE$$\n",
    "\n",
    "ovvero"
   ]
  },
  {
   "cell_type": "code",
   "execution_count": 18,
   "metadata": {},
   "outputs": [
    {
     "name": "stdout",
     "output_type": "stream",
     "text": [
      "4.484830166241061\n"
     ]
    }
   ],
   "source": [
    "margin_of_error = t_val * standard_error\n",
    "print(margin_of_error)"
   ]
  },
  {
   "attachments": {},
   "cell_type": "markdown",
   "metadata": {},
   "source": [
    "L'intervallo di confidenza frequentista è uguale a \n",
    "\n",
    "$$\\text{stima del parametro} \\pm \\text{margine d'errore}$$\n",
    "\n",
    "ovvero\n",
    "\n",
    "$$\\bar{x} \\pm t_{\\text{critico}} \\frac{s}{\\sqrt{n}}.$$\n",
    "\n",
    "Per i dati dell'esempio otteniamo"
   ]
  },
  {
   "cell_type": "code",
   "execution_count": 19,
   "metadata": {},
   "outputs": [
    {
     "name": "stdout",
     "output_type": "stream",
     "text": [
      "[46.22868089954853, 55.19834123203065]\n"
     ]
    }
   ],
   "source": [
    "confidence_interval_lower = sample_mean - margin_of_error\n",
    "confidence_interval_upper = sample_mean + margin_of_error\n",
    "confidence_interval = [confidence_interval_lower, confidence_interval_upper]\n",
    "print(confidence_interval)"
   ]
  },
  {
   "attachments": {},
   "cell_type": "markdown",
   "metadata": {},
   "source": [
    "Interpretiamo questo risultato dicendo che la procedura utilizzata per calcolare l'intervallo $[42.99, 53.23]$ include $\\mu$ nel 95% dei casi.\n",
    "\n",
    "La figura successiva mostra la distribuzione dei dati, la stima di $\\mu$ (ovvero, la media del campione) e l'intervalli di confidenza al 95%."
   ]
  },
  {
   "cell_type": "code",
   "execution_count": 20,
   "metadata": {},
   "outputs": [],
   "source": [
    "def visualize_output(sample_data, sample_mean, interval, type_interval):\n",
    "    plt.hist(sample_data, density=True, alpha=0.5)\n",
    "    plt.axvline(x=sample_mean, color='r', linestyle='dashed', linewidth=2)\n",
    "    plt.axvline(x=interval[0], color='g', linewidth=2)\n",
    "    plt.axvline(x=interval[1], color='g', linewidth=2)\n",
    "    plt.legend(['Sample Mean', f'{type_interval} interval'])"
   ]
  },
  {
   "cell_type": "code",
   "execution_count": 21,
   "metadata": {},
   "outputs": [
    {
     "data": {
      "image/png": "[encoded data removed]",
      "text/plain": [
       "<Figure size 720x480 with 1 Axes>"
      ]
     },
     "metadata": {
      "image/png": {
       "height": 491,
       "width": 731
      }
     },
     "output_type": "display_data"
    }
   ],
   "source": [
    "visualize_output(sample_data, sample_mean, confidence_interval, 'confidence')"
   ]
  },
  {
   "attachments": {},
   "cell_type": "markdown",
   "metadata": {},
   "source": [
    "\n",
    "### Intervallo di Credibilità Bayesiano\n",
    "\n",
    "Per determinare l'intervallo di credibilità bayesiano, impieghiamo un modello statistico basato sulla distribuzione Normale, integrando distribuzioni a priori che forniscono informazioni iniziali limitate sui parametri. Questa strategia ci consente di inserire delle conoscenze preliminari, pur essendo vaghe, nell'analisi statistica.\n",
    "\n",
    "Dettagli sulle scelte delle distribuzioni a priori:\n",
    "- Per il parametro $\\mu$, impostiamo una distribuzione a priori centrata intorno allo zero, con una deviazione standard piuttosto ampia. Come alternativa, si potrebbe considerare di centrare la distribuzione a priori sulla media campionaria.\n",
    "- Per il parametro $\\sigma$, adottiamo una distribuzione Normale troncata, posizionata anch'essa intorno allo zero, ma con una deviazione standard notevolmente grande.\n",
    "\n",
    "La scelta di centrare le distribuzioni a priori sullo zero è volta a evitare l'introduzione di bias nell'analisi, tendendo verso una stima conservativa, ossia una stima del parametro incline allo zero. La decisione di usare deviazioni standard molto ampie riflette la debolezza delle informazioni preliminari che abbiamo incorporato nel modello.\n",
    "\n",
    "Ciò detto, abbiamo introdotto alcune conoscenze iniziali nell'analisi: in particolare, l'assunzione che valori eccessivamente elevati, sia positivi che negativi, per la media del campione siano improbabili. Questa considerazione riflette una cautela nell'estimare il parametro, evitando di considerare valori estremi come plausibili."
   ]
  },
  {
   "cell_type": "code",
   "execution_count": 29,
   "metadata": {},
   "outputs": [],
   "source": [
    "model = pm.Model()\n",
    "\n",
    "with model:\n",
    "    mu = pm.Normal(\"mu\", mu=0, sigma=200)\n",
    "    sigma = pm.HalfNormal(\"sigma\", 100)\n",
    "    Y_obs = pm.Normal(\"Y_obs\", mu=mu, sigma=sigma, observed=sample_data)"
   ]
  },
  {
   "cell_type": "code",
   "execution_count": 30,
   "metadata": {
    "tags": [
     "hide-output"
    ]
   },
   "outputs": [
    {
     "name": "stderr",
     "output_type": "stream",
     "text": [
      "Compiling...\n",
      "Compilation time = 0:00:00.509863\n",
      "Sampling...\n",
      "Compiling.. :   0%|          | 0/2000 [00:00<?, ?it/s]\n",
      "\u001b[A\n",
      "\u001b[A\n",
      "\n",
      "\u001b[A\u001b[A\n",
      "\n",
      "Running chain 0:   0%|          | 0/2000 [00:01<?, ?it/s]\n",
      "\n",
      "\u001b[A\u001b[A\n",
      "Running chain 0: 100%|██████████| 2000/2000 [00:01<00:00, 1583.31it/s]\n",
      "Running chain 1: 100%|██████████| 2000/2000 [00:01<00:00, 1584.52it/s]\n",
      "Running chain 2: 100%|██████████| 2000/2000 [00:01<00:00, 1586.05it/s]\n",
      "Running chain 3: 100%|██████████| 2000/2000 [00:01<00:00, 1587.51it/s]\n",
      "Sampling time = 0:00:01.338130\n",
      "Transforming variables...\n",
      "Transformation time = 0:00:00.038945\n"
     ]
    }
   ],
   "source": [
    "with model:\n",
    "    idata = pm.sampling_jax.sample_numpyro_nuts()"
   ]
  },
  {
   "cell_type": "code",
   "execution_count": 28,
   "metadata": {},
   "outputs": [
    {
     "data": {
      "text/html": [
       "<div>\n",
       "<style scoped>\n",
       "    .dataframe tbody tr th:only-of-type {\n",
       "        vertical-align: middle;\n",
       "    }\n",
       "\n",
       "    .dataframe tbody tr th {\n",
       "        vertical-align: top;\n",
       "    }\n",
       "\n",
       "    .dataframe thead th {\n",
       "        text-align: right;\n",
       "    }\n",
       "</style>\n",
       "<table border=\"1\" class=\"dataframe\">\n",
       "  <thead>\n",
       "    <tr style=\"text-align: right;\">\n",
       "      <th></th>\n",
       "      <th>mean</th>\n",
       "      <th>sd</th>\n",
       "      <th>hdi_2.5%</th>\n",
       "      <th>hdi_97.5%</th>\n",
       "      <th>mcse_mean</th>\n",
       "      <th>mcse_sd</th>\n",
       "      <th>ess_bulk</th>\n",
       "      <th>ess_tail</th>\n",
       "      <th>r_hat</th>\n",
       "    </tr>\n",
       "  </thead>\n",
       "  <tbody>\n",
       "    <tr>\n",
       "      <th>mu</th>\n",
       "      <td>50.74</td>\n",
       "      <td>1.84</td>\n",
       "      <td>47.14</td>\n",
       "      <td>54.34</td>\n",
       "      <td>0.03</td>\n",
       "      <td>0.02</td>\n",
       "      <td>2791.29</td>\n",
       "      <td>2293.19</td>\n",
       "      <td>1.0</td>\n",
       "    </tr>\n",
       "    <tr>\n",
       "      <th>sigma</th>\n",
       "      <td>10.01</td>\n",
       "      <td>1.41</td>\n",
       "      <td>7.50</td>\n",
       "      <td>12.89</td>\n",
       "      <td>0.03</td>\n",
       "      <td>0.02</td>\n",
       "      <td>2984.66</td>\n",
       "      <td>2284.83</td>\n",
       "      <td>1.0</td>\n",
       "    </tr>\n",
       "  </tbody>\n",
       "</table>\n",
       "</div>"
      ],
      "text/plain": [
       "        mean    sd  hdi_2.5%  hdi_97.5%  mcse_mean  mcse_sd  ess_bulk  \\\n",
       "mu     50.74  1.84     47.14      54.34       0.03     0.02   2791.29   \n",
       "sigma  10.01  1.41      7.50      12.89       0.03     0.02   2984.66   \n",
       "\n",
       "       ess_tail  r_hat  \n",
       "mu      2293.19    1.0  \n",
       "sigma   2284.83    1.0  "
      ]
     },
     "execution_count": 28,
     "metadata": {},
     "output_type": "execute_result"
    }
   ],
   "source": [
    "az.summary(idata, hdi_prob=0.95, round_to=2)"
   ]
  },
  {
   "attachments": {},
   "cell_type": "markdown",
   "metadata": {},
   "source": [
    "Si noti che, dati i dati specifici e la formulazione del modello bayesiano in uso, l'intervallo di credibilità ottenuto si mostra molto simile all'intervallo di confidenza calcolato secondo l'approccio frequentista. Tuttavia, l'interpretazione di questi due intervalli differisce significativamente.\n",
    "\n",
    "Nel caso dell'intervallo di credibilità bayesiano, possiamo affermare che, in base al nostro grado di credenza soggettiva del 95%, la media della popolazione si trova all'interno dell'intervallo specificato. Questo è un'affermazione diretta sulla probabilità che la media della popolazione rientri in un determinato intervallo, basata sulle informazioni priori e sui dati osservati.\n",
    "\n",
    "In contrasto, l'intervallo di confidenza frequentista non permette un'interpretazione diretta riguardo alla probabilità della media della popolazione di cadere in un dato intervallo. Invece, l'interpretazione frequentista indica che, se ripetessimo il processo di campionamento molte volte, il 95% degli intervalli di confidenza calcolati conterrebbe la vera media della popolazione.\n",
    "\n",
    "Quindi, mentre l'intervallo di credibilità bayesiano fornisce una misura diretta della credenza nella posizione della media della popolazione, l'intervallo di confidenza frequentista fornisce una misura di affidabilità del processo di stima nel lungo termine."
   ]
  },
  {
   "attachments": {},
   "cell_type": "markdown",
   "metadata": {},
   "source": [
    "## Riflessioni Conclusive\n",
    "\n",
    "Come sottolineato da {cite:t}`hoekstra2014robust`, è comune riscontrare fraintendimenti riguardo agli intervalli di fiducia. Il \"livello di confidenza del 95%\" è da interpretarsi come la probabilità a lungo termine che, in una serie di intervalli di fiducia calcolati, il 95% di essi includa il vero valore del parametro sconosciuto. Tuttavia, per un singolo intervallo di fiducia, non è possibile dichiarare con sicurezza che questo contenga effettivamente il parametro di interesse. In altre parole, la certezza sulla presenza del parametro sconosciuto all'interno di un dato intervallo di fiducia non è garantita per ogni singolo caso analizzato.\n",
    "\n",
    "È inoltre inesatto presumere che esista un legame diretto tra la varianza e la media di un campione, ipotizzando che un intervallo di fiducia più ristretto implichi maggiore precisione. Nella prospettiva frequentista, la \"precisione\" è strettamente legata al livello di copertura a lungo termine assicurato dal metodo usato per creare gli intervalli di fiducia. Questo concetto non si applica al singolo intervallo di fiducia osservato. Dunque, un intervallo di fiducia che si presenta estremamente ristretto potrebbe in realtà essere significativamente lontano dal valore vero del parametro non noto.\n",
    "\n",
    "## Watermark"
   ]
  },
  {
   "cell_type": "code",
   "execution_count": 25,
   "metadata": {},
   "outputs": [
    {
     "name": "stdout",
     "output_type": "stream",
     "text": [
      "Last updated: Wed Dec 13 2023\n",
      "\n",
      "Python implementation: CPython\n",
      "Python version       : 3.11.6\n",
      "IPython version      : 8.18.1\n",
      "\n",
      "arviz     : 0.16.1\n",
      "matplotlib: 3.8.2\n",
      "scipy     : 1.11.4\n",
      "pandas    : 2.1.4\n",
      "pymc      : 5.10.1\n",
      "numpy     : 1.26.2\n",
      "\n",
      "Watermark: 2.4.3\n",
      "\n"
     ]
    }
   ],
   "source": [
    "%load_ext watermark\n",
    "%watermark -n -u -v -iv -w "
   ]
  }
 ],
 "metadata": {
  "kernelspec": {
   "display_name": "bambi_env",
   "language": "python",
   "name": "python3"
  },
  "language_info": {
   "codemirror_mode": {
    "name": "ipython",
    "version": 3
   },
   "file_extension": ".py",
   "mimetype": "text/x-python",
   "name": "python",
   "nbconvert_exporter": "python",
   "pygments_lexer": "ipython3",
   "version": "3.11.6"
  },
  "orig_nbformat": 4,
  "vscode": {
   "interpreter": {
    "hash": "e957f8d2d9272acec629608affb587206e5d92bb0d8d335f71da72c549770d8b"
   }
  }
 },
 "nbformat": 4,
 "nbformat_minor": 2
}
