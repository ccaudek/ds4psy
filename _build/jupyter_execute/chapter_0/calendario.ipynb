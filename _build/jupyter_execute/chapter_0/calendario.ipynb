{
 "cells": [
  {
   "cell_type": "markdown",
   "metadata": {},
   "source": [
    "# Calendario \n",
    "\n",
    "Viene qui fornito un calendario delle attività didattiche: l'elenco dei materiali da studiare ogni settimana e le scadenze dei report in itinere. Gli esercizi presenti nella dispensa vanno svolti **prima** di ciascuna lezione. \n",
    "\n",
    "```{warning}\n",
    "Il presente calendario **non è definitivo** e potrà subire delle variazioni che saranno comunicate mediante l'aggiornamento di questa pagina web.\n",
    "```"
   ]
  },
  {
   "cell_type": "markdown",
   "metadata": {},
   "source": [
    "## Lezioni"
   ]
  },
  {
   "cell_type": "markdown",
   "metadata": {},
   "source": [
    "\n",
    "| # | Data | Argomenti |\n",
    "| - | ---- | --------- |\n",
    "| 1 | 2024-03-04 | Presentazione |\n",
    "| 2 | 2024-03-05 | Introduzione a Python (1) |\n",
    "| 3 | 2024-03-07 | Introduzione a Python (2) |\n",
    "| 4 | 2024-03-11 | Introduzione a Pandas, Matplotlib, Seaborn |\n",
    "| 5 | 2024-03-12 | Statistica descrittiva, misurazione, distribuzione di frequenze, misure di tendenza centrale e di dispersione, covarianza, correlazione |\n",
    "| 6 | 2024-03-14 | EDA |\n",
    "| 7 | 2024-03-18 | Introduzione alla teoria della probabilità, probabilità condizionale |\n",
    "| 8 | 2024-03-19 | Teorema di Bayes |\n",
    "| 9 | 2024-03-21 | Variabili casuali discrete, probabilità congiunta |\n",
    "| 10 | 2024-03-25 | Distribuzioni di massa di probabilità |\n",
    "| 11 | 2024-03-26 | Funzione di densità, distribuzioni di densità di probabilità |\n",
    "| 12 | 2024-04-04 | Verosimiglianza |\n",
    "| 13 | 2024-04-08 | Prova in itinere (1) |\n",
    "| 14 | 2024-04-09 | Introduzione all'inferenza bayesiana, pensare ad una proporzione in termini soggettivi |\n",
    "| 15 | 2024-04-11 | Famiglie coniugate, influenza della distribuzione a priori |\n",
    "| 16 | 2024-04-15 | Algoritmo di Metropolis |\n",
    "| 17 | 2024-04-16 | Caso beta-binomiale con PyMC |\n",
    "| 18 | 2024-04-18 | Sommario della distribuzione a posteriori |\n",
    "| 19 | 2024-04-22 | Predizione bayesiana |\n",
    "| 20 | 2024-04-23 | Diagnostica MCMC |\n",
    "| 21 | 2024-04-25 | Odds-ratio, modello di Poisson |\n",
    "| 22 | 2024-04-29 | Modello normale-normale, inferenza su due medie indipendenti, modello gerarchico |\n",
    "| 23 | 2024-04-30 | Entropia, divergenza di Kullback-Leibler |\n",
    "| 24 | 2024-05-02 | Regressione lineare (1) |\n",
    "| 25 | 2024-05-06 | Regressione lineare (2) |\n",
    "| 26 | 2024-05-07 | Modello gerarchico, regressione logistica, inferenza causale |\n",
    "| 27 | 2024-05-09 | Introduzione all'inferenza frequentista, intervalli di fiducia |\n",
    "| 28 | 2024-05-13 | Test di ipotesi statistiche, test su una media, test su due medie indipendenti |\n",
    "| 29 | 2024-05-14 | Limiti dell'inferenza frequentista, errori di tipo M e di tipo S |\n",
    "| 30 | 2024-05-16 | Prova in itinere (2) |\n",
    "| 31 | 2024-05-20 | Presentazione dei progetti di gruppo |"
   ]
  }
 ],
 "metadata": {
  "kernelspec": {
   "display_name": "pymc",
   "language": "python",
   "name": "python3"
  },
  "language_info": {
   "codemirror_mode": {
    "name": "ipython",
    "version": 3
   },
   "file_extension": ".py",
   "mimetype": "text/x-python",
   "name": "python",
   "nbconvert_exporter": "python",
   "pygments_lexer": "ipython3",
   "version": "3.11.4"
  },
  "vscode": {
   "interpreter": {
    "hash": "030ae53b1150d0ca6a72bb4a7a0454cbd9dab0eb2818ba119bbca0111e46e432"
   }
  }
 },
 "nbformat": 4,
 "nbformat_minor": 2
}