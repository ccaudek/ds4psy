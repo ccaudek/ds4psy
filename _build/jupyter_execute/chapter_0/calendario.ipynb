{
 "cells": [
  {
   "cell_type": "markdown",
   "metadata": {},
   "source": [
    "# Calendario \n",
    "\n",
    "Viene qui fornito un calendario preliminare delle attività didattiche, che comprende le scadenze per i report intermedi e le prove in itinere destinate agli studenti frequentanti. È importante notare che, seguendo l'approccio della \"flipped classroom\", è necessario studiare i materiali didattici relativi agli argomenti trattati e completare gli esercizi corrispondenti presenti nella dispensa **prima** di ogni lezione.\n",
    "\n",
    "```{warning}\n",
    "La sequenza degli argomenti fornita nel presente calendario è soggetta a modifiche, e qualsiasi variazione sarà comunicata attraverso l'aggiornamento di questa pagina web. Vi invito quindi a consultare periodicamente questa fonte per eventuali aggiornamenti.\n",
    "```"
   ]
  },
  {
   "cell_type": "markdown",
   "metadata": {},
   "source": [
    "## Lezioni"
   ]
  },
  {
   "cell_type": "markdown",
   "metadata": {},
   "source": [
    "| # | Argomenti | Testi |\n",
    "| - | --------- | --- |\n",
    "| 1 | Presentazione, ambiente di lavoro | BG2P3P 1, 2 |\n",
    "| 2 | Introduzione a Python | BG2P3P 4, 5, 6, 7, 8|\n",
    "| 3 | Introduzione a Numpy, Pandas, Matplotlib, Seaborn; la Shell | BG2P3P 27 |\n",
    "| 4 | Statistica descrittiva, misurazione, distribuzione di frequenze, misure di tendenza centrale e di dispersione | DA4SS 1, 2, 3 |\n",
    "| 5 | Correlazione e causalità | DA4SS 1, 2, 3 |\n",
    "| 6 | La crisi della replicabilità dei risultati della ricerca psicologica; EDA | A |\n",
    "| 7 | Introduzione alla teoria della probabilità, probabilità condizionale | I2P 1, 2; PBM 1, 2|\n",
    "| 8 | Teorema di Bayes | I2P 2; PBM 3 |\n",
    "| 9 |  Variabili casuali discrete, probabilità congiunta | I2P 3, 4, 7; PBM 4 |\n",
    "| 10 | Distribuzioni di massa di probabilità | I2P 3; PBM 4|\n",
    "| 11 | Funzione di densità, distribuzioni di densità di probabilità | I2P 5; PBM 5 |\n",
    "| 12 | Verosimiglianza | PBM 7 |\n",
    "| 13 | Introduzione all'inferenza bayesiana, pensare ad una proporzione in termini soggettivi | BR 1, 2; PBM 7; BMCP 1; SR 1 |\n",
    "| 14 | Famiglie coniugate, influenza della distribuzione a priori | BR 3, 4, 5; PBM 7|\n",
    "| 15 | Algoritmo di Metropolis | BR 6, 7; PBM 9 |\n",
    "| 16 | Caso beta-binomiale con PyMC | BR 7 |\n",
    "| 17 | Sommario della distribuzione a posteriori | BR 8 |\n",
    "| 18 | Predizione bayesiana | BR 8 |\n",
    "| 19 | Diagnostica MCMC | BMCP 2 |\n",
    "| 20 | Prova in itinere (1) | |\n",
    "| 21 | Odds-ratio, modello di Poisson | BMCP 3 |\n",
    "| 22 | Modello normale-normale, inferenza su due medie indipendenti, modello gerarchico | BMCP 3|\n",
    "| 23 | Entropia, divergenza di Kullback-Leibler | BMCP 2 |\n",
    "| 24 | Regressione lineare (1) | BR 9, 10; PBM 11 |\n",
    "| 25 | Regressione lineare (2) | BR 9, 10; PBM 12 |\n",
    "| 26 | Modello gerarchico, regressione logistica, inferenza causale | BR 15, 16, 17; PBM 12 |\n",
    "| 27 | Introduzione all'inferenza frequentista, intervalli di fiducia | DA4SS |\n",
    "| 28 | Test di ipotesi statistiche, test su una media, test su due medie indipendenti | DA4SS |\n",
    "| 29 | Limiti dell'inferenza frequentista, errori di tipo M e di tipo S | SR 1; A |\n",
    "| 30 | Prova in itinere (2) | |\n",
    "| 31 | Presentazione dei progetti di gruppo | |\n",
    "| 32 | Presentazione dei progetti di gruppo | |"
   ]
  },
  {
   "cell_type": "markdown",
   "metadata": {},
   "source": [
    "Legenda:\n",
    "\n",
    "- **BG2P3P**: John Hunt (2023). [A Beginners Guide to Python 3 Programming](https://link.springer.com/book/10.1007/978-3-031-35122-8#toc). Springer.\n",
    "- **I2P**: Joseph K. Blitzstein & Jessica Hwang (2014). [Introduction to Probability](https://www.routledge.com/Introduction-to-Probability-Second-Edition/Blitzstein-Hwang/p/book/9781138369917). CRC Press.\n",
    "- **DA4SS**: Elena Llaudet & Kosuke Imai (2023). [Data Analysis for Social Science](https://press.princeton.edu/books/hardcover/9780691199429/data-analysis-for-social-science). Princeton University Press.\n",
    "- **BR**: Alicia A. Johnson, Miles Q. Ott, & Mine Dogucu (2021). [Bayes Rules! An Introduction to Applied Bayesian Modeling](https://www.bayesrulesbook.com). CRC Press. -- Una conversione del codice R in PyMC è fornita nella seguente [educational resource](https://github.com/pymc-devs/pymc-resources) di `pymc-devs`.\n",
    "- **SR**: Richard McElreath (2020). [Statistical Rethinking: A Bayesian Course with Examples in R and Stan](https://xcelab.net/rm/statistical-rethinking/). CRC Press.\n",
    "- **PBM**: Jim Albert & Jingchen Hu (2020). [Probability and Bayesian Modeling](https://bayesball.github.io/BOOK/probability-a-measurement-of-uncertainty.html). CRC Press.\n",
    "- **BMCP**: Martin Osvaldo A, Kumar Ravin, & Lao Junpeng (2021). [Bayesian Modeling and Computation in Python](https://www.routledge.com/Bayesian-Modeling-and-Computation-in-Python/Martin-Kumar-Lao/p/book/9780367894368). CPC Press.\n",
    "- **A**: Articoli specificati nella dispensa.\n",
    "\n"
   ]
  }
 ],
 "metadata": {
  "kernelspec": {
   "display_name": "pymc",
   "language": "python",
   "name": "python3"
  },
  "language_info": {
   "codemirror_mode": {
    "name": "ipython",
    "version": 3
   },
   "file_extension": ".py",
   "mimetype": "text/x-python",
   "name": "python",
   "nbconvert_exporter": "python",
   "pygments_lexer": "ipython3",
   "version": "3.11.4"
  },
  "vscode": {
   "interpreter": {
    "hash": "030ae53b1150d0ca6a72bb4a7a0454cbd9dab0eb2818ba119bbca0111e46e432"
   }
  }
 },
 "nbformat": 4,
 "nbformat_minor": 2
}