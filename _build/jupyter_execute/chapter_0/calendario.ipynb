{
 "cells": [
  {
   "cell_type": "markdown",
   "metadata": {},
   "source": [
    "# Calendario \n",
    "\n",
    "Viene qui fornito un calendario preliminare delle attività didattiche, che comprende le scadenze per i report intermedi e le prove in itinere destinate agli studenti frequentanti. È importante notare che, seguendo l'approccio della \"flipped classroom\", è necessario studiare i materiali didattici relativi agli argomenti trattati e completare gli esercizi corrispondenti presenti nella dispensa **prima** di ogni lezione.\n",
    "\n",
    "```{warning}\n",
    "La sequenza degli argomenti fornita nel presente calendario è soggetta a modifiche, e qualsiasi variazione sarà comunicata attraverso l'aggiornamento di questa pagina web. Vi invito quindi a consultare periodicamente questa fonte per eventuali aggiornamenti.\n",
    "```"
   ]
  },
  {
   "cell_type": "markdown",
   "metadata": {},
   "source": [
    "## Lezioni"
   ]
  },
  {
   "cell_type": "markdown",
   "metadata": {},
   "source": [
    "| # | Argomenti |\n",
    "| - | --------- |\n",
    "| 1 | Presentazione, ambiente di lavoro |\n",
    "| 2 | Introduzione a Python (1) |\n",
    "| 3 | Introduzione a Python (2) |\n",
    "| 4 | Introduzione a Pandas, Matplotlib, Seaborn |\n",
    "| 5 | Statistica descrittiva, misurazione, distribuzione di frequenze, misure di tendenza centrale e di dispersione, covarianza, correlazione |\n",
    "| 6 | EDA |\n",
    "| 7 | Introduzione alla teoria della probabilità, probabilità condizionale |\n",
    "| 8 | Teorema di Bayes |\n",
    "| 9 |  Variabili casuali discrete, probabilità congiunta |\n",
    "| 10 | Distribuzioni di massa di probabilità |\n",
    "| 11 | Funzione di densità, distribuzioni di densità di probabilità |\n",
    "| 12 | Verosimiglianza |\n",
    "| 13 | Prova in itinere (1) |\n",
    "| 14 | Introduzione all'inferenza bayesiana, pensare ad una proporzione in termini soggettivi |\n",
    "| 15 | Famiglie coniugate, influenza della distribuzione a priori |\n",
    "| 16 | Algoritmo di Metropolis |\n",
    "| 17 | Caso beta-binomiale con PyMC |\n",
    "| 18 | Sommario della distribuzione a posteriori |\n",
    "| 19 | Predizione bayesiana |\n",
    "| 20 | Diagnostica MCMC |\n",
    "| 21 | Odds-ratio, modello di Poisson |\n",
    "| 22 | Modello normale-normale, inferenza su due medie indipendenti, modello gerarchico |\n",
    "| 23 | Entropia, divergenza di Kullback-Leibler |\n",
    "| 24 | Regressione lineare (1) |\n",
    "| 25 | Regressione lineare (2) |\n",
    "| 26 | Modello gerarchico, regressione logistica, inferenza causale |\n",
    "| 27 | Introduzione all'inferenza frequentista, intervalli di fiducia |\n",
    "| 28 | Test di ipotesi statistiche, test su una media, test su due medie indipendenti |\n",
    "| 29 | Limiti dell'inferenza frequentista, errori di tipo M e di tipo S |\n",
    "| 30 | Prova in itinere (2) |\n",
    "| 31 | Presentazione dei progetti di gruppo |\n",
    "| 32 | Presentazione dei progetti di gruppo |"
   ]
  }
 ],
 "metadata": {
  "kernelspec": {
   "display_name": "pymc",
   "language": "python",
   "name": "python3"
  },
  "language_info": {
   "codemirror_mode": {
    "name": "ipython",
    "version": 3
   },
   "file_extension": ".py",
   "mimetype": "text/x-python",
   "name": "python",
   "nbconvert_exporter": "python",
   "pygments_lexer": "ipython3",
   "version": "3.11.4"
  },
  "vscode": {
   "interpreter": {
    "hash": "030ae53b1150d0ca6a72bb4a7a0454cbd9dab0eb2818ba119bbca0111e46e432"
   }
  }
 },
 "nbformat": 4,
 "nbformat_minor": 2
}