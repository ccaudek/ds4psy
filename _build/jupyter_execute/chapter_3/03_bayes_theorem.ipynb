{
 "cells": [
  {
   "attachments": {},
   "cell_type": "markdown",
   "metadata": {},
   "source": [
    "<a target=\"_blank\" rel=\"noopener noreferrer\" href=\"https://colab.research.google.com/github/ccaudek/ds4psy_2023/blob/main/120_bayes_theorem.ipynb\">![Open In Colab](https://colab.research.google.com/assets/colab-badge.svg)</a>\n",
    "\n",
    "\n",
    "(bayes_theorem_notebook)=\n",
    "# Il teorema di Bayes"
   ]
  },
  {
   "cell_type": "markdown",
   "metadata": {},
   "source": [
    "```{admonition} Obiettivi di apprendimento\n",
    "Dopo aver completato questo capitolo, acquisirete le competenze per:\n",
    "\n",
    "- Capire in profondità il teorema di Bayes e la sua importanza.\n",
    "- Utilizzare il teorema di Bayes per analizzare e interpretare i test diagnostici, tenendo in considerazione la prevalenza della malattia in questione.\n",
    "- Affrontare e risolvere problemi di probabilità discreta che necessitano dell'applicazione del teorema di Bayes.\n",
    "```"
   ]
  },
  {
   "cell_type": "markdown",
   "metadata": {},
   "source": [
    "In questo capitolo esploreremo il teorema di Bayes, un fondamentale risultato della teoria delle probabilità che ci permette di calcolare le probabilità a posteriori di eventi ipotetici, dati i loro valori a priori e nuove informazioni. In altre parole, ci consente di aggiornare razionalmente le nostre conoscenze alla luce di nuove evidenze. Prima di procedere con il presente capitolo, è essenziale leggere l'appendice {ref}`calculus-appendix`."
   ]
  },
  {
   "cell_type": "markdown",
   "metadata": {},
   "source": [
    "## Preparazione del Notebook"
   ]
  },
  {
   "cell_type": "code",
   "execution_count": 2,
   "metadata": {},
   "outputs": [],
   "source": [
    "import numpy as np\n",
    "import pandas as pd\n",
    "import matplotlib as mpl\n",
    "import matplotlib.pyplot as plt\n",
    "import arviz as az\n",
    "import seaborn as sns"
   ]
  },
  {
   "cell_type": "code",
   "execution_count": 3,
   "metadata": {},
   "outputs": [],
   "source": [
    "%config InlineBackend.figure_format = 'retina'\n",
    "RANDOM_SEED = 42\n",
    "rng = np.random.default_rng(RANDOM_SEED)\n",
    "az.style.use(\"arviz-darkgrid\")\n",
    "sns.set_theme(palette=\"colorblind\")"
   ]
  },
  {
   "attachments": {},
   "cell_type": "markdown",
   "metadata": {},
   "source": [
    "## Dimostrazione e Applicazioni\n",
    "\n",
    "Supponiamo di avere una partizione dell'evento certo $\\Omega$ in due soli eventi mutuamente esclusivi, che chiamiamo ipotesi $H_1$ e $H_2$. Supponiamo inoltre di conoscere le probabilità a priori $P(H_1)$ e $P(H_2)$ delle due ipotesi. Consideriamo ora un terzo evento $E$, con probabilità non nulla, di cui conosciamo le probabilità condizionate $P(E \\mid H_1)$ e $P(E \\mid H_2)$, ovvero la probabilità che si verifichi l'evento $E$ dati i valori delle due ipotesi. Supponendo che si sia verificato l'evento $E$, vogliamo conoscere le probabilità a posteriori delle ipotesi, ovvero $P(H_1 \\mid E)$ e $P(H_2 \\mid E)$.\n",
    "\n",
    "La figura seguente rappresenta una partizione dell'evento certo in due eventi chiamati 'ipotesi' $H_1$ e $H_2$. L'evidenza $E$ è un sottoinsieme dello spazio campione.\n",
    "\n",
    "```{image} ../images/bayes_theorem.png\n",
    ":height: 230px\n",
    ":align: center\n",
    "```\n",
    "\n",
    "Per trovare la probabilità dell'ipotesi 1 data l'evidenza osservata, scriviamo:\n",
    "\n",
    "$$\n",
    "P(H_1 \\mid E) = \\frac{P(E \\cap H_1)}{P(E)}.\n",
    "$$\n",
    "\n",
    "Possiamo sostituire $P(E \\cap H_1)$ con $P(E \\mid H_1)P(H_1)$ data la definizione di probabilità condizionata $P(E \\mid H_1) = \\frac{P(E \\cap H_1)}{P(H_1)}$. Così facendo l'equazione precedente diventa:\n",
    "\n",
    "$$\n",
    "P(H_1 \\mid E) = \\frac{P(E \\mid H_1) P(H_1)}{P(E)}.\n",
    "$$\n",
    "\n",
    "Poiché $H_1$ e $H_2$ sono eventi disgiunti, la probabilità dell'evento $E$ può essere calcolata utilizzando il teorema della probabilità totale: \n",
    "\n",
    "$$\n",
    "\\begin{split}\n",
    "P(E) &= P(E \\cap H_1) + P(E \\cap H_2)\\notag\\\\\n",
    "     &= P(E \\mid H_1)P(H_1) + P(E \\mid H_2)P(H_2).\n",
    "\\end{split}\n",
    "$$\n",
    "\n",
    "Sostituendo questi risultati nella formula di Bayes, otteniamo:\n",
    "\n",
    "$$\n",
    "P(H_1 \\mid E) = \\frac{P(E \\mid H_1)P(H_1)}{P(E \\mid H_1)P(H_1) + P(E \\mid H_2)P(H_2)}.\n",
    "$$ (eq-bayes1)\n",
    "\n",
    "L'eq. {eq}`eq-bayes1` è il caso più semplice della formula di Bayes, dove ci sono solo due eventi disgiunti $H_1$ e $H_2$. Il caso generale può essere formulato nel modo seguente.\n",
    "\n",
    "Sia $(H_i)_{i\\geq 1}$ una partizione dell'evento certo $\\Omega$ e sia $E \\subseteq \\Omega$ un evento tale che $P(E) > 0$, allora, per $i = 1, \\dots, \\infty$:\n",
    "\n",
    "$$\n",
    "P(H_i \\mid E) = \\frac{P(E \\mid H_i)P(H_i)}{\\sum_{j=1}^{\\infty}P(H_j)P(E \\mid H_j)}.\n",
    "$$ (eq-bayes2)\n",
    "\n",
    "Se $H_i$ è una variabile continua (ad esempio, il valore di un parametro in un modello statistico), allora sostituiamo la somma a donominatore con un integrale\n",
    "\n",
    "$$\n",
    "P(H_i \\mid E) = \\frac{P(E \\mid H_i) \\cdot P(H_i)}{\\int P(E \\mid H) \\cdot P(H) \\, dH},\n",
    "$$ (eq-bayes-cont)\n",
    "\n",
    "dove $P(H_i \\mid E)$ è la probabilità a posteriori dell'ipotesi $H_i$ dato l'evidenza $E$, $P(E \\mid H_i)$ è la verosimiglianza di $E$ dato $H_i$, $P(H_i)$ è la probabilità a priori dell'ipotesi $H_i$, e l'integrale è effettuato sull'insieme delle ipotesi $H$.\n",
    "\n",
    "### Interpretazione\n",
    "\n",
    "Possiamo identificare tre concetti fondamentali nell'eq. {eq}`eq-bayes2`. \n",
    "\n",
    "- La probabilità a priori, $P(H)$, rappresenta la misura di fiducia che attribuiamo all'ipotesi $H$ prima di avere qualsiasi informazione sull'evidenza $E$.\n",
    "- La probabilità a posteriori, $P(H \\mid E)$, rappresenta l'aggiornamento della probabilità a priori dopo aver ottenuto l'evidenza $E$. In altre parole, è la misura di fiducia che abbiamo nell'ipotesi $H$ dopo aver preso in considerazione l'evidenza $E$.\n",
    "- La verosimiglianza di $E$ dato $H$, $P(E \\mid H)$, rappresenta la probabilità dell'evidenza $E$ quando l'ipotesi $H$ è vera. È una misura di quanta \"supporto\" o \"conferma\" fornisce l'evidenza $E$ all'ipotesi $H$.\n",
    "\n",
    "Il teorema di Bayes è uno strumento fondamentale che ci permette di aggiornare le nostre credenze in base a nuove informazioni. In pratica, ci consente di calcolare la probabilità di un'ipotesi o evento dati gli elementi di evidenza disponibili. Questo teorema è particolarmente rilevante nell'interpretazione soggettiva della probabilità, poiché ci dà un metodo per aggiornare la nostra credenza sull'ipotesi $H$ alla luce di nuove evidenze $E$. In altre parole, ci aiuta ad adeguare la probabilità assegnata a un'ipotesi in base alle nuove informazioni che abbiamo a disposizione. Questo processo di aggiornamento delle credenze è estremamente utile in molti campi, come l'intelligenza artificiale, la statistica, la biologia e la psicologia. In sostanza, il teorema di Bayes ci permette di considerare l'informazione come una risorsa dinamica e di tener conto di come questa influenza la nostra credenza. Ci aiuta a prendere decisioni più informate e a interpretare meglio i dati che abbiamo a disposizione, aumentando la nostra comprensione e la nostra capacità di fare previsioni corrette.\n",
    "\n",
    "## Alcuni esempi\n",
    "\n",
    "### Inferire il genere dalla lunghezza dei capelli\n",
    "\n",
    "Supponiamo di vedere una persona con i capelli lunghi. Vogliamo stimare la probabilità che questa persona sia una donna. Cioè, per $H = \\text{donna} $ e $ E = \\text{capelli lunghi} $, vogliamo stimare $ P(H \\mid E) $.\n",
    "\n",
    "Le informazioni a priori sono che \n",
    "\n",
    "- $ P(H) = 0.5, $\n",
    "- $ P(E) = 0.4, $\n",
    "- $ P(E \\mid H) = 0.7. $\n",
    "\n",
    "Utilizzando la regola di Bayes, possiamo calcolare:\n",
    "\n",
    "$$ P(H \\mid E) = \\frac{P(H) \\times P(E \\mid H)}{P(E)} = \\frac{0.5 \\times 0.7}{0.4} = 0.875. $$\n",
    "\n",
    "### Mammografia e cancro al seno\n",
    "\n",
    "Un lettore attento si sarà reso conto che, in precedenza, abbiamo già applicato il teorema di Bayes quando abbiamo risolto il problema sulla mammografia e cancro al seno. In quel caso, le due ipotesi erano \"la malattia è presente\", che possiamo denotare con $M^+$, e \"la malattia è assente\", $M^-$. L'evidenza $E$ era costituita dal risultato positivo al test (denotiamo questo evento con $T^+$). Con questa notazione, possiamo scrivere l'eq. {eq}`eq-bayes1` nel modo seguente\n",
    "\n",
    "$$\n",
    "P(M^+ \\mid T^+) = \\frac{P(T^+ \\mid M^+) P(M^+)}{P(T^+ \\mid M^+) P(M^+) + P(T^+ \\mid M^-) P(M^-)},\n",
    "$$\n",
    "\n",
    "dove $P(M^+ \\mid T^+)$ rappresenta la probabilità che un paziente abbia la malattia ($M^+$) dato che l'esame medico risulta positivo ($T^+$), $P(T^+ \\mid M^+)$ è la probabilità che l'esame risulti positivo ($T^+$) dato che il paziente ha effettivamente la malattia ($M^+$), $P(M^+)$ è la probabilità a priori che un paziente abbia la malattia, ovvero la probabilità che un paziente scelto a caso abbia la malattia prima di eseguire l'esame, $P(T^+ \\mid M^-)$ è la probabilità che l'esame risulti positivo ($T^+$) dato che il paziente non ha la malattia ($M^-$) e $P(M^-)$ è la probabilità a priori che un paziente non abbia la malattia, ovvero la probabilità che un paziente scelto a caso non abbia la malattia prima di eseguire l'esame.\n",
    "\n",
    "Inserendo i dati del problema nella formula precedente otteniamo\n",
    "\n",
    "$$\n",
    "\\begin{align}\n",
    "P(M^+ \\mid T^+) &= \\frac{0.9 \\cdot 0.01}{0.9 \\cdot 0.01 + 0.1 \\cdot 0.99} \\notag\\\\\n",
    "&= \\frac{9}{108} \\notag\\\\\n",
    "&\\approx 0.083.\\notag\n",
    "\\end{align}\n",
    "$$"
   ]
  },
  {
   "attachments": {},
   "cell_type": "markdown",
   "metadata": {},
   "source": [
    "### Il valore predittivo di un test di laboratorio\n",
    "\n",
    "L'esercizio precedente illustra un importante utilizzo del teorema di Bayes. Esso ci permette di calcolare la probabilità di malattia in caso di test positivo o di assenza di malattia in caso di test negativo. Per fare ciò, abbiamo bisogno di conoscere tre informazioni chiave: la prevalenza di una malattia, la sensibilità e la specificità del test utilizzato per la diagnosi.\n",
    "\n",
    "In particolare, la prevalenza di una malattia è la sua frequenza nella popolazione. La sensibilità del test ci dice quale percentuale di soggetti malati viene identificata come tali dal test. La specificità del test ci dice quale percentuale di soggetti sani viene identificata come tali dal test.\n",
    "\n",
    "Il teorema di Bayes ci permette di combinare queste informazioni per calcolare la probabilità di avere la malattia (o di non averla) sulla base del risultato del test. In questo modo, possiamo utilizzare il teorema di Bayes per prendere decisioni informate sulla diagnosi e sul trattamento delle malattie.\n",
    "\n",
    "<br />\n",
    "\n",
    "```{image} ../images/bayes_theorem_2x.png\n",
    ":height: 320px\n",
    ":align: center\n",
    "```\n",
    "\n",
    "<br />\n",
    "\n",
    "L'esercizio precedente ha mostrato un importante utilizzo del teorema di Bayes. In particolare, abbiamo visto come il teorema di Bayes ci permette di calcolare la probabilità di avere una malattia quando il test risulta positivo o la probabilità di non avere la malattia quando il test risulta negativo. Per fare ciò, abbiamo bisogno di tre informazioni: la prevalenza della malattia, la sensibilità e la specificità del test diagnostico. Ora esamineremo più in dettaglio l'applicazione del teorema di Bayes in questo contesto.\n",
    "\n",
    "La sensibilità del test è definita come la probabilità che il test dia un risultato positivo dato che la malattia è presente: $P(T^+ \\mid M^+)$. Una sensibilità del 100% significa che il test è positivo in tutti i casi di malattia, una sensibilità del 90% significa che il test è positivo nel 90% dei casi di malattia, e così via.\n",
    "\n",
    "La specificità del test è definita come la probabilità che il test dia un risultato negativo dato che la malattia è assente: $P(T^- \\mid M^-)$. Una specificità del 100% significa che il test è negativo in tutti i casi di assenza di malattia, una specificità del 90% significa che il test è negativo nel 90% dei casi di assenza di malattia, e così via.\n",
    "\n",
    "La prevalenza della malattia è definita come la probabilità che la malattia sia presente: $P^+$. Possiamo interpretare la prevalenza come la proporzione di individui malati nella popolazione in un dato istante. Ad esempio, una prevalenza del 5 per mille significa che il 5 per mille della popolazione è affetto dalla malattia.\n",
    "\n",
    "La seguente tabella chiarisce la terminologia utilizzata\n",
    "\n",
    "|       | $T^+$                                | $T^-$                                | \n",
    "| :---: | :----------------------------------: | :----------------------------------: |\n",
    "| $M^+$ | $P(T^+ \\cap M^+)$ (sensibilità)      | $P(T^- \\cap M^+)$ (1 - sensibilità)  |\n",
    "| $M^-$ | $P(T^+ \\cap M^-)$ (1 - specificità ) | $P(T^- \\cap M^-)$ (specificità) |\n",
    "\n",
    "dove $T^+$ rappresenta il risultato positivo del test, cioè quando il test indica la presenza della malattia; $T^-$ rappresenta il risultato negativo del test, cioè quando il test indica l'assenza della malattia; $M^+$ indica la presenza effettiva della malattia; $M^-$ indica l'assenza effettiva della malattia.\n",
    "\n",
    "Nel caso dell'applicazione del teorema di Bayes alla diagnosi medica, abbiamo bisogno di conoscere la prevalenza della malattia (la proporzione di individui malati nella popolazione), la sensibilità del test (la probabilità che il test dia un risultato positivo quando la malattia è presente) e la specificità del test (la probabilità che il test dia un risultato negativo quando la malattia è assente). Usando queste informazioni, possiamo calcolare il valore predittivo del test positivo, cioè la probabilità che una persona sia effettivamente malata dato che il test è risultato positivo. \n",
    "\n",
    "$$\n",
    "P(M^+ \\mid T^+) = \\frac{P(T^+ \\mid M^+) P(M^+)}{P(T^+ \\mid M^+) P(M^+) + P(T^+ \\mid M^-) P(M^-)}.\n",
    "$$\n",
    "\n",
    "$$\n",
    "P(M^+ \\mid T^+) = \\frac{\\text{sensibilità} \\cdot \\text{prevalenza}}{\\text{sensibilità} \\cdot \\text{prevalenza} + (1 - \\text{specificità}) \\cdot (1 - \\text{prevalenza})}.\n",
    "$$\n",
    "\n",
    "Entrambe le formule sono equivalenti e rappresentano la probabilità che una persona sia malata dato un risultato positivo del test. Questa è una formula chiave per valutare l'efficacia di un test diagnostico e per comprendere quanto sia probabile che un individuo sia effettivamente malato dato un risultato positivo del test.\n",
    "\n",
    "In modo simile, possiamo calcolare il valore predittivo del test negativo, cioè la probabilità che una persona non sia malata dato un risultato negativo del test.\n",
    "\n",
    "$$\n",
    "P(M^- \\mid T^-  ) = \\frac{\\text{specificità} \\cdot (1 - \\text{prevalenza})}{\\text{specificità} \\cdot (1 - \\text{prevalenza}) + (1 - \\text{sensibilità}) \\cdot \\text{prevalenza}}.\n",
    "$$"
   ]
  },
  {
   "attachments": {},
   "cell_type": "markdown",
   "metadata": {},
   "source": [
    "Calcoliamo ora il valore predittivo del test positivo e il valore predittivo del test negativo con i dati dell'esempio sulla mammografia e cancro al seno."
   ]
  },
  {
   "cell_type": "code",
   "execution_count": 6,
   "metadata": {},
   "outputs": [],
   "source": [
    "def positive_predictive_value_of_diagnostic_test(sens, spec, prev):\n",
    "    return (sens * prev) / (sens * prev + (1 - spec) * (1 - prev))\n",
    "\n",
    "\n",
    "def negative_predictive_value_of_diagnostic_test(sens, spec, prev):\n",
    "    return (spec * (1 - prev)) / (spec * (1 - prev) + (1 - sens) * prev)"
   ]
  },
  {
   "cell_type": "code",
   "execution_count": 7,
   "metadata": {},
   "outputs": [],
   "source": [
    "sens = 0.9  # sensibilità\n",
    "spec = 0.9  # specificità\n",
    "prev = 0.01  # prevalenza"
   ]
  },
  {
   "cell_type": "markdown",
   "metadata": {},
   "source": [
    "Valore predittivo del test positivo:"
   ]
  },
  {
   "cell_type": "code",
   "execution_count": 8,
   "metadata": {},
   "outputs": [
    {
     "name": "stdout",
     "output_type": "stream",
     "text": [
      "P(M+ | T+) = 0.083\n"
     ]
    }
   ],
   "source": [
    "res_pos = positive_predictive_value_of_diagnostic_test(sens, spec, prev)\n",
    "print(f\"P(M+ | T+) = {round(res_pos, 3)}\")"
   ]
  },
  {
   "cell_type": "markdown",
   "metadata": {},
   "source": [
    "Valore predittivo del test negativo:"
   ]
  },
  {
   "cell_type": "code",
   "execution_count": 9,
   "metadata": {},
   "outputs": [
    {
     "name": "stdout",
     "output_type": "stream",
     "text": [
      "P(M- | T-) = 0.999\n"
     ]
    }
   ],
   "source": [
    "res_neg = negative_predictive_value_of_diagnostic_test(sens, spec, prev)\n",
    "print(f\"P(M- | T-) = {round(res_neg, 3)}\")"
   ]
  },
  {
   "attachments": {},
   "cell_type": "markdown",
   "metadata": {},
   "source": [
    "Consideriamo ora il test antigenico rapido per il virus SARS-CoV-2, che può essere eseguito mediante tampone nasale, tampone naso-orofaringeo o campione di saliva. L'Istituto Superiore di Sanità ha pubblicato un documento il 5 novembre 2020, nel quale viene sottolineato che, fino a quel momento, i dati disponibili sui vari test sono quelli forniti dai produttori: la sensibilità varia tra il 70% e l'86%, mentre la specificità si attesta tra il 95% e il 97%.\n",
    "\n",
    "Nella settimana tra il 17 e il 23 marzo 2023, in Italia, il numero di individui positivi al virus è stato stimato essere di 138.599 (fonte: Il Sole 24 Ore). Questo dato corrisponde a una prevalenza di circa 0.2% su una popolazione totale di circa 59 milioni di persone."
   ]
  },
  {
   "cell_type": "code",
   "execution_count": 10,
   "metadata": {},
   "outputs": [
    {
     "data": {
      "text/plain": [
       "0.002349135593220339"
      ]
     },
     "execution_count": 10,
     "metadata": {},
     "output_type": "execute_result"
    }
   ],
   "source": [
    " prev = 138599 / 59000000\n",
    " prev"
   ]
  },
  {
   "attachments": {},
   "cell_type": "markdown",
   "metadata": {},
   "source": [
    "L'obiettivo è determinare la probabilità di essere effettivamente affetti da Covid-19, dato un risultato positivo al test antigenico rapido, ossia $P(M^+ \\mid T^+)$. Per raggiungere questo scopo, ci avvarremo della formula relativa al valore predittivo positivo del test."
   ]
  },
  {
   "cell_type": "code",
   "execution_count": 11,
   "metadata": {},
   "outputs": [
    {
     "name": "stdout",
     "output_type": "stream",
     "text": [
      "P(M+ | T+) = 0.044\n"
     ]
    }
   ],
   "source": [
    "sens = (0.7 + 0.86) / 2  # sensibilità\n",
    "spec = (0.95 + 0.97) / 2 # specificità\n",
    "\n",
    "res_pos = positive_predictive_value_of_diagnostic_test(sens, spec, prev)\n",
    "print(f\"P(M+ | T+) = {round(res_pos, 3)}\")"
   ]
  },
  {
   "attachments": {},
   "cell_type": "markdown",
   "metadata": {},
   "source": [
    "Pertanto, se il risultato del tampone è positivo, la probabilità di essere effettivamente affetti da Covid-19 è solo del 4.4%, approssimativamente.\n",
    "\n",
    "Se la prevalenza fosse 100 volte superiore (cioè, pari al 23.5%), la probabilità di avere il Covid-19, dato un risultato positivo del tampone, aumenterebbe notevolmente e sarebbe pari all'85.7%, approssimativamente."
   ]
  },
  {
   "cell_type": "code",
   "execution_count": 12,
   "metadata": {},
   "outputs": [
    {
     "name": "stdout",
     "output_type": "stream",
     "text": [
      "P(M+ | T+) = 0.857\n"
     ]
    }
   ],
   "source": [
    "prev = 138599 / 59000000 * 100\n",
    "\n",
    "res_pos = positive_predictive_value_of_diagnostic_test(sens, spec, prev)\n",
    "print(f\"P(M+ | T+) = {round(res_pos, 3)}\")"
   ]
  },
  {
   "attachments": {},
   "cell_type": "markdown",
   "metadata": {},
   "source": [
    "Se il risultato del test fosse negativo, considerando la prevalenza stimata del Covid-19 nella settimana dal 17 al 23 marzo 2023, la probabilità di non essere infetto sarebbe del 99.9%, approssimativamente."
   ]
  },
  {
   "cell_type": "code",
   "execution_count": 13,
   "metadata": {},
   "outputs": [
    {
     "name": "stdout",
     "output_type": "stream",
     "text": [
      "P(M- | T-) = 0.999\n"
     ]
    }
   ],
   "source": [
    "sens = (0.7 + 0.86) / 2  # sensibilità\n",
    "spec = (0.95 + 0.97) / 2  # specificità\n",
    "prev = 138599 / 59000000  # prevalenza\n",
    "\n",
    "res_neg = negative_predictive_value_of_diagnostic_test(sens, spec, prev)\n",
    "print(f\"P(M- | T-) = {round(res_neg, 3)}\")"
   ]
  },
  {
   "attachments": {},
   "cell_type": "markdown",
   "metadata": {},
   "source": [
    "### Teorema di Bayes applicato ai dati `penguins`\n",
    "\n",
    "Proseguendo con l'esempio del capitolo precedente, usiamo i dati `penguins` per applicare il teorema di Bayes."
   ]
  },
  {
   "cell_type": "code",
   "execution_count": 14,
   "metadata": {},
   "outputs": [
    {
     "name": "stdout",
     "output_type": "stream",
     "text": [
      "<class 'pandas.core.frame.DataFrame'>\n",
      "Index: 333 entries, 0 to 343\n",
      "Data columns (total 8 columns):\n",
      " #   Column             Non-Null Count  Dtype  \n",
      "---  ------             --------------  -----  \n",
      " 0   species            333 non-null    object \n",
      " 1   island             333 non-null    object \n",
      " 2   bill_length_mm     333 non-null    float64\n",
      " 3   bill_depth_mm      333 non-null    float64\n",
      " 4   flipper_length_mm  333 non-null    float64\n",
      " 5   body_mass_g        333 non-null    float64\n",
      " 6   sex                333 non-null    object \n",
      " 7   year               333 non-null    int64  \n",
      "dtypes: float64(4), int64(1), object(3)\n",
      "memory usage: 23.4+ KB\n"
     ]
    }
   ],
   "source": [
    "df = pd.read_csv('../data/penguins.csv')\n",
    "\n",
    "df.dropna(inplace=True)\n",
    "df.info()"
   ]
  },
  {
   "attachments": {},
   "cell_type": "markdown",
   "metadata": {},
   "source": [
    "Riprendiamo le funzioni `prob` e `conditional` che abbiamo definito in precedenza."
   ]
  },
  {
   "cell_type": "code",
   "execution_count": 15,
   "metadata": {},
   "outputs": [],
   "source": [
    "def prob(A):\n",
    "    \"\"\"Computes the probability of a proposition, A.\"\"\" \n",
    "    return A.mean()"
   ]
  },
  {
   "cell_type": "code",
   "execution_count": 16,
   "metadata": {},
   "outputs": [],
   "source": [
    "def conditional(proposition, given): \n",
    "    return prob(proposition[given])"
   ]
  },
  {
   "attachments": {},
   "cell_type": "markdown",
   "metadata": {},
   "source": [
    "Per la congiunzione vale la proprietà di commutatività:"
   ]
  },
  {
   "cell_type": "code",
   "execution_count": 17,
   "metadata": {},
   "outputs": [],
   "source": [
    "female = df[\"sex\"] == \"female\"\n",
    "small = df[\"body_mass_g\"] < df[\"body_mass_g\"].quantile(1/3)"
   ]
  },
  {
   "cell_type": "code",
   "execution_count": 18,
   "metadata": {},
   "outputs": [
    {
     "data": {
      "text/plain": [
       "True"
      ]
     },
     "execution_count": 18,
     "metadata": {},
     "output_type": "execute_result"
    }
   ],
   "source": [
    "prob(female & small) == prob(small & female)"
   ]
  },
  {
   "attachments": {},
   "cell_type": "markdown",
   "metadata": {},
   "source": [
    "Quindi possiamo scrivere:"
   ]
  },
  {
   "cell_type": "code",
   "execution_count": 19,
   "metadata": {},
   "outputs": [
    {
     "data": {
      "text/plain": [
       "0.2552552552552553"
      ]
     },
     "execution_count": 19,
     "metadata": {},
     "output_type": "execute_result"
    }
   ],
   "source": [
    "conditional(female, given=small) * prob(small) "
   ]
  },
  {
   "attachments": {},
   "cell_type": "markdown",
   "metadata": {},
   "source": [
    "oppure"
   ]
  },
  {
   "cell_type": "code",
   "execution_count": 16,
   "metadata": {},
   "outputs": [
    {
     "data": {
      "text/plain": [
       "0.2552552552552552"
      ]
     },
     "execution_count": 16,
     "metadata": {},
     "output_type": "execute_result"
    }
   ],
   "source": [
    "conditional(small, given=female) * prob(female) "
   ]
  },
  {
   "attachments": {},
   "cell_type": "markdown",
   "metadata": {},
   "source": [
    "Giungiamo così al teorema di Bayes:"
   ]
  },
  {
   "cell_type": "code",
   "execution_count": 17,
   "metadata": {},
   "outputs": [
    {
     "data": {
      "text/plain": [
       "0.8252427184466019"
      ]
     },
     "execution_count": 17,
     "metadata": {},
     "output_type": "execute_result"
    }
   ],
   "source": [
    "conditional(female, given=small)"
   ]
  },
  {
   "cell_type": "code",
   "execution_count": 18,
   "metadata": {},
   "outputs": [
    {
     "data": {
      "text/plain": [
       "0.8252427184466018"
      ]
     },
     "execution_count": 18,
     "metadata": {},
     "output_type": "execute_result"
    }
   ],
   "source": [
    "conditional(small, given=female) * prob(female) / prob(small)"
   ]
  },
  {
   "attachments": {},
   "cell_type": "markdown",
   "metadata": {},
   "source": [
    "oppure"
   ]
  },
  {
   "cell_type": "code",
   "execution_count": 19,
   "metadata": {},
   "outputs": [
    {
     "data": {
      "text/plain": [
       "0.5151515151515151"
      ]
     },
     "execution_count": 19,
     "metadata": {},
     "output_type": "execute_result"
    }
   ],
   "source": [
    "conditional(small, given=female)"
   ]
  },
  {
   "cell_type": "code",
   "execution_count": 20,
   "metadata": {},
   "outputs": [
    {
     "data": {
      "text/plain": [
       "0.5151515151515152"
      ]
     },
     "execution_count": 20,
     "metadata": {},
     "output_type": "execute_result"
    }
   ],
   "source": [
    "conditional(female, given=small) * prob(small) / prob(female)"
   ]
  },
  {
   "attachments": {},
   "cell_type": "markdown",
   "metadata": {},
   "source": [
    "### Il problema delle due urne\n",
    "\n",
    "Supponiamo che vi siano due urne.\n",
    "\n",
    "- L'urna 1 ($U_1$) contiene 30 palline bianche (B) e 10 palline nere (N).\n",
    "- L'urna 2 ($U_2$) contiene 20 palline bianche e 20 palline nere.\n",
    "\n",
    "Supponiamo di scegliere una delle urne a caso e, senza guardare, di scegliere una pallina a caso. Se la pallina è bianca, qual è la probabilità che provenga dall'urna 1?\n",
    "\n",
    "Quello che vogliamo è la probabilità condizionata che abbiamo scelto dall'Urna 1 dato che abbiamo ottenuto una pallina bianca, $P(U_1 \\mid B)$.\n",
    "\n",
    "Il problema ci fornisce le seguenti informazioni:\n",
    "\n",
    "- $P(B \\mid U_1)$ = 3/4,\n",
    "- $P(B \\mid U_2)$ = 1/2.\n",
    "\n",
    "Il teorema di Bayes ci dice come le informazioni a disposizione si possono mettere in relazione con la domanda del problema:\n",
    "\n",
    "$$\n",
    "P(U_1 \\mid B) = \\frac{P(B \\mid U_1) P(U_1)}{P(B)}\n",
    "$$\n",
    "\n",
    "Per calcolare la probabilità $P(B)$ usiamo il teorema della probabilità totale:\n",
    "\n",
    "$$\n",
    "P(B) = P(B \\mid U_1) P(U_1) + P(B \\mid U_2) P(U_2),\n",
    "$$\n",
    "\n",
    "ovvero\n",
    "\n",
    "$$\n",
    "P(B) = 3/4 \\cdot 1/2 + 1/2 \\cdot 1/2 = 5/8.\n",
    "$$\n",
    "\n",
    "Concludiamo applicando il teorema di Bayes:\n",
    "\n",
    "$$\n",
    "P(U_1 \\mid B) = \\frac{3/4 \\cdot 1/2}{5/8} = 3/5.\n",
    "$$\n"
   ]
  },
  {
   "attachments": {},
   "cell_type": "markdown",
   "metadata": {},
   "source": [
    "Il processo di aggiornamento bayesiano può essere anche svolto nel modo seguente. Riscrivo il teorema di Bayes nel modo seguente:\n",
    "\n",
    "$$\n",
    "P(H \\mid D) = \\frac{P(D \\mid H) P(H)}{P(D)}\n",
    "$$"
   ]
  },
  {
   "attachments": {},
   "cell_type": "markdown",
   "metadata": {},
   "source": [
    "La probabilità $P(H)$ è la probabilità delle ipotesi prima di avere osservato i dati. Nel nostro caso, le due ipotesi sono \"Urna 1\" e \"Urna 2\", entrambe con la stessa probabilità, dato che non abbiamo ragioni a priori per dare più peso ad un'ipotesi rispetto all'altra. Costruiamo una tabella con un DataFrame in cui inseriamo la colonna `prior`:"
   ]
  },
  {
   "cell_type": "code",
   "execution_count": 21,
   "metadata": {},
   "outputs": [
    {
     "data": {
      "text/html": [
       "<div>\n",
       "<style scoped>\n",
       "    .dataframe tbody tr th:only-of-type {\n",
       "        vertical-align: middle;\n",
       "    }\n",
       "\n",
       "    .dataframe tbody tr th {\n",
       "        vertical-align: top;\n",
       "    }\n",
       "\n",
       "    .dataframe thead th {\n",
       "        text-align: right;\n",
       "    }\n",
       "</style>\n",
       "<table border=\"1\" class=\"dataframe\">\n",
       "  <thead>\n",
       "    <tr style=\"text-align: right;\">\n",
       "      <th></th>\n",
       "      <th>prior</th>\n",
       "    </tr>\n",
       "  </thead>\n",
       "  <tbody>\n",
       "    <tr>\n",
       "      <th>Urn 1</th>\n",
       "      <td>0.5</td>\n",
       "    </tr>\n",
       "    <tr>\n",
       "      <th>Urn 2</th>\n",
       "      <td>0.5</td>\n",
       "    </tr>\n",
       "  </tbody>\n",
       "</table>\n",
       "</div>"
      ],
      "text/plain": [
       "       prior\n",
       "Urn 1    0.5\n",
       "Urn 2    0.5"
      ]
     },
     "execution_count": 21,
     "metadata": {},
     "output_type": "execute_result"
    }
   ],
   "source": [
    "table = pd.DataFrame(index=[\"Urn 1\", \"Urn 2\"])\n",
    "table[\"prior\"] = 1 / 2, 1 / 2\n",
    "table"
   ]
  },
  {
   "attachments": {},
   "cell_type": "markdown",
   "metadata": {},
   "source": [
    "La probabilità $P(D \\mid H)$ è la probabilità dei dati, data l'ipotesi. È chiamata verosimiglianza. La probabilità di una pallina bianca dato che viene estratta dall'Urna 1 è 3/4. La probabilità di una pallina bianca dato che viene estratta dall'Urna 1 è 1/2. Aggiungo alla tabella la colonna `likelihood`."
   ]
  },
  {
   "cell_type": "code",
   "execution_count": 22,
   "metadata": {},
   "outputs": [
    {
     "data": {
      "text/html": [
       "<div>\n",
       "<style scoped>\n",
       "    .dataframe tbody tr th:only-of-type {\n",
       "        vertical-align: middle;\n",
       "    }\n",
       "\n",
       "    .dataframe tbody tr th {\n",
       "        vertical-align: top;\n",
       "    }\n",
       "\n",
       "    .dataframe thead th {\n",
       "        text-align: right;\n",
       "    }\n",
       "</style>\n",
       "<table border=\"1\" class=\"dataframe\">\n",
       "  <thead>\n",
       "    <tr style=\"text-align: right;\">\n",
       "      <th></th>\n",
       "      <th>prior</th>\n",
       "      <th>likelihood</th>\n",
       "    </tr>\n",
       "  </thead>\n",
       "  <tbody>\n",
       "    <tr>\n",
       "      <th>Urn 1</th>\n",
       "      <td>0.5</td>\n",
       "      <td>0.75</td>\n",
       "    </tr>\n",
       "    <tr>\n",
       "      <th>Urn 2</th>\n",
       "      <td>0.5</td>\n",
       "      <td>0.50</td>\n",
       "    </tr>\n",
       "  </tbody>\n",
       "</table>\n",
       "</div>"
      ],
      "text/plain": [
       "       prior  likelihood\n",
       "Urn 1    0.5        0.75\n",
       "Urn 2    0.5        0.50"
      ]
     },
     "execution_count": 22,
     "metadata": {},
     "output_type": "execute_result"
    }
   ],
   "source": [
    "table[\"likelihood\"] = 3 / 4, 1 / 2\n",
    "table"
   ]
  },
  {
   "attachments": {},
   "cell_type": "markdown",
   "metadata": {},
   "source": [
    "La probabilità $P(H \\mid D)$ è la probabilità dell'ipotesi dopo avere osservato i dati. Si ottiene come il prodotto della verosimiglianza per la probabilità a priori, diviso per una *costante di normalizzazione*. Iniziamo a calcolare il la distribuzione a posteriori non normalizzata."
   ]
  },
  {
   "cell_type": "code",
   "execution_count": 23,
   "metadata": {},
   "outputs": [
    {
     "data": {
      "text/html": [
       "<div>\n",
       "<style scoped>\n",
       "    .dataframe tbody tr th:only-of-type {\n",
       "        vertical-align: middle;\n",
       "    }\n",
       "\n",
       "    .dataframe tbody tr th {\n",
       "        vertical-align: top;\n",
       "    }\n",
       "\n",
       "    .dataframe thead th {\n",
       "        text-align: right;\n",
       "    }\n",
       "</style>\n",
       "<table border=\"1\" class=\"dataframe\">\n",
       "  <thead>\n",
       "    <tr style=\"text-align: right;\">\n",
       "      <th></th>\n",
       "      <th>prior</th>\n",
       "      <th>likelihood</th>\n",
       "      <th>unnorm</th>\n",
       "    </tr>\n",
       "  </thead>\n",
       "  <tbody>\n",
       "    <tr>\n",
       "      <th>Urn 1</th>\n",
       "      <td>0.5</td>\n",
       "      <td>0.75</td>\n",
       "      <td>0.375</td>\n",
       "    </tr>\n",
       "    <tr>\n",
       "      <th>Urn 2</th>\n",
       "      <td>0.5</td>\n",
       "      <td>0.50</td>\n",
       "      <td>0.250</td>\n",
       "    </tr>\n",
       "  </tbody>\n",
       "</table>\n",
       "</div>"
      ],
      "text/plain": [
       "       prior  likelihood  unnorm\n",
       "Urn 1    0.5        0.75   0.375\n",
       "Urn 2    0.5        0.50   0.250"
      ]
     },
     "execution_count": 23,
     "metadata": {},
     "output_type": "execute_result"
    }
   ],
   "source": [
    "table[\"unnorm\"] = table[\"prior\"] * table[\"likelihood\"]\n",
    "table"
   ]
  },
  {
   "attachments": {},
   "cell_type": "markdown",
   "metadata": {},
   "source": [
    "La probabilità dei dati, $P(D)$, ovvero il numeratore bayesiano, è dato dalla somma di tutti i valori della distribuzione a posteriori non normalizzata:"
   ]
  },
  {
   "cell_type": "code",
   "execution_count": 24,
   "metadata": {},
   "outputs": [],
   "source": [
    "prob_data = table[\"unnorm\"].sum()"
   ]
  },
  {
   "attachments": {},
   "cell_type": "markdown",
   "metadata": {},
   "source": [
    "Possiamo ora normalizzare la distribuzione a posteriori:"
   ]
  },
  {
   "cell_type": "code",
   "execution_count": 25,
   "metadata": {},
   "outputs": [
    {
     "data": {
      "text/html": [
       "<div>\n",
       "<style scoped>\n",
       "    .dataframe tbody tr th:only-of-type {\n",
       "        vertical-align: middle;\n",
       "    }\n",
       "\n",
       "    .dataframe tbody tr th {\n",
       "        vertical-align: top;\n",
       "    }\n",
       "\n",
       "    .dataframe thead th {\n",
       "        text-align: right;\n",
       "    }\n",
       "</style>\n",
       "<table border=\"1\" class=\"dataframe\">\n",
       "  <thead>\n",
       "    <tr style=\"text-align: right;\">\n",
       "      <th></th>\n",
       "      <th>prior</th>\n",
       "      <th>likelihood</th>\n",
       "      <th>unnorm</th>\n",
       "      <th>posterior</th>\n",
       "    </tr>\n",
       "  </thead>\n",
       "  <tbody>\n",
       "    <tr>\n",
       "      <th>Urn 1</th>\n",
       "      <td>0.5</td>\n",
       "      <td>0.75</td>\n",
       "      <td>0.375</td>\n",
       "      <td>0.6</td>\n",
       "    </tr>\n",
       "    <tr>\n",
       "      <th>Urn 2</th>\n",
       "      <td>0.5</td>\n",
       "      <td>0.50</td>\n",
       "      <td>0.250</td>\n",
       "      <td>0.4</td>\n",
       "    </tr>\n",
       "  </tbody>\n",
       "</table>\n",
       "</div>"
      ],
      "text/plain": [
       "       prior  likelihood  unnorm  posterior\n",
       "Urn 1    0.5        0.75   0.375        0.6\n",
       "Urn 2    0.5        0.50   0.250        0.4"
      ]
     },
     "execution_count": 25,
     "metadata": {},
     "output_type": "execute_result"
    }
   ],
   "source": [
    "table[\"posterior\"] = table[\"unnorm\"] / prob_data\n",
    "table"
   ]
  },
  {
   "attachments": {},
   "cell_type": "markdown",
   "metadata": {},
   "source": [
    "### Il problema dei dadi\n",
    "\n",
    "Il metodo precedente può anche essere usato quando ci sono più di due ipotesi. {cite:t}`downey2021think` discute il seguente problema. Supponiamo che nell'Urna 1 ci sia un dado a 6 facce, nell'Urna 2 un dado a 8 facce e nell'Urna 3 un dado a 12 facce. Un dado viene estratto a caso da un'urna e produce il risultato 1. Qual è la probabilità che ho usato un dado a 6 facce?\n",
    "\n",
    "Inizio a definire le tre ipotesi."
   ]
  },
  {
   "cell_type": "code",
   "execution_count": 26,
   "metadata": {},
   "outputs": [
    {
     "data": {
      "text/html": [
       "<div>\n",
       "<style scoped>\n",
       "    .dataframe tbody tr th:only-of-type {\n",
       "        vertical-align: middle;\n",
       "    }\n",
       "\n",
       "    .dataframe tbody tr th {\n",
       "        vertical-align: top;\n",
       "    }\n",
       "\n",
       "    .dataframe thead th {\n",
       "        text-align: right;\n",
       "    }\n",
       "</style>\n",
       "<table border=\"1\" class=\"dataframe\">\n",
       "  <thead>\n",
       "    <tr style=\"text-align: right;\">\n",
       "      <th></th>\n",
       "    </tr>\n",
       "  </thead>\n",
       "  <tbody>\n",
       "    <tr>\n",
       "      <th>6</th>\n",
       "    </tr>\n",
       "    <tr>\n",
       "      <th>8</th>\n",
       "    </tr>\n",
       "    <tr>\n",
       "      <th>12</th>\n",
       "    </tr>\n",
       "  </tbody>\n",
       "</table>\n",
       "</div>"
      ],
      "text/plain": [
       "Empty DataFrame\n",
       "Columns: []\n",
       "Index: [6, 8, 12]"
      ]
     },
     "execution_count": 26,
     "metadata": {},
     "output_type": "execute_result"
    }
   ],
   "source": [
    "table2 = pd.DataFrame(index=[6, 8, 12])\n",
    "table2"
   ]
  },
  {
   "attachments": {},
   "cell_type": "markdown",
   "metadata": {},
   "source": [
    "Per evitare arrotondamenti uso la funzione `Fraction()`. Inizio a definire la distribuzione a priori."
   ]
  },
  {
   "cell_type": "code",
   "execution_count": 27,
   "metadata": {},
   "outputs": [
    {
     "data": {
      "text/html": [
       "<div>\n",
       "<style scoped>\n",
       "    .dataframe tbody tr th:only-of-type {\n",
       "        vertical-align: middle;\n",
       "    }\n",
       "\n",
       "    .dataframe tbody tr th {\n",
       "        vertical-align: top;\n",
       "    }\n",
       "\n",
       "    .dataframe thead th {\n",
       "        text-align: right;\n",
       "    }\n",
       "</style>\n",
       "<table border=\"1\" class=\"dataframe\">\n",
       "  <thead>\n",
       "    <tr style=\"text-align: right;\">\n",
       "      <th></th>\n",
       "      <th>prior</th>\n",
       "    </tr>\n",
       "  </thead>\n",
       "  <tbody>\n",
       "    <tr>\n",
       "      <th>6</th>\n",
       "      <td>1/3</td>\n",
       "    </tr>\n",
       "    <tr>\n",
       "      <th>8</th>\n",
       "      <td>1/3</td>\n",
       "    </tr>\n",
       "    <tr>\n",
       "      <th>12</th>\n",
       "      <td>1/3</td>\n",
       "    </tr>\n",
       "  </tbody>\n",
       "</table>\n",
       "</div>"
      ],
      "text/plain": [
       "   prior\n",
       "6    1/3\n",
       "8    1/3\n",
       "12   1/3"
      ]
     },
     "execution_count": 27,
     "metadata": {},
     "output_type": "execute_result"
    }
   ],
   "source": [
    "from fractions import Fraction\n",
    "\n",
    "table2[\"prior\"] = Fraction(1, 3)\n",
    "table2"
   ]
  },
  {
   "attachments": {},
   "cell_type": "markdown",
   "metadata": {},
   "source": [
    "Definisco la verosimiglianza. Se il dado è a 6 facce, la probabilità di ottenere 1 è 1/6; se il dado ha 8 facce è 1/8; se il dado ha 12 facce è 1/12."
   ]
  },
  {
   "cell_type": "code",
   "execution_count": 28,
   "metadata": {},
   "outputs": [
    {
     "data": {
      "text/html": [
       "<div>\n",
       "<style scoped>\n",
       "    .dataframe tbody tr th:only-of-type {\n",
       "        vertical-align: middle;\n",
       "    }\n",
       "\n",
       "    .dataframe tbody tr th {\n",
       "        vertical-align: top;\n",
       "    }\n",
       "\n",
       "    .dataframe thead th {\n",
       "        text-align: right;\n",
       "    }\n",
       "</style>\n",
       "<table border=\"1\" class=\"dataframe\">\n",
       "  <thead>\n",
       "    <tr style=\"text-align: right;\">\n",
       "      <th></th>\n",
       "      <th>prior</th>\n",
       "      <th>likelihood</th>\n",
       "    </tr>\n",
       "  </thead>\n",
       "  <tbody>\n",
       "    <tr>\n",
       "      <th>6</th>\n",
       "      <td>1/3</td>\n",
       "      <td>1/6</td>\n",
       "    </tr>\n",
       "    <tr>\n",
       "      <th>8</th>\n",
       "      <td>1/3</td>\n",
       "      <td>1/8</td>\n",
       "    </tr>\n",
       "    <tr>\n",
       "      <th>12</th>\n",
       "      <td>1/3</td>\n",
       "      <td>1/12</td>\n",
       "    </tr>\n",
       "  </tbody>\n",
       "</table>\n",
       "</div>"
      ],
      "text/plain": [
       "   prior likelihood\n",
       "6    1/3        1/6\n",
       "8    1/3        1/8\n",
       "12   1/3       1/12"
      ]
     },
     "execution_count": 28,
     "metadata": {},
     "output_type": "execute_result"
    }
   ],
   "source": [
    "table2[\"likelihood\"] = Fraction(1, 6), Fraction(1, 8), Fraction(1, 12)\n",
    "table2"
   ]
  },
  {
   "attachments": {},
   "cell_type": "markdown",
   "metadata": {},
   "source": [
    "Trovo la distribuzione a posteriori non normalizzata."
   ]
  },
  {
   "cell_type": "code",
   "execution_count": 29,
   "metadata": {},
   "outputs": [
    {
     "data": {
      "text/html": [
       "<div>\n",
       "<style scoped>\n",
       "    .dataframe tbody tr th:only-of-type {\n",
       "        vertical-align: middle;\n",
       "    }\n",
       "\n",
       "    .dataframe tbody tr th {\n",
       "        vertical-align: top;\n",
       "    }\n",
       "\n",
       "    .dataframe thead th {\n",
       "        text-align: right;\n",
       "    }\n",
       "</style>\n",
       "<table border=\"1\" class=\"dataframe\">\n",
       "  <thead>\n",
       "    <tr style=\"text-align: right;\">\n",
       "      <th></th>\n",
       "      <th>prior</th>\n",
       "      <th>likelihood</th>\n",
       "      <th>unnorm</th>\n",
       "    </tr>\n",
       "  </thead>\n",
       "  <tbody>\n",
       "    <tr>\n",
       "      <th>6</th>\n",
       "      <td>1/3</td>\n",
       "      <td>1/6</td>\n",
       "      <td>1/18</td>\n",
       "    </tr>\n",
       "    <tr>\n",
       "      <th>8</th>\n",
       "      <td>1/3</td>\n",
       "      <td>1/8</td>\n",
       "      <td>1/24</td>\n",
       "    </tr>\n",
       "    <tr>\n",
       "      <th>12</th>\n",
       "      <td>1/3</td>\n",
       "      <td>1/12</td>\n",
       "      <td>1/36</td>\n",
       "    </tr>\n",
       "  </tbody>\n",
       "</table>\n",
       "</div>"
      ],
      "text/plain": [
       "   prior likelihood unnorm\n",
       "6    1/3        1/6   1/18\n",
       "8    1/3        1/8   1/24\n",
       "12   1/3       1/12   1/36"
      ]
     },
     "execution_count": 29,
     "metadata": {},
     "output_type": "execute_result"
    }
   ],
   "source": [
    "table2[\"unnorm\"] = table2[\"prior\"] * table2[\"likelihood\"]\n",
    "table2"
   ]
  },
  {
   "attachments": {},
   "cell_type": "markdown",
   "metadata": {},
   "source": [
    "Normalizzo."
   ]
  },
  {
   "cell_type": "code",
   "execution_count": 30,
   "metadata": {},
   "outputs": [
    {
     "data": {
      "text/html": [
       "<div>\n",
       "<style scoped>\n",
       "    .dataframe tbody tr th:only-of-type {\n",
       "        vertical-align: middle;\n",
       "    }\n",
       "\n",
       "    .dataframe tbody tr th {\n",
       "        vertical-align: top;\n",
       "    }\n",
       "\n",
       "    .dataframe thead th {\n",
       "        text-align: right;\n",
       "    }\n",
       "</style>\n",
       "<table border=\"1\" class=\"dataframe\">\n",
       "  <thead>\n",
       "    <tr style=\"text-align: right;\">\n",
       "      <th></th>\n",
       "      <th>prior</th>\n",
       "      <th>likelihood</th>\n",
       "      <th>unnorm</th>\n",
       "      <th>posterior</th>\n",
       "    </tr>\n",
       "  </thead>\n",
       "  <tbody>\n",
       "    <tr>\n",
       "      <th>6</th>\n",
       "      <td>1/3</td>\n",
       "      <td>1/6</td>\n",
       "      <td>1/18</td>\n",
       "      <td>4/9</td>\n",
       "    </tr>\n",
       "    <tr>\n",
       "      <th>8</th>\n",
       "      <td>1/3</td>\n",
       "      <td>1/8</td>\n",
       "      <td>1/24</td>\n",
       "      <td>1/3</td>\n",
       "    </tr>\n",
       "    <tr>\n",
       "      <th>12</th>\n",
       "      <td>1/3</td>\n",
       "      <td>1/12</td>\n",
       "      <td>1/36</td>\n",
       "      <td>2/9</td>\n",
       "    </tr>\n",
       "  </tbody>\n",
       "</table>\n",
       "</div>"
      ],
      "text/plain": [
       "   prior likelihood unnorm posterior\n",
       "6    1/3        1/6   1/18       4/9\n",
       "8    1/3        1/8   1/24       1/3\n",
       "12   1/3       1/12   1/36       2/9"
      ]
     },
     "execution_count": 30,
     "metadata": {},
     "output_type": "execute_result"
    }
   ],
   "source": [
    "prob_data = table2[\"unnorm\"].sum()\n",
    "table2[\"posterior\"] = table2[\"unnorm\"] / prob_data\n",
    "table2"
   ]
  },
  {
   "attachments": {},
   "cell_type": "markdown",
   "metadata": {},
   "source": [
    "La probabilità posteriore del dado a 6 facce è 4/9, che è più grande delle probabilità degli altri dadi, 3/9 e 2/9. Intuitivamente, il dado a 6 facce è il più probabile perché ha la probabilità più grande di produrre il risultato che abbiamo osservato."
   ]
  },
  {
   "cell_type": "markdown",
   "metadata": {},
   "source": [
    "### L'errore dell'avvocato difensore\n",
    "\n",
    "Una donna è stata assassinata e il marito è sotto processo per questo crimine. Durante il processo emerge che l'imputato aveva un passato di abusi sulla moglie. L'avvocato difensore sostiene che questa prova dovrebbe essere esclusa perché irrilevante, dato che solo 1 uomo su 10000 che abusa della moglie finisce poi per ucciderla. Dovrebbe il giudice accettare la richiesta dell'avvocato difensore di escludere questa prova?\n",
    "\n",
    "Supponiamo che la cifra 1 su 10000 fornita dall'avvocato difensore sia corretta e assumiamo inoltre le seguenti probabilità per una popolazione rilevante di mariti e mogli: 1 marito su 10 abusa della moglie, 1 moglie su 5 assassinata viene uccisa dal marito, e il 50% dei mariti che uccidono le loro mogli le aveva precedentemente abusate.\n",
    "\n",
    "Definiamo $ A $ come l'evento in cui il marito abusa della moglie, e $ G $ come l'evento in cui il marito è colpevole. L'argomento della difesa è che $ P(G \\mid A) = \\frac{1}{10000} $, quindi la colpevolezza è estremamente improbabile condizionata a una storia pregressa di abusi.\n",
    "\n",
    "Tuttavia, l'avvocato difensore omette di considerare un fatto cruciale: in questo caso, sappiamo che la moglie è stata assassinata. Pertanto, la probabilità rilevante non è $ P(G \\mid A) $, ma $ P(G \\mid A,M) $, dove $ M $ è l'evento in cui la moglie è stata assassinata.\n",
    "\n",
    "Applicando la regola di Bayes con un ulteriore fattore di condizionamento, otteniamo:\n",
    "\n",
    "$$\n",
    "P(G \\mid A,M) = \\frac{P(A \\mid G,M)P(G \\mid M)}{P(A \\mid G,M)P(G \\mid M) + P(A \\mid G^c,M)P(G^c \\mid M)} \n",
    "= \\frac{0.5 \\cdot 0.2}{0.5 \\cdot 0.2 + 0.1 \\cdot 0.8} \n",
    "= \\frac{59}{100}.\n",
    "$$\n",
    "\n",
    "La condizionata della Regola di Bayes e include le seguenti componenti:\n",
    "\n",
    "- $ P(G \\mid A,M) $: La probabilità che il marito sia colpevole, dato che ha abusato della moglie e che questa è stata assassinata.\n",
    "- $ P(A \\mid G,M) $: La probabilità che il marito abbia abusato della moglie, dato che è colpevole e che la moglie è stata assassinata. Questa è stata assunta come $0.5$ nel problema.\n",
    "- $ P(G \\mid M) $: La probabilità che il marito sia colpevole, dato che la moglie è stata assassinata. Questa è stata assunta come $0.2$ nel problema.\n",
    "- $ P(A \\mid G^c,M) $: La probabilità che il marito abbia abusato della moglie, dato che non è colpevole ma la moglie è stata assassinata. Questa è stata assunta come $0.1$ nel problema.\n",
    "- $ P(G^c \\mid M) $: La probabilità che il marito non sia colpevole, dato che la moglie è stata assassinata. Questa è semplicemente $1 - P(G \\mid M) = 0.8$.\n",
    "\n",
    "La formula permette di combinare diverse fonti di informazione per arrivare a una stima più accurata della probabilità di colpevolezza. In questo caso, la probabilità a posteriori di colpevolezza, $ P(G \\mid A,M) $, si rivela essere molto più alta della probabilità iniziale $ P(G \\mid A) $ proposta dall'avvocato difensore. Pertanto, contrariamente all'argomento dell'avvocato, la storia di abusi del marito è un'informazione molto importante che non dovrebbe essere ignorata nel processo. Condizionando sulla prova degli abusi, la probabilità di colpevolezza sale da $ P(G \\mid M) = 0.2 $ a $ P(G \\mid A,M) \\approx 0.59 $, contraddicendo quindi l'argomento dell'avvocato difensore.\n",
    "\n",
    "Nel calcolo di $ P(G \\mid A,M) $, non abbiamo utilizzato la probabilità $ P(G\\mid A) $ fornita dall'avvocato difensore; è irrilevante per il nostro calcolo perché non tiene conto del fatto che la moglie è stata assassinata. \n",
    "\n",
    "Questo esempio mette in evidenza come sia necessario  condizionare su tutte le prove disponibili. Inoltre, questo esempio mette in luce le complessità e le potenziali insidie nell'utilizzo della probabilità condizionata, soprattutto quando sono in gioco variabili di confondimento."
   ]
  },
  {
   "cell_type": "markdown",
   "metadata": {},
   "source": [
    "## Teorema di Bayes per eventi dicotomici\n",
    "\n",
    "Consideriamo un caso clinico in cui un paziente ha una finestra temporale di quattro ore al giorno durante la quale potrebbe manifestare un episodio di depressione. In assenza di ulteriori informazioni, l'estimazione a priori della probabilità che il paziente stia vivendo un episodio depressivo in un dato momento è del 25%.\n",
    "\n",
    "Supponiamo ora che un parente del paziente noti che quest'ultimo ha cessato di rispondere ai messaggi e alle chiamate. Come cambia la probabilità che il paziente stia effettivamente attraversando un episodio depressivo alla luce di questa nuova evidenza?\n",
    "\n",
    "Per rispondere a questa domanda, possiamo utilizzare il Teorema di Bayes, formalizzato come segue:\n",
    "\n",
    "$$\n",
    "P(\\text{Ipotesi | Dati}) = \\frac{{P(\\text{Dati | Ipotesi}) \\times P(\\text{Ipotesi})}}{P(\\text{Dati})}.\n",
    "$$\n",
    "\n",
    "Per calcolare $ P(\\text{Ipotesi | Dati}) $, consideriamo i seguenti valori:\n",
    "- $ P(\\text{Ipotesi}) = 0.25 $: la probabilità a priori che il paziente stia attraversando un episodio depressivo.\n",
    "- $ P(\\text{Dati | Ipotesi}) = 0.8 $: la probabilità che il paziente smetta di rispondere durante un episodio depressivo.\n",
    "- $ P(\\text{Dati}) = 0.2 $: la probabilità generale che il paziente smetta di rispondere, indipendentemente dal suo stato emotivo.\n",
    "\n",
    "La probabilità posteriore $ P(\\text{Ipotesi | Dati}) $ è quindi calcolata come:\n",
    "\n",
    "$$\n",
    "P(\\text{Ipotesi | Dati}) = \\frac{0.8 \\times 0.25}{0.2}.\n",
    "$$\n",
    "\n",
    "In contesti in cui sono possibili solo due esiti, come il presente, possiamo utilizzare i rapporti di probabilità (odds) per esprimere le probabilità. Ad esempio, se la probabilità a priori che il paziente stia vivendo un episodio di depressione è del 25%, l'odds è $ \\frac{1}{3} $, dato che la probabilità complementare è del 75%. In tali circostanze, il Teorema di Bayes può anche essere espresso come:\n",
    "\n",
    "$$\n",
    "\\text{Odds}(\\text{H | D}) = \\text{Odds}(\\text{H}) \\times \\frac{P(D | H)}{P(D | \\neg H)}.\n",
    "$$\n",
    "\n",
    "Qui, il fattore $ \\frac{P(D | H)}{P(D | \\neg H)} $ è noto come \"rapporto di verosimiglianza\".\n",
    "\n",
    "Esaminiamo più attentamente come si passa dalla forma originale del teorema di Bayes alla forma espressa in termini di odds. La forma originale del teorema di Bayes è:\n",
    "\n",
    "$$\n",
    "P(H|D) = \\frac{P(D|H) \\times P(H)}{P(D)},\n",
    "$$\n",
    "\n",
    "dove:\n",
    "- $ P(H|D) $ è la probabilità a posteriori dell'ipotesi $ H $ dato il dato $ D $.\n",
    "- $ P(D|H) $ è la probabilità del dato $ D $ dato che l'ipotesi $ H $ è vera.\n",
    "- $ P(H) $ è la probabilità a priori dell'ipotesi $ H $.\n",
    "- $ P(D) $ è la probabilità totale del dato $ D $.\n",
    "\n",
    "Gli odds a favore di un evento $ A $ si definiscono come il rapporto tra la probabilità che $ A $ si verifichi e la probabilità che $ A $ non si verifichi:\n",
    "\n",
    "$$\n",
    "\\text{Odds}(A) = \\frac{P(A)}{P(\\neg A)} = \\frac{P(A)}{1 - P(A)}.\n",
    "$$\n",
    "\n",
    "Ora, possiamo esprimere la probabilità a posteriori $ P(H|D) $ in termini di odds. Utilizziamo la formula degli odds per ottenere:\n",
    "\n",
    "$$\n",
    "\\text{Odds}(H|D) = \\frac{P(H|D)}{P(\\neg H|D)} = \\frac{P(H|D)}{1 - P(H|D)}.\n",
    "$$\n",
    "\n",
    "Sostituendo la forma originale del Teorema di Bayes per $ P(H|D) $ e per $ P(\\neg H|D) $, otteniamo:\n",
    "\n",
    "$$\n",
    "\\text{Odds}(H|D) = \\frac{\\frac{P(D|H) \\times P(H)}{P(D)}}{\\frac{P(D|\\neg H) \\times P(\\neg H)}{P(D)}}.\n",
    "$$\n",
    "\n",
    "Nota che $ P(D) $ si semplifica:\n",
    "\n",
    "$$\n",
    "\\text{Odds}(H|D) = \\frac{P(D|H) \\times P(H)}{P(D|\\neg H) \\times P(\\neg H)}.\n",
    "$$\n",
    "\n",
    "Ora, utilizziamo la formula degli odds per $ P(H) $ e $ P(\\neg H) $:\n",
    "\n",
    "$$\n",
    "\\text{Odds}(H) = \\frac{P(H)}{P(\\neg H)}.\n",
    "$$\n",
    "\n",
    "Sostituendo nella formula precedente, otteniamo:\n",
    "\n",
    "$$\n",
    "\\text{Odds}(H|D) = \\text{Odds}(H) \\times \\frac{P(D|H)}{P(D|\\neg H)}.\n",
    "$$\n",
    "\n",
    "Una volta ottenuta la versione precedente del teorema di Bayes espresso in termini di odds, facciamo un passo ulteriore, ovvero applichiamo il logaritmo:\n",
    "\n",
    "$$\n",
    "\\log \\left( \\text{Odds}(H | D) \\right) = \\log \\left( \\text{Odds}(H) \\right) + 10 \\log \\left( \\frac{P(D | H)}{P(D | \\neg H)} \\right).\n",
    "$$\n",
    "\n",
    "La forma logaritmica dell'equazione di Bayes è particolarmente istruttiva. Infati, se definiamo \"evidenza\" $ J(H) $ come indicato da Jaynes, possiamo scrivere:\n",
    "\n",
    "$$\n",
    "J(H | D) = J(H) + 10 \\log \\left( \\frac{P(D | H)}{P(D | \\neg H)} \\right).\n",
    "$$\n",
    "\n",
    "Quest'ultimo formalismo è potente per la sua linearità: l'aggiornamento dell'evidenza avviene semplicemente sommando o sottraendo il termine centrale dell'equazione.\n",
    "\n",
    "Per visualizzare questi concetti, possiamo creare un grafico che mostri come le odds posteriori cambiano in risposta a diversi rapporti di verosimiglianza. "
   ]
  },
  {
   "cell_type": "code",
   "execution_count": 21,
   "metadata": {},
   "outputs": [
    {
     "data": {
      "image/png": "[encoded data removed]",
      "text/plain": [
       "<Figure size 720x480 with 1 Axes>"
      ]
     },
     "metadata": {
      "image/png": {
       "height": 491,
       "width": 731
      }
     },
     "output_type": "display_data"
    }
   ],
   "source": [
    "# Valori di probabilità da 0 a 1\n",
    "probabilities = np.linspace(0.01, 0.99, 100)\n",
    "\n",
    "# Calcolo delle log-odds\n",
    "log_odds = np.log(probabilities / (1 - probabilities))\n",
    "\n",
    "# Calcolo dell'evidenza di Jaynes J(H)\n",
    "# Assumiamo un fattore di 10 per scalare il logaritmo, come nel formalismo di Jaynes\n",
    "evidence_jaynes = 10 * log_odds\n",
    "\n",
    "# Creazione del grafico\n",
    "plt.plot(probabilities, evidence_jaynes, label='Evidenza di Jaynes $J(H)$')\n",
    "plt.axhline(0, color='gray', lw=0.5)\n",
    "plt.axvline(0.5, color='gray', lw=0.5)\n",
    "plt.xlabel('Probabilità $P(H)$')\n",
    "plt.ylabel('Evidenza di Jaynes $J(H)$')\n",
    "plt.title('Evidenza di Jaynes in Funzione della Probabilità')\n",
    "plt.legend()\n",
    "plt.show()\n"
   ]
  },
  {
   "cell_type": "markdown",
   "metadata": {},
   "source": [
    "L'equazione di Jaynes ha alcune proprietà matematiche che la rendono particolarmente interessante per l'aggiornamento sequenziale delle credenze o delle evidenze. Ecco una spiegazione più dettagliata della linearità e della facilità di aggiornamento in questa forma.\n",
    "\n",
    "Nella forma logaritmica del Teorema di Bayes:\n",
    "\n",
    "$$\n",
    "\\log \\left( \\text{Odds}(H | D) \\right) = \\log \\left( \\text{Odds}(H) \\right) + 10 \\log \\left( \\frac{P(D | H)}{P(D | \\neg H)} \\right)\n",
    "$$\n",
    "\n",
    "notiamo che l'aggiornamento delle credenze (o delle evidenze, se utilizziamo la notazione di Jaynes) avviene in maniera lineare. Questo è un vantaggio significativo perché la linearità semplifica notevolmente il calcolo quando si ha a che fare con una serie di evidenze o dati.\n",
    "\n",
    "Supponiamo di avere una serie di dati indipendenti $ D_1, D_2, \\ldots, D_n $. In un modello Bayesiano, potremmo voler aggiornare le nostre credenze in modo sequenziale ogni volta che osserviamo un nuovo dato. Nella forma logaritmica, l'aggiornamento diventa semplicemente una somma di termini logaritmici:\n",
    "\n",
    "$$\n",
    "\\log \\left( \\text{Odds}(H | D_1, D_2, \\ldots, D_n) \\right) = \\log \\left( \\text{Odds}(H) \\right) + \\sum_{i=1}^{n} 10 \\log \\left( \\frac{P(D_i | H)}{P(D_i | \\neg H)} \\right).\n",
    "$$\n",
    "\n",
    "Questa forma è \"modulare\", nel senso che ogni nuovo pezzo di evidenza contribuisce con un termine additivo al logaritmo degli odds a posteriori. Questo significa che non è necessario ricominciare da capo ogni volta che si ottiene un nuovo dato; è sufficiente aggiungere (o sottrarre, se l'evidenza è contraria all'ipotesi) il nuovo termine al totale esistente.\n",
    "\n",
    "Nella notazione di Jaynes, il termine $ 10 \\log \\left( \\frac{P(D | H)}{P(D | \\neg H)} \\right) $ rappresenta un \"quantitativo di evidenza\" a favore di $ H $ rispetto a $ \\neg H $ fornito dal dato $ D $. Maggiore è questo valore (in unità di decibel, se si utilizza il fattore 10), più il dato è informativo a favore dell'ipotesi $ H $.\n",
    "\n",
    "In sintesi, la forma logaritmica del Teorema di Bayes offre un modo lineare e modulare di aggiornare le credenze o le evidenze, rendendola particolarmente utile in applicazioni pratiche come il machine learning, la diagnosi medica e la psicologia sperimentale."
   ]
  },
  {
   "cell_type": "markdown",
   "metadata": {},
   "source": [
    "### Esempio Numerico: Diagnosi di Disturbo d'Ansia Sociale (DAS)\n",
    "\n",
    "Supponiamo di essere un psicologo che utilizza un questionario per diagnosticare il Disturbo d'Ansia Sociale (DAS) in un campione di individui. Vogliamo utilizzare il Teorema di Bayes nella sua forma logaritmica per aggiornare le nostre credenze sulla presenza del DAS in un particolare individuo, basandoci su una serie di domande del questionario.\n",
    "\n",
    "#### Informazioni Iniziali\n",
    "\n",
    "- **Probabilità a priori di DAS**: Supponiamo che la probabilità a priori che un individuo selezionato a caso abbia il DAS sia del 10%. Gli odds a priori saranno quindi $ \\frac{0.1}{0.9} \\approx 0.1111 $.\n",
    "- **Domande del Questionario**: Utilizziamo un questionario con tre domande rilevanti (D1, D2, D3), ognuna delle quali ha una probabilità di risposta \"sì\" data da $ P(D_i \\mid \\text{DAS}) $ e $ P(D_i | \\neg \\text{DAS}) $.\n",
    "\n",
    "| Domanda  | $ P(D_i \\mid \\text{DAS}) $ | $ P(D_i \\mid \\neg \\text{DAS}) $ |\n",
    "|----------|-----------------------------|--------------------------------|\n",
    "| D1       | 0.9                         | 0.2                            |\n",
    "| D2       | 0.8                         | 0.3                            |\n",
    "| D3       | 0.85                        | 0.25                           |\n",
    "\n",
    "\n",
    "#### Calcolo degli Odds a Posteriori\n",
    "\n",
    "Per calcolare gli odds a posteriori utilizzando la formula logaritmica, utilizziamo:\n",
    "\n",
    "$$\n",
    "\\log \\left( \\text{Odds}(\\text{DAS} \\mid D_1, D_2, D_3) \\right) = \\log \\left( \\text{Odds}(\\text{DAS}) \\right) + 10 \\log \\left( \\frac{P(D_1 \\mid \\text{DAS})}{P(D_1 \\mid \\neg \\text{DAS})} \\right) + 10 \\log \\left( \\frac{P(D_2 \\mid \\text{DAS})}{P(D_2 \\mid \\neg \\text{DAS})} \\right) + 10 \\log \\left( \\frac{P(D_3 \\mid \\text{DAS})}{P(D_3 \\mid \\neg \\text{DAS})} \\right)\n",
    "$$\n",
    "\n",
    "Calcoliamo.\n",
    "\n",
    "Dopo aver effettuato i calcoli, otteniamo i seguenti risultati:\n",
    "\n",
    "- Termine logaritmico per la domanda D1: $6.53$\n",
    "- Termine logaritmico per la domanda D2: $4.26$\n",
    "- Termine logaritmico per la domanda D3: $5.31$\n",
    "\n",
    "La somma di questi termini logaritmici, sommata al logaritmo degli odds a priori ($ \\log_{10}(0.1111) \\approx -0.96 $), ci dà un log-odds a posteriori di $ 15.15 $.\n",
    "\n",
    "Convertendo questo valore dalla forma logaritmica alla forma originale, otteniamo odds a posteriori di circa $ 1.42 \\times 10^{15} $.\n",
    "\n",
    "Infine, convertiamo gli odds a posteriori in probabilità a posteriori, che risultano essere praticamente $ 1 $ (o $ 100\\% $).\n",
    "\n",
    "### Interpretazione\n",
    "\n",
    "In questo esempio, l'elevata probabilità a posteriori suggerisce fortemente che l'individuo in questione è affetto da DAS, date le risposte al questionario.\n",
    "\n",
    "Ogni termine logaritmico aggiunto alla somma rappresenta un \"quantitativo di evidenza\" a favore della diagnosi di DAS. Ad esempio, il termine $ 6.53 $ per la domanda D1 indica che questa domanda è molto informativa nel sostenere l'ipotesi di DAS.\n",
    "\n",
    "Inoltre, l'aggiornamento modulare degli odds in forma logaritmica ci ha permesso di incorporare facilmente nuove informazioni senza dover ricalcolare l'intera equazione.\n",
    "\n",
    "Questo esempio illustra come la forma logaritmica del Teorema di Bayes possa essere utilizzata in un contesto psicologico per la diagnosi di disturbi mentali, facilitando l'aggiornamento sequenziale delle credenze in modo lineare e modulare."
   ]
  },
  {
   "attachments": {},
   "cell_type": "markdown",
   "metadata": {},
   "source": [
    "## Commenti e considerazioni finali\n",
    "\n",
    "La riflessione epistemologica contemporanea ha ribadito che la conoscenza non può essere vista come una certezza inconfutabile o una garanzia razionale di verità. Invece, essa emerge come una serie di decisioni prese all'interno di un contesto di incertezza. Questa comprensione è particolarmente pertinente nel campo della ricerca scientifica, dove né la logica deduttiva né le rigorose dimostrazioni matematiche sono sufficienti. Di conseguenza, la scienza necessita di una \"logica dell'incertezza,\" che è efficacemente fornita dalla teoria delle probabilità, e più specificamente, dal teorema di Bayes.\n",
    "\n",
    "Il teorema di Bayes ci offre un framework per interpretare la probabilità come una valutazione soggettiva influenzata da diversi fattori condizionanti. In pratica, il teorema esprime la probabilità a posteriori $ P(H_i \\mid E) $ come un risultato derivato dalla combinazione della probabilità a priori $ P(H_i) $ e della verosimiglianza $ P(E \\mid H_i) $. Questa formulazione sottolinea che la nostra valutazione probabilistica di una data ipotesi $ H_i $ è modulata sia dall'evidenza empirica $ E $ che dalle nostre credenze a priori $ P(H_i) $.\n",
    "\n",
    "Poiché la probabilità è una valutazione intrinsecamente soggettiva, è possibile che diversi osservatori arrivino a conclusioni differenti. Tuttavia, il teorema di Bayes fornisce un meccanismo razionale—conosciuto come \"aggiornamento bayesiano\"—per ricalibrare queste credenze in risposta a nuove informazioni o evidenze.\n",
    "\n",
    "L'approccio bayesiano offre strumenti per valutare l'efficacia di diverse strategie di trattamento o interventi in psicologia clinica. Per esempio, se si afferma che la meditazione mattutina è efficace nel trattamento della depressione, è essenziale valutare questa affermazione nel contesto di tutte le evidenze disponibili, compresi i casi in cui la meditazione non ha portato a miglioramenti.\n",
    "\n",
    "In sintesi, la metodologia bayesiana fornisce una cornice robusta per l'aggiornamento delle probabilità in presenza di nuove informazioni, offrendo spunti importanti sia per la ricerca che per la pratica clinica in psicologia.\n",
    "\n",
    "Nel contesto di questo capitolo, abbiamo focalizzato la nostra discussione sul teorema di Bayes nel caso delle variabili casuali discrete. Tuttavia, nel prossimo capitolo, esploreremo come il teorema può essere applicato in modo più intuitivo alle variabili casuali continue. Per ulteriori dettagli, si rimanda al notebook {ref}`bayes-workflow-notebook`.\n",
    "\n",
    "## Watermark"
   ]
  },
  {
   "cell_type": "code",
   "execution_count": 22,
   "metadata": {},
   "outputs": [
    {
     "name": "stdout",
     "output_type": "stream",
     "text": [
      "Last updated: Mon Jan 22 2024\n",
      "\n",
      "Python implementation: CPython\n",
      "Python version       : 3.11.7\n",
      "IPython version      : 8.19.0\n",
      "\n",
      "matplotlib: 3.8.2\n",
      "pandas    : 2.1.4\n",
      "arviz     : 0.17.0\n",
      "numpy     : 1.26.2\n",
      "seaborn   : 0.13.0\n",
      "\n",
      "Watermark: 2.4.3\n",
      "\n"
     ]
    }
   ],
   "source": [
    "%load_ext watermark\n",
    "%watermark -n -u -v -iv -w "
   ]
  }
 ],
 "metadata": {
  "kernelspec": {
   "display_name": "pymc",
   "language": "python",
   "name": "python3"
  },
  "language_info": {
   "codemirror_mode": {
    "name": "ipython",
    "version": 3
   },
   "file_extension": ".py",
   "mimetype": "text/x-python",
   "name": "python",
   "nbconvert_exporter": "python",
   "pygments_lexer": "ipython3",
   "version": "3.11.7"
  },
  "vscode": {
   "interpreter": {
    "hash": "cbb367cc0128e23b7454d788d5a4229ca1f9848fd2e857f4797fbd26ab3b0776"
   }
  }
 },
 "nbformat": 4,
 "nbformat_minor": 2
}