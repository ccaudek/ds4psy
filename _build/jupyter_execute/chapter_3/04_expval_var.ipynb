{
 "cells": [
  {
   "attachments": {},
   "cell_type": "markdown",
   "metadata": {},
   "source": [
    "<a target=\"_blank\" rel=\"noopener noreferrer\" href=\"https://colab.research.google.com/github/ccaudek/ds4psy_2023/blob/main/125_expval_var.ipynb\">![Open In Colab](https://colab.research.google.com/assets/colab-badge.svg)</a>\n",
    "\n",
    "(random_variables_notebook)=\n",
    "# Variabili casuali "
   ]
  },
  {
   "cell_type": "markdown",
   "metadata": {},
   "source": [
    "```{admonition} Obiettivi di apprendimento\n",
    "Al termine di questo capitolo, sarai in grado di:\n",
    "\n",
    "- Comprendere i fondamenti delle variabili casuali, sia discrete che continue.\n",
    "- Comprendere in modo approfondito i concetti di valore atteso e varianza per variabili casuali discrete.\n",
    "- Familiarizzare con le principali proprietà legate a valore atteso e varianza.\n",
    "- Estendere la tua comprensione di valore atteso e varianza a variabili casuali continue.\n",
    "- Utilizzare Python per calcolare effettivamente queste metriche.\n",
    "- Interpretare in maniera critica i risultati calcolati.\n",
    "```\n",
    "\n",
    "In questo capitolo, introduciamo le variabili casuali, un concetto che semplifica la notazione e amplia la nostra capacità di quantificare l'incertezza e riassumere i risultati degli esperimenti."
   ]
  },
  {
   "cell_type": "code",
   "execution_count": 1,
   "metadata": {},
   "outputs": [],
   "source": [
    "import numpy as np\n",
    "from scipy import stats as stats\n",
    "import matplotlib.pyplot as plt\n",
    "import arviz as az"
   ]
  },
  {
   "cell_type": "code",
   "execution_count": 2,
   "metadata": {},
   "outputs": [],
   "source": [
    "%config InlineBackend.figure_format = 'retina'\n",
    "RANDOM_SEED = 42\n",
    "rng = np.random.default_rng(RANDOM_SEED)\n",
    "az.style.use(\"arviz-darkgrid\")"
   ]
  },
  {
   "cell_type": "markdown",
   "metadata": {},
   "source": [
    "## Variabili Casuali: Natura, Tipologie e Distribuzione\n",
    "\n",
    "### Natura delle Variabili Casuali\n",
    "\n",
    "Una variabile casuale è un costrutto matematico fondamentale nella teoria della probabilità e nelle applicazioni statistiche. Formalmente, è definita come una funzione che mappa uno spazio campione $ S $ a un sottoinsieme dei numeri reali $ \\mathbb{R} $. In termini più intuitivi, una variabile casuale quantifica gli esiti di un fenomeno aleatorio, assegnando un valore numerico a ciascuno di essi. \n",
    "\n",
    "$$\n",
    "\\text{Variabile Casuale (v.c.)} : S \\rightarrow \\mathbb{R}\n",
    "$$\n",
    "\n",
    "### Classificazione delle Variabili Casuali\n",
    "\n",
    "Le variabili casuali possono essere categorizzate in due classi principali:\n",
    "\n",
    "1. **Variabili Casuali Discrete**: Queste variabili assumono un insieme finito o numerabile di valori distinti. Ad esempio, la frequenza con cui un individuo controlla il proprio smartphone in un'ora è una variabile casuale discreta.\n",
    "\n",
    "2. **Variabili Casuali Continue**: Queste variabili possono assumere un'infinità di valori all'interno di un determinato intervallo continuo. Un esempio potrebbe essere il tempo di reazione di un individuo a un particolare stimolo visuale.\n",
    "\n",
    "### Variabile Casuale come Entità Latente\n",
    "\n",
    "Una variabile casuale può anche essere concepita come una \"variabile latente\": un parametro intrinseco ma non direttamente osservabile. Questa variabile latente rappresenta l'intero spettro di esiti potenzialmente osservabili in un esperimento, ma rimane in uno stato di \"latenza\" fino a quando l'esperimento non viene effettuato. Al momento della realizzazione dell'esperimento, la variabile latente si \"attualizza\" in un esito specifico, che viene quindi registrato come dato empirico. Ad esempio, in un test psicometrico come un test di IQ, l'intelligenza è la variabile latente che si manifesta attraverso i punteggi ottenuti dai partecipanti al test.\n",
    "\n",
    "### Notazione\n",
    "\n",
    "È convenzionale denotare le variabili casuali con lettere maiuscole (ad esempio, $X, Y, Z$) e i loro valori realizzati (esiti osservati) con lettere minuscole (ad esempio, $x, y, z$).\n",
    "\n",
    "### Distribuzione di una Variabile Casuale\n",
    "\n",
    "Una volta introdotta la variabile casuale, si pone la questione di come descrivere l'insieme di tutti i suoi esiti possibili e le relative probabilità. Questo ci introduce al concetto di \"distribuzione\" di una variabile casuale.\n",
    "\n",
    "#### Che Cos'è una Distribuzione?\n",
    "\n",
    "Una distribuzione di una variabile casuale fornisce una descrizione dettagliata degli esiti possibili e delle loro probabilità associate. Per esempio, nel lancio di un dado standard a sei facce, ogni faccia ha una probabilità di $ \\frac{1}{6} $ di apparire. In questo caso, la distribuzione della variabile casuale sarà un elenco che collega ogni esito numerico (da 1 a 6) alla sua probabilità di occorrenza ($ \\frac{1}{6} $).\n",
    "\n",
    "Questo quadro distributivo è cruciale per comprendere il comportamento delle variabili casuali, consentendo analisi inferenziali e previsionali più accurate.\n",
    "\n",
    "In sintesi, la variabile casuale agisce come un modello astratto che esprime la totalità degli esiti possibili in un fenomeno aleatorio. Solo quando l'esperimento viene condotto, la variabile casuale esce dal suo stato latente per manifestarsi come un esito osservabile e specifico, che può quindi essere analizzato statisticamente."
   ]
  },
  {
   "attachments": {},
   "cell_type": "markdown",
   "metadata": {},
   "source": [
    "## Valore atteso\n",
    "\n",
    "Spesso è utile sintetizzare la distribuzione di una variabile casuale tramite indicatori caratteristici.  Questi indicatori permettono di cogliere le caratteristiche principali della distribuzione, come la posizione (cioè il baricentro) e la variabilità (cioè la dispersione attorno ad un centro). In questo modo, si può avere una descrizione sintetica della distribuzione di probabilità della variabile casuale. In questo capitolo introdurremo i concetti di valore atteso e di varianza di una variabile casule. \n",
    "\n",
    "Quando vogliamo conoscere il comportamento tipico di una variabile casuale spesso vogliamo sapere qual è il suo \"valore tipico\". La nozione di \"valore tipico\", tuttavia, è ambigua. Infatti, essa può essere definita in almeno tre modi diversi:\n",
    "\n",
    "-   la *media* (somma dei valori divisa per il numero dei valori),\n",
    "-   la *mediana* (il valore centrale della distribuzione, quando la variabile è ordinata in senso crescente o decrescente),\n",
    "-   la *moda* (il valore che ricorre più spesso).\n",
    "\n",
    "Per esempio, la media di $\\{3, 1, 4, 1, 5\\}$ è $\\frac{3+1+4+1+5}{5} = 2.8$, la mediana è $3$ e la moda è $1$. Tuttavia, la teoria delle probabilità si occupa di variabili casuali piuttosto che di sequenze di numeri. Diventa dunque necessario precisare che cosa intendiamo per \"valore tipico\" quando facciamo riferimento alle variabili casuali. Giungiamo così alla seguente definizione.\n",
    "\n",
    "```{admonition} Definizione\n",
    "Sia $Y$ è una variabile casuale discreta che assume i valori $y_1, \\dots, y_n$ con distribuzione $P(Y = y_i) = p(y_i)$. Per definizione il *valore atteso* di $Y$, $\\mathbb{E}(Y)$, è\n",
    "\n",
    "$$\n",
    "\\mathbb{E}(Y) = \\sum_{i=1}^n y_i \\cdot p(y_i).\n",
    "$$ (eq-expval-discr)\n",
    "```\n",
    "\n",
    "A parole: il valore atteso (o speranza matematica, o aspettazione, o valor medio) di una variabile casuale è definito come la somma di tutti i valori che la variabile casuale può prendere, ciascuno pesato dalla probabilità con cui il valore è preso.\n",
    "\n",
    "````{prf:example}\n",
    ":label: rv-expl-2\n",
    "Calcoliamo il valore atteso della variabile casuale $Y$ corrispondente al lancio di una moneta equilibrata (testa: *Y* = 1; croce: *Y* = 0).\n",
    "````\n",
    "\n",
    "$$\n",
    "\\mathbb{E}(Y) = \\sum_{i=1}^{2} y_i \\cdot P(y_i) = 0 \\cdot \\frac{1}{5} + 1 \\cdot \\frac{1}{5} = 0.5.\n",
    "$$\n",
    "\n",
    "````{prf:example}\n",
    ":label: rv-expl-3\n",
    "Calcoliamo il valore atteso della variabile casuale $X$ corrispondente alla somma dei punti ottenuti dal lancio di due dadi equilibrati a sei facce. \n",
    "````\n",
    "\n",
    "Abbiamo visto nel capitolo {ref}`intro_prob_notebook` che $X$ può assumere i valori [2, 3, 4, 5, 6, 7, 8, 9, 10, 11, 12] con distribuzione di massa di probabilità pari a [1/36, 2/36, 3/36, 4/36, 5/36, 6/36, 5/36, 4/36, 3/36, 2/36, 1/36]. Applicando l'eq. {eq}`eq-expval-discr` otteniamo:\n",
    "\n",
    "$$\n",
    "\\mathbb{E}(X) = \\sum_{i=1}^{11} x_i \\cdot P(x_i) = 2 \\cdot \\frac{1}{36} + 3 \\cdot \\frac{2}{36} + \\dots + 12 \\cdot \\frac{1}{36} = 7.0.\n",
    "$$\n",
    "\n",
    "Svolgiamo ora l'esercizio in Python. "
   ]
  },
  {
   "attachments": {},
   "cell_type": "markdown",
   "metadata": {},
   "source": [
    "Definisco i valori della variabile casuale $X$ e li trasformiamo in un array NumPy:"
   ]
  },
  {
   "cell_type": "code",
   "execution_count": 3,
   "metadata": {},
   "outputs": [
    {
     "data": {
      "text/plain": [
       "array([ 2,  3,  4,  5,  6,  7,  8,  9, 10, 11, 12])"
      ]
     },
     "execution_count": 3,
     "metadata": {},
     "output_type": "execute_result"
    }
   ],
   "source": [
    "x = np.array(list(range(2, 13)))\n",
    "x"
   ]
  },
  {
   "attachments": {},
   "cell_type": "markdown",
   "metadata": {},
   "source": [
    "Per trovare la distribuzione di massa della variabile $X$ ripeto qui il codice che abbiamo usato nel capitolo {ref}`intro_prob_notebook`."
   ]
  },
  {
   "cell_type": "code",
   "execution_count": 4,
   "metadata": {},
   "outputs": [
    {
     "data": {
      "text/plain": [
       "array([0.02777778, 0.05555556, 0.08333333, 0.11111111, 0.13888889,\n",
       "       0.16666667, 0.13888889, 0.11111111, 0.08333333, 0.05555556,\n",
       "       0.02777778])"
      ]
     },
     "execution_count": 4,
     "metadata": {},
     "output_type": "execute_result"
    }
   ],
   "source": [
    "r = range(1, 7)\n",
    "sample = [(i, j) for i in r for j in r]\n",
    "\n",
    "px = []\n",
    "\n",
    "for i in range(2, 13):\n",
    "    event = [roll for roll in sample if sum(roll) == i]\n",
    "    px.append(len(event) / len(sample))\n",
    "\n",
    "px = np.array(px)\n",
    "px"
   ]
  },
  {
   "attachments": {},
   "cell_type": "markdown",
   "metadata": {},
   "source": [
    "Calcolo ora il valore atteso della $X$ usando l'eq. {eq}`eq-expval-discr`:"
   ]
  },
  {
   "cell_type": "code",
   "execution_count": 5,
   "metadata": {},
   "outputs": [
    {
     "data": {
      "text/plain": [
       "7.0"
      ]
     },
     "execution_count": 5,
     "metadata": {},
     "output_type": "execute_result"
    }
   ],
   "source": [
    "ex = np.sum(x * px)\n",
    "ex.round(3)"
   ]
  },
  {
   "attachments": {},
   "cell_type": "markdown",
   "metadata": {},
   "source": [
    "In alternativa, posso usare le funzioni del modulo `rv_discrete` della libreria `stats`:"
   ]
  },
  {
   "cell_type": "code",
   "execution_count": 6,
   "metadata": {},
   "outputs": [],
   "source": [
    "x = np.arange(2, 13)\n",
    "px = np.array([1/36, 2/36, 3/36, 4/36, 5/36, 6/36, 5/36, 4/36, 3/36, 2/36, 1/36])\n",
    "X = stats.rv_discrete(values=(x, px))"
   ]
  },
  {
   "attachments": {},
   "cell_type": "markdown",
   "metadata": {},
   "source": [
    "Una volta definito l'oggetto $X$ con `rv_discrete()`, il valore atteso viene ritornato dalla funzione `expect()`:"
   ]
  },
  {
   "cell_type": "code",
   "execution_count": 7,
   "metadata": {},
   "outputs": [
    {
     "data": {
      "text/plain": [
       "7.0"
      ]
     },
     "execution_count": 7,
     "metadata": {},
     "output_type": "execute_result"
    }
   ],
   "source": [
    "x_ev = X.expect()\n",
    "round(x_ev, 3)"
   ]
  },
  {
   "attachments": {},
   "cell_type": "markdown",
   "metadata": {},
   "source": [
    "### Interpretazione\n",
    "\n",
    "Il valore atteso corrisponde alla media aritmetica di un grande numero di realizzazioni indipendenti della variabile casuale.\n",
    "\n",
    "Per fare un esempio, ritorniamo all'esempio precedente relativo al lancio di due dadi bilanciati a sei facce nel quale $X$ rappresenta la \"somma dei due dadi\". Per interpretare il valore atteso, simuliamo un grande numero di realizzazioni indipendenti della $X$ mediante la funzione `random.choice()` della libreria NumPy. Tale funzione prende come argomenti i valori della variabile casuale, il numero di ripetizioni indipedenti (qui 1,000,000) e la distribuzione di massa di probabilità:"
   ]
  },
  {
   "cell_type": "code",
   "execution_count": 8,
   "metadata": {},
   "outputs": [],
   "source": [
    "x_samples = np.random.choice(x, size=1000000, p=px)"
   ]
  },
  {
   "attachments": {},
   "cell_type": "markdown",
   "metadata": {},
   "source": [
    "L'istruzione `np.random.choice(x, size=1000000, p=px)` utilizza la libreria NumPy per generare un array di 1.000.000 di elementi (parametro `size`), scelti casualmente dall'array `x` con le probabilità specificate nell'array `px`. In particolare, `x` è l'array di cui si vuole effettuare una scelta casuale e `px` è un array che contiene le probabilità associate ad ogni elemento di `x`. \n",
    "\n",
    "Come ci aspettavamo, per un grande numero di realizzazioni indipendenti della $X$, la media aritmetica approssima il valore atteso:"
   ]
  },
  {
   "cell_type": "code",
   "execution_count": 9,
   "metadata": {},
   "outputs": [
    {
     "data": {
      "text/plain": [
       "7.0"
      ]
     },
     "execution_count": 9,
     "metadata": {},
     "output_type": "execute_result"
    }
   ],
   "source": [
    "np.mean(x_samples).round(3)"
   ]
  },
  {
   "attachments": {},
   "cell_type": "markdown",
   "metadata": {},
   "source": [
    "### Proprietà del valore atteso\n",
    "\n",
    "La proprietà più importante del valore atteso è la linearità: il valore atteso di una somma di variabili casuali è uguale alla somma dei lori rispettivi valori attesi:\n",
    "\n",
    "$$\n",
    "\\mathbb{E}(X + Y) = \\mathbb{E}(X) + \\mathbb{E}(Y).\n",
    "$$ (eq-prop-expval-linearity)\n",
    "\n",
    "L'eq. {eq}`eq-prop-expval-linearity` sembra ragionevole quando $X$ e $Y$ sono indipendenti, ma è anche vera quando $X$ e $Y$ sono associati. Abbiamo anche che\n",
    "\n",
    "$$\n",
    "\\mathbb{E}(cY) = c \\mathbb{E}(Y).\n",
    "$$ (eq-prop-expval-const)\n",
    "\n",
    "L'eq. {eq}`eq-prop-expval-const` ci dice che possiamo estrarre una costante dall'operatore di valore atteso. Tale proprietà si estende a qualunque numero di variabili casuali. Infine, se due variabili casuali $X$ e $Y$ sono indipendenti, abbiamo che\n",
    "\n",
    "$$\n",
    "\\mathbb{E}(X Y) = \\mathbb{E}(X) \\mathbb{E}(Y). \n",
    "$$ (eq-expval-prod-ind-rv)\n",
    "\n",
    "La media aritmetica $\\textstyle {\\bar  {X}}={\\frac  {X_{1}+\\ldots +X_{n}}{n}}$ di $n$ variabili casuali indipendenti aventi la medesima distribuzione di media $\\mu$ ha valore atteso \n",
    "\n",
    "$$\n",
    "\\mathbb{E}(\\bar{X}) = \\frac{1}{n} \\mathbb{E}(X_1)+ \\dots \\mathbb{E}(X_n) = \\frac{1}{n} n \\mathbb{E}(X) = \\mu.\n",
    "$$\n",
    "\n",
    "````{prf:example}\n",
    ":label: rv-expl-4\n",
    "\n",
    "Consideriamo il seguente esperimento casuale. Sia $Y$ il numero che si ottiene dal lancio di un dado equilibrato a sei facce e $Y$ il numero di teste prodotto dal lancio di una moneta equilibrata (0 oppure 1). Troviamo il valore atteso di $X+Y$.\n",
    "````\n",
    "\n",
    "Per risolvere il problema iniziamo a costruire lo spazio campione dell'esperimento casuale.\n",
    "\n",
    "| $x /\\ y$ |   1    |   2    |   3    |   4    |   5    |   6    |\n",
    "|:--------------------:|:------:|:------:|:------:|:------:|:------:|:------:|\n",
    "|          0           | (0, 1) | (0, 2) | (0, 3) | (0, 4) | (0, 5) | (0, 6) |\n",
    "|          1           | (1, 1) | (1, 2) | (1, 3) | (1, 4) | (1, 5) | (1, 6) |\n",
    "\n",
    "ovvero\n",
    "\n",
    "| $x /\\ y$ |  1  |  2  |  3  |  4  |  5  |  6  |\n",
    "|:--------------------:|:---:|:---:|:---:|:---:|:---:|:---:|\n",
    "|          0           |  1  |  2  |  3  |  4  |  5  |  6  |\n",
    "|          1           |  2  |  3  |  4  |  5  |  6  |  7  |\n",
    "\n",
    "Il risultato del lancio del dado è indipendente dal risultato del lancio della moneta. Pertanto, ciascun evento elementare dello spazio campione avrà la stessa probabilità di verificarsi, ovvero $P(\\omega) = \\frac{1}{12}$. Il valore atteso di $X+Y$ è dunque uguale a:\n",
    "\n",
    "$$\n",
    "\\mathbb{E}(X+Y) = 1 \\cdot \\frac{1}{12} + 2 \\cdot \\frac{1}{12} + \\dots + 7 \\cdot \\frac{1}{12} = 4.0.\n",
    "$$\n",
    "\n",
    "Si ottiene lo stesso risultato usando l'eq. {eq}`eq-prop-expval-linearity`:\n",
    "\n",
    "$$\n",
    "\\mathbb{E}(X+Y) = \\mathbb{E}(X) + E(Y) = 3.5 + 0.5 = 4.0.\n",
    "$$"
   ]
  },
  {
   "attachments": {},
   "cell_type": "markdown",
   "metadata": {},
   "source": [
    "Svolgiamo ora l'esercizio in Python."
   ]
  },
  {
   "cell_type": "code",
   "execution_count": 10,
   "metadata": {},
   "outputs": [
    {
     "data": {
      "text/plain": [
       "[(0, 1),\n",
       " (0, 2),\n",
       " (0, 3),\n",
       " (0, 4),\n",
       " (0, 5),\n",
       " (0, 6),\n",
       " (1, 1),\n",
       " (1, 2),\n",
       " (1, 3),\n",
       " (1, 4),\n",
       " (1, 5),\n",
       " (1, 6)]"
      ]
     },
     "execution_count": 10,
     "metadata": {},
     "output_type": "execute_result"
    }
   ],
   "source": [
    "coin = range(0, 2)\n",
    "die = range(1, 7)\n",
    "\n",
    "sample = [(c, d) for c in coin for d in die]\n",
    "list(sample)"
   ]
  },
  {
   "cell_type": "code",
   "execution_count": 11,
   "metadata": {},
   "outputs": [
    {
     "name": "stdout",
     "output_type": "stream",
     "text": [
      "P(X + Y = 1) = 1 / 12\n",
      "P(X + Y = 2) = 2 / 12\n",
      "P(X + Y = 3) = 2 / 12\n",
      "P(X + Y = 4) = 2 / 12\n",
      "P(X + Y = 5) = 2 / 12\n",
      "P(X + Y = 6) = 2 / 12\n",
      "P(X + Y = 7) = 1 / 12\n"
     ]
    }
   ],
   "source": [
    "px = []\n",
    "for i in range(1, 8):\n",
    "    event = [roll for roll in sample if sum(roll) == i]\n",
    "    px.append(len(event) / len(sample))\n",
    "    print(f\"P(X + Y = {i}) = {len(event)} / {len(sample)}\")\n"
   ]
  },
  {
   "cell_type": "code",
   "execution_count": 12,
   "metadata": {},
   "outputs": [
    {
     "data": {
      "text/plain": [
       "4.0"
      ]
     },
     "execution_count": 12,
     "metadata": {},
     "output_type": "execute_result"
    }
   ],
   "source": [
    "x = np.arange(1, 8)\n",
    "sum(x * px)"
   ]
  },
  {
   "attachments": {},
   "cell_type": "markdown",
   "metadata": {},
   "source": [
    "````{prf:example}\n",
    ":label: rv-expl-5\n",
    "\n",
    "Consideriamo le variabili casuali $X$ e $Y$ definite nel caso del lancio di tre monete equilibrate, dove $X$ conta il numero delle teste nei tre lanci e $Y$ conta il numero delle teste al primo lancio. Si calcoli il valore atteso di $Z = X \\cdot Y$.\n",
    "````\n",
    "\n",
    "La distribuzione di probabilità congiunta $P(X, Y)$ è fornita nella tabella seguente.\n",
    "\n",
    "| $x /\\ y$ |  0  |  1  | $p(Y)$ |\n",
    "|:--------------------:|:---:|:---:|:------:|\n",
    "|          0           | 1/8 |  0  |  1/8   |\n",
    "|          1           | 2/8 | 1/8 |  3/8   |\n",
    "|          2           | 1/8 | 2/8 |  3/8   |\n",
    "|          3           |  0  | 1/8 |  1/8   |\n",
    "|        $p(y)$        | 4/8 | 4/8 |  1.0   |\n",
    "\n",
    "Il calcolo del valore atteso di $XY$ si riduce a\n",
    "\n",
    "$$\n",
    "\\mathbb{E}(Z) = 1 \\cdot \\frac{1}{8} + 2 \\cdot \\frac{2}{8} + 3 \\cdot \\frac{1}{8} = 1.0.\n",
    "$$\n",
    "\n",
    "Si noti che le variabili casuali $Y$ e $Y$ non sono indipendenti. Dunque non possiamo usare l'eq. {eq}`eq-expval-prod-ind-rv`. Infatti, il valore atteso di $X$ è\n",
    "\n",
    "$$\n",
    "\\mathbb{E}(X) = 1 \\cdot \\frac{3}{8} + 2 \\cdot \\frac{3}{8} + 3 \\cdot \\frac{1}{8} = 1.5\n",
    "$$\n",
    "\n",
    "e il valore atteso di $Y$ è\n",
    "\n",
    "$$\n",
    "\\mathbb{E}(Y) = 0 \\cdot \\frac{4}{8} + 1 \\cdot \\frac{4}{8} = 0.5.\n",
    "$$\n",
    "\n",
    "Perciò\n",
    "\n",
    "$$\n",
    "1.5 \\cdot 0.5 \\neq 1.0.\n",
    "$$\n",
    "\n",
    "Svolgiamo l'esercizio in Python."
   ]
  },
  {
   "cell_type": "code",
   "execution_count": 13,
   "metadata": {},
   "outputs": [
    {
     "name": "stdout",
     "output_type": "stream",
     "text": [
      "P(Z = 0) : 4 / 8\n",
      "P(Z = 1) : 1 / 8\n",
      "P(Z = 2) : 2 / 8\n",
      "P(Z = 3) : 1 / 8\n"
     ]
    }
   ],
   "source": [
    "r = range(0, 2)\n",
    "sample = [(i, j, w) for i in r for j in r for w in r]\n",
    "\n",
    "for i in range(0, 4):\n",
    "    event = [toss for toss in sample if sum(toss) * toss[0] == i]\n",
    "    print(f\"P(Z = {i}) : {len(event)} / {len(sample)}\")"
   ]
  },
  {
   "cell_type": "code",
   "execution_count": 14,
   "metadata": {},
   "outputs": [
    {
     "data": {
      "text/plain": [
       "1.0"
      ]
     },
     "execution_count": 14,
     "metadata": {},
     "output_type": "execute_result"
    }
   ],
   "source": [
    "z = np.array([0, 1, 2, 3])\n",
    "pz = np.array([4/8, 1/8, 2/8, 1/8])\n",
    "sum(z * pz)"
   ]
  },
  {
   "attachments": {},
   "cell_type": "markdown",
   "metadata": {},
   "source": [
    "### Variabili casuali continue\n",
    "\n",
    "Nel caso di una variabile casuale continua $Y$ il valore atteso diventa:\n",
    "\n",
    "$$\n",
    "\\mathbb{E}(Y) = \\int_{-\\infty}^{+\\infty} y p(y) \\,\\operatorname{d}\\!y.\n",
    "$$ (eq-def-ev-rv-cont)\n",
    "\n",
    "Anche in questo caso il valore atteso è una media ponderata della $y$, nella quale ciascun possibile valore $y$ è ponderato per il corrispondente valore della densità $p(y)$. Possiamo leggere l'integrale pensando che $y$ rappresenti l'ampiezza delle barre infinitamente strette di un istogramma, con la densità $p(y)$ che corrisponde all'altezza di tali barre e la notazione $\\int_{-\\infty}^{+\\infty}$ che corrisponde ad una somma.[^018_expval_var-1]\n",
    "\n",
    "[^018_expval_var-1]: Per il significato della notazione di integrale, si veda l'appendice {ref}`calculus-appendix`.\n",
    "\n",
    "#### Moda\n",
    "\n",
    "Un'altra misura di tendenza centrale delle variabili casuali continue è la moda. La moda di $Y$ individua il valore $y$ più plausibile, ovvero il valore $y$ che massimizza la funzione di densità $p(y)$:\n",
    "\n",
    "$$\n",
    "Mo(Y) = \\text{argmax}_y p(y).\n",
    "$$ (eq-def-mode)\n",
    "\n",
    "```{note}\n",
    "La notazione $\\text{argmax}_y p(y)$ significa: il valore $y$ tale per cui la funzione $p(y)$ assume il suo valore massimo.\n",
    "```"
   ]
  },
  {
   "attachments": {},
   "cell_type": "markdown",
   "metadata": {},
   "source": [
    "## Varianza\n",
    "\n",
    "La seconda più importante proprietà di una variabile casuale, dopo che conosciamo il suo valore atteso, è la *varianza*.\n",
    "\n",
    "```{admonition} Definizione\n",
    "Se $Y$ è una variabile casuale discreta con distribuzione $p(y)$, per definizione la varianza di $Y$, $\\mathbb{V}(Y)$, è\n",
    "\n",
    "$$\n",
    "\\mathbb{V}(Y) = \\mathbb{E}\\Big[\\big(Y - \\mathbb{E}(Y)\\big)^2\\Big].\n",
    "$$ (eq-def-var-rv)\n",
    "```\n",
    "\n",
    "A parole: la varianza è la deviazione media quadratica della variabile dalla sua media.[^018_expval_var-2] Se denotiamo $\\mathbb{E}(Y) = \\mu$, la varianza $\\mathbb{V}(Y)$ diventa il valore atteso di $(Y - \\mu)^2$.\n",
    "\n",
    "[^018_expval_var-2]: Data una variabile casuale $Y$ con valore atteso $\\mathbb{E}(Y)$, le \"distanze\" tra i valori di $Y$ e il valore atteso $\\mathbb{E}(Y)$ definiscono la variabile casuale $Y - \\mathbb{E}(Y)$ chiamata *scarto*, oppure *deviazione* oppure *variabile casuale centrata*. La variabile $Y - \\mathbb{E}(Y)$ equivale ad una traslazione di sistema di riferimento che porta il valore atteso nell'origine degli assi. Si può dimostrare facilmente che il valore atteso della variabile scarto $Y - \\mathbb{E}(Y)$ vale zero, dunque la media di tale variabile non può essere usata per quantificare la \"dispersione\" dei valori di $Y$ relativamente al suo valore medio. Occorre rendere sempre positivi i valori di $Y - \\mathbb{E}(Y)$ e tale risultato viene ottenuto considerando la variabile casuale $\\left(Y - \\mathbb{E}(Y)\\right)^2$.\n"
   ]
  },
  {
   "attachments": {},
   "cell_type": "markdown",
   "metadata": {},
   "source": [
    "````{prf:example}\n",
    ":label: rv-expl-6\n",
    "\n",
    "Posta $S$ uguale alla somma dei punti ottenuti nel lancio di due dadi equilibrati, si calcoli la varianza di $S$.\n",
    "````\n",
    "\n",
    "La variabile casuale $S$ ha la seguente distribuzione di probabilità:\n",
    "\n",
    "|    $s$     |       2        |       3        |       4        |       5        |       6        |       7        |       8        |       9        |       10       |       11       |       12       |\n",
    "|:----------:|:--------------:|:--------------:|:--------------:|:--------------:|:--------------:|:--------------:|:--------------:|:--------------:|:--------------:|:--------------:|:--------------:|\n",
    "| $P(S = s)$ | $\\frac{1}{36}$ | $\\frac{2}{36}$ | $\\frac{3}{36}$ | $\\frac{4}{36}$ | $\\frac{5}{36}$ | $\\frac{6}{36}$ | $\\frac{5}{36}$ | $\\frac{4}{36}$ | $\\frac{3}{36}$ | $\\frac{2}{36}$ | $\\frac{1}{36}$ |\n",
    "\n",
    "Essendo $\\mathbb{E}(S) = 7$, la varianza diventa\n",
    "\n",
    "$$\n",
    "\\begin{align}\n",
    "\\mathbb{V}(S) &= \\sum \\left(s - \\mathbb{E}(S)\\right)^2 \\cdot P(s) \\notag\\\\\n",
    "&= (2 - 7)^2 \\cdot \\frac{1}{36} + (3-7)^2 \\cdot \\frac{3}{36} + \\dots + (12 - 7)^2 \\cdot \\frac{1}{36} \\notag\\\\\n",
    "&= 5.8333.\\notag\n",
    "\\end{align}\n",
    "$$\n",
    "\n",
    "Svolgiamo l'esercizio in Python."
   ]
  },
  {
   "cell_type": "code",
   "execution_count": 15,
   "metadata": {},
   "outputs": [
    {
     "data": {
      "text/plain": [
       "6.999999999999998"
      ]
     },
     "execution_count": 15,
     "metadata": {},
     "output_type": "execute_result"
    }
   ],
   "source": [
    "x = np.arange(2, 13)\n",
    "px = np.array(\n",
    "    [\n",
    "        1 / 36,\n",
    "        2 / 36,\n",
    "        3 / 36,\n",
    "        4 / 36,\n",
    "        5 / 36,\n",
    "        6 / 36,\n",
    "        5 / 36,\n",
    "        4 / 36,\n",
    "        3 / 36,\n",
    "        2 / 36,\n",
    "        1 / 36,\n",
    "    ]\n",
    ")\n",
    "X = stats.rv_discrete(values=(x, px))\n",
    "ex = X.expect()\n",
    "ex"
   ]
  },
  {
   "attachments": {},
   "cell_type": "markdown",
   "metadata": {},
   "source": [
    "Applichiamo l'eq. {eq}`eq-def-var-rv`:"
   ]
  },
  {
   "cell_type": "code",
   "execution_count": 16,
   "metadata": {},
   "outputs": [
    {
     "data": {
      "text/plain": [
       "5.833333333333333"
      ]
     },
     "execution_count": 16,
     "metadata": {},
     "output_type": "execute_result"
    }
   ],
   "source": [
    "((x - ex) ** 2 * px).sum()"
   ]
  },
  {
   "attachments": {},
   "cell_type": "markdown",
   "metadata": {},
   "source": [
    "Usiamo la funzione `var()` di `rv_discrete`:"
   ]
  },
  {
   "cell_type": "code",
   "execution_count": 17,
   "metadata": {},
   "outputs": [
    {
     "data": {
      "text/plain": [
       "5.833333333333364"
      ]
     },
     "execution_count": 17,
     "metadata": {},
     "output_type": "execute_result"
    }
   ],
   "source": [
    "X.var()"
   ]
  },
  {
   "attachments": {},
   "cell_type": "markdown",
   "metadata": {},
   "source": [
    "### Formula alternativa per la varianza\n",
    "\n",
    "C'è un modo più semplice per calcolare la varianza:\n",
    "\n",
    "$$\n",
    "\\begin{align}\n",
    "\\mathbb{E}\\Big[\\big(Y - \\mathbb{E}(Y)\\big)^2\\Big] &= \\mathbb{E}\\big(Y^2 - 2Y\\mathbb{E}(Y) + \\mathbb{E}(Y)^2\\big)\\notag\\\\\n",
    "&= \\mathbb{E}(Y^2) - 2\\mathbb{E}(Y)\\mathbb{E}(Y) + \\mathbb{E}(Y)^2,\n",
    "\\end{align}\n",
    "$$\n",
    "\n",
    "dato che $\\mathbb{E}(Y)$ è una costante. Pertanto\n",
    "\n",
    "$$\n",
    "\\mathbb{V}(Y) = \\mathbb{E}(Y^2) - \\big(\\mathbb{E}(Y) \\big)^2.\n",
    "$$ (eq-def-alt-var-rv)\n",
    "\n",
    "A parole: la varianza è la media dei quadrati meno il quadrato della media della variabile.\n"
   ]
  },
  {
   "attachments": {},
   "cell_type": "markdown",
   "metadata": {},
   "source": [
    "````{prf:example}\n",
    ":label: rv-expl-7\n",
    "\n",
    "Consideriamo la variabile casuale $Y$ che corrisponde al numero di teste che si osservano nel lancio di una moneta truccata con probabilità di testa uguale a 0.8. Si trovi la varianza di $Y$.\n",
    "````\n",
    "\n",
    "Il valore atteso di $Y$ è\n",
    "\n",
    "$$\n",
    "\\mathbb{E}(Y) = 0 \\cdot 0.2 + 1 \\cdot 0.8 = 0.8.\n",
    "$$\n",
    "\n",
    "Usando la formula tradizionale della varianza otteniamo:\n",
    "\n",
    "$$\n",
    "\\mathbb{V}(Y) = (0 - 0.8)^2 \\cdot 0.2 + (1 - 0.8)^2 \\cdot 0.8 = 0.16.\n",
    "$$\n",
    "\n",
    "Lo stesso risultato si trova con la formula alternativa della varianza. Il valore atteso di $Y^2$ è\n",
    "\n",
    "$$\n",
    "\\mathbb{E}(Y^2) = 0^2 \\cdot 0.2 + 1^2 \\cdot 0.8 = 0.8.\n",
    "$$\n",
    "\n",
    "e la varianza diventa\n",
    "\n",
    "$$\n",
    "\\mathbb{V}(Y) = \\mathbb{E}(Y^2) - \\big(\\mathbb{E}(Y) \\big)^2 = 0.8 - 0.8^2 = 0.16.\n",
    "$$\n",
    "\n",
    "Svolgiamo l'esercizio in Python:"
   ]
  },
  {
   "cell_type": "code",
   "execution_count": 18,
   "metadata": {},
   "outputs": [
    {
     "data": {
      "text/plain": [
       "0.15999999999999992"
      ]
     },
     "execution_count": 18,
     "metadata": {},
     "output_type": "execute_result"
    }
   ],
   "source": [
    "y = np.array([0, 1])\n",
    "py = np.array([0.2, 0.8])\n",
    "\n",
    "sum(y**2 * py) - (sum(y * py)) ** 2"
   ]
  },
  {
   "attachments": {},
   "cell_type": "markdown",
   "metadata": {},
   "source": [
    "### Proprietà\n",
    "\n",
    "**Segno della varianza.** La varianza di una variabile aleatoria non è mai negativa, ed è zero solamente quando la variabile assume  un solo valore.\n",
    "\n",
    "**Invarianza per traslazione.** La varianza è invariante per traslazione, che lascia fisse le distanze dalla media, e cambia quadraticamente per riscalamento:\n",
    "  \n",
    "$$\n",
    "\\mathbb{V}(a + bX) = b^2\\mathbb{V}(X).\n",
    "$$\n",
    "\n",
    "*Dimostrazione.* Iniziamo a scrivere\n",
    "\n",
    "$$\n",
    "(aX+b)-{\\mathbb{E}}[aX+b]=aX+b-a{\\mathbb{E}}[X]-b=a(X-{\\mathbb  {E}}[X]).\n",
    "$$\n",
    "\n",
    "Quindi\n",
    "\n",
    "$$\n",
    "\\sigma _{{aX+b}}^{2}={\\mathbb{E}}[a^{2}(X-{\\mathbb  {E}}[X])^{2}]=a^{2}\\sigma _{X}^{2}.\n",
    "$$\n"
   ]
  },
  {
   "attachments": {},
   "cell_type": "markdown",
   "metadata": {},
   "source": [
    "Esaminiamo una dimostrazione numerica."
   ]
  },
  {
   "cell_type": "code",
   "execution_count": 19,
   "metadata": {},
   "outputs": [
    {
     "data": {
      "text/plain": [
       "True"
      ]
     },
     "execution_count": 19,
     "metadata": {},
     "output_type": "execute_result"
    }
   ],
   "source": [
    "x = np.array([2, 1, 4, 7])\n",
    "y = 100 + 2 * x\n",
    "\n",
    "np.var(y) == 2**2 * np.var(x)"
   ]
  },
  {
   "attachments": {},
   "cell_type": "markdown",
   "metadata": {},
   "source": [
    "**Varianza della somma di due variabili indipendenti.** La varianza della somma di due variabili indipendenti o anche solo incorrelate è pari alla somma delle loro varianze:\n",
    "\n",
    "$$\n",
    "\\mathbb{V}(X+Y) = \\mathbb{V}(X) + \\mathbb{V}(Y).\n",
    "$$\n",
    "\n",
    "*Dimostrazione.* Se $\\mathbb{E}(X) = \\mathbb{E}(Y) = 0$, allora $\\mathbb{E}(X+Y) = 0$ e \n",
    "\n",
    "$$\\mathbb{V}(X+Y) = \\mathbb{E}((X+Y)^2) = \\mathbb{E}(X^2) + 2 \\mathbb{E}(XY) + \\mathbb{E}(Y^2).$$ \n",
    "\n",
    "Siccome le variabili sono indipendenti risulta $\\mathbb{E}(XY) = \\mathbb{E}(X)\\mathbb{E}(Y) = 0$. "
   ]
  },
  {
   "attachments": {},
   "cell_type": "markdown",
   "metadata": {},
   "source": [
    "**Varianza della differenza di due variabili indipendenti.** La varianza della differenza di due variabili indipendenti è pari alla somma delle loro varianze:\n",
    "\n",
    "$$\n",
    "\\mathbb{V}(X-Y) = \\mathbb{V}(X) + \\mathbb{V}(Y).\n",
    "$$\n",
    "\n",
    "*Dimostrazione.*\n",
    "\n",
    "$$\n",
    "\\mathbb{V}(X-Y) = \\mathbb{V}(X +(-Y)) = \\mathbb{V}(X) + \\mathbb{V}(-Y) = \\mathbb{V}(X) + \\mathbb{V}(Y).\n",
    "$$"
   ]
  },
  {
   "attachments": {},
   "cell_type": "markdown",
   "metadata": {},
   "source": [
    "**Varianza della somma di due variabili non indipendenti.** Se $X$ e $Y$ non sono indipendenti, la formula viene corretta dalla loro covarianza:\n",
    "\n",
    "$$\n",
    "\\mathbb{V}(X+Y) = \\mathbb{V}(X) + \\mathbb{V}(Y) + 2 Cov(X,Y),\n",
    "$$\n",
    "\n",
    "dove $Cov(X,Y) = \\mathbb{E}(XY) - \\mathbb{E}(X)\\mathbb{E}(Y)$.\n",
    "\n",
    "Una dimostrazione numerica di questo principio è fornita sotto."
   ]
  },
  {
   "cell_type": "code",
   "execution_count": 20,
   "metadata": {},
   "outputs": [
    {
     "data": {
      "text/plain": [
       "35.25"
      ]
     },
     "execution_count": 20,
     "metadata": {},
     "output_type": "execute_result"
    }
   ],
   "source": [
    "x = np.array([2, 1, 4, 7])\n",
    "y = np.array([1, 3, 5, 11])\n",
    "\n",
    "np.var(x + y, ddof=0)"
   ]
  },
  {
   "cell_type": "code",
   "execution_count": 21,
   "metadata": {},
   "outputs": [
    {
     "data": {
      "text/plain": [
       "35.25"
      ]
     },
     "execution_count": 21,
     "metadata": {},
     "output_type": "execute_result"
    }
   ],
   "source": [
    "np.var(x, ddof=0) + np.var(y, ddof=0) + 2 * np.cov(x, y, ddof=0)[0, 1]"
   ]
  },
  {
   "attachments": {},
   "cell_type": "markdown",
   "metadata": {},
   "source": [
    "**Varianza della media di variabili indipendenti.** La media aritmetica \n",
    "$\\textstyle {\\bar  {X}}={\\frac  {X_{1}+\\ldots +X_{n}}{n}}$ di $n$ variabili casuali indipendenti aventi la medesima distribuzione, ha varianza \n",
    "\n",
    "$$\n",
    "\\mathbb{V}(\\bar{X}) = \\frac{1}{n^2} \\mathbb{V}(X_1)+ \\dots \\mathbb{V}(X_n) = \\frac{1}{n^2} n \\mathbb{V}(X) = \\frac{1}{n} \\mathbb{V}(X).\n",
    "$$"
   ]
  },
  {
   "attachments": {},
   "cell_type": "markdown",
   "metadata": {},
   "source": [
    "Il principio precedente è illustrato dalla seguente simulazione."
   ]
  },
  {
   "cell_type": "code",
   "execution_count": 22,
   "metadata": {},
   "outputs": [
    {
     "data": {
      "text/plain": [
       "3.3239027767697324"
      ]
     },
     "execution_count": 22,
     "metadata": {},
     "output_type": "execute_result"
    }
   ],
   "source": [
    "# Set up the population distribution\n",
    "population = np.random.normal(loc=50, scale=10, size=10000)\n",
    "\n",
    "# Set up the sample size and number of samples\n",
    "sample_size = 30\n",
    "num_samples = 100000\n",
    "\n",
    "# Create an array to hold the sample means\n",
    "sample_means = np.zeros(num_samples)\n",
    "\n",
    "# Generate the samples and compute their means\n",
    "for i in range(num_samples):\n",
    "    sample = np.random.choice(population, size=sample_size)\n",
    "    sample_means[i] = np.mean(sample)\n",
    "\n",
    "# Calculate the variance of the sample means\n",
    "sampling_dist_mean_var = np.var(sample_means)\n",
    "sampling_dist_mean_var"
   ]
  },
  {
   "attachments": {},
   "cell_type": "markdown",
   "metadata": {},
   "source": [
    "Il valore teorico della varianza della distribuzione campionaria della media è"
   ]
  },
  {
   "cell_type": "code",
   "execution_count": 23,
   "metadata": {},
   "outputs": [
    {
     "data": {
      "text/plain": [
       "3.3333333333333335"
      ]
     },
     "execution_count": 23,
     "metadata": {},
     "output_type": "execute_result"
    }
   ],
   "source": [
    "10**2 / 30"
   ]
  },
  {
   "attachments": {},
   "cell_type": "markdown",
   "metadata": {},
   "source": [
    "### Variabili casuali continue\n",
    "\n",
    "Nel caso di una variabile casuale continua $Y$, la varianza diventa:\n",
    "\n",
    "$$\n",
    "\\mathbb{V}(Y) = \\int_{-\\infty}^{+\\infty} \\large[y - \\mathbb{E}(Y)\\large]^2 p(y) \\,\\operatorname {d}\\!y.\n",
    "$$ (eq-def-var-rv-cont)\n",
    "\n",
    "Come nel caso discreto, la varianza di una v.c. continua $Y$ misura approssimativamente la distanza al quadrato tipica o prevista dei possibili valori $y$ dalla loro media.\n",
    "\n",
    "## Deviazione standard\n",
    "\n",
    "Quando lavoriamo con le varianze, i termini sono innalzati al quadrato e quindi i numeri possono diventare molto grandi (o molto piccoli). Per trasformare nuovamente i valori nell'unità di misura della scala originaria si prende la radice quadrata. Il valore risultante viene chiamato *deviazione standard* e solitamente è denotato dalla lettera greca $\\sigma$.\n",
    "\n",
    "```{admonition} Definizione\n",
    "Si definisce scarto quadratico medio (o deviazione standard o scarto tipo) la radice quadrata della varianza:\n",
    "\n",
    "$$\n",
    "\\sigma_Y = \\sqrt{\\mathbb{V}(Y)}.\n",
    "$$ (eq-def-sd)\n",
    "```\n",
    "\n",
    "Come nella statistica descrittiva, la deviazione standard di una variabile casuale misura approssimativamente la distanza tipica o prevista dei possibili valori $y$ dalla loro media.\n",
    "\n",
    "Per i dadi equilibrati dell'esemio precedebte, la deviazione standard della variabile casuale $S$ è uguale a $\\sqrt{5.833} = 2.415$."
   ]
  },
  {
   "attachments": {},
   "cell_type": "markdown",
   "metadata": {},
   "source": [
    "## Standardizzazione\n",
    "\n",
    "```{admonition} Definizione\n",
    "Data una variabile casuale $Y$, si dice *variabile standardizzata* di $Y$ l'espressione\n",
    "\n",
    "$$\n",
    "Z = \\frac{Y - \\mathbb{E}(Y)}{\\sigma_Y}.\n",
    "$$ (eq-standardization)\n",
    "```\n",
    "\n",
    "Solitamente, una variabile standardizzata viene denotata con la lettera $Z$."
   ]
  },
  {
   "attachments": {},
   "cell_type": "markdown",
   "metadata": {},
   "source": [
    "## Momenti di variabili casuali\n",
    "\n",
    "```{admonition} Definizione\n",
    "Si chiama *momento* di ordine $q$ di una v.c. $X$, dotata di densità $p(x)$, la quantità\n",
    "\n",
    "$$\n",
    "\\mathbb{E}(X^q) = \\int_{-\\infty}^{+\\infty} x^q p(x) \\; dx.\n",
    "$$ (eq-moments-cont)\n",
    "\n",
    "Se $X$ è una v.c. discreta, i suoi momenti valgono:\n",
    "\n",
    "$$\n",
    "\\mathbb{E}(X^q) = \\sum_i x_i^q P(x_i).\n",
    "$$ (eq-moments-discr)\n",
    "```\n",
    "\n",
    "I momenti sono importanti parametri indicatori di certe proprietà di $X$. I più noti sono senza dubbio quelli per $q = 1$ e $q = 2$. Il momento del primo ordine corrisponde al valore atteso di $X$. Spesso i momenti di ordine superiore al primo vengono calcolati rispetto al valor medio di $X$, operando una traslazione $x_0 = x − \\mathbb{E}(X)$ che individua lo scarto dalla media. Ne deriva che il momento centrale di ordine 2 corrisponde alla varianza.\n",
    "\n",
    "## Alcuni esempi in Python\n",
    "\n",
    "Usando il modulo `stats` di `scipy` è possibile semplificare i calcoli del valore atteso e della varianza di variabili casuali discrete.\n",
    "\n",
    "Supponiamo che la variabile casuale $X$ abbia valori 0, 1, 2, 3, 4, 5, 6 con la seguente distribuzione di massa di probabilità: 0.1, 0.2, 0.3, 0.1, 0.1, 0.0, 0.2. Vogliamo rappresentare la distribuzione di massa di probabilità di $X$ con un grafico.\n",
    "\n",
    "Iniziamo a definire un vettore che contiene i valori della v.c.:"
   ]
  },
  {
   "cell_type": "code",
   "execution_count": 24,
   "metadata": {},
   "outputs": [
    {
     "name": "stdout",
     "output_type": "stream",
     "text": [
      "[0 1 2 3 4 5 6]\n"
     ]
    }
   ],
   "source": [
    "x = np.arange(7)\n",
    "print(x)"
   ]
  },
  {
   "attachments": {},
   "cell_type": "markdown",
   "metadata": {},
   "source": [
    "Il vettore `px` conterrà le probabilità associate ai valori `x`:"
   ]
  },
  {
   "cell_type": "code",
   "execution_count": 25,
   "metadata": {},
   "outputs": [
    {
     "name": "stdout",
     "output_type": "stream",
     "text": [
      "(0.1, 0.2, 0.3, 0.1, 0.1, 0.0, 0.2)\n"
     ]
    }
   ],
   "source": [
    "px = (0.1, 0.2, 0.3, 0.1, 0.1, 0.0, 0.2)\n",
    "print(px)"
   ]
  },
  {
   "attachments": {},
   "cell_type": "markdown",
   "metadata": {},
   "source": [
    "Controllo che la somma sia 1:"
   ]
  },
  {
   "cell_type": "code",
   "execution_count": 26,
   "metadata": {},
   "outputs": [
    {
     "data": {
      "text/plain": [
       "1.0"
      ]
     },
     "execution_count": 26,
     "metadata": {},
     "output_type": "execute_result"
    }
   ],
   "source": [
    "np.sum(px)"
   ]
  },
  {
   "attachments": {},
   "cell_type": "markdown",
   "metadata": {},
   "source": [
    "Usiamo ora la funzione `rv_discrete()` che è una funzione della libreria `stats` di Python. Tale funzione viene utilizzata per creare una distribuzione discreta personalizzata. La funzione richiede che vengano forniti dei valori discreti (ossia interi) e le rispettive probabilità di occorrenza.\n",
    "\n",
    "Una volta definita la distribuzione discreta, `rv_discrete()` permette di eseguire operazioni come la generazione di numeri casuali dalla distribuzione, il calcolo della funzione di probabilità cumulativa (CDF) e della funzione di densità di probabilità (PDF), e la valutazione della media, della varianza e di altre statistiche della distribuzione.\n",
    "\n",
    "La sintassi di base della funzione rv_discrete() è la seguente:\n",
    "\n",
    "```\n",
    "rv = stats.rv_discrete(name='rv', values=(xk, pk))\n",
    "```\n",
    "\n",
    "dove `name` è il nome della distribuzione discreta, `xk` sono i valori discreti e `pk` sono le rispettive probabilità di occorrenza. Ad esempio, creiamo la variabile casuale `X`:"
   ]
  },
  {
   "cell_type": "code",
   "execution_count": 27,
   "metadata": {},
   "outputs": [],
   "source": [
    "X = stats.rv_discrete(name='rv', values=(x, px))"
   ]
  },
  {
   "cell_type": "code",
   "execution_count": 28,
   "metadata": {},
   "outputs": [
    {
     "name": "stdout",
     "output_type": "stream",
     "text": [
      "[0.1 0.2 0.3 0.1 0.1 0.  0.2]\n"
     ]
    }
   ],
   "source": [
    "# Distribuzione di massa di probabilità di X.\n",
    "print(X.pmf(x))"
   ]
  },
  {
   "cell_type": "code",
   "execution_count": 29,
   "metadata": {},
   "outputs": [
    {
     "name": "stdout",
     "output_type": "stream",
     "text": [
      "[0.1 0.3 0.6 0.7 0.8 0.8 1. ]\n"
     ]
    }
   ],
   "source": [
    "# Distribuzione comulativa di probabilità di X.\n",
    "print(X.cdf(x))"
   ]
  },
  {
   "attachments": {},
   "cell_type": "markdown",
   "metadata": {},
   "source": [
    "Generiamo un grafico che rappresenta la distribuzione di massa con Matplotlib."
   ]
  },
  {
   "cell_type": "code",
   "execution_count": 30,
   "metadata": {},
   "outputs": [
    {
     "data": {
      "image/png": "[encoded data removed]",
      "text/plain": [
       "<Figure size 720x480 with 1 Axes>"
      ]
     },
     "metadata": {
      "image/png": {
       "height": 491,
       "width": 731
      }
     },
     "output_type": "display_data"
    }
   ],
   "source": [
    "fig, ax = plt.subplots(1, 1)\n",
    "ax.plot(x, X.pmf(x), \"ro\", ms=6, mec=\"r\")\n",
    "ax.vlines(x, 0, X.pmf(x), colors=\"r\", lw=2)\n",
    "plt.show()\n"
   ]
  },
  {
   "attachments": {},
   "cell_type": "markdown",
   "metadata": {},
   "source": [
    "Calcolo il valore atteso di $X$ implementando la formula del valore atteso, utilizzando i vettori `x` e `px`."
   ]
  },
  {
   "cell_type": "code",
   "execution_count": 31,
   "metadata": {},
   "outputs": [
    {
     "data": {
      "text/plain": [
       "2.7"
      ]
     },
     "execution_count": 31,
     "metadata": {},
     "output_type": "execute_result"
    }
   ],
   "source": [
    "x_ev = (x * px).sum()\n",
    "x_ev"
   ]
  },
  {
   "attachments": {},
   "cell_type": "markdown",
   "metadata": {},
   "source": [
    "Lo stesso risultato si ottience applicando il metodo `.expect()` all'oggetto `X`."
   ]
  },
  {
   "cell_type": "code",
   "execution_count": 32,
   "metadata": {},
   "outputs": [
    {
     "data": {
      "text/plain": [
       "2.7"
      ]
     },
     "execution_count": 32,
     "metadata": {},
     "output_type": "execute_result"
    }
   ],
   "source": [
    "x_ev = X.expect()\n",
    "x_ev"
   ]
  },
  {
   "attachments": {},
   "cell_type": "markdown",
   "metadata": {},
   "source": [
    "Calcolo ora la varianza di $X$ usando i vettori `x` e `px`."
   ]
  },
  {
   "cell_type": "code",
   "execution_count": 33,
   "metadata": {},
   "outputs": [
    {
     "data": {
      "text/plain": [
       "3.8100000000000005"
      ]
     },
     "execution_count": 33,
     "metadata": {},
     "output_type": "execute_result"
    }
   ],
   "source": [
    "x_var = ((x - x_ev)**2 * X.pmf(x)).sum()\n",
    "x_var"
   ]
  },
  {
   "attachments": {},
   "cell_type": "markdown",
   "metadata": {},
   "source": [
    "Ottengo lo stesso risultato applicando il metodo `.var()` all'oggetto `X`."
   ]
  },
  {
   "cell_type": "code",
   "execution_count": 34,
   "metadata": {},
   "outputs": [
    {
     "data": {
      "text/plain": [
       "3.8099999999999987"
      ]
     },
     "execution_count": 34,
     "metadata": {},
     "output_type": "execute_result"
    }
   ],
   "source": [
    "X.var()"
   ]
  },
  {
   "attachments": {},
   "cell_type": "markdown",
   "metadata": {},
   "source": [
    "Calcolo ora la deviazione standard di $X$ prendento la radice quadrata della varianza."
   ]
  },
  {
   "cell_type": "code",
   "execution_count": 35,
   "metadata": {},
   "outputs": [
    {
     "data": {
      "text/plain": [
       "1.9519221295943137"
      ]
     },
     "execution_count": 35,
     "metadata": {},
     "output_type": "execute_result"
    }
   ],
   "source": [
    "np.sqrt(x_var)"
   ]
  },
  {
   "attachments": {},
   "cell_type": "markdown",
   "metadata": {},
   "source": [
    "Oppure, in maniera equivalente, applico il metodo `.std()` all'oggetto `X`."
   ]
  },
  {
   "cell_type": "code",
   "execution_count": 36,
   "metadata": {},
   "outputs": [
    {
     "data": {
      "text/plain": [
       "1.9519221295943132"
      ]
     },
     "execution_count": 36,
     "metadata": {},
     "output_type": "execute_result"
    }
   ],
   "source": [
    "X.std()"
   ]
  },
  {
   "attachments": {},
   "cell_type": "markdown",
   "metadata": {},
   "source": [
    "## Commenti e considerazioni finali \n",
    "\n",
    "L'inferenza bayesiana mira a descrivere la distribuzione a posteriori di variabili casuali che rappresentano i parametri di un modello statistico. Nel capitolo precedente, abbiamo esaminato le caratteristiche principali delle variabili casuali, concentrandoci sul caso discreto. In questo capitolo, abbiamo approfondito le proprietà di una singola variabile casuale. Nel prossimo capitolo, invece, esploreremo il problema di descrivere il verificarsi congiunto di due o più variabili casuali.\n",
    "\n",
    "## Watermark"
   ]
  },
  {
   "cell_type": "code",
   "execution_count": 37,
   "metadata": {},
   "outputs": [
    {
     "name": "stdout",
     "output_type": "stream",
     "text": [
      "Last updated: Thu Nov 09 2023\n",
      "\n",
      "Python implementation: CPython\n",
      "Python version       : 3.11.6\n",
      "IPython version      : 8.16.1\n",
      "\n",
      "scipy     : 1.11.3\n",
      "numpy     : 1.25.2\n",
      "matplotlib: 3.8.0\n",
      "arviz     : 0.16.1\n",
      "\n",
      "Watermark: 2.4.3\n",
      "\n"
     ]
    }
   ],
   "source": [
    "%load_ext watermark\n",
    "%watermark -n -u -v -iv -w "
   ]
  }
 ],
 "metadata": {
  "kernelspec": {
   "display_name": "Python 3",
   "language": "python",
   "name": "python3"
  },
  "language_info": {
   "codemirror_mode": {
    "name": "ipython",
    "version": 3
   },
   "file_extension": ".py",
   "mimetype": "text/x-python",
   "name": "python",
   "nbconvert_exporter": "python",
   "pygments_lexer": "ipython3",
   "version": "3.11.6"
  },
  "vscode": {
   "interpreter": {
    "hash": "2fb22ef73048ab480306a3a8971dd9d9ae74918bef9be9e93ea3e01644b9825e"
   }
  }
 },
 "nbformat": 4,
 "nbformat_minor": 2
}