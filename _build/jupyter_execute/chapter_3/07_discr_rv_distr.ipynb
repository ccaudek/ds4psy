{
 "cells": [
  {
   "attachments": {},
   "cell_type": "markdown",
   "metadata": {},
   "source": [
    "<a target=\"_blank\" rel=\"noopener noreferrer\" href=\"https://colab.research.google.com/github/ccaudek/ds4psy_2023/blob/main/205_discr_rv_distr.ipynb\">![Open In Colab](https://colab.research.google.com/assets/colab-badge.svg)</a>\n",
    "\n",
    "\n",
    "(discr_distr_notebook)=\n",
    "# Distribuzioni di v.c. discrete"
   ]
  },
  {
   "cell_type": "markdown",
   "metadata": {},
   "source": [
    "Questo capitolo è dedicato a un'approfondita esplorazione delle distribuzioni di probabilità discrete, \n",
    "che sono fondamentali per analizzare e modellare una vasta gamma di fenomeni casuali, in cui gli esiti sono chiaramente definiti e numerabili. Inizieremo con la distribuzione Bernoulliana, che rappresenta esperimenti con due possibili esiti - un \"successo\" o un \"insuccesso\". Questi esperimenti sono il nucleo di ciò che viene definito un processo Bernoulliano. Quando tali prove Bernoulliane vengono ripetute per un numero fisso di volte $n$, il conteggio totale dei successi segue una distribuzione binomiale.\n",
    "\n",
    "Questa distribuzione binomiale nasce dalla somma di prove Bernoulliane indipendenti, ma solo quando il numero totale di prove $n$ è stabilito in anticipo. Se, invece, il numero stesso di prove diventa una variabile casuale, la distribuzione dei successi all'interno di questa serie di prove segue la distribuzione di Poisson, che si presta a modellare eventi che avvengono raramente o su intervalli variabili.\n",
    "\n",
    "D'altra parte, se la probabilità di successo in una serie di prove Bernoulliane non è costante, ma varia seguendo una distribuzione Beta, allora il numero di successi osservati in $N$ prove non si conformerà più alla distribuzione binomiale, ma seguirà invece la distribuzione Beta-Binomiale. Quest'ultima offre una rappresentazione più flessibile e aderente alla realtà in certi contesti.\n",
    "\n",
    "Infine, esamineremo la distribuzione discreta uniforme, dove ogni evento all'interno di un determinato intervallo finito ha la stessa probabilità di verificarsi. Questa distribuzione è particolarmente utile quando non esistono motivi per privilegiare un risultato rispetto a un altro.\n",
    "\n",
    "Attraverso questo capitolo, ci proponiamo di fornire una comprensione chiara e approfondita di queste distribuzioni, mettendo in luce le loro applicazioni e la loro rilevanza nell'analisi statistica."
   ]
  },
  {
   "cell_type": "code",
   "execution_count": 1,
   "metadata": {},
   "outputs": [],
   "source": [
    "import pandas as pd\n",
    "import numpy as np\n",
    "import matplotlib.pyplot as plt\n",
    "import seaborn as sns\n",
    "import scipy.stats as stats\n",
    "import math\n",
    "import arviz as az"
   ]
  },
  {
   "cell_type": "code",
   "execution_count": 2,
   "metadata": {},
   "outputs": [],
   "source": [
    "%config InlineBackend.figure_format = 'retina'\n",
    "RANDOM_SEED = 42\n",
    "rng = np.random.default_rng(RANDOM_SEED)\n",
    "az.style.use(\"arviz-darkgrid\")"
   ]
  },
  {
   "cell_type": "markdown",
   "metadata": {},
   "source": [
    "## Distribuzione Bernoulliana\n",
    "\n",
    "In statistica, un esperimento che presenta soltanto due esiti possibili viene modellato attraverso ciò che è noto come \"prova Bernoulliana\". Un esempio classico è il lancio di una moneta, che può risultare in testa o croce.\n",
    "\n",
    "```{admonition} Definizione\n",
    "Una variabile casuale $Y$ che assume valori in $\\{0, 1\\}$ è definita come variabile di Bernoulli. La sua distribuzione di probabilità è descritta come segue:\n",
    "\n",
    "$$\n",
    "P(Y \\mid \\theta) =\n",
    "  \\begin{cases}\n",
    "    \\theta     & \\text{se $Y = 1$ (successo)}, \\\\\n",
    "    1 - \\theta & \\text{se $Y = 0$ (insuccesso)},\n",
    "  \\end{cases}\n",
    "$$\n",
    "\n",
    "dove $0 \\leq \\theta \\leq 1$. Il parametro $\\theta$ rappresenta la probabilità dell'evento \"successo\" ($Y = 1$), mentre $1 - \\theta$ quella dell'evento \"insuccesso\" ($Y = 0$).\n",
    "```\n",
    "\n",
    "Nella distribuzione Bernoulliana, la probabilità di osservare l'esito 1 è $\\theta$, mentre quella di osservare 0 è $1 - \\theta$. Questa distribuzione viene utilizzata per modellare situazioni in cui esistono due sole possibili risposte, come un \"sì\" o un \"no\", un \"successo\" o un \"insuccesso\".\n",
    "\n",
    "Calcolando il valore atteso e la varianza, otteniamo:\n",
    "\n",
    "$$\n",
    "\\begin{align}\n",
    "\\mathbb{E}(Y) &= 0 \\cdot P(Y=0) + 1 \\cdot P(Y=1) = \\theta, \\\\\n",
    "\\mathbb{V}(Y) &= (0 - \\theta)^2 \\cdot P(Y=0) + (1 - \\theta)^2 \\cdot P(Y=1) = \\theta(1-\\theta).\n",
    "\\end{align}\n",
    "$$ (eq-ev-var-bern)\n",
    "\n",
    "Utilizziamo la notazione $Y \\sim Bernoulli(\\theta)$ per indicare che la variabile casuale $Y$ segue una distribuzione Bernoulliana con parametro $\\theta$.\n",
    "\n",
    "Ad esempio, nel caso del lancio di una moneta equilibrata, la variabile di Bernoulli assume i valori $0$ e $1$ con uguale probabilità di $\\frac{1}{2}$. Pertanto, la funzione di massa di probabilità assegna una probabilità di $\\frac{1}{2}$ sia per $Y = 0$ che per $Y = 1$, mentre la funzione di distribuzione cumulativa risulta essere $\\frac{1}{2}$ per $Y = 0$ e $1$ per $Y = 1$.\n",
    "\n",
    "Questo approccio ci permette di comprendere e modellare fenomeni binari semplici in una vasta gamma di applicazioni pratiche."
   ]
  },
  {
   "attachments": {},
   "cell_type": "markdown",
   "metadata": {},
   "source": [
    "## Distribuzione Binomiale\n",
    "\n",
    "La distribuzione binomiale è una distribuzione di probabilità discreta fondamentale, che si concentra sul conteggio del numero di successi in una serie di prove Bernoulliane indipendenti. Queste prove sono caratterizzate dal fatto che ogni evento ha solo due possibili esiti: \"successo\" o \"insuccesso\", con una probabilità di successo costante denotata da $\\theta$.\n",
    "\n",
    "```{admonition} Definizione\n",
    "La distribuzione binomiale quantifica la probabilità di osservare esattamente $y$ successi in $n$ tentativi indipendenti di Bernoulli:\n",
    "\n",
    "$$\n",
    "P(Y=y) = \\binom{n}{y} \\theta^{y} (1-\\theta)^{n-y} = \\frac{n!}{y!(n-y)!} \\theta^{y} (1-\\theta)^{n-y},\n",
    "$$ (eq-binomialdistribution)\n",
    "\n",
    "Qui, $\\binom{n}{y}$, noto come coefficiente binomiale, rappresenta il numero di combinazioni possibili per ottenere $y$ successi in $n$ prove, mentre $\\theta$ è la probabilità costante di successo per ogni prova.\n",
    "```\n",
    "\n",
    "La distribuzione binomiale è spesso illustrata con esempi come il lancio di una moneta o l'estrazione da un'urna. Ad esempio, nel caso del lancio ripetuto di una moneta, questa distribuzione descrive la probabilità di ottenere un numero specifico di teste in un certo numero di lanci, con ciascun lancio che segue una distribuzione di Bernoulli con probabilità di successo $\\theta$.\n",
    "\n",
    "Un aspetto interessante della distribuzione binomiale è la sua proprietà di riproducibilità: se due variabili casuali indipendenti, $y_1$ e $y_2$, seguono distribuzioni binomiali con lo stesso parametro $\\theta$, ma con diversi numeri di prove ($N_1$ e $N_2$), allora la loro somma, $y = y_1 + y_2$, sarà anch'essa distribuita binomialmente, con parametri $N_1 + N_2$ e $\\theta$.\n",
    "\n",
    "### Calcolo delle Probabilità\n",
    "\n",
    "Per approfondire il calcolo delle probabilità in questa distribuzione, esaminiamo una serie di prove Bernoulliane. Consideriamo una serie di $n$ prove che risultano in $y$ successi:\n",
    "\n",
    "$$\n",
    "\\overbrace{SS\\dots S}^\\text{$y$ volte} \\overbrace{II\\dots I}^\\text{$n-y$ volte}\n",
    "$$\n",
    "\n",
    "Ogni sequenza con $y$ successi specifici ha una probabilità di $\\theta^y \\cdot (1-\\theta)^{n-y}$. Tuttavia, siamo interessati alla probabilità complessiva di osservare qualsiasi sequenza con $y$ successi, che si ottiene moltiplicando la probabilità di una sequenza singola per il numero totale di sequenze possibili, dato dal coefficiente binomiale $\\binom{n}{y}$.\n",
    "\n",
    "In questo modo, la distribuzione binomiale diventa uno strumento statistico potente per analizzare fenomeni che presentano esiti binari, con prove che sono indipendenti e identicamente distribuite. Questa distribuzione trova applicazione in una moltitudine di scenari, dalla valutazione del numero di successi in una serie di tentativi, come i lanci di moneta, fino a sondaggi di opinione e altro ancora. La sua universalità deriva dalla sua capacità di modellare efficacemente situazioni con esiti binari e dalla sua flessibilità nel gestire variabili $\\theta$ e $n$."
   ]
  },
  {
   "cell_type": "markdown",
   "metadata": {},
   "source": [
    "### Applicazioni Pratiche della Distribuzione Binomiale\n",
    "\n",
    "Consideriamo un esempio pratico per illustrare l'applicazione della distribuzione binomiale. Supponiamo di osservare 2 successi in 4 prove Bernoulliane, dove la probabilità di successo in ogni prova è $\\theta = 0.2$. La probabilità di ottenere questo risultato specifico è calcolata utilizzando l'eq. {eq}`eq-binomialdistribution`:\n",
    "\n",
    "$$\n",
    "P(Y=2) = \\frac{4!}{2!(4-2)!} \\cdot 0.2^{2} \\cdot (1-0.2)^{4-2} = 0.1536.\n",
    "$$\n",
    "\n",
    "Questo calcolo può essere replicato in Python. Utilizzando il modulo `math`, possiamo calcolare direttamente:"
   ]
  },
  {
   "cell_type": "code",
   "execution_count": null,
   "metadata": {},
   "outputs": [],
   "source": [
    "n = 4\n",
    "theta = 0.2\n",
    "y = 2\n",
    "\n",
    "prob = math.comb(n, y) * theta**y * (1 - theta) ** (n - y)"
   ]
  },
  {
   "cell_type": "markdown",
   "metadata": {},
   "source": [
    "In alternativa, possiamo sfruttare la libreria SciPy per eseguire calcoli analoghi. SciPy offre una vasta gamma di funzioni per la gestione delle distribuzioni statistiche, tra cui la distribuzione binomiale. Utilizzando `scipy.stats.binom.pmf(y, n, p)`, possiamo trovare le probabilità per ogni possibile valore di $y$ in una distribuzione binomiale di parametri $n = 4$ e $\\theta = 0.2$:"
   ]
  },
  {
   "cell_type": "code",
   "execution_count": null,
   "metadata": {},
   "outputs": [],
   "source": [
    "y = np.arange(0, n + 1)\n",
    "probabilities = stats.binom.pmf(y, n, theta)"
   ]
  },
  {
   "cell_type": "markdown",
   "metadata": {},
   "source": [
    "Visualizziamo la distribuzione di massa di probabilità:"
   ]
  },
  {
   "cell_type": "code",
   "execution_count": null,
   "metadata": {},
   "outputs": [],
   "source": [
    "plt.figure()\n",
    "plt.plot(y, probabilities, \"o\", ms=8)\n",
    "plt.vlines(y, 0, probabilities, linestyles=\"-\", lw=1)\n",
    "plt.title(f\"Distribuzione binomiale: $n$={n}, $\\\\theta$={theta}\")\n",
    "plt.xlabel(\"Numero di successi y\")\n",
    "plt.ylabel(\"Probabilità\")\n",
    "plt.xlim(-0.5, n + 0.5)\n",
    "plt.ylim(0, max(probabilities) + 0.05)\n",
    "plt.show()"
   ]
  },
  {
   "cell_type": "markdown",
   "metadata": {},
   "source": [
    "Un'altra proprietà interessante della distribuzione binomiale è la sua riproducibilità. Se abbiamo due variabili casuali indipendenti che seguono distribuzioni binomiali con lo stesso parametro $\\theta$ ma con diversi numeri di prove, la loro somma seguirà anch'essa una distribuzione binomiale. Questo può essere dimostrato analiticamente o sperimentato praticamente utilizzando strumenti come Python.\n",
    "\n",
    "Per esplorare ulteriormente, consideriamo la distribuzione di probabilità di diverse distribuzioni binomiali per due valori di $n$ e $\\theta$. La seguente visualizzazione mostra come cambia la distribuzione al variare di $\\theta$:"
   ]
  },
  {
   "cell_type": "code",
   "execution_count": null,
   "metadata": {},
   "outputs": [],
   "source": [
    "plt.figure()\n",
    "\n",
    "for theta in np.arange(0.3, 1.0, 0.3):\n",
    "    y = np.arange(0, 25)\n",
    "    binom_dist = stats.binom.pmf(y, 20, theta)\n",
    "    plt.plot(y, binom_dist, \"-o\", label=f\"theta = {theta:.1f}\")\n",
    "\n",
    "plt.xlabel(\"Numero di successi y\")\n",
    "plt.ylabel(\"Probabilità\")\n",
    "plt.title(\"Distribuzione binomiale al variare di $\\\\theta$\")\n",
    "plt.legend()\n",
    "plt.show()"
   ]
  },
  {
   "cell_type": "markdown",
   "metadata": {},
   "source": [
    "Questi esempi dimostrano come la distribuzione binomiale possa essere utilizzata per modellare e analizzare esperimenti con esiti binari in una varietà di contesti reali."
   ]
  },
  {
   "attachments": {},
   "cell_type": "markdown",
   "metadata": {},
   "source": [
    "Consideriamo un altro esempio. Lanciando $5$ volte una moneta onesta, qual è la probabilità che esca testa almeno tre volte?"
   ]
  },
  {
   "cell_type": "code",
   "execution_count": 10,
   "metadata": {},
   "outputs": [
    {
     "data": {
      "text/plain": [
       "0.49999999999999983"
      ]
     },
     "execution_count": 10,
     "metadata": {},
     "output_type": "execute_result"
    }
   ],
   "source": [
    "stats.binom.pmf(3, n=5, p=0.5) + stats.binom.pmf(4, n=5, p=0.5) +  stats.binom.pmf(5, n=5, p=0.5)"
   ]
  },
  {
   "cell_type": "code",
   "execution_count": 11,
   "metadata": {},
   "outputs": [
    {
     "data": {
      "text/plain": [
       "0.49999999999999983"
      ]
     },
     "execution_count": 11,
     "metadata": {},
     "output_type": "execute_result"
    }
   ],
   "source": [
    "np.sum([stats.binom.pmf(k, n=5, p=0.5) for k in range(3, 6)])"
   ]
  },
  {
   "attachments": {},
   "cell_type": "markdown",
   "metadata": {},
   "source": [
    "Più facilmente, si trova la risposta usando la funzione di ripartizione `binom.cdf`."
   ]
  },
  {
   "cell_type": "code",
   "execution_count": 12,
   "metadata": {},
   "outputs": [
    {
     "data": {
      "text/plain": [
       "0.5"
      ]
     },
     "execution_count": 12,
     "metadata": {},
     "output_type": "execute_result"
    }
   ],
   "source": [
    "1 - stats.binom.cdf(2, n=5, p=0.5)"
   ]
  },
  {
   "attachments": {},
   "cell_type": "markdown",
   "metadata": {},
   "source": [
    "Rappresentiamo graficamente la funzione di distribuzione per una Binomiale di ordine $n$ = 5 e $\\theta$ = 0.5."
   ]
  },
  {
   "cell_type": "code",
   "execution_count": 13,
   "metadata": {},
   "outputs": [
    {
     "data": {
      "text/plain": [
       "Text(0, 0.5, 'Probabilità')"
      ]
     },
     "execution_count": 13,
     "metadata": {},
     "output_type": "execute_result"
    },
    {
     "data": {
      "image/png": "[encoded data removed]",
      "text/plain": [
       "<Figure size 640x480 with 1 Axes>"
      ]
     },
     "metadata": {
      "image/png": {
       "height": 455,
       "width": 567
      }
     },
     "output_type": "display_data"
    }
   ],
   "source": [
    "n = 5\n",
    "theta = 0.5\n",
    "y = np.arange(0, n+1)\n",
    "\n",
    "plt.figure()\n",
    "plt.plot(y, stats.binom.cdf(y, n=n, p=theta))\n",
    "plt.scatter(y, stats.binom.cdf(y, n=n, p=theta))\n",
    "plt.axhline(1, color=\"k\", alpha=0.7, linestyle=\"--\", lw=1)\n",
    "plt.title(f\"Funzione di ripartizione binomiale: $n$={n}, $\\\\theta$={theta}\", loc=\"left\")\n",
    "plt.xlabel(\"y\")\n",
    "plt.ylabel(\"Probabilità\")"
   ]
  },
  {
   "attachments": {},
   "cell_type": "markdown",
   "metadata": {},
   "source": [
    "Per generare una sequenza di valori casuali seguendo una distribuzione binomiale, possiamo utilizzare il concetto di una variabile casuale 'frozen' (congelata). Una variabile casuale congelata rappresenta una specifica istanza di una distribuzione di probabilità con parametri fissi. In altre parole, una volta che la variabile casuale è stata definita e i suoi parametri (come il numero di prove e la probabilità di successo in una distribuzione binomiale) sono stati impostati, questi rimangono immutabili.\n",
    "\n",
    "La creazione di una variabile casuale congelata è utile perché permette di simulare ripetutamente l'esperimento senza la necessità di riconfigurare i parametri ogni volta. Dopo aver definito la variabile casuale con i parametri desiderati, possiamo generare campioni dalla distribuzione associata utilizzando il metodo `rvs()`.\n",
    "\n",
    "Per esempio, in Python, possiamo creare una variabile casuale binomiale congelata specificando il numero di prove e la probabilità di successo. Una volta creata, possiamo utilizzare il metodo `rvs()` per generare una sequenza di valori casuali che segue la distribuzione binomiale con i parametri specificati. Questo processo facilita la simulazione e l'analisi di esperimenti che seguono un modello binomiale."
   ]
  },
  {
   "cell_type": "code",
   "execution_count": 14,
   "metadata": {},
   "outputs": [],
   "source": [
    "n = 5\n",
    "p = 0.5\n",
    "rv = stats.binom(n, p)"
   ]
  },
  {
   "attachments": {},
   "cell_type": "markdown",
   "metadata": {},
   "source": [
    "Generiamo poi 30 realizzazioni della v.c. `rv`: "
   ]
  },
  {
   "cell_type": "code",
   "execution_count": 15,
   "metadata": {},
   "outputs": [
    {
     "name": "stdout",
     "output_type": "stream",
     "text": [
      "4 1 2 1 4 4 2 2 0 2 3 4 5 4 4 0 4 4 3 2 1 3 5 2 2 3 1 1 4 3\n"
     ]
    }
   ],
   "source": [
    "x = rv.rvs(30)\n",
    "print(*x)"
   ]
  },
  {
   "attachments": {},
   "cell_type": "markdown",
   "metadata": {},
   "source": [
    "Lo stesso risultato si può anche ottenere mediante la funzione `random.binomial()` di NumPy."
   ]
  },
  {
   "cell_type": "code",
   "execution_count": 16,
   "metadata": {},
   "outputs": [
    {
     "name": "stdout",
     "output_type": "stream",
     "text": [
      "4 2 2 4 3 1 2 2 5 3 1 0 3 3 0 4 3 4 3 1 3 3 2 2 4 1 2 1 2 2\n"
     ]
    }
   ],
   "source": [
    "x = np.random.binomial(p=.5, n=5, size=30)\n",
    "print(*x)"
   ]
  },
  {
   "attachments": {},
   "cell_type": "markdown",
   "metadata": {},
   "source": [
    "### Valore atteso e deviazione standard\n",
    "\n",
    "La media (numero atteso di successi in $n$ prove) e la deviazione standard di una distribuzione binomiale si trovano nel modo seguente:\n",
    "\n",
    "$$\n",
    "\\begin{align}\n",
    "\\mu    &= n\\theta,  \\notag \\\\\n",
    "\\sigma &= \\sqrt{n\\theta(1-\\theta)}.\n",
    "\\end{align}\n",
    "$$ (eq-mean-var-binomial)\n",
    "\n",
    "```{admonition} Dimostrazione\n",
    "Essendo $Y$ la somma di $n$ prove Bernoulliane indipendenti $Y_i$, è facile vedere che\n",
    "\n",
    "$$\n",
    "\\begin{align}\n",
    "\\mathbb{E}(Y) &= \\mathbb{E}\\left( \\sum_{i=1}^n Y_i \\right) = \\sum_{i=1}^n \\mathbb{E}(Y_i) = n\\theta, \\\\\n",
    "\\mathbb{V}(Y) &= \\mathbb{V} \\left( \\sum_{i=1}^n Y_i \\right) = \\sum_{i=1}^n \\mathbb{V}(Y_i) = n \\theta (1-\\theta).\n",
    "\\end{align}\n",
    "$$\n",
    "```"
   ]
  },
  {
   "attachments": {},
   "cell_type": "markdown",
   "metadata": {},
   "source": [
    "Prendiamo in considerazione il caso di un esperimento in cui vengono lanciate quattro monete, ciascuna con una probabilità di ottenere testa (successo) pari a $\\theta = 0.2$. Calcoliamo il valore atteso e la varianza per questo esperimento.\n",
    "\n",
    "Il valore atteso, $\\mu$, rappresenta il numero medio di teste che ci aspettiamo di ottenere in ciascun lancio. Per la distribuzione binomiale, questo è dato da $\\mu = n \\theta$, dove $n$ è il numero di prove (lanci di monete). Nel nostro caso, con $n = 4$ e $\\theta = 0.2$, abbiamo:\n",
    "\n",
    "$$\n",
    "\\mu = n \\theta = 4 \\times 0.2 = 0.8.\n",
    "$$\n",
    "\n",
    "Questo significa che, in media, ci aspettiamo di ottenere circa 0.8 teste per ogni serie di quattro lanci.\n",
    "\n",
    "Per quanto riguarda la varianza, che misura quanto i risultati individuali tendono a differire dalla media, nella distribuzione binomiale è calcolata come $n \\theta (1-\\theta)$. Pertanto, per il nostro esperimento:\n",
    "\n",
    "$$\n",
    "\\text{Varianza} = n \\theta (1-\\theta) = 4 \\times 0.2 \\times (1 - 0.2) = 0.64.\n",
    "$$\n",
    "\n",
    "La varianza di 0.64 suggerisce una certa dispersione intorno al valore medio di 0.8 teste.\n",
    "\n",
    "Per confermare queste aspettative teoriche, possiamo eseguire una simulazione computazionale. Creiamo una serie di esperimenti simulati in cui lanciamo quattro monete per un gran numero di volte, registrando il numero di teste ottenute in ogni serie. Calcoliamo poi la media e la varianza dei risultati ottenuti per vedere quanto si avvicinano ai valori teorici calcolati."
   ]
  },
  {
   "cell_type": "code",
   "execution_count": 18,
   "metadata": {},
   "outputs": [],
   "source": [
    "n = 4\n",
    "p = 0.2\n",
    "rv = stats.binom(n, p)\n",
    "\n",
    "x = rv.rvs(100000)"
   ]
  },
  {
   "cell_type": "code",
   "execution_count": 19,
   "metadata": {},
   "outputs": [
    {
     "data": {
      "text/plain": [
       "0.79815"
      ]
     },
     "execution_count": 19,
     "metadata": {},
     "output_type": "execute_result"
    }
   ],
   "source": [
    "np.mean(x)"
   ]
  },
  {
   "cell_type": "code",
   "execution_count": 20,
   "metadata": {},
   "outputs": [
    {
     "data": {
      "text/plain": [
       "0.6351865775"
      ]
     },
     "execution_count": 20,
     "metadata": {},
     "output_type": "execute_result"
    }
   ],
   "source": [
    "np.var(x, ddof=0)"
   ]
  },
  {
   "attachments": {},
   "cell_type": "markdown",
   "metadata": {},
   "source": [
    "## Distribuzione Discreta Uniforme\n",
    "\n",
    "La distribuzione discreta uniforme è un tipo particolare di distribuzione di probabilità, dove ogni risultato in un insieme finito e discreto $S$ ha la stessa probabilità $p$ di verificarsi. Questa distribuzione è caratterizzata dalla sua semplicità e dalla sua proprietà fondamentale di equiprobabilità.\n",
    "\n",
    "Consideriamo un esempio pratico con una variabile casuale discreta $X$, che può assumere valori nell'insieme $\\{1, 2, \\dots, N\\}$. Un'istanza classica di questa distribuzione si verifica quando si sceglie casualmente un numero intero tra 1 e $N$, inclusi. Se $X$ rappresenta il numero selezionato, allora la somma delle probabilità di tutti i possibili valori di $X$ deve totalizzare 1, come indicato dalla formula di normalizzazione:\n",
    "\n",
    "$$\n",
    "\\sum_{i=1}^N P(X_i) = Np = 1.\n",
    "$$\n",
    "\n",
    "Di conseguenza, la probabilità che $X$ assuma un valore specifico $x$ è uniformemente distribuita:\n",
    "\n",
    "$$\n",
    "P(X = x) = \\frac{1}{N},\n",
    "$$\n",
    "\n",
    "indicando che ogni evento ha la stessa probabilità di verificarsi.\n",
    "\n",
    "Il valore atteso, o la media, di $X$ ci dà un'idea del risultato medio atteso e si calcola come:\n",
    "\n",
    "$$\n",
    "\\mathbb{E}(X) = \\sum_{x=1}^N x \\cdot \\frac{1}{N} = \\frac{1}{N} \\cdot \\sum_{x=1}^N x = \\frac{N + 1}{2},\n",
    "$$\n",
    "\n",
    "sfruttando la somma aritmetica dei primi $N$ numeri naturali.\n",
    "\n",
    "Per determinare quanto i valori di $X$ si disperdono attorno al valore medio, calcoliamo la varianza. Iniziamo trovando $\\mathbb{E}(X^2)$:\n",
    "\n",
    "$$\n",
    "\\mathbb{E}(X^2) = \\frac{1}{N} \\cdot \\sum_{x=1}^N x^2,\n",
    "$$\n",
    "\n",
    "e poi applichiamo la formula della varianza:\n",
    "\n",
    "$$\n",
    "\\mathbb{V}(X) = \\mathbb{E}(X^2) - [\\mathbb{E}(X)]^2.\n",
    "$$\n",
    "\n",
    "Utilizzando l'identità $1^2 + 2^2 + \\dots + N^2 = \\frac{N(N + 1)(2N + 1)}{6}$, otteniamo:\n",
    "\n",
    "$$\n",
    "\\mathbb{E}(X^2) = \\frac{(N + 1)(2N + 1)}{6},\n",
    "$$\n",
    "\n",
    "e quindi la varianza:\n",
    "\n",
    "$$\n",
    "\\mathbb{V}(X) = \\frac{(N + 1)(2N + 1)}{6} - \\left(\\frac{N + 1}{2}\\right)^2.\n",
    "$$\n",
    "\n",
    "Questa formula fornisce la varianza di una variabile casuale in una distribuzione discreta uniforme, offrendo una misura quantitativa della dispersione dei valori attorno al loro valore medio. Questa distribuzione è fondamentale in molti ambiti della probabilità e della statistica, offrendo un modello base per eventi equiprobabili."
   ]
  },
  {
   "cell_type": "markdown",
   "metadata": {},
   "source": [
    "## Distribuzione di Poisson\n",
    "\n",
    "La distribuzione di Poisson si applica quando si vuole studiare il numero di eventi indipendenti che avvengono in un determinato intervallo di tempo o spazio. La variabile casuale discreta $Y$ rappresenta questo numero di eventi, e $\\lambda$ è il parametro che indica il tasso medio con cui tali eventi si verificano in un dato intervallo.\n",
    "\n",
    "La funzione di massa di probabilità, che esprime la probabilità che si verifichino esattamente $y$ eventi, è data dalla formula:\n",
    "\n",
    "$$\n",
    "f(y \\mid \\lambda) = \\frac{\\lambda^y \\cdot e^{-\\lambda}}{y!} \\quad \\text{per} \\quad y \\in \\{0, 1, 2, \\ldots\\}.\n",
    "$$ (eq-poissondistribution)\n",
    "\n",
    "In questa espressione:\n",
    "\n",
    "- $f(y \\mid \\lambda)$ descrive la probabilità che si verifichino esattamente $y$ eventi in un dato intervallo.\n",
    "- $\\lambda$ è il tasso medio di occorrenza degli eventi. Non è solo il numero atteso di eventi, ma è anche un indicatore della densità di questi eventi nell'intervallo considerato.\n",
    "- $y$ rappresenta il conteggio degli eventi e può assumere solo valori interi non negativi.\n",
    "\n",
    "Una caratteristica distintiva della distribuzione di Poisson è che il suo valore atteso e la varianza sono entrambi uguali a $\\lambda$. Questo implica che, man mano che il tasso medio $\\lambda$ aumenta, anche la varianza (cioè la dispersione dei valori attorno al valore medio) aumenta di pari passo.\n",
    "\n",
    "La distribuzione di Poisson trova applicazione in svariati contesti dove è necessario modellare il numero di occorrenze di eventi rari in un intervallo fisso, come ad esempio il numero di chiamate ricevute da un centralino in un'ora o il numero di errori per pagina in un libro. La sua utilità risiede nella capacità di gestire eventi che avvengono in modo apparentemente casuale e indipendente l'uno dall'altro.\n",
    "\n",
    "Quale esempio, presentiamo qui sotto un grafico con la distribuzione di Poisson di parametro $\\lambda$ = 2."
   ]
  },
  {
   "cell_type": "code",
   "execution_count": 3,
   "metadata": {},
   "outputs": [
    {
     "data": {
      "image/png": "[encoded data removed]",
      "text/plain": [
       "<Figure size 720x480 with 1 Axes>"
      ]
     },
     "metadata": {
      "image/png": {
       "height": 491,
       "width": 731
      }
     },
     "output_type": "display_data"
    }
   ],
   "source": [
    "# Tasso medio di occorrenza di eventi\n",
    "lambda_value = 2\n",
    "\n",
    "# Creazione della distribuzione di Poisson con il tasso medio specificato\n",
    "poisson_dist = stats.poisson(mu=lambda_value)\n",
    "\n",
    "# Calcolo della probabilità di avere un certo numero di eventi\n",
    "k_values = range(0, 11)  # Consideriamo valori da 0 a 10\n",
    "\n",
    "# Calcolo delle probabilità corrispondenti\n",
    "probabilities = poisson_dist.pmf(k_values)\n",
    "\n",
    "plt.figure()\n",
    "\n",
    "# Plot della distribuzione di massa di probabilità\n",
    "plt.bar(k_values, probabilities)\n",
    "plt.xlabel('Numero di Eventi (k)')\n",
    "plt.ylabel('Probabilità')\n",
    "plt.title('Distribuzione di Massa di Probabilità di Poisson')\n",
    "plt.show()"
   ]
  },
  {
   "cell_type": "markdown",
   "metadata": {},
   "source": [
    "La probabilità di un singolo valore $y$ si ottiene utilizzando la funzione `pmf`, in cui l'argomento `k` rappresenta il numero di eventi ($y$) e `mu` è uguale a $\\lambda$. Ad esempio, la probabilità di osservare esattamente un evento ($y = 1$) dato un tasso di occorrenza $\\lambda$ = 2, è data da:"
   ]
  },
  {
   "cell_type": "code",
   "execution_count": 31,
   "metadata": {},
   "outputs": [
    {
     "data": {
      "text/plain": [
       "0.2706705664732254"
      ]
     },
     "execution_count": 31,
     "metadata": {},
     "output_type": "execute_result"
    }
   ],
   "source": [
    "stats.poisson.pmf(k=1, mu=2)"
   ]
  },
  {
   "cell_type": "markdown",
   "metadata": {},
   "source": [
    "La funzione `ppf`, che richiede come argomenti la probabilità e $\\lambda$, restituisce il quantile della distribuzione di Poisson. Ad esempio, nel caso precedente abbiamo:"
   ]
  },
  {
   "cell_type": "code",
   "execution_count": 32,
   "metadata": {},
   "outputs": [
    {
     "data": {
      "text/plain": [
       "1.0"
      ]
     },
     "execution_count": 32,
     "metadata": {},
     "output_type": "execute_result"
    }
   ],
   "source": [
    "stats.poisson.ppf(0.2706705664732254, mu=2)"
   ]
  },
  {
   "cell_type": "markdown",
   "metadata": {},
   "source": [
    "La funzione di ripartizione si ottiene utilizzando `cdf`. Per esempio:"
   ]
  },
  {
   "cell_type": "code",
   "execution_count": 42,
   "metadata": {},
   "outputs": [
    {
     "data": {
      "text/plain": [
       "0.6766764161830634"
      ]
     },
     "execution_count": 42,
     "metadata": {},
     "output_type": "execute_result"
    }
   ],
   "source": [
    "stats.poisson.cdf(2, mu=2)"
   ]
  },
  {
   "cell_type": "markdown",
   "metadata": {},
   "source": [
    "Verifichiamo:"
   ]
  },
  {
   "cell_type": "code",
   "execution_count": 43,
   "metadata": {},
   "outputs": [
    {
     "data": {
      "text/plain": [
       "0.6766764161830635"
      ]
     },
     "execution_count": 43,
     "metadata": {},
     "output_type": "execute_result"
    }
   ],
   "source": [
    "stats.poisson.pmf(0, mu=2) + stats.poisson.pmf(1, mu=2) + stats.poisson.pmf(2, mu=2)"
   ]
  },
  {
   "cell_type": "markdown",
   "metadata": {},
   "source": [
    "La generazione di numeri casuali dalla distribuzione di Poisson può essere ottenuta utilizzando `rng`. Ad esempio:"
   ]
  },
  {
   "cell_type": "code",
   "execution_count": 33,
   "metadata": {},
   "outputs": [
    {
     "data": {
      "text/plain": [
       "array([4, 3, 3, 2, 1, 5, 2, 0, 1, 3])"
      ]
     },
     "execution_count": 33,
     "metadata": {},
     "output_type": "execute_result"
    }
   ],
   "source": [
    "rng.poisson(2, 10)"
   ]
  },
  {
   "cell_type": "markdown",
   "metadata": {},
   "source": [
    "Verifichiamo:"
   ]
  },
  {
   "cell_type": "code",
   "execution_count": 40,
   "metadata": {},
   "outputs": [
    {
     "data": {
      "text/plain": [
       "1.9979"
      ]
     },
     "execution_count": 40,
     "metadata": {},
     "output_type": "execute_result"
    }
   ],
   "source": [
    "rng.poisson(2, 10000).mean()"
   ]
  },
  {
   "cell_type": "markdown",
   "metadata": {},
   "source": [
    "## Distribuzione Beta-Binomiale\n",
    "\n",
    "La distribuzione beta-binomiale è una distribuzione di probabilità discreta estremamente utile in situazioni dove la probabilità di successo in una serie di esperimenti non è costante, ma varia seguendo una distribuzione beta. Questa distribuzione è parametrizzata da tre valori: $N$, $\\alpha$ e $\\beta$.\n",
    "\n",
    "La formula che definisce la funzione di massa di probabilità della distribuzione beta-binomiale è la seguente:\n",
    "\n",
    "$$\n",
    "BetaBinomial(y \\mid N, \\alpha, \\beta) = \\binom{N}{y} \\frac{B(y + \\alpha, N-y+\\beta)}{B(\\alpha, \\beta)},\n",
    "$$ (eq-beta-binom-formula)\n",
    "\n",
    "dove $y$ rappresenta il numero di successi osservati, $N$ è il numero totale di prove, e $\\alpha$ e $\\beta$ sono i parametri della distribuzione beta che modellano la variazione nella probabilità di successo tra le prove. La funzione beta, indicata come $B(u, v)$, è definita come:\n",
    "\n",
    "$$\n",
    "B(u, v) = \\frac{\\Gamma(u)\\Gamma(v)}{\\Gamma(u+v)},\n",
    "$$\n",
    "\n",
    "in cui $\\Gamma$ rappresenta la funzione gamma, un'estensione del concetto di fattoriale a numeri reali e complessi.\n",
    "\n",
    "Questa distribuzione è particolarmente utile in contesti dove le probabilità di successo variano in maniera casuale, ma seguendo una certa distribuzione, come può accadere in studi clinici o in ricerche comportamentali. La distribuzione beta-binomiale fornisce una modellazione più flessibile rispetto alla semplice distribuzione binomiale, adattandosi meglio a situazioni reali dove l'ipotesi di una probabilità di successo costante non è valida."
   ]
  },
  {
   "attachments": {},
   "cell_type": "markdown",
   "metadata": {},
   "source": [
    "## Conclusioni sulle Distribuzioni Discrete\n",
    "\n",
    "In questo capitolo, abbiamo esplorato diverse distribuzioni discrete fondamentali, ciascuna con le sue specifiche applicazioni e peculiarità. Abbiamo iniziato con la distribuzione Bernoulliana, che modella esperimenti con due possibili esiti, come il lancio di una moneta. Abbiamo poi approfondito la distribuzione Binomiale, una generalizzazione della Bernoulliana, che si focalizza sul conteggio del numero di successi in un dato numero di prove indipendenti.\n",
    "\n",
    "Abbiamo anche esaminato la distribuzione Beta-Binomiale, che estende ulteriormente il modello Binomiale incorporando la variabilità nella probabilità di successo, e la distribuzione di Poisson, utilizzata per modellare il numero di eventi che si verificano in un intervallo di tempo o spazio, quando questi eventi sono rari e indipendenti.\n",
    "\n",
    "Infine, abbiamo discusso la distribuzione Discreta Uniforme, che attribuisce la stessa probabilità a ogni evento in un insieme finito e discreto. Questa distribuzione è particolarmente utile quando non abbiamo ragioni per assegnare probabilità diverse ai diversi esiti.\n",
    "\n",
    "Queste distribuzioni formano il cuore dell'analisi statistica discreta e trovano applicazione in un'ampia gamma di settori. In particolare, nel contesto dell'analisi bayesiana, la comprensione della distribuzione Binomiale e Beta-Binomiale è cruciale, poiché queste distribuzioni forniscono le basi per l'aggiornamento bayesiano, un concetto chiave che sarà esplorato nei capitoli successivi.\n",
    "\n",
    "Per coloro interessati a tecniche più avanzate, la generazione di valori casuali a partire da queste distribuzioni è trattata nell'appendice {ref}`rng-appendix`. Questa sezione fornisce strumenti e approfondimenti utili per l'applicazione pratica di questi modelli probabilistici.\n",
    "\n",
    "In conclusione, le distribuzioni discrete forniscono strumenti essenziali e versatili per modellare e analizzare fenomeni caratterizzati da eventi distinti e quantificabili. La comprensione approfondita di queste distribuzioni è cruciale per chiunque desideri esplorare il vasto campo della probabilità e della statistica. \n",
    "\n",
    "## Watermark"
   ]
  },
  {
   "cell_type": "code",
   "execution_count": 18,
   "metadata": {},
   "outputs": [
    {
     "name": "stdout",
     "output_type": "stream",
     "text": [
      "Last updated: Fri Oct 27 2023\n",
      "\n",
      "Python implementation: CPython\n",
      "Python version       : 3.11.6\n",
      "IPython version      : 8.16.1\n",
      "\n",
      "pytensor: 2.13.1\n",
      "\n",
      "matplotlib: 3.8.0\n",
      "numpy     : 1.25.2\n",
      "pandas    : 2.1.1\n",
      "arviz     : 0.16.1\n",
      "scipy     : 1.11.3\n",
      "seaborn   : 0.13.0\n",
      "\n",
      "Watermark: 2.4.3\n",
      "\n"
     ]
    }
   ],
   "source": [
    "%load_ext watermark\n",
    "%watermark -n -u -v -iv -w -p pytensor"
   ]
  }
 ],
 "metadata": {
  "kernelspec": {
   "display_name": "Python 3",
   "language": "python",
   "name": "python3"
  },
  "language_info": {
   "codemirror_mode": {
    "name": "ipython",
    "version": 3
   },
   "file_extension": ".py",
   "mimetype": "text/x-python",
   "name": "python",
   "nbconvert_exporter": "python",
   "pygments_lexer": "ipython3",
   "version": "3.11.6"
  },
  "vscode": {
   "interpreter": {
    "hash": "2fb22ef73048ab480306a3a8971dd9d9ae74918bef9be9e93ea3e01644b9825e"
   }
  }
 },
 "nbformat": 4,
 "nbformat_minor": 2
}