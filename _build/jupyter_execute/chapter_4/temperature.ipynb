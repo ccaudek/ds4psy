{
 "cells": [
  {
   "cell_type": "code",
   "execution_count": 1,
   "metadata": {},
   "outputs": [
    {
     "name": "stderr",
     "output_type": "stream",
     "text": [
      "/Users/corrado/opt/anaconda3/envs/pymc9_env/lib/python3.11/site-packages/tqdm/auto.py:21: TqdmWarning: IProgress not found. Please update jupyter and ipywidgets. See https://ipywidgets.readthedocs.io/en/stable/user_install.html\n",
      "  from .autonotebook import tqdm as notebook_tqdm\n"
     ]
    }
   ],
   "source": [
    "import numpy as np\n",
    "import pandas as pd\n",
    "import matplotlib.pyplot as plt\n",
    "import seaborn as sns\n",
    "import pymc as pm\n",
    "import pymc.sampling_jax\n",
    "import bambi as bmb\n",
    "import scipy.stats as stats\n",
    "from scipy.stats import gaussian_kde\n",
    "from sklearn.preprocessing import scale\n",
    "import arviz as az\n",
    "import warnings\n",
    "\n",
    "warnings.filterwarnings(\"ignore\", category=FutureWarning)"
   ]
  },
  {
   "cell_type": "code",
   "execution_count": 2,
   "metadata": {},
   "outputs": [],
   "source": [
    "%config InlineBackend.figure_format = 'retina'\n",
    "RANDOM_SEED = 42\n",
    "rng = np.random.default_rng(RANDOM_SEED)\n",
    "az.style.use(\"arviz-darkgrid\")"
   ]
  },
  {
   "cell_type": "code",
   "execution_count": 3,
   "metadata": {},
   "outputs": [
    {
     "name": "stdout",
     "output_type": "stream",
     "text": [
      "        date    city  temperature\n",
      "0 2020-05-01  Berlin    15.609434\n",
      "1 2020-05-02  Berlin    12.920032\n",
      "2 2020-05-03  Berlin    16.500902\n",
      "3 2020-05-04  Berlin    16.881129\n",
      "4 2020-05-05  Berlin    11.097930\n"
     ]
    }
   ],
   "source": [
    "# Initialize a random number generator for reproducibility\n",
    "rng = np.random.default_rng(seed=42)\n",
    "\n",
    "# Generate date range\n",
    "dates = pd.date_range(start=\"2020-05-01\", end=\"2020-07-01\")\n",
    "n_dates = len(dates)\n",
    "\n",
    "# Cities and their average temperatures\n",
    "cities = [\"Berlin\", \"Paris\", \"Rome\"]\n",
    "avg_temps = [15, 17, 20]\n",
    "n_cities = len(cities)\n",
    "\n",
    "# Pre-allocate a NumPy array to hold the temperature data\n",
    "temperature_array = np.zeros(n_dates * n_cities)\n",
    "\n",
    "# Populate the temperature array\n",
    "for i, avg_temp in enumerate(avg_temps):\n",
    "    temperature_array[i * n_dates : (i + 1) * n_dates] = rng.normal(\n",
    "        loc=avg_temp, scale=2, size=n_dates\n",
    "    )\n",
    "\n",
    "# Create date and city columns, repeating as necessary\n",
    "date_column = np.tile(dates, n_cities)\n",
    "city_column = np.repeat(cities, n_dates)\n",
    "\n",
    "# Create a DataFrame in long format\n",
    "df_data_long = pd.DataFrame(\n",
    "    {\"date\": date_column, \"city\": city_column, \"temperature\": temperature_array}\n",
    ")\n",
    "\n",
    "# Show first few rows\n",
    "print(df_data_long.head())"
   ]
  },
  {
   "cell_type": "code",
   "execution_count": 4,
   "metadata": {},
   "outputs": [
    {
     "name": "stdout",
     "output_type": "stream",
     "text": [
      "{'date': DatetimeIndex(['2020-05-01', '2020-05-02', '2020-05-03', '2020-05-04',\n",
      "               '2020-05-05', '2020-05-06', '2020-05-07', '2020-05-08',\n",
      "               '2020-05-09', '2020-05-10', '2020-05-11', '2020-05-12',\n",
      "               '2020-05-13', '2020-05-14', '2020-05-15', '2020-05-16',\n",
      "               '2020-05-17', '2020-05-18', '2020-05-19', '2020-05-20',\n",
      "               '2020-05-21', '2020-05-22', '2020-05-23', '2020-05-24',\n",
      "               '2020-05-25', '2020-05-26', '2020-05-27', '2020-05-28',\n",
      "               '2020-05-29', '2020-05-30', '2020-05-31', '2020-06-01',\n",
      "               '2020-06-02', '2020-06-03', '2020-06-04', '2020-06-05',\n",
      "               '2020-06-06', '2020-06-07', '2020-06-08', '2020-06-09',\n",
      "               '2020-06-10', '2020-06-11', '2020-06-12', '2020-06-13',\n",
      "               '2020-06-14', '2020-06-15', '2020-06-16', '2020-06-17',\n",
      "               '2020-06-18', '2020-06-19', '2020-06-20', '2020-06-21',\n",
      "               '2020-06-22', '2020-06-23', '2020-06-24', '2020-06-25',\n",
      "               '2020-06-26', '2020-06-27', '2020-06-28', '2020-06-29',\n",
      "               '2020-06-30', '2020-07-01'],\n",
      "              dtype='datetime64[ns]', freq=None), 'city': Index(['Berlin', 'Paris', 'Rome'], dtype='object')}\n"
     ]
    }
   ],
   "source": [
    "# The \"coordinates\" are the unique values that these dimensions can take\n",
    "coords = {\n",
    "    \"date\": pd.Categorical(df_data_long[\"date\"]).categories,\n",
    "    \"city\": pd.Categorical(df_data_long[\"city\"]).categories,\n",
    "}\n",
    "print(coords)"
   ]
  },
  {
   "cell_type": "code",
   "execution_count": 5,
   "metadata": {},
   "outputs": [
    {
     "name": "stderr",
     "output_type": "stream",
     "text": [
      "/Users/corrado/opt/anaconda3/envs/pymc9_env/lib/python3.11/site-packages/pymc/data.py:433: UserWarning: The `mutable` kwarg was not specified. Before v4.1.0 it defaulted to `pm.Data(mutable=True)`, which is equivalent to using `pm.MutableData()`. In v4.1.0 the default changed to `pm.Data(mutable=False)`, equivalent to `pm.ConstantData`. Use `pm.ConstantData`/`pm.MutableData` or pass `pm.Data(..., mutable=False/True)` to avoid this warning.\n",
      "  warnings.warn(\n"
     ]
    },
    {
     "name": "stderr",
     "output_type": "stream",
     "text": [
      "Compiling...\n"
     ]
    },
    {
     "name": "stderr",
     "output_type": "stream",
     "text": [
      "WARNING: All log messages before absl::InitializeLog() is called are written to STDERR\n",
      "I0000 00:00:1699560306.839348       1 tfrt_cpu_pjrt_client.cc:349] TfrtCpuClient created.\n"
     ]
    },
    {
     "name": "stderr",
     "output_type": "stream",
     "text": [
      "Compilation time = 0:00:05.465431\n"
     ]
    },
    {
     "name": "stderr",
     "output_type": "stream",
     "text": [
      "Sampling...\n"
     ]
    },
    {
     "name": "stderr",
     "output_type": "stream",
     "text": [
      "\r",
      "  0%|                                                                                                | 0/2000 [00:00<?, ?it/s]"
     ]
    },
    {
     "name": "stderr",
     "output_type": "stream",
     "text": [
      "\r",
      "Compiling.. :   0%|                                                                                  | 0/2000 [00:00<?, ?it/s]"
     ]
    },
    {
     "name": "stderr",
     "output_type": "stream",
     "text": [
      "\n"
     ]
    },
    {
     "name": "stderr",
     "output_type": "stream",
     "text": [
      "\r",
      "  0%|                                                                                                | 0/2000 [00:00<?, ?it/s]"
     ]
    },
    {
     "name": "stderr",
     "output_type": "stream",
     "text": [
      "\u001b[A"
     ]
    },
    {
     "name": "stderr",
     "output_type": "stream",
     "text": [
      "\n"
     ]
    },
    {
     "name": "stderr",
     "output_type": "stream",
     "text": [
      "\r",
      "Compiling.. :   0%|                                                                                  | 0/2000 [00:00<?, ?it/s]"
     ]
    },
    {
     "name": "stderr",
     "output_type": "stream",
     "text": [
      "\u001b[A"
     ]
    },
    {
     "name": "stderr",
     "output_type": "stream",
     "text": [
      "\n",
      "\n"
     ]
    },
    {
     "name": "stderr",
     "output_type": "stream",
     "text": [
      "\r",
      "  0%|                                                                                                | 0/2000 [00:00<?, ?it/s]"
     ]
    },
    {
     "name": "stderr",
     "output_type": "stream",
     "text": [
      "\u001b[A\u001b[A"
     ]
    },
    {
     "name": "stderr",
     "output_type": "stream",
     "text": [
      "\n",
      "\n"
     ]
    },
    {
     "name": "stderr",
     "output_type": "stream",
     "text": [
      "\r",
      "Compiling.. :   0%|                                                                                  | 0/2000 [00:00<?, ?it/s]"
     ]
    },
    {
     "name": "stderr",
     "output_type": "stream",
     "text": [
      "\u001b[A\u001b[A"
     ]
    },
    {
     "name": "stderr",
     "output_type": "stream",
     "text": [
      "\n",
      "\n",
      "\n"
     ]
    },
    {
     "name": "stderr",
     "output_type": "stream",
     "text": [
      "\r",
      "  0%|                                                                                                | 0/2000 [00:00<?, ?it/s]"
     ]
    },
    {
     "name": "stderr",
     "output_type": "stream",
     "text": [
      "\u001b[A\u001b[A\u001b[A"
     ]
    },
    {
     "name": "stderr",
     "output_type": "stream",
     "text": [
      "\n",
      "\n",
      "\n"
     ]
    },
    {
     "name": "stderr",
     "output_type": "stream",
     "text": [
      "\r",
      "Compiling.. :   0%|                                                                                  | 0/2000 [00:00<?, ?it/s]"
     ]
    },
    {
     "name": "stderr",
     "output_type": "stream",
     "text": [
      "\u001b[A\u001b[A\u001b[A"
     ]
    },
    {
     "name": "stderr",
     "output_type": "stream",
     "text": [
      "\n",
      "\n"
     ]
    },
    {
     "name": "stderr",
     "output_type": "stream",
     "text": [
      "\r",
      "Running chain 2:   0%|                                                                               | 0/2000 [00:01<?, ?it/s]"
     ]
    },
    {
     "name": "stderr",
     "output_type": "stream",
     "text": [
      "\u001b[A\u001b[A"
     ]
    },
    {
     "name": "stderr",
     "output_type": "stream",
     "text": [
      "\n",
      "\n",
      "\n"
     ]
    },
    {
     "name": "stderr",
     "output_type": "stream",
     "text": [
      "\r",
      "Running chain 3:   0%|                                                                               | 0/2000 [00:01<?, ?it/s]"
     ]
    },
    {
     "name": "stderr",
     "output_type": "stream",
     "text": [
      "\u001b[A\u001b[A\u001b[A"
     ]
    },
    {
     "name": "stderr",
     "output_type": "stream",
     "text": [
      "\n"
     ]
    },
    {
     "name": "stderr",
     "output_type": "stream",
     "text": [
      "\r",
      "Running chain 1:   0%|                                                                               | 0/2000 [00:01<?, ?it/s]"
     ]
    },
    {
     "name": "stderr",
     "output_type": "stream",
     "text": [
      "\u001b[A"
     ]
    },
    {
     "name": "stderr",
     "output_type": "stream",
     "text": [
      "\r",
      "Running chain 0:   0%|                                                                               | 0/2000 [00:01<?, ?it/s]"
     ]
    },
    {
     "name": "stderr",
     "output_type": "stream",
     "text": [
      "\n",
      "\n",
      "\n"
     ]
    },
    {
     "name": "stderr",
     "output_type": "stream",
     "text": [
      "\r",
      "Running chain 3:  95%|█████████████████████████████████████████████████████████████▊   | 1900/2000 [00:01<00:00, 18716.26it/s]"
     ]
    },
    {
     "name": "stderr",
     "output_type": "stream",
     "text": [
      "\u001b[A\u001b[A\u001b[A"
     ]
    },
    {
     "name": "stderr",
     "output_type": "stream",
     "text": [
      "\r",
      "Running chain 0:  90%|██████████████████████████████████████████████████████████▌      | 1800/2000 [00:01<00:00, 17708.57it/s]"
     ]
    },
    {
     "name": "stderr",
     "output_type": "stream",
     "text": [
      "\n",
      "\n"
     ]
    },
    {
     "name": "stderr",
     "output_type": "stream",
     "text": [
      "\r",
      "Running chain 2:  90%|██████████████████████████████████████████████████████████▌      | 1800/2000 [00:01<00:00, 17516.94it/s]"
     ]
    },
    {
     "name": "stderr",
     "output_type": "stream",
     "text": [
      "\u001b[A\u001b[A"
     ]
    },
    {
     "name": "stderr",
     "output_type": "stream",
     "text": [
      "\n"
     ]
    },
    {
     "name": "stderr",
     "output_type": "stream",
     "text": [
      "\r",
      "Running chain 1:  90%|██████████████████████████████████████████████████████████▌      | 1800/2000 [00:01<00:00, 17575.95it/s]"
     ]
    },
    {
     "name": "stderr",
     "output_type": "stream",
     "text": [
      "\u001b[A"
     ]
    },
    {
     "name": "stderr",
     "output_type": "stream",
     "text": [
      "\r",
      "Running chain 0: 100%|██████████████████████████████████████████████████████████████████| 2000/2000 [00:01<00:00, 1263.32it/s]"
     ]
    },
    {
     "name": "stderr",
     "output_type": "stream",
     "text": [
      "\n",
      "\r",
      "Running chain 1: 100%|██████████████████████████████████████████████████████████████████| 2000/2000 [00:01<00:00, 1264.48it/s]"
     ]
    },
    {
     "name": "stderr",
     "output_type": "stream",
     "text": [
      "\n",
      "\r",
      "Running chain 2: 100%|██████████████████████████████████████████████████████████████████| 2000/2000 [00:01<00:00, 1265.51it/s]"
     ]
    },
    {
     "name": "stderr",
     "output_type": "stream",
     "text": [
      "\n",
      "\r",
      "Running chain 3: 100%|██████████████████████████████████████████████████████████████████| 2000/2000 [00:01<00:00, 1266.43it/s]"
     ]
    },
    {
     "name": "stderr",
     "output_type": "stream",
     "text": [
      "\n",
      "Sampling time = 0:00:01.917180\n"
     ]
    },
    {
     "name": "stderr",
     "output_type": "stream",
     "text": [
      "Transforming variables...\n"
     ]
    },
    {
     "name": "stderr",
     "output_type": "stream",
     "text": [
      "Transformation time = 0:00:00.117639\n"
     ]
    }
   ],
   "source": [
    "RANDOM_SEED = 123  \n",
    "\n",
    "with pm.Model(coords=coords) as model:\n",
    "    # Constant Data\n",
    "    data = pm.Data(\"observed_temp\", df_data_long[\"temperature\"], dims=(\"obs_id\"))\n",
    "    \n",
    "    # Coordinates for the observed data\n",
    "    date_idx = pd.Categorical(df_data_long[\"date\"]).codes\n",
    "    city_idx = pd.Categorical(df_data_long[\"city\"]).codes\n",
    "    \n",
    "    # Priors\n",
    "    europe_mean = pm.Normal(\"europe_mean_temp\", mu=15.0, sigma=3.0)\n",
    "    city_offset = pm.Normal(\"city_offset\", mu=0.0, sigma=3.0, dims=\"city\")\n",
    "    \n",
    "    # Expected city temperature\n",
    "    city_temperature = pm.Deterministic(\n",
    "        \"expected_city_temp\", europe_mean + city_offset[city_idx], dims=\"obs_id\"\n",
    "    )\n",
    "    \n",
    "    # Model Error\n",
    "    sigma = pm.Exponential(\"sigma\", 1)\n",
    "    \n",
    "    # Likelihood\n",
    "    pm.Normal(\"temperature\", mu=city_temperature, sigma=sigma, observed=data, dims=(\"obs_id\"))\n",
    "    \n",
    "    # Sampling\n",
    "    idata = pm.sampling_jax.sample_numpyro_nuts()\n"
   ]
  },
  {
   "cell_type": "code",
   "execution_count": 6,
   "metadata": {},
   "outputs": [
    {
     "data": {
      "text/html": [
       "<div>\n",
       "<style scoped>\n",
       "    .dataframe tbody tr th:only-of-type {\n",
       "        vertical-align: middle;\n",
       "    }\n",
       "\n",
       "    .dataframe tbody tr th {\n",
       "        vertical-align: top;\n",
       "    }\n",
       "\n",
       "    .dataframe thead th {\n",
       "        text-align: right;\n",
       "    }\n",
       "</style>\n",
       "<table border=\"1\" class=\"dataframe\">\n",
       "  <thead>\n",
       "    <tr style=\"text-align: right;\">\n",
       "      <th></th>\n",
       "      <th>mean</th>\n",
       "      <th>sd</th>\n",
       "      <th>hdi_3%</th>\n",
       "      <th>hdi_97%</th>\n",
       "      <th>mcse_mean</th>\n",
       "      <th>mcse_sd</th>\n",
       "      <th>ess_bulk</th>\n",
       "      <th>ess_tail</th>\n",
       "      <th>r_hat</th>\n",
       "    </tr>\n",
       "  </thead>\n",
       "  <tbody>\n",
       "    <tr>\n",
       "      <th>europe_mean_temp</th>\n",
       "      <td>16.687</td>\n",
       "      <td>1.536</td>\n",
       "      <td>13.853</td>\n",
       "      <td>19.556</td>\n",
       "      <td>0.065</td>\n",
       "      <td>0.046</td>\n",
       "      <td>555.0</td>\n",
       "      <td>681.0</td>\n",
       "      <td>1.00</td>\n",
       "    </tr>\n",
       "    <tr>\n",
       "      <th>city_offset[Berlin]</th>\n",
       "      <td>-1.625</td>\n",
       "      <td>1.539</td>\n",
       "      <td>-4.549</td>\n",
       "      <td>1.206</td>\n",
       "      <td>0.065</td>\n",
       "      <td>0.046</td>\n",
       "      <td>558.0</td>\n",
       "      <td>707.0</td>\n",
       "      <td>1.00</td>\n",
       "    </tr>\n",
       "    <tr>\n",
       "      <th>city_offset[Paris]</th>\n",
       "      <td>0.044</td>\n",
       "      <td>1.543</td>\n",
       "      <td>-2.755</td>\n",
       "      <td>2.936</td>\n",
       "      <td>0.065</td>\n",
       "      <td>0.046</td>\n",
       "      <td>564.0</td>\n",
       "      <td>679.0</td>\n",
       "      <td>1.00</td>\n",
       "    </tr>\n",
       "    <tr>\n",
       "      <th>city_offset[Rome]</th>\n",
       "      <td>3.309</td>\n",
       "      <td>1.544</td>\n",
       "      <td>0.497</td>\n",
       "      <td>6.220</td>\n",
       "      <td>0.066</td>\n",
       "      <td>0.046</td>\n",
       "      <td>560.0</td>\n",
       "      <td>686.0</td>\n",
       "      <td>1.00</td>\n",
       "    </tr>\n",
       "    <tr>\n",
       "      <th>sigma</th>\n",
       "      <td>1.744</td>\n",
       "      <td>0.091</td>\n",
       "      <td>1.578</td>\n",
       "      <td>1.918</td>\n",
       "      <td>0.003</td>\n",
       "      <td>0.002</td>\n",
       "      <td>1155.0</td>\n",
       "      <td>1132.0</td>\n",
       "      <td>1.01</td>\n",
       "    </tr>\n",
       "    <tr>\n",
       "      <th>...</th>\n",
       "      <td>...</td>\n",
       "      <td>...</td>\n",
       "      <td>...</td>\n",
       "      <td>...</td>\n",
       "      <td>...</td>\n",
       "      <td>...</td>\n",
       "      <td>...</td>\n",
       "      <td>...</td>\n",
       "      <td>...</td>\n",
       "    </tr>\n",
       "    <tr>\n",
       "      <th>expected_city_temp[181]</th>\n",
       "      <td>19.997</td>\n",
       "      <td>0.223</td>\n",
       "      <td>19.580</td>\n",
       "      <td>20.423</td>\n",
       "      <td>0.003</td>\n",
       "      <td>0.002</td>\n",
       "      <td>4687.0</td>\n",
       "      <td>2695.0</td>\n",
       "      <td>1.00</td>\n",
       "    </tr>\n",
       "    <tr>\n",
       "      <th>expected_city_temp[182]</th>\n",
       "      <td>19.997</td>\n",
       "      <td>0.223</td>\n",
       "      <td>19.580</td>\n",
       "      <td>20.423</td>\n",
       "      <td>0.003</td>\n",
       "      <td>0.002</td>\n",
       "      <td>4687.0</td>\n",
       "      <td>2695.0</td>\n",
       "      <td>1.00</td>\n",
       "    </tr>\n",
       "    <tr>\n",
       "      <th>expected_city_temp[183]</th>\n",
       "      <td>19.997</td>\n",
       "      <td>0.223</td>\n",
       "      <td>19.580</td>\n",
       "      <td>20.423</td>\n",
       "      <td>0.003</td>\n",
       "      <td>0.002</td>\n",
       "      <td>4687.0</td>\n",
       "      <td>2695.0</td>\n",
       "      <td>1.00</td>\n",
       "    </tr>\n",
       "    <tr>\n",
       "      <th>expected_city_temp[184]</th>\n",
       "      <td>19.997</td>\n",
       "      <td>0.223</td>\n",
       "      <td>19.580</td>\n",
       "      <td>20.423</td>\n",
       "      <td>0.003</td>\n",
       "      <td>0.002</td>\n",
       "      <td>4687.0</td>\n",
       "      <td>2695.0</td>\n",
       "      <td>1.00</td>\n",
       "    </tr>\n",
       "    <tr>\n",
       "      <th>expected_city_temp[185]</th>\n",
       "      <td>19.997</td>\n",
       "      <td>0.223</td>\n",
       "      <td>19.580</td>\n",
       "      <td>20.423</td>\n",
       "      <td>0.003</td>\n",
       "      <td>0.002</td>\n",
       "      <td>4687.0</td>\n",
       "      <td>2695.0</td>\n",
       "      <td>1.00</td>\n",
       "    </tr>\n",
       "  </tbody>\n",
       "</table>\n",
       "<p>191 rows × 9 columns</p>\n",
       "</div>"
      ],
      "text/plain": [
       "                           mean     sd  hdi_3%  hdi_97%  mcse_mean  mcse_sd  \\\n",
       "europe_mean_temp         16.687  1.536  13.853   19.556      0.065    0.046   \n",
       "city_offset[Berlin]      -1.625  1.539  -4.549    1.206      0.065    0.046   \n",
       "city_offset[Paris]        0.044  1.543  -2.755    2.936      0.065    0.046   \n",
       "city_offset[Rome]         3.309  1.544   0.497    6.220      0.066    0.046   \n",
       "sigma                     1.744  0.091   1.578    1.918      0.003    0.002   \n",
       "...                         ...    ...     ...      ...        ...      ...   \n",
       "expected_city_temp[181]  19.997  0.223  19.580   20.423      0.003    0.002   \n",
       "expected_city_temp[182]  19.997  0.223  19.580   20.423      0.003    0.002   \n",
       "expected_city_temp[183]  19.997  0.223  19.580   20.423      0.003    0.002   \n",
       "expected_city_temp[184]  19.997  0.223  19.580   20.423      0.003    0.002   \n",
       "expected_city_temp[185]  19.997  0.223  19.580   20.423      0.003    0.002   \n",
       "\n",
       "                         ess_bulk  ess_tail  r_hat  \n",
       "europe_mean_temp            555.0     681.0   1.00  \n",
       "city_offset[Berlin]         558.0     707.0   1.00  \n",
       "city_offset[Paris]          564.0     679.0   1.00  \n",
       "city_offset[Rome]           560.0     686.0   1.00  \n",
       "sigma                      1155.0    1132.0   1.01  \n",
       "...                           ...       ...    ...  \n",
       "expected_city_temp[181]    4687.0    2695.0   1.00  \n",
       "expected_city_temp[182]    4687.0    2695.0   1.00  \n",
       "expected_city_temp[183]    4687.0    2695.0   1.00  \n",
       "expected_city_temp[184]    4687.0    2695.0   1.00  \n",
       "expected_city_temp[185]    4687.0    2695.0   1.00  \n",
       "\n",
       "[191 rows x 9 columns]"
      ]
     },
     "execution_count": 6,
     "metadata": {},
     "output_type": "execute_result"
    }
   ],
   "source": [
    "az.summary(idata)"
   ]
  }
 ],
 "metadata": {
  "kernelspec": {
   "display_name": "pymc_env",
   "language": "python",
   "name": "python3"
  },
  "language_info": {
   "codemirror_mode": {
    "name": "ipython",
    "version": 3
   },
   "file_extension": ".py",
   "mimetype": "text/x-python",
   "name": "python",
   "nbconvert_exporter": "python",
   "pygments_lexer": "ipython3",
   "version": "3.11.6"
  }
 },
 "nbformat": 4,
 "nbformat_minor": 2
}