{
 "cells": [
  {
   "attachments": {},
   "cell_type": "markdown",
   "metadata": {},
   "source": [
    "<a target=\"_blank\" rel=\"noopener noreferrer\" href=\"https://colab.research.google.com/github/ccaudek/ds4psy_2023/blob/main/415_reglin_4.ipynb\">![Open In Colab](https://colab.research.google.com/assets/colab-badge.svg)</a>\n",
    "\n",
    "(causal-inference-notebook)=\n",
    "# Inferenza causale\n",
    "\n",
    "Lo scopo di questo capitolo è di introdurre il modello di regressione multipla e di discutere come esso si collega all'analisi causale. "
   ]
  },
  {
   "cell_type": "markdown",
   "metadata": {},
   "source": [
    "## Preparazione del Notebook"
   ]
  },
  {
   "cell_type": "code",
   "execution_count": 1,
   "metadata": {
    "ExecuteTime": {
     "end_time": "2023-07-31T11:39:45.136075Z",
     "start_time": "2023-07-31T11:39:44.400810Z"
    }
   },
   "outputs": [],
   "source": [
    "import numpy as np\n",
    "import pandas as pd\n",
    "import matplotlib.pyplot as plt\n",
    "import seaborn as sns\n",
    "import scipy as sc\n",
    "import statistics as st\n",
    "import arviz as az\n",
    "import bambi as bmb\n",
    "import pymc as pm\n",
    "from pymc import HalfNormal, Model, Normal, sample\n",
    "import statsmodels.api as sm\n",
    "import networkx as nx\n",
    "import graphviz\n",
    "import warnings\n",
    "\n",
    "warnings.filterwarnings(\"ignore\", category=UserWarning)\n",
    "warnings.filterwarnings(\"ignore\", category=FutureWarning)\n",
    "warnings.filterwarnings(\"ignore\", category=Warning)"
   ]
  },
  {
   "cell_type": "code",
   "execution_count": 2,
   "metadata": {},
   "outputs": [],
   "source": [
    "%config InlineBackend.figure_format = 'retina'\n",
    "RANDOM_SEED = 12345\n",
    "rng = np.random.default_rng(RANDOM_SEED)\n",
    "az.style.use(\"arviz-darkgrid\")\n",
    "sns.set_theme(palette=\"colorblind\")"
   ]
  },
  {
   "cell_type": "markdown",
   "metadata": {},
   "source": [
    "Il modello di regressione multipla è un concetto fondamentale nell'ambito della statistica e dell'analisi dei dati. Si tratta di un'estensione del modello di regressione bivariato che permette di includere più predittori nel modello. Questo significa che, invece di considerare solo una variabile indipendente per predire una variabile dipendente, ora abbiamo più predittori.\n",
    "\n",
    "Nel modello di regressione multipla, la variabile dipendente, che chiameremo $Y$, viene predetta prendendo in considerazione la presenza di variabili indipendenti, che chiameremo $X_1, X_2, \\ldots, X_p$. Il modello assume che il valore atteso di $Y$ condizionato alle variabili indipendenti può essere descritto da un'equazione lineare:\n",
    "\n",
    "$$Y = \\beta_0 + \\beta_1X_1 + \\beta_2X_2 + \\ldots + \\beta_pX_p + \\varepsilon.$$\n",
    "\n",
    "In questa equazione, i coefficienti $\\beta_0, \\beta_1, \\beta_2, \\ldots, \\beta_p$ rappresentano i coefficienti parziali di regressione. Ogni $\\beta_i$ riflette la relazione tra la variabile dipendente $Y$ e la variabile indipendente corrispondente $X_i$, considerando anche l'effetto delle altre variabili presenti nel modello.\n",
    "\n",
    "Una differenza chiave rispetto al modello di regressione bivariato è nell'interpretazione dei coefficienti. Nel caso bivariato, il coefficiente $\\beta_1$ viene interpretato come il cambiamento atteso in $Y$ al variare di una unità in $X_1$, mantenendo costanti tutte le altre variabili. Tuttavia, nel modello di regressione multipla, l'interpretazione di $\\beta_1$ cambia. In questo caso, $\\beta_1$ rappresenta il cambiamento atteso in $Y$ al variare di una unità in $X_1$, mantenendo costanti gli effetti di tutte le altre variabili $X_2, X_3, \\ldots, X_p$. In altre parole, $\\beta_1$ ci dice come varia $Y$ quando $X_1$ cambia, ma considera che le altre variabili possono anche variare con $X_1$, e $\\beta_1$ tiene conto di queste variazioni.\n",
    "\n",
    "L'utilizzo del modello di regressione multipla ha principalmente due scopi. In primo luogo, è utilizzato per la predizione, cioè per ottenere la migliore stima possibile di $Y$ utilizzando una combinazione lineare delle variabili $X_1, X_2, \\ldots, X_p$. In questo contesto, i coefficienti $\\beta_i$ sono considerati come pesi che permettono di effettuare questa previsione.\n",
    "\n",
    "In secondo luogo, il modello di regressione multipla viene spesso utilizzato per descrivere le relazioni causali tra le variabili, un'applicazione comune in psicologia. Tuttavia, è importante sottolineare che questo modello non è stato originariamente creato per stabilire relazioni causali, ed è necessario essere cauti nell'attribuire interpretazioni causali dirette ai coefficienti $\\beta_i$. Questo perché il modello stima correttamente i coefficienti parziali di regressione solo quando tutte le variabili che influenzano $Y$ sono incluse nel modello. Nella pratica, spesso non conosciamo tutte le variabili causalmente rilevanti, il che può portare a problemi di errore di specificazione.\n",
    "\n",
    "In conclusione, il modello di regressione multipla è uno strumento potente per predire e descrivere le relazioni tra variabili, ma bisogna essere consapevoli delle sue limitazioni, in particolare quando si tratta di interpretazioni causali. Nella psicologia, dove la comprensione delle relazioni causali è fondamentale, è essenziale valutare attentamente le variabili da includere nel modello per evitare possibili distorsioni nelle stime dei coefficienti di regressione. Questo può essere particolarmente cruciale per sviluppare teorie solide e condurre ricerche empiriche affidabili."
   ]
  },
  {
   "cell_type": "markdown",
   "metadata": {},
   "source": [
    "## Modello di Regressione e Analisi Causale\n",
    "\n",
    "Continuando con l'analisi del modello di regressione e dell'analisi causale, è essenziale approfondire come l'inclusione delle covariate nel modello multivariato possa influenzare la nostra interpretazione degli effetti causali. La questione centrale che dobbiamo affrontare è se l'aggiustamento per una covariata, che chiameremo $C$, possa rivelare l'effetto causale effettivo di $X$ su $Y$.\n",
    "\n",
    "Per comprendere meglio questo concetto, dobbiamo esaminare come la variabile dipendente $Y$ varia in risposta a modifiche nella variabile indipendente $X$, tenendo conto della struttura causale presunta nel processo di generazione dei dati. La discussione che segue è basata su un articolo di riferimento di Lubke et al. [2020], che ci fornisce una solida base teorica.\n",
    "\n",
    "Per illustrare questo concetto, consideriamo due tipi di strutture causalità. Nel primo caso, abbiamo una struttura a catena, rappresentata come $X \\rightarrow C \\rightarrow Y$, dove $X$ causa $C$ che a sua volta causa $Y$. In questa situazione, sarebbe inappropriato aggiustare per $C$, ossia condizionare su $C$, poiché $C$ funge da mediatore nell'effetto di $X$ su $Y$. Condizionare su $C$ comporterebbe la rimozione di parte dell'effetto causale che intendiamo misurare.\n",
    "\n",
    "Nel secondo caso, abbiamo una struttura a forcella, rappresentata come $X \\leftarrow C \\rightarrow Y$, in cui $C$ è la causa comune di $X$ e $Y$. In questa configurazione, è essenziale aggiustare per $C$ al fine di rimuovere l'effetto confondente e isolare l'effetto diretto di $X$ su $Y$.\n",
    "\n",
    "Il principio di base che guida questo approccio è che dobbiamo bloccare i percorsi non causali utilizzando la distribuzione condizionata e aprire i percorsi causali attraverso l'uso della distribuzione marginale. Questo ci aiuta a decidere quali covariate includere o escludere dal modello di regressione al fine di ottenere una stima più accurata dell'effetto causale.\n",
    "\n",
    "Per chiarire ulteriormente questi concetti, utilizzeremo esempi simulati che mostrano chiaramente quando l'aggiustamento per determinate covariate è necessario per rivelare l'effetto causale reale e quando potrebbe portare a una distorsione nella nostra comprensione della relazione causale. Questa discussione è di particolare rilevanza nel campo della psicologia, dove la comprensione delle relazioni causali tra variabili è fondamentale per lo sviluppo di teorie solide e la conduzione di ricerche empiriche affidabili. La discussione che segue è stata ispirata dall'articolo di riferimento di {cite:t}`lubke2020we`."
   ]
  },
  {
   "cell_type": "markdown",
   "metadata": {},
   "source": [
    "### Esempio 1: Catena\n",
    "\n",
    "Consideriamo le seguenti variabilili: apprendimento, conoscenza e comprensione. Iniziamo con l'apprendimento ($X$), il quale ha un effetto sull'acquisizione di conoscenza ($C$). Successivamente, la conoscenza a sua volta incide sulla comprensione ($Y$). È importante notare che la comprensione (\"understanding\") è influenzata anche da fattori esterni ($U$), che in modelli di regressione vengono rappresentati tramite il termine di errore.\n",
    "\n",
    "In situazioni reali, per valutare apprendimento, conoscenza e comprensione, è possibile utilizzare strumenti come questionari o misurazioni specifiche. Questi strumenti consentono di quantificare tali variabili per poterle poi analizzarle in contesti di ricerca."
   ]
  },
  {
   "cell_type": "code",
   "execution_count": 23,
   "metadata": {},
   "outputs": [
    {
     "data": {
      "image/svg+xml": [
       "<?xml version=\"1.0\" encoding=\"UTF-8\" standalone=\"no\"?>\n",
       "<!DOCTYPE svg PUBLIC \"-//W3C//DTD SVG 1.1//EN\"\n",
       " \"http://www.w3.org/Graphics/SVG/1.1/DTD/svg11.dtd\">\n",
       "<!-- Generated by graphviz version 9.0.0 (0)\n",
       " -->\n",
       "<!-- Pages: 1 -->\n",
       "<svg width=\"389pt\" height=\"44pt\"\n",
       " viewBox=\"0.00 0.00 389.13 44.00\" xmlns=\"http://www.w3.org/2000/svg\" xmlns:xlink=\"http://www.w3.org/1999/xlink\">\n",
       "<g id=\"graph0\" class=\"graph\" transform=\"scale(1 1) rotate(0) translate(4 40)\">\n",
       "<polygon fill=\"white\" stroke=\"none\" points=\"-4,4 -4,-40 385.13,-40 385.13,4 -4,4\"/>\n",
       "<!-- Learning -->\n",
       "<g id=\"node1\" class=\"node\">\n",
       "<title>Learning</title>\n",
       "<ellipse fill=\"none\" stroke=\"black\" cx=\"44.19\" cy=\"-18\" rx=\"44.19\" ry=\"18\"/>\n",
       "<text text-anchor=\"middle\" x=\"44.19\" y=\"-12.95\" font-family=\"Times,serif\" font-size=\"14.00\">Learning</text>\n",
       "</g>\n",
       "<!-- Knowing -->\n",
       "<g id=\"node2\" class=\"node\">\n",
       "<title>Knowing</title>\n",
       "<ellipse fill=\"none\" stroke=\"black\" cx=\"169.58\" cy=\"-18\" rx=\"45.21\" ry=\"18\"/>\n",
       "<text text-anchor=\"middle\" x=\"169.58\" y=\"-12.95\" font-family=\"Times,serif\" font-size=\"14.00\">Knowing</text>\n",
       "</g>\n",
       "<!-- Learning&#45;&gt;Knowing -->\n",
       "<g id=\"edge1\" class=\"edge\">\n",
       "<title>Learning&#45;&gt;Knowing</title>\n",
       "<path fill=\"none\" stroke=\"black\" d=\"M88.69,-18C96.52,-18 104.78,-18 112.9,-18\"/>\n",
       "<polygon fill=\"black\" stroke=\"black\" points=\"112.71,-21.5 122.71,-18 112.71,-14.5 112.71,-21.5\"/>\n",
       "</g>\n",
       "<!-- Understanding -->\n",
       "<g id=\"node3\" class=\"node\">\n",
       "<title>Understanding</title>\n",
       "<ellipse fill=\"none\" stroke=\"black\" cx=\"315.96\" cy=\"-18\" rx=\"65.17\" ry=\"18\"/>\n",
       "<text text-anchor=\"middle\" x=\"315.96\" y=\"-12.95\" font-family=\"Times,serif\" font-size=\"14.00\">Understanding</text>\n",
       "</g>\n",
       "<!-- Knowing&#45;&gt;Understanding -->\n",
       "<g id=\"edge2\" class=\"edge\">\n",
       "<title>Knowing&#45;&gt;Understanding</title>\n",
       "<path fill=\"none\" stroke=\"black\" d=\"M215.08,-18C222.77,-18 230.95,-18 239.2,-18\"/>\n",
       "<polygon fill=\"black\" stroke=\"black\" points=\"238.93,-21.5 248.93,-18 238.93,-14.5 238.93,-21.5\"/>\n",
       "</g>\n",
       "</g>\n",
       "</svg>\n"
      ],
      "text/plain": [
       "<graphviz.graphs.Digraph at 0x171511910>"
      ]
     },
     "execution_count": 23,
     "metadata": {},
     "output_type": "execute_result"
    }
   ],
   "source": [
    "f = graphviz.Digraph()\n",
    "\n",
    "# Definizione dei nodi e degli archi\n",
    "f.edge(\"Learning\", \"Knowing\")\n",
    "f.edge(\"Knowing\", \"Understanding\")\n",
    "\n",
    "# Impostazione dell'orientamento orizzontale\n",
    "f.attr(rankdir='LR')\n",
    "f"
   ]
  },
  {
   "cell_type": "markdown",
   "metadata": {},
   "source": [
    "Simuliamo i dati in base a questa struttura causale.\n",
    "\n",
    "$$\n",
    "X = UX, \\quad UX \\sim \\mathcal{N}(0,1)\n",
    "$$\n",
    "\n",
    "$$\n",
    "C = 5 \\cdot X + UC, \\quad UC \\sim \\mathcal{N}(0,1)\n",
    "$$\n",
    "\n",
    "$$\n",
    "Y = 3 \\cdot C + UY, \\quad UY \\sim \\mathcal{N}(0,1)\n",
    "$$\n",
    "\n",
    "Dove $\\mathcal{N}(\\mu, \\sigma)$ indica la distribuzione Normale."
   ]
  },
  {
   "cell_type": "code",
   "execution_count": 17,
   "metadata": {},
   "outputs": [
    {
     "data": {
      "text/html": [
       "<div>\n",
       "<style scoped>\n",
       "    .dataframe tbody tr th:only-of-type {\n",
       "        vertical-align: middle;\n",
       "    }\n",
       "\n",
       "    .dataframe tbody tr th {\n",
       "        vertical-align: top;\n",
       "    }\n",
       "\n",
       "    .dataframe thead th {\n",
       "        text-align: right;\n",
       "    }\n",
       "</style>\n",
       "<table border=\"1\" class=\"dataframe\">\n",
       "  <thead>\n",
       "    <tr style=\"text-align: right;\">\n",
       "      <th></th>\n",
       "      <th>X</th>\n",
       "      <th>C</th>\n",
       "      <th>Y</th>\n",
       "    </tr>\n",
       "  </thead>\n",
       "  <tbody>\n",
       "    <tr>\n",
       "      <th>0</th>\n",
       "      <td>1.301836</td>\n",
       "      <td>4.170647</td>\n",
       "      <td>13.286877</td>\n",
       "    </tr>\n",
       "    <tr>\n",
       "      <th>1</th>\n",
       "      <td>0.306395</td>\n",
       "      <td>1.362525</td>\n",
       "      <td>4.879558</td>\n",
       "    </tr>\n",
       "    <tr>\n",
       "      <th>2</th>\n",
       "      <td>0.716521</td>\n",
       "      <td>4.426520</td>\n",
       "      <td>13.593147</td>\n",
       "    </tr>\n",
       "    <tr>\n",
       "      <th>3</th>\n",
       "      <td>-1.316126</td>\n",
       "      <td>-7.359503</td>\n",
       "      <td>-21.171749</td>\n",
       "    </tr>\n",
       "    <tr>\n",
       "      <th>4</th>\n",
       "      <td>-0.064074</td>\n",
       "      <td>-0.305060</td>\n",
       "      <td>-1.673014</td>\n",
       "    </tr>\n",
       "  </tbody>\n",
       "</table>\n",
       "</div>"
      ],
      "text/plain": [
       "          X         C          Y\n",
       "0  1.301836  4.170647  13.286877\n",
       "1  0.306395  1.362525   4.879558\n",
       "2  0.716521  4.426520  13.593147\n",
       "3 -1.316126 -7.359503 -21.171749\n",
       "4 -0.064074 -0.305060  -1.673014"
      ]
     },
     "execution_count": 17,
     "metadata": {},
     "output_type": "execute_result"
    }
   ],
   "source": [
    "n = 1000  # sample size\n",
    "\n",
    "# Simulating the variables\n",
    "X = np.random.normal(0, 1, n)  # Learning\n",
    "C = 5 * X + np.random.normal(0, 1, n)  # Knowing\n",
    "Y = 3 * C + np.random.normal(0, 1, n)  # Understanding\n",
    "\n",
    "df = pd.DataFrame()\n",
    "df[\"X\"] = X\n",
    "df[\"C\"] = C\n",
    "df[\"Y\"] = Y\n",
    "\n",
    "df.head()\n"
   ]
  },
  {
   "cell_type": "markdown",
   "metadata": {},
   "source": [
    "Se non utilizziamo \"knowing\" come covariata nel modello di regressione, la stima dell'effetto di \"learning\" su \"understanding\" è priva di errore sistematico."
   ]
  },
  {
   "cell_type": "code",
   "execution_count": null,
   "metadata": {
    "tags": [
     "hide-output"
    ]
   },
   "outputs": [],
   "source": [
    "mod1 = bmb.Model(\"Y ~ X\", df)\n",
    "results1 = mod1.fit(method=\"nuts_numpyro\", idata_kwargs={\"log_likelihood\": True})"
   ]
  },
  {
   "cell_type": "code",
   "execution_count": 19,
   "metadata": {},
   "outputs": [
    {
     "data": {
      "text/html": [
       "<div>\n",
       "<style scoped>\n",
       "    .dataframe tbody tr th:only-of-type {\n",
       "        vertical-align: middle;\n",
       "    }\n",
       "\n",
       "    .dataframe tbody tr th {\n",
       "        vertical-align: top;\n",
       "    }\n",
       "\n",
       "    .dataframe thead th {\n",
       "        text-align: right;\n",
       "    }\n",
       "</style>\n",
       "<table border=\"1\" class=\"dataframe\">\n",
       "  <thead>\n",
       "    <tr style=\"text-align: right;\">\n",
       "      <th></th>\n",
       "      <th>mean</th>\n",
       "      <th>sd</th>\n",
       "      <th>hdi_3%</th>\n",
       "      <th>hdi_97%</th>\n",
       "      <th>mcse_mean</th>\n",
       "      <th>mcse_sd</th>\n",
       "      <th>ess_bulk</th>\n",
       "      <th>ess_tail</th>\n",
       "      <th>r_hat</th>\n",
       "    </tr>\n",
       "  </thead>\n",
       "  <tbody>\n",
       "    <tr>\n",
       "      <th>Intercept</th>\n",
       "      <td>0.10</td>\n",
       "      <td>0.11</td>\n",
       "      <td>-0.11</td>\n",
       "      <td>0.30</td>\n",
       "      <td>0.0</td>\n",
       "      <td>0.0</td>\n",
       "      <td>4388.29</td>\n",
       "      <td>2782.96</td>\n",
       "      <td>1.0</td>\n",
       "    </tr>\n",
       "    <tr>\n",
       "      <th>X</th>\n",
       "      <td>14.98</td>\n",
       "      <td>0.10</td>\n",
       "      <td>14.79</td>\n",
       "      <td>15.17</td>\n",
       "      <td>0.0</td>\n",
       "      <td>0.0</td>\n",
       "      <td>4500.98</td>\n",
       "      <td>2934.23</td>\n",
       "      <td>1.0</td>\n",
       "    </tr>\n",
       "    <tr>\n",
       "      <th>Y_sigma</th>\n",
       "      <td>3.30</td>\n",
       "      <td>0.07</td>\n",
       "      <td>3.16</td>\n",
       "      <td>3.44</td>\n",
       "      <td>0.0</td>\n",
       "      <td>0.0</td>\n",
       "      <td>3820.62</td>\n",
       "      <td>2945.62</td>\n",
       "      <td>1.0</td>\n",
       "    </tr>\n",
       "  </tbody>\n",
       "</table>\n",
       "</div>"
      ],
      "text/plain": [
       "            mean    sd  hdi_3%  hdi_97%  mcse_mean  mcse_sd  ess_bulk  \\\n",
       "Intercept   0.10  0.11   -0.11     0.30        0.0      0.0   4388.29   \n",
       "X          14.98  0.10   14.79    15.17        0.0      0.0   4500.98   \n",
       "Y_sigma     3.30  0.07    3.16     3.44        0.0      0.0   3820.62   \n",
       "\n",
       "           ess_tail  r_hat  \n",
       "Intercept   2782.96    1.0  \n",
       "X           2934.23    1.0  \n",
       "Y_sigma     2945.62    1.0  "
      ]
     },
     "execution_count": 19,
     "metadata": {},
     "output_type": "execute_result"
    }
   ],
   "source": [
    "az.summary(results1, round_to=2)"
   ]
  },
  {
   "cell_type": "markdown",
   "metadata": {},
   "source": [
    "Ripetiamo ora l'analisi di regressione includeremo tutte le variabili nel modello. Questo è un approccio molto comune ed è stato chiamato \"l'insalata causale\" da {cite:t}`McElreath_rethinking`. L'idea alla base è che, includendo tutte le variabili nel modello di regressione, possiamo osservare l'effetto di X su Y dopo aver tenuto conto di tutte le altre variabili. Sembra ragionevole. Vediamo ora quanto bene funziona questo approccio nel caso presente."
   ]
  },
  {
   "cell_type": "code",
   "execution_count": 20,
   "metadata": {},
   "outputs": [],
   "source": [
    "mod2 = bmb.Model(\"Y ~ X + C\", df)"
   ]
  },
  {
   "cell_type": "code",
   "execution_count": null,
   "metadata": {
    "tags": [
     "hide-output"
    ]
   },
   "outputs": [],
   "source": [
    "results2 = mod2.fit(method=\"nuts_numpyro\", idata_kwargs={\"log_likelihood\": True})"
   ]
  },
  {
   "cell_type": "code",
   "execution_count": 22,
   "metadata": {},
   "outputs": [
    {
     "data": {
      "text/html": [
       "<div>\n",
       "<style scoped>\n",
       "    .dataframe tbody tr th:only-of-type {\n",
       "        vertical-align: middle;\n",
       "    }\n",
       "\n",
       "    .dataframe tbody tr th {\n",
       "        vertical-align: top;\n",
       "    }\n",
       "\n",
       "    .dataframe thead th {\n",
       "        text-align: right;\n",
       "    }\n",
       "</style>\n",
       "<table border=\"1\" class=\"dataframe\">\n",
       "  <thead>\n",
       "    <tr style=\"text-align: right;\">\n",
       "      <th></th>\n",
       "      <th>mean</th>\n",
       "      <th>sd</th>\n",
       "      <th>hdi_3%</th>\n",
       "      <th>hdi_97%</th>\n",
       "      <th>mcse_mean</th>\n",
       "      <th>mcse_sd</th>\n",
       "      <th>ess_bulk</th>\n",
       "      <th>ess_tail</th>\n",
       "      <th>r_hat</th>\n",
       "    </tr>\n",
       "  </thead>\n",
       "  <tbody>\n",
       "    <tr>\n",
       "      <th>Intercept</th>\n",
       "      <td>0.03</td>\n",
       "      <td>0.03</td>\n",
       "      <td>-0.03</td>\n",
       "      <td>0.09</td>\n",
       "      <td>0.0</td>\n",
       "      <td>0.0</td>\n",
       "      <td>2506.64</td>\n",
       "      <td>2175.98</td>\n",
       "      <td>1.0</td>\n",
       "    </tr>\n",
       "    <tr>\n",
       "      <th>X</th>\n",
       "      <td>-0.34</td>\n",
       "      <td>0.16</td>\n",
       "      <td>-0.66</td>\n",
       "      <td>-0.05</td>\n",
       "      <td>0.0</td>\n",
       "      <td>0.0</td>\n",
       "      <td>1708.39</td>\n",
       "      <td>1988.37</td>\n",
       "      <td>1.0</td>\n",
       "    </tr>\n",
       "    <tr>\n",
       "      <th>C</th>\n",
       "      <td>3.07</td>\n",
       "      <td>0.03</td>\n",
       "      <td>3.01</td>\n",
       "      <td>3.13</td>\n",
       "      <td>0.0</td>\n",
       "      <td>0.0</td>\n",
       "      <td>1718.43</td>\n",
       "      <td>1964.64</td>\n",
       "      <td>1.0</td>\n",
       "    </tr>\n",
       "    <tr>\n",
       "      <th>Y_sigma</th>\n",
       "      <td>1.01</td>\n",
       "      <td>0.02</td>\n",
       "      <td>0.97</td>\n",
       "      <td>1.06</td>\n",
       "      <td>0.0</td>\n",
       "      <td>0.0</td>\n",
       "      <td>2542.00</td>\n",
       "      <td>2007.74</td>\n",
       "      <td>1.0</td>\n",
       "    </tr>\n",
       "  </tbody>\n",
       "</table>\n",
       "</div>"
      ],
      "text/plain": [
       "           mean    sd  hdi_3%  hdi_97%  mcse_mean  mcse_sd  ess_bulk  \\\n",
       "Intercept  0.03  0.03   -0.03     0.09        0.0      0.0   2506.64   \n",
       "X         -0.34  0.16   -0.66    -0.05        0.0      0.0   1708.39   \n",
       "C          3.07  0.03    3.01     3.13        0.0      0.0   1718.43   \n",
       "Y_sigma    1.01  0.02    0.97     1.06        0.0      0.0   2542.00   \n",
       "\n",
       "           ess_tail  r_hat  \n",
       "Intercept   2175.98    1.0  \n",
       "X           1988.37    1.0  \n",
       "C           1964.64    1.0  \n",
       "Y_sigma     2007.74    1.0  "
      ]
     },
     "execution_count": 22,
     "metadata": {},
     "output_type": "execute_result"
    }
   ],
   "source": [
    "az.summary(results2, round_to=2)"
   ]
  },
  {
   "cell_type": "markdown",
   "metadata": {},
   "source": [
    "Se usiamo \"knowing\" come covariata nel modello di regressione, otteniamo una stima distorta dell'effetto di \"learning\" su \"understanding\". Dato che abbiamo controllato per l'effetto del mediatore \"knowing\", c'è un bias verso il basso dell'effetto totale di \"learning\" su \"understanding\".\n",
    "\n",
    "In conclusione, il condizionamento su un mediatore comporta una distorsione sistematica nei risultati."
   ]
  },
  {
   "cell_type": "markdown",
   "metadata": {},
   "source": [
    "### Esempio 2: Biforcazione\n",
    "\n",
    "In questo secondo esempio, utilizzeremo le seguenti variabili simulate: l'intelligenza, il tempo di apprendimento e il punteggio del test. Il modello causale sottostante al processo di generazione dei dati è basato sulla premessa che l'intelligenza ($C$) influenzi positivamente il tempo di apprendimento ($X$). Inoltre, sia l'intelligenza ($C$) che il tempo di apprendimento ($X$), insieme a variabili esterne ($U$), concorrono a determinare il punteggio ottenuto nel test ($Y$). Per il nostro scopo, tralasciamo considerazioni relative a covariate aggiuntive, come la motivazione o l'interesse, e supponiamo che lo studente si dedichi esclusivamente al tempo ($X$) necessario per lo studio.\n",
    "\n",
    "$$\n",
    "C = UC, \\quad UC \\sim \\mathcal{N}(100, 15)\n",
    "$$\n",
    "\n",
    "$$\n",
    "X = 200 - C + UX, \\quad UX \\sim \\mathcal{N}(0, 1)\n",
    "$$\n",
    "\n",
    "$$\n",
    "Y = 0.5 \\cdot C + 0.1 \\cdot X + UY, \\quad UY \\sim \\mathcal{N}(0, 1)\n",
    "$$\n",
    "\n",
    "Dove $\\mathcal{N}(\\mu, \\sigma)$ indica la distribuzione Normale."
   ]
  },
  {
   "cell_type": "code",
   "execution_count": 25,
   "metadata": {},
   "outputs": [
    {
     "data": {
      "image/svg+xml": [
       "<?xml version=\"1.0\" encoding=\"UTF-8\" standalone=\"no\"?>\n",
       "<!DOCTYPE svg PUBLIC \"-//W3C//DTD SVG 1.1//EN\"\n",
       " \"http://www.w3.org/Graphics/SVG/1.1/DTD/svg11.dtd\">\n",
       "<!-- Generated by graphviz version 9.0.0 (0)\n",
       " -->\n",
       "<!-- Pages: 1 -->\n",
       "<svg width=\"260pt\" height=\"116pt\"\n",
       " viewBox=\"0.00 0.00 259.52 116.00\" xmlns=\"http://www.w3.org/2000/svg\" xmlns:xlink=\"http://www.w3.org/1999/xlink\">\n",
       "<g id=\"graph0\" class=\"graph\" transform=\"scale(1 1) rotate(0) translate(4 112)\">\n",
       "<polygon fill=\"white\" stroke=\"none\" points=\"-4,4 -4,-112 255.52,-112 255.52,4 -4,4\"/>\n",
       "<!-- Learning Time -->\n",
       "<g id=\"node1\" class=\"node\">\n",
       "<title>Learning Time</title>\n",
       "<ellipse fill=\"none\" stroke=\"black\" cx=\"66.19\" cy=\"-18\" rx=\"66.19\" ry=\"18\"/>\n",
       "<text text-anchor=\"middle\" x=\"66.19\" y=\"-12.95\" font-family=\"Times,serif\" font-size=\"14.00\">Learning Time</text>\n",
       "</g>\n",
       "<!-- Test Score -->\n",
       "<g id=\"node2\" class=\"node\">\n",
       "<title>Test Score</title>\n",
       "<ellipse fill=\"none\" stroke=\"black\" cx=\"201.19\" cy=\"-18\" rx=\"50.33\" ry=\"18\"/>\n",
       "<text text-anchor=\"middle\" x=\"201.19\" y=\"-12.95\" font-family=\"Times,serif\" font-size=\"14.00\">Test Score</text>\n",
       "</g>\n",
       "<!-- Learning Time&#45;&gt;Test Score -->\n",
       "<g id=\"edge3\" class=\"edge\">\n",
       "<title>Learning Time&#45;&gt;Test Score</title>\n",
       "<path fill=\"none\" stroke=\"black\" d=\"M132.64,-18C134.79,-18 136.94,-18 139.09,-18\"/>\n",
       "<polygon fill=\"black\" stroke=\"black\" points=\"139.07,-21.5 149.07,-18 139.07,-14.5 139.07,-21.5\"/>\n",
       "</g>\n",
       "<!-- Intelligence -->\n",
       "<g id=\"node3\" class=\"node\">\n",
       "<title>Intelligence</title>\n",
       "<ellipse fill=\"none\" stroke=\"black\" cx=\"133.19\" cy=\"-90\" rx=\"54.42\" ry=\"18\"/>\n",
       "<text text-anchor=\"middle\" x=\"133.19\" y=\"-84.95\" font-family=\"Times,serif\" font-size=\"14.00\">Intelligence</text>\n",
       "</g>\n",
       "<!-- Intelligence&#45;&gt;Learning Time -->\n",
       "<g id=\"edge1\" class=\"edge\">\n",
       "<title>Intelligence&#45;&gt;Learning Time</title>\n",
       "<path fill=\"none\" stroke=\"black\" d=\"M117.32,-72.41C109.14,-63.87 99,-53.28 89.92,-43.79\"/>\n",
       "<polygon fill=\"black\" stroke=\"black\" points=\"92.45,-41.37 83,-36.56 87.39,-46.21 92.45,-41.37\"/>\n",
       "</g>\n",
       "<!-- Intelligence&#45;&gt;Test Score -->\n",
       "<g id=\"edge2\" class=\"edge\">\n",
       "<title>Intelligence&#45;&gt;Test Score</title>\n",
       "<path fill=\"none\" stroke=\"black\" d=\"M149.31,-72.41C157.69,-63.78 168.1,-53.06 177.4,-43.5\"/>\n",
       "<polygon fill=\"black\" stroke=\"black\" points=\"179.68,-46.17 184.14,-36.56 174.66,-41.29 179.68,-46.17\"/>\n",
       "</g>\n",
       "</g>\n",
       "</svg>\n"
      ],
      "text/plain": [
       "<graphviz.graphs.Digraph at 0x17e8a1e50>"
      ]
     },
     "execution_count": 25,
     "metadata": {},
     "output_type": "execute_result"
    }
   ],
   "source": [
    "f = graphviz.Digraph()\n",
    "with f.subgraph() as s:\n",
    "    s.attr(rank='same')\n",
    "    s.node(\"Learning Time\")\n",
    "    s.node(\"Test Score\")\n",
    "\n",
    "f.node(\"Intelligence\")\n",
    "f.edge(\"Intelligence\", \"Learning Time\")\n",
    "f.edge(\"Intelligence\", \"Test Score\")\n",
    "f.edge(\"Learning Time\", \"Test Score\")\n",
    "\n",
    "f"
   ]
  },
  {
   "cell_type": "code",
   "execution_count": 26,
   "metadata": {},
   "outputs": [
    {
     "data": {
      "text/html": [
       "<div>\n",
       "<style scoped>\n",
       "    .dataframe tbody tr th:only-of-type {\n",
       "        vertical-align: middle;\n",
       "    }\n",
       "\n",
       "    .dataframe tbody tr th {\n",
       "        vertical-align: top;\n",
       "    }\n",
       "\n",
       "    .dataframe thead th {\n",
       "        text-align: right;\n",
       "    }\n",
       "</style>\n",
       "<table border=\"1\" class=\"dataframe\">\n",
       "  <thead>\n",
       "    <tr style=\"text-align: right;\">\n",
       "      <th></th>\n",
       "      <th>I</th>\n",
       "      <th>T</th>\n",
       "      <th>S</th>\n",
       "    </tr>\n",
       "  </thead>\n",
       "  <tbody>\n",
       "    <tr>\n",
       "      <th>0</th>\n",
       "      <td>83.324648</td>\n",
       "      <td>117.276553</td>\n",
       "      <td>54.651733</td>\n",
       "    </tr>\n",
       "    <tr>\n",
       "      <th>1</th>\n",
       "      <td>93.124550</td>\n",
       "      <td>106.313668</td>\n",
       "      <td>58.509989</td>\n",
       "    </tr>\n",
       "    <tr>\n",
       "      <th>2</th>\n",
       "      <td>90.369131</td>\n",
       "      <td>109.709534</td>\n",
       "      <td>54.574878</td>\n",
       "    </tr>\n",
       "    <tr>\n",
       "      <th>3</th>\n",
       "      <td>114.486124</td>\n",
       "      <td>86.902607</td>\n",
       "      <td>65.711229</td>\n",
       "    </tr>\n",
       "    <tr>\n",
       "      <th>4</th>\n",
       "      <td>127.792436</td>\n",
       "      <td>73.134242</td>\n",
       "      <td>71.615555</td>\n",
       "    </tr>\n",
       "  </tbody>\n",
       "</table>\n",
       "</div>"
      ],
      "text/plain": [
       "            I           T          S\n",
       "0   83.324648  117.276553  54.651733\n",
       "1   93.124550  106.313668  58.509989\n",
       "2   90.369131  109.709534  54.574878\n",
       "3  114.486124   86.902607  65.711229\n",
       "4  127.792436   73.134242  71.615555"
      ]
     },
     "execution_count": 26,
     "metadata": {},
     "output_type": "execute_result"
    }
   ],
   "source": [
    "n = 1000  # sample size\n",
    "\n",
    "# Simulating the variables\n",
    "I = np.random.normal(100, 15, n)  # Intelligence\n",
    "T = 200 - I + np.random.normal(0, 1, n)  # Learning Time\n",
    "S = 0.5 * I + 0.1 * T + np.random.normal(0, 1, n)  # Test Score\n",
    "\n",
    "df = pd.DataFrame()\n",
    "df[\"I\"] = I\n",
    "df[\"T\"] = T\n",
    "df[\"S\"] = S\n",
    "\n",
    "df.head()"
   ]
  },
  {
   "cell_type": "markdown",
   "metadata": {},
   "source": [
    "Se il modello per la valutazione del punteggio del test non considera l'influenza dell'intelligenza, si può verificare un errore nella stima addirittura nella direzione dell'effetto vero di X (Tempo di Apprendimento) su Y (Punteggio del Test). Questo fenomeno è noto come il \"paradosso di Simpson\" {cite:p}`simpson1951interpretation`, dove le relazioni tra le variabili possono invertirsi quando non si tiene conto di una variabile confondente come l'intelligenza."
   ]
  },
  {
   "cell_type": "code",
   "execution_count": null,
   "metadata": {
    "tags": [
     "hide-output"
    ]
   },
   "outputs": [],
   "source": [
    "mod3 = bmb.Model(\"S ~ T\", df)\n",
    "results3 = mod3.fit(method=\"nuts_numpyro\", idata_kwargs={\"log_likelihood\": True})"
   ]
  },
  {
   "cell_type": "code",
   "execution_count": 28,
   "metadata": {},
   "outputs": [
    {
     "data": {
      "text/html": [
       "<div>\n",
       "<style scoped>\n",
       "    .dataframe tbody tr th:only-of-type {\n",
       "        vertical-align: middle;\n",
       "    }\n",
       "\n",
       "    .dataframe tbody tr th {\n",
       "        vertical-align: top;\n",
       "    }\n",
       "\n",
       "    .dataframe thead th {\n",
       "        text-align: right;\n",
       "    }\n",
       "</style>\n",
       "<table border=\"1\" class=\"dataframe\">\n",
       "  <thead>\n",
       "    <tr style=\"text-align: right;\">\n",
       "      <th></th>\n",
       "      <th>mean</th>\n",
       "      <th>sd</th>\n",
       "      <th>hdi_3%</th>\n",
       "      <th>hdi_97%</th>\n",
       "      <th>mcse_mean</th>\n",
       "      <th>mcse_sd</th>\n",
       "      <th>ess_bulk</th>\n",
       "      <th>ess_tail</th>\n",
       "      <th>r_hat</th>\n",
       "    </tr>\n",
       "  </thead>\n",
       "  <tbody>\n",
       "    <tr>\n",
       "      <th>Intercept</th>\n",
       "      <td>99.66</td>\n",
       "      <td>0.24</td>\n",
       "      <td>99.18</td>\n",
       "      <td>100.08</td>\n",
       "      <td>0.0</td>\n",
       "      <td>0.0</td>\n",
       "      <td>5233.34</td>\n",
       "      <td>3327.32</td>\n",
       "      <td>1.0</td>\n",
       "    </tr>\n",
       "    <tr>\n",
       "      <th>T</th>\n",
       "      <td>-0.40</td>\n",
       "      <td>0.00</td>\n",
       "      <td>-0.40</td>\n",
       "      <td>-0.39</td>\n",
       "      <td>0.0</td>\n",
       "      <td>0.0</td>\n",
       "      <td>5376.63</td>\n",
       "      <td>2963.86</td>\n",
       "      <td>1.0</td>\n",
       "    </tr>\n",
       "    <tr>\n",
       "      <th>S_sigma</th>\n",
       "      <td>1.10</td>\n",
       "      <td>0.02</td>\n",
       "      <td>1.05</td>\n",
       "      <td>1.14</td>\n",
       "      <td>0.0</td>\n",
       "      <td>0.0</td>\n",
       "      <td>2750.98</td>\n",
       "      <td>2610.12</td>\n",
       "      <td>1.0</td>\n",
       "    </tr>\n",
       "  </tbody>\n",
       "</table>\n",
       "</div>"
      ],
      "text/plain": [
       "            mean    sd  hdi_3%  hdi_97%  mcse_mean  mcse_sd  ess_bulk  \\\n",
       "Intercept  99.66  0.24   99.18   100.08        0.0      0.0   5233.34   \n",
       "T          -0.40  0.00   -0.40    -0.39        0.0      0.0   5376.63   \n",
       "S_sigma     1.10  0.02    1.05     1.14        0.0      0.0   2750.98   \n",
       "\n",
       "           ess_tail  r_hat  \n",
       "Intercept   3327.32    1.0  \n",
       "T           2963.86    1.0  \n",
       "S_sigma     2610.12    1.0  "
      ]
     },
     "execution_count": 28,
     "metadata": {},
     "output_type": "execute_result"
    }
   ],
   "source": [
    "az.summary(results3, round_to=2)"
   ]
  },
  {
   "cell_type": "markdown",
   "metadata": {},
   "source": [
    "Se condizioniamo sull'intelligenza, invece, l'effetto di \"Learning Time\" su \"Test Score\" viene stimato senza errori sistematici."
   ]
  },
  {
   "cell_type": "code",
   "execution_count": null,
   "metadata": {
    "tags": [
     "hide-output"
    ]
   },
   "outputs": [],
   "source": [
    "mod4 = bmb.Model(\"S ~ T + I\", df)\n",
    "results4 = mod4.fit(method=\"nuts_numpyro\", idata_kwargs={\"log_likelihood\": True})"
   ]
  },
  {
   "cell_type": "code",
   "execution_count": 30,
   "metadata": {},
   "outputs": [
    {
     "data": {
      "text/html": [
       "<div>\n",
       "<style scoped>\n",
       "    .dataframe tbody tr th:only-of-type {\n",
       "        vertical-align: middle;\n",
       "    }\n",
       "\n",
       "    .dataframe tbody tr th {\n",
       "        vertical-align: top;\n",
       "    }\n",
       "\n",
       "    .dataframe thead th {\n",
       "        text-align: right;\n",
       "    }\n",
       "</style>\n",
       "<table border=\"1\" class=\"dataframe\">\n",
       "  <thead>\n",
       "    <tr style=\"text-align: right;\">\n",
       "      <th></th>\n",
       "      <th>mean</th>\n",
       "      <th>sd</th>\n",
       "      <th>hdi_3%</th>\n",
       "      <th>hdi_97%</th>\n",
       "      <th>mcse_mean</th>\n",
       "      <th>mcse_sd</th>\n",
       "      <th>ess_bulk</th>\n",
       "      <th>ess_tail</th>\n",
       "      <th>r_hat</th>\n",
       "    </tr>\n",
       "  </thead>\n",
       "  <tbody>\n",
       "    <tr>\n",
       "      <th>Intercept</th>\n",
       "      <td>-11.58</td>\n",
       "      <td>6.13</td>\n",
       "      <td>-22.27</td>\n",
       "      <td>0.66</td>\n",
       "      <td>0.16</td>\n",
       "      <td>0.11</td>\n",
       "      <td>1463.13</td>\n",
       "      <td>1893.61</td>\n",
       "      <td>1.0</td>\n",
       "    </tr>\n",
       "    <tr>\n",
       "      <th>T</th>\n",
       "      <td>0.16</td>\n",
       "      <td>0.03</td>\n",
       "      <td>0.10</td>\n",
       "      <td>0.21</td>\n",
       "      <td>0.00</td>\n",
       "      <td>0.00</td>\n",
       "      <td>1468.10</td>\n",
       "      <td>1889.96</td>\n",
       "      <td>1.0</td>\n",
       "    </tr>\n",
       "    <tr>\n",
       "      <th>I</th>\n",
       "      <td>0.56</td>\n",
       "      <td>0.03</td>\n",
       "      <td>0.50</td>\n",
       "      <td>0.61</td>\n",
       "      <td>0.00</td>\n",
       "      <td>0.00</td>\n",
       "      <td>1460.60</td>\n",
       "      <td>1855.97</td>\n",
       "      <td>1.0</td>\n",
       "    </tr>\n",
       "    <tr>\n",
       "      <th>S_sigma</th>\n",
       "      <td>0.95</td>\n",
       "      <td>0.02</td>\n",
       "      <td>0.91</td>\n",
       "      <td>0.99</td>\n",
       "      <td>0.00</td>\n",
       "      <td>0.00</td>\n",
       "      <td>2303.58</td>\n",
       "      <td>1768.26</td>\n",
       "      <td>1.0</td>\n",
       "    </tr>\n",
       "  </tbody>\n",
       "</table>\n",
       "</div>"
      ],
      "text/plain": [
       "            mean    sd  hdi_3%  hdi_97%  mcse_mean  mcse_sd  ess_bulk  \\\n",
       "Intercept -11.58  6.13  -22.27     0.66       0.16     0.11   1463.13   \n",
       "T           0.16  0.03    0.10     0.21       0.00     0.00   1468.10   \n",
       "I           0.56  0.03    0.50     0.61       0.00     0.00   1460.60   \n",
       "S_sigma     0.95  0.02    0.91     0.99       0.00     0.00   2303.58   \n",
       "\n",
       "           ess_tail  r_hat  \n",
       "Intercept   1893.61    1.0  \n",
       "T           1889.96    1.0  \n",
       "I           1855.97    1.0  \n",
       "S_sigma     1768.26    1.0  "
      ]
     },
     "execution_count": 30,
     "metadata": {},
     "output_type": "execute_result"
    }
   ],
   "source": [
    "az.summary(results4, round_to=2)"
   ]
  },
  {
   "cell_type": "markdown",
   "metadata": {},
   "source": [
    "Questo esempio evidenzia chiaramente che, senza considerare attentamente la struttura causale sottostante nel processo di generazione dei dati, diventa impossibile discernere se l'effetto di X su Y sia positivo o negativo. Per ottenere stime precise delle relazioni causali tra le variabili, è necessario incorporare la struttura causale del processo di generazione dei dati nel modello di regressione."
   ]
  },
  {
   "cell_type": "markdown",
   "metadata": {},
   "source": [
    "### Esempio 3: Il Condizionamento Produce una Distorsione\n",
    "\n",
    "Il terzo esempio simulato illustra il fenomeno noto come il \"paradosso di Berkson\" (Berkson, 1946). Esaminiamo le seguenti variabili: la capacità di fare networking (X), la competenza (Y) e la promozione (C). In questo contesto, la capacità di fare networking (X) e la competenza (Y) sono tra loro indipendenti, ma la promozione (C) dipende da entrambe, oltre a essere influenzata da fattori esterni.\n",
    "\n",
    "$$\n",
    "X = U_X, \\quad U_X \\sim \\mathcal{N}(0, 1),\n",
    "$$\n",
    "\n",
    "$$\n",
    "Y = U_Y, \\quad U_Y \\sim \\mathcal{N}(0, 1),\n",
    "$$\n",
    "\n",
    "$$\n",
    "\\tilde{C} \\sim \\begin{cases} \n",
    "1 & \\text{if } X > 1 \\text{ or } Y > 1, \\\\\n",
    "0 & \\text{altrimenti},\n",
    "\\end{cases}\n",
    "$$\n",
    "\n",
    "$$\n",
    "C = (1 - U_C) \\cdot \\tilde{C} + U_C \\cdot (1 - \\tilde{C}), \\quad U_C \\sim \\text{Bernoulli}(0.05),\n",
    "$$\n",
    "\n",
    "dove $\\text{Bernoulli}(\\pi)$ rappresenta la distribuzione di Bernoulli. In altre parole, qualcuno viene promosso -- al di là della sua fortuna $U_C$, $\\tilde{C}$ = 1 -- se la sua capacità di fare networking è elevata (X > 1) o se la sua competenza è alta (Y > 1)."
   ]
  },
  {
   "cell_type": "code",
   "execution_count": 33,
   "metadata": {},
   "outputs": [
    {
     "data": {
      "text/html": [
       "<div>\n",
       "<style scoped>\n",
       "    .dataframe tbody tr th:only-of-type {\n",
       "        vertical-align: middle;\n",
       "    }\n",
       "\n",
       "    .dataframe tbody tr th {\n",
       "        vertical-align: top;\n",
       "    }\n",
       "\n",
       "    .dataframe thead th {\n",
       "        text-align: right;\n",
       "    }\n",
       "</style>\n",
       "<table border=\"1\" class=\"dataframe\">\n",
       "  <thead>\n",
       "    <tr style=\"text-align: right;\">\n",
       "      <th></th>\n",
       "      <th>P</th>\n",
       "      <th>N</th>\n",
       "      <th>C</th>\n",
       "    </tr>\n",
       "  </thead>\n",
       "  <tbody>\n",
       "    <tr>\n",
       "      <th>0</th>\n",
       "      <td>0</td>\n",
       "      <td>0.868291</td>\n",
       "      <td>0.162798</td>\n",
       "    </tr>\n",
       "    <tr>\n",
       "      <th>1</th>\n",
       "      <td>0</td>\n",
       "      <td>-0.316309</td>\n",
       "      <td>-0.416100</td>\n",
       "    </tr>\n",
       "    <tr>\n",
       "      <th>2</th>\n",
       "      <td>0</td>\n",
       "      <td>-1.179076</td>\n",
       "      <td>-0.576754</td>\n",
       "    </tr>\n",
       "    <tr>\n",
       "      <th>3</th>\n",
       "      <td>1</td>\n",
       "      <td>-0.564320</td>\n",
       "      <td>1.815324</td>\n",
       "    </tr>\n",
       "    <tr>\n",
       "      <th>4</th>\n",
       "      <td>0</td>\n",
       "      <td>0.711427</td>\n",
       "      <td>0.849024</td>\n",
       "    </tr>\n",
       "  </tbody>\n",
       "</table>\n",
       "</div>"
      ],
      "text/plain": [
       "   P         N         C\n",
       "0  0  0.868291  0.162798\n",
       "1  0 -0.316309 -0.416100\n",
       "2  0 -1.179076 -0.576754\n",
       "3  1 -0.564320  1.815324\n",
       "4  0  0.711427  0.849024"
      ]
     },
     "execution_count": 33,
     "metadata": {},
     "output_type": "execute_result"
    }
   ],
   "source": [
    "n = 1000  # Sample Size\n",
    "network = np.random.normal(size=n)\n",
    "competence = np.random.normal(size=n)\n",
    "\n",
    "promotion = ((network > 1) | (competence > 1)).astype(int)\n",
    "luck = np.random.binomial(1, 0.05, size=n)\n",
    "promotion = (1 - luck) * promotion + luck * (1 - promotion)\n",
    "\n",
    "df = pd.DataFrame()\n",
    "df[\"P\"] = promotion\n",
    "df[\"N\"] = network\n",
    "df[\"C\"] = competence\n",
    "\n",
    "df.head()"
   ]
  },
  {
   "cell_type": "code",
   "execution_count": 45,
   "metadata": {},
   "outputs": [
    {
     "data": {
      "image/svg+xml": [
       "<?xml version=\"1.0\" encoding=\"UTF-8\" standalone=\"no\"?>\n",
       "<!DOCTYPE svg PUBLIC \"-//W3C//DTD SVG 1.1//EN\"\n",
       " \"http://www.w3.org/Graphics/SVG/1.1/DTD/svg11.dtd\">\n",
       "<!-- Generated by graphviz version 9.0.0 (0)\n",
       " -->\n",
       "<!-- Pages: 1 -->\n",
       "<svg width=\"304pt\" height=\"116pt\"\n",
       " viewBox=\"0.00 0.00 304.04 116.00\" xmlns=\"http://www.w3.org/2000/svg\" xmlns:xlink=\"http://www.w3.org/1999/xlink\">\n",
       "<g id=\"graph0\" class=\"graph\" transform=\"scale(1 1) rotate(0) translate(4 112)\">\n",
       "<polygon fill=\"white\" stroke=\"none\" points=\"-4,4 -4,-112 300.04,-112 300.04,4 -4,4\"/>\n",
       "<!-- Competence -->\n",
       "<g id=\"node1\" class=\"node\">\n",
       "<title>Competence</title>\n",
       "<ellipse fill=\"none\" stroke=\"black\" cx=\"57.49\" cy=\"-90\" rx=\"57.49\" ry=\"18\"/>\n",
       "<text text-anchor=\"middle\" x=\"57.49\" y=\"-84.95\" font-family=\"Times,serif\" font-size=\"14.00\">Competence</text>\n",
       "</g>\n",
       "<!-- Promotion -->\n",
       "<g id=\"node2\" class=\"node\">\n",
       "<title>Promotion</title>\n",
       "<ellipse fill=\"none\" stroke=\"black\" cx=\"135.49\" cy=\"-18\" rx=\"50.33\" ry=\"18\"/>\n",
       "<text text-anchor=\"middle\" x=\"135.49\" y=\"-12.95\" font-family=\"Times,serif\" font-size=\"14.00\">Promotion</text>\n",
       "</g>\n",
       "<!-- Competence&#45;&gt;Promotion -->\n",
       "<g id=\"edge1\" class=\"edge\">\n",
       "<title>Competence&#45;&gt;Promotion</title>\n",
       "<path fill=\"none\" stroke=\"black\" d=\"M75.58,-72.76C85.53,-63.84 98.04,-52.61 109.06,-42.72\"/>\n",
       "<polygon fill=\"black\" stroke=\"black\" points=\"111.27,-45.44 116.37,-36.16 106.59,-40.23 111.27,-45.44\"/>\n",
       "</g>\n",
       "<!-- Ability to Network -->\n",
       "<g id=\"node3\" class=\"node\">\n",
       "<title>Ability to Network</title>\n",
       "<ellipse fill=\"none\" stroke=\"black\" cx=\"214.49\" cy=\"-90\" rx=\"81.55\" ry=\"18\"/>\n",
       "<text text-anchor=\"middle\" x=\"214.49\" y=\"-84.95\" font-family=\"Times,serif\" font-size=\"14.00\">Ability to Network</text>\n",
       "</g>\n",
       "<!-- Ability to Network&#45;&gt;Promotion -->\n",
       "<g id=\"edge2\" class=\"edge\">\n",
       "<title>Ability to Network&#45;&gt;Promotion</title>\n",
       "<path fill=\"none\" stroke=\"black\" d=\"M195.37,-72.05C185.35,-63.18 172.93,-52.17 162,-42.49\"/>\n",
       "<polygon fill=\"black\" stroke=\"black\" points=\"164.57,-40.08 154.76,-36.07 159.92,-45.32 164.57,-40.08\"/>\n",
       "</g>\n",
       "</g>\n",
       "</svg>\n"
      ],
      "text/plain": [
       "<graphviz.graphs.Digraph at 0x1a762d110>"
      ]
     },
     "execution_count": 45,
     "metadata": {},
     "output_type": "execute_result"
    }
   ],
   "source": [
    "f = graphviz.Digraph()\n",
    "f.edge(\"Competence\", \"Promotion\")\n",
    "f.edge(\"Ability to Network\", \"Promotion\")\n",
    "f"
   ]
  },
  {
   "cell_type": "markdown",
   "metadata": {},
   "source": [
    "Nel caso in cui non consideriamo la variabile di collusione \"Promotion,\" rileviamo in modo accurato solamente un modesto effetto della capacità di creare reti (X) sulla competenza (Y). "
   ]
  },
  {
   "cell_type": "code",
   "execution_count": null,
   "metadata": {
    "tags": [
     "hide-output"
    ]
   },
   "outputs": [],
   "source": [
    "mod5 = bmb.Model(\"C ~ N\", df)\n",
    "results5 = mod5.fit(method=\"nuts_numpyro\", idata_kwargs={\"log_likelihood\": True})"
   ]
  },
  {
   "cell_type": "code",
   "execution_count": 37,
   "metadata": {},
   "outputs": [
    {
     "data": {
      "text/html": [
       "<div>\n",
       "<style scoped>\n",
       "    .dataframe tbody tr th:only-of-type {\n",
       "        vertical-align: middle;\n",
       "    }\n",
       "\n",
       "    .dataframe tbody tr th {\n",
       "        vertical-align: top;\n",
       "    }\n",
       "\n",
       "    .dataframe thead th {\n",
       "        text-align: right;\n",
       "    }\n",
       "</style>\n",
       "<table border=\"1\" class=\"dataframe\">\n",
       "  <thead>\n",
       "    <tr style=\"text-align: right;\">\n",
       "      <th></th>\n",
       "      <th>mean</th>\n",
       "      <th>sd</th>\n",
       "      <th>hdi_3%</th>\n",
       "      <th>hdi_97%</th>\n",
       "      <th>mcse_mean</th>\n",
       "      <th>mcse_sd</th>\n",
       "      <th>ess_bulk</th>\n",
       "      <th>ess_tail</th>\n",
       "      <th>r_hat</th>\n",
       "    </tr>\n",
       "  </thead>\n",
       "  <tbody>\n",
       "    <tr>\n",
       "      <th>Intercept</th>\n",
       "      <td>-0.01</td>\n",
       "      <td>0.03</td>\n",
       "      <td>-0.07</td>\n",
       "      <td>0.06</td>\n",
       "      <td>0.0</td>\n",
       "      <td>0.0</td>\n",
       "      <td>4559.97</td>\n",
       "      <td>2864.46</td>\n",
       "      <td>1.0</td>\n",
       "    </tr>\n",
       "    <tr>\n",
       "      <th>N</th>\n",
       "      <td>0.02</td>\n",
       "      <td>0.03</td>\n",
       "      <td>-0.05</td>\n",
       "      <td>0.08</td>\n",
       "      <td>0.0</td>\n",
       "      <td>0.0</td>\n",
       "      <td>4319.43</td>\n",
       "      <td>3350.54</td>\n",
       "      <td>1.0</td>\n",
       "    </tr>\n",
       "    <tr>\n",
       "      <th>C_sigma</th>\n",
       "      <td>1.03</td>\n",
       "      <td>0.02</td>\n",
       "      <td>0.99</td>\n",
       "      <td>1.07</td>\n",
       "      <td>0.0</td>\n",
       "      <td>0.0</td>\n",
       "      <td>4081.88</td>\n",
       "      <td>3113.71</td>\n",
       "      <td>1.0</td>\n",
       "    </tr>\n",
       "  </tbody>\n",
       "</table>\n",
       "</div>"
      ],
      "text/plain": [
       "           mean    sd  hdi_3%  hdi_97%  mcse_mean  mcse_sd  ess_bulk  \\\n",
       "Intercept -0.01  0.03   -0.07     0.06        0.0      0.0   4559.97   \n",
       "N          0.02  0.03   -0.05     0.08        0.0      0.0   4319.43   \n",
       "C_sigma    1.03  0.02    0.99     1.07        0.0      0.0   4081.88   \n",
       "\n",
       "           ess_tail  r_hat  \n",
       "Intercept   2864.46    1.0  \n",
       "N           3350.54    1.0  \n",
       "C_sigma     3113.71    1.0  "
      ]
     },
     "execution_count": 37,
     "metadata": {},
     "output_type": "execute_result"
    }
   ],
   "source": [
    "az.summary(results5, round_to=2)"
   ]
  },
  {
   "cell_type": "markdown",
   "metadata": {},
   "source": [
    "Tuttavia, se interveniamo inappropriatamente, effettuando un aggiustamento per la promozione, emerge un effetto negativo della capacità di creare reti (X) sulla competenza (Y). Questo è un'associazione spuria."
   ]
  },
  {
   "cell_type": "code",
   "execution_count": null,
   "metadata": {
    "tags": [
     "hide-output"
    ]
   },
   "outputs": [],
   "source": [
    "mod6 = bmb.Model(\"C ~ N + P\", df)\n",
    "results6 = mod6.fit(method=\"nuts_numpyro\", idata_kwargs={\"log_likelihood\": True})"
   ]
  },
  {
   "cell_type": "code",
   "execution_count": 41,
   "metadata": {},
   "outputs": [
    {
     "data": {
      "text/html": [
       "<div>\n",
       "<style scoped>\n",
       "    .dataframe tbody tr th:only-of-type {\n",
       "        vertical-align: middle;\n",
       "    }\n",
       "\n",
       "    .dataframe tbody tr th {\n",
       "        vertical-align: top;\n",
       "    }\n",
       "\n",
       "    .dataframe thead th {\n",
       "        text-align: right;\n",
       "    }\n",
       "</style>\n",
       "<table border=\"1\" class=\"dataframe\">\n",
       "  <thead>\n",
       "    <tr style=\"text-align: right;\">\n",
       "      <th></th>\n",
       "      <th>mean</th>\n",
       "      <th>sd</th>\n",
       "      <th>hdi_3%</th>\n",
       "      <th>hdi_97%</th>\n",
       "      <th>mcse_mean</th>\n",
       "      <th>mcse_sd</th>\n",
       "      <th>ess_bulk</th>\n",
       "      <th>ess_tail</th>\n",
       "      <th>r_hat</th>\n",
       "    </tr>\n",
       "  </thead>\n",
       "  <tbody>\n",
       "    <tr>\n",
       "      <th>Intercept</th>\n",
       "      <td>-0.34</td>\n",
       "      <td>0.04</td>\n",
       "      <td>-0.41</td>\n",
       "      <td>-0.28</td>\n",
       "      <td>0.0</td>\n",
       "      <td>0.0</td>\n",
       "      <td>3856.14</td>\n",
       "      <td>3143.74</td>\n",
       "      <td>1.0</td>\n",
       "    </tr>\n",
       "    <tr>\n",
       "      <th>N</th>\n",
       "      <td>-0.17</td>\n",
       "      <td>0.03</td>\n",
       "      <td>-0.23</td>\n",
       "      <td>-0.11</td>\n",
       "      <td>0.0</td>\n",
       "      <td>0.0</td>\n",
       "      <td>3844.77</td>\n",
       "      <td>2692.66</td>\n",
       "      <td>1.0</td>\n",
       "    </tr>\n",
       "    <tr>\n",
       "      <th>P</th>\n",
       "      <td>1.08</td>\n",
       "      <td>0.07</td>\n",
       "      <td>0.94</td>\n",
       "      <td>1.20</td>\n",
       "      <td>0.0</td>\n",
       "      <td>0.0</td>\n",
       "      <td>4424.06</td>\n",
       "      <td>3141.94</td>\n",
       "      <td>1.0</td>\n",
       "    </tr>\n",
       "    <tr>\n",
       "      <th>C_sigma</th>\n",
       "      <td>0.92</td>\n",
       "      <td>0.02</td>\n",
       "      <td>0.88</td>\n",
       "      <td>0.96</td>\n",
       "      <td>0.0</td>\n",
       "      <td>0.0</td>\n",
       "      <td>4345.71</td>\n",
       "      <td>2965.80</td>\n",
       "      <td>1.0</td>\n",
       "    </tr>\n",
       "  </tbody>\n",
       "</table>\n",
       "</div>"
      ],
      "text/plain": [
       "           mean    sd  hdi_3%  hdi_97%  mcse_mean  mcse_sd  ess_bulk  \\\n",
       "Intercept -0.34  0.04   -0.41    -0.28        0.0      0.0   3856.14   \n",
       "N         -0.17  0.03   -0.23    -0.11        0.0      0.0   3844.77   \n",
       "P          1.08  0.07    0.94     1.20        0.0      0.0   4424.06   \n",
       "C_sigma    0.92  0.02    0.88     0.96        0.0      0.0   4345.71   \n",
       "\n",
       "           ess_tail  r_hat  \n",
       "Intercept   3143.74    1.0  \n",
       "N           2692.66    1.0  \n",
       "P           3141.94    1.0  \n",
       "C_sigma     2965.80    1.0  "
      ]
     },
     "execution_count": 41,
     "metadata": {},
     "output_type": "execute_result"
    }
   ],
   "source": [
    "az.summary(results6, round_to=2)"
   ]
  },
  {
   "cell_type": "markdown",
   "metadata": {},
   "source": [
    "È importante ricordare che nel processo di generazione dei dati, sia la competenza che l'abilità di creare reti influenzano la promozione. Tuttavia, nel modello precedente, abbiamo erroneamente eseguito una regressione della competenza sull'abilità di creare reti, senza tener conto del contesto causale. Questo approccio è particolarmente rischioso quando il collider (promozione) viene utilizzato come variabile di campionamento, ad esempio, quando selezioniamo solo individui che sono stati promossi."
   ]
  },
  {
   "cell_type": "code",
   "execution_count": 42,
   "metadata": {},
   "outputs": [],
   "source": [
    "only_promoted = df.loc[df[\"P\"] == 1]"
   ]
  },
  {
   "cell_type": "code",
   "execution_count": null,
   "metadata": {
    "tags": [
     "hide-output"
    ]
   },
   "outputs": [],
   "source": [
    "mod7 = bmb.Model(\"C ~ N\", only_promoted)\n",
    "results7 = mod7.fit(method=\"nuts_numpyro\", idata_kwargs={\"log_likelihood\": True})"
   ]
  },
  {
   "cell_type": "code",
   "execution_count": 44,
   "metadata": {},
   "outputs": [
    {
     "data": {
      "text/html": [
       "<div>\n",
       "<style scoped>\n",
       "    .dataframe tbody tr th:only-of-type {\n",
       "        vertical-align: middle;\n",
       "    }\n",
       "\n",
       "    .dataframe tbody tr th {\n",
       "        vertical-align: top;\n",
       "    }\n",
       "\n",
       "    .dataframe thead th {\n",
       "        text-align: right;\n",
       "    }\n",
       "</style>\n",
       "<table border=\"1\" class=\"dataframe\">\n",
       "  <thead>\n",
       "    <tr style=\"text-align: right;\">\n",
       "      <th></th>\n",
       "      <th>mean</th>\n",
       "      <th>sd</th>\n",
       "      <th>hdi_3%</th>\n",
       "      <th>hdi_97%</th>\n",
       "      <th>mcse_mean</th>\n",
       "      <th>mcse_sd</th>\n",
       "      <th>ess_bulk</th>\n",
       "      <th>ess_tail</th>\n",
       "      <th>r_hat</th>\n",
       "    </tr>\n",
       "  </thead>\n",
       "  <tbody>\n",
       "    <tr>\n",
       "      <th>Intercept</th>\n",
       "      <td>0.82</td>\n",
       "      <td>0.06</td>\n",
       "      <td>0.71</td>\n",
       "      <td>0.94</td>\n",
       "      <td>0.0</td>\n",
       "      <td>0.0</td>\n",
       "      <td>4544.38</td>\n",
       "      <td>2958.39</td>\n",
       "      <td>1.0</td>\n",
       "    </tr>\n",
       "    <tr>\n",
       "      <th>N</th>\n",
       "      <td>-0.35</td>\n",
       "      <td>0.05</td>\n",
       "      <td>-0.45</td>\n",
       "      <td>-0.25</td>\n",
       "      <td>0.0</td>\n",
       "      <td>0.0</td>\n",
       "      <td>4463.18</td>\n",
       "      <td>3133.34</td>\n",
       "      <td>1.0</td>\n",
       "    </tr>\n",
       "    <tr>\n",
       "      <th>C_sigma</th>\n",
       "      <td>1.03</td>\n",
       "      <td>0.04</td>\n",
       "      <td>0.96</td>\n",
       "      <td>1.11</td>\n",
       "      <td>0.0</td>\n",
       "      <td>0.0</td>\n",
       "      <td>4255.51</td>\n",
       "      <td>2957.02</td>\n",
       "      <td>1.0</td>\n",
       "    </tr>\n",
       "  </tbody>\n",
       "</table>\n",
       "</div>"
      ],
      "text/plain": [
       "           mean    sd  hdi_3%  hdi_97%  mcse_mean  mcse_sd  ess_bulk  \\\n",
       "Intercept  0.82  0.06    0.71     0.94        0.0      0.0   4544.38   \n",
       "N         -0.35  0.05   -0.45    -0.25        0.0      0.0   4463.18   \n",
       "C_sigma    1.03  0.04    0.96     1.11        0.0      0.0   4255.51   \n",
       "\n",
       "           ess_tail  r_hat  \n",
       "Intercept   2958.39    1.0  \n",
       "N           3133.34    1.0  \n",
       "C_sigma     2957.02    1.0  "
      ]
     },
     "execution_count": 44,
     "metadata": {},
     "output_type": "execute_result"
    }
   ],
   "source": [
    "az.summary(results7, round_to=2)"
   ]
  },
  {
   "cell_type": "markdown",
   "metadata": {},
   "source": [
    "Nell'analisi del modello presentato, si identifica un marcato effetto negativo tra la capacità di generare reti sociali e il livello di competenza. Questa correlazione negativa, tuttavia, rappresenta un'associazione spuria, emergente a causa della mancata considerazione del meccanismo generativo dei dati nel modello di regressione implementato.\n",
    "\n",
    "Per illustrare la natura di questa associazione spuria, consideriamo il seguente scenario: se è noto che un individuo è stato promosso (variabile condizionante P) e si sa inoltre che tale individuo non eccelle nella creazione di reti (variabile indipendente X), si potrebbe inferire che tale individuo possiede un alto grado di competenza (variabile dipendente Y) – altrimenti non avrebbe ricevuto la promozione. In questa situazione, benché le variabili X (capacità di creare reti) e Y (competenza) siano intrinsecamente indipendenti, esse manifestano una dipendenza condizionale quando i dati sono condizionati sulla variabile P (la promozione). Di conseguenza, l'aggiustamento per la variabile P, attraverso tecniche di regressione o di campionamento stratificato (in questo caso, selezionando esclusivamente individui promossi), induce un'associazione spuria tra la capacità di creare reti (X) e la competenza (Y). Questo fenomeno evidenzia l'importanza di considerare il contesto e il processo generativo dei dati nella costruzione di modelli di regressione per evitare interpretazioni errate delle relazioni causali tra le variabili."
   ]
  },
  {
   "cell_type": "markdown",
   "metadata": {},
   "source": [
    "## Riflessioni sulle Simulazioni di {cite:t}`lubke2020we`\n",
    "\n",
    "Le simulazioni presentate nell'articolo di {cite:t}`lubke2020we` evidenziano importanti questioni metodologiche, mettendo in luce criticità fondamentali relative all'uso dei modelli di regressione convenzionali. La prassi comune di integrare nel modello di regressione un ampio numero di variabili senza una selezione criteriata si è dimostrata non solo inadeguata ma anche potenzialmente ingannevole. Questo approccio, spesso adottato nella speranza di ottenere un modello ottimale, trascura l'importanza cruciale di analizzare le relazioni causali tra le variabili.\n",
    "\n",
    "Specificatamente, le simulazioni di {cite:t}`lubke2020we` illustrano come l'inserimento indiscriminato di covariate possa generare associazioni spurie, minando così la validità dei risultati ottenuti. Se l'intento è sviluppare un modello di regressione che non solo si adatti bene ai dati a disposizione ma che anche rifletta fedelmente la struttura causale sottostante, è necessario procedere con un'accurata selezione delle covariate da includere. Tale selezione deve essere guidata da una solida comprensione teorica del processo generativo dei dati. Come sottolineato efficacemente nell'articolo di {cite:t}`d2024causal` che discuteremo in seguito, la scelta delle variabili da incorporare in un modello di regressione non può essere affidata esclusivamente a tecniche statistiche."
   ]
  },
  {
   "cell_type": "markdown",
   "metadata": {},
   "source": [
    "## L'inferenza Causale non è Solo un Problema Statistico\n",
    "\n",
    "Per dimostre il punto indicato dal titolo del loro articolo \"Causal Inference Is Not Just a Statistics Problem\", {cite:t}`d2024causal` propongono un `causal quartet` simile al quartetto di Anscombe. Il Quartetto di Anscombe è un insieme di quattro dataset che hanno le stesse proprietà statistiche (media, varianza, correlazione, ecc.) ma appaiono molto diversi quando rappresentati graficamente. Questo quartetto è spesso utilizzato per dimostrare l'importanza dell'analisi grafica dei dati, oltre all'analisi statistica."
   ]
  },
  {
   "cell_type": "code",
   "execution_count": 4,
   "metadata": {},
   "outputs": [
    {
     "data": {
      "image/png": "[encoded data removed]",
      "text/plain": [
       "<Figure size 800x800 with 4 Axes>"
      ]
     },
     "metadata": {
      "image/png": {
       "height": 784,
       "width": 790
      }
     },
     "output_type": "display_data"
    }
   ],
   "source": [
    "# Caricare il dataset di Anscombe da seaborn\n",
    "df = sns.load_dataset(\"anscombe\")\n",
    "\n",
    "# Creare una figura e un array di assi\n",
    "fig, axs = plt.subplots(2, 2, figsize=(8, 8))\n",
    "\n",
    "# Disegnare ogni gruppo in un subplot diverso\n",
    "for i, dataset in enumerate(df['dataset'].unique()):\n",
    "    ax = axs[i//2, i%2]\n",
    "    data = df[df['dataset'] == dataset]\n",
    "    ax.scatter(data['x'], data['y'])\n",
    "    ax.set_title(f'Dataset {dataset}')\n",
    "    ax.set_xlim([3, 20])\n",
    "    ax.set_ylim([2, 14])\n",
    "\n",
    "# Aggiustare lo spazio tra i grafici\n",
    "plt.tight_layout()\n",
    "\n",
    "# Mostrare la figura\n",
    "plt.show()\n"
   ]
  },
  {
   "cell_type": "markdown",
   "metadata": {},
   "source": [
    "Il lavoro di {cite:t}`d2024causal` introduce un innovativo quartetto di dataset, simile al celebre quartetto di Anscombe, ma con una differenza fondamentale: sebbene i quattro dataset presentino gli stessi indici statistici e producano visualizzazioni grafiche simili, ciascuno di essi è stato generato seguendo differenti strutture causali. Questa peculiarità dimostra che, nonostante l'apparente indistinguibilità basata su statistiche descrittive e rappresentazioni grafiche, i dataset possono derivare da cause sottostanti diverse. In alcuni casi, le associazioni tra le variabili rivelate dai grafici riflettono le vere relazioni causali; in altri, invece, queste associazioni possono ingannare o nascondere le dinamiche causali reali.\n",
    "\n",
    "L'analisi statistica convenzionale e le visualizzazioni dei dati, da sole, si rivelano insufficienti per discernere i meccanismi causali che governano le relazioni tra le variabili. I sommari statistici e le rappresentazioni grafiche non riescono a fornire una comprensione profonda dei processi che generano i dati. Di conseguenza, {cite:t}`d2024causal` sottolineano l'importanza di integrare nell'analisi le conoscenze sui meccanismi di generazione dei dati. Questa integrazione è cruciale per rivelare le vere relazioni causali tra le variabili, ma tali informazioni non sono ricavabili direttamente dai dati osservati.\n",
    "\n",
    "Il messaggio centrale del lavoro è che per identificare correttamente gli effetti causali è indispensabile andare oltre gli strumenti statistici tradizionali, incorporando nella ricerca un'analisi informata sui meccanismi generativi dei dati. Questo approccio richiede quindi una comprensione e un'applicazione di metodologie che tengano conto delle strutture causali sottostanti, le quali non sono immediatamente evidenti attraverso l'osservazione dei soli dati. Il quartetto proposto da {cite:t}`d2024causal` si rivela così uno strumento didattico prezioso per insegnare agli studenti la complessità dell'inferenza causale e l'importanza di integrare le analisi statistiche con un'approfondita conoscenza del contesto e dei processi che stanno alla base della generazione dei dati.\n",
    "\n",
    "Le caratteristiche dei quatto set di dati sono descritte di seguito."
   ]
  },
  {
   "cell_type": "markdown",
   "metadata": {},
   "source": [
    "| Termine Tecnico | Spiegazione |\n",
    "| --------------- | ----------- |\n",
    "| (1) Collider | La variabile $X$, causa $Z$, e l'esito, $Y$, causa $Z$. Aggiustando per $Z$ quando si stima l'effetto di $X$ su $Y$ si ottiene un risultato distorto. Meccanismo di generazione dei dati: $X \\sim \\mathcal{N}(0,1)$, $Y = X + \\varepsilon_y$, $\\varepsilon_y \\sim \\mathcal{N}(0,1)$; $Z = 0.45X + 0.77Y + \\varepsilon_z$, $\\varepsilon_z \\sim \\mathcal{N}(0,1)$ |\n",
    "| (2) Confounder | La variabile $Z$ causa sia la variabile indipendente $X$, sia l'esito, $Y$. Non aggiustando per $Z$ quando si stima l'effetto di $X$ su $Y$ si ottiene un risultato distorto. Meccanismo di generazione dei dati: $Z \\sim \\mathcal{N}(0,1)$, $X = Z + \\varepsilon_x$, $\\varepsilon_x \\sim \\mathcal{N}(0,1)$; $Y = 0.5X + Z + \\varepsilon_y$, $\\varepsilon_y \\sim \\mathcal{N}(0,1)$ |\n",
    "| (3) Mediator | La variabile $X$ causa $Z$ che a sua volta causa l'esito $Y$. Aggiustando per $Z$ quando si stima l'effetto di $X$ su $Y$ si ottiene l'effetto diretto, non aggiustando per $Z$ si ottiene l'effetto totale di $X$ su $Y$. L'effetto diretto rappresenta la relazione tra $X$ e $Y$ indipendentemente da qualsiasi mediatore, mentre l'effetto totale include sia l'effetto diretto sia qualsiasi effetto indiretto mediato dal mediatore potenziale. Meccanismo di generazione dei dati: $X \\sim \\mathcal{N}(0,1)$, $Z = X + \\varepsilon_z$, $\\varepsilon_z \\sim \\mathcal{N}(0,1)$; $Y = Z + \\varepsilon_y$, $\\varepsilon_y \\sim \\mathcal{N}(0,1)$ |\n",
    "| (4) M-Bias | Ci sono due variabili aggiuntive, $U1$ e $U2$. Entrambe causano $Z$, $U1$ causa $X$, e $U2$ causa l'esito $Y$. Aggiustando per $Z$ quando si stima l'effetto di $X$ su $Y$ si ottiene un risultato distorto. Meccanismo di generazione dei dati: $U1 \\sim \\mathcal{N}(0,1)$, $U2 \\sim \\mathcal{N}(0,1)$; $Z = 8U1 + U2 + \\varepsilon_z$, $\\varepsilon_z \\sim \\mathcal{N}(0,1)$; $X = U1 + \\varepsilon_x$, $\\varepsilon_x \\sim \\mathcal{N}(0,1)$; $Y = X + U2 + \\varepsilon_y$, $\\varepsilon_y \\sim \\mathcal{N}(0, 1)$ |\n"
   ]
  },
  {
   "cell_type": "markdown",
   "metadata": {},
   "source": [
    "## Il criterio del backdoor\n",
    "\n",
    "Prima di discutere il Quartetto Causale, esaminiamo brevemente un concetto fondamentale dell'analisi causale, ovvero il criterio del backdoor di Judea Pearl. Il criterio del backdoor fornisce una condizione sotto la quale una stima dell'effetto causale di una variabile su un'altra, ottenuta attraverso la regressione, può essere considerata non distorta (cioè, una stima imparziale dell'effetto causale reale).\n",
    "\n",
    "Il criterio del backdoor di Pearl si applica quando si vuole stimare l'effetto causale di una variabile $X$ (esposizione) su un'altra variabile $Y$ (esito), e ci sono variabili confondenti ($Z$) che influenzano sia $X$ che $Y$. Secondo il criterio del backdoor, per ottenere una stima non distorta dell'effetto causale di $X$ su $Y$, è necessario controllare (cioè, aggiustare per) un insieme di variabili $Z$ che blocca tutti i percorsi backdoor tra $X$ e $Y$, ma non apre nuovi percorsi attraverso i collider.\n",
    "\n",
    "```{admonition} Backdoor criterion\n",
    "Il criterio del backdoor fornisce una base teorica per distinguere quali covariate (o variabili di controllo) devono essere considerate nell'analisi per ottenere una stima non distorta dell'effetto causale.\n",
    "\n",
    "**Definizione del Criterio del backdoor criterion**\n",
    "\n",
    "Il criterio backdoor si applica all'interno di un grafico causale. Un insieme di variabili $ Z $ soddisfa il criterio backdoor rispetto a una coppia di variabili $ X $ (esposizione) e $ Y $ (esito) se tutte le seguenti condizioni sono soddisfatte:\n",
    "\n",
    "1. **Nessun elemento di $ Z $ è un discendente di $ X $ nel grafico causale.** Ciò significa che il set di controllo $ Z $ non deve includere variabili che sono influenzate direttamente o indirettamente dall'esposizione $ X $.\n",
    "\n",
    "2. **Bloccare tutti i percorsi indiretti (backdoor paths) da $ X $ a $ Y $ che passano da una freccia diretta verso $ X $.** Un percorso indiretto è una sequenza di frecce che collegano $ X $ a $ Y $, ma che non seguono la direzione della causalità (cioè, inizia con una freccia che punta a $ X $ anziché partire da $ X $). Il set $ Z $ deve bloccare questi percorsi, che significa che per ogni percorso indiretto da $ X $ a $ Y $, almeno una variabile in questo percorso deve essere inclusa nel set $ Z $, interrompendo così la correlazione indiretta.\n",
    "\n",
    "**Implicazioni del Criterio**\n",
    "\n",
    "Il criterio backdoor è essenziale per la selezione delle variabili in studi osservazionali dove non è possibile controllare direttamente tutte le variabili che possono influenzare l'esito. Seguendo questo criterio, i ricercatori possono identificare un insieme di variabili da controllare attraverso la regolazione statistica (ad esempio, mediante la regressione), in modo da isolare l'effetto causale dell'esposizione sull'esito da possibili confondimenti.\n",
    "\n",
    "**Esempio Pratico**\n",
    "\n",
    "Supponiamo di voler studiare l'effetto dell'esercizio fisico ($ X $) sul benessere mentale ($ Y $). Un percorso indiretto potrebbe passare per il livello di stress ($ Z $), dove l'esercizio fisico riduce lo stress, che a sua volta migliora il benessere mentale. Se $ Z $ soddisfa il criterio backdoor, controllando per $ Z $ nell'analisi possiamo ottenere una stima più accurata dell'effetto diretto dell'esercizio sul benessere mentale, eliminando l'effetto indiretto tramite lo stress.\n",
    "\n",
    "In conclusione, l'applicazione del criterio backdoor consente di identificare e correggere per le variabili che potrebbero introdurre bias nelle stime degli effetti causali, migliorando così la validità delle conclusioni causali tratte da dati osservazionali.\n",
    "```\n"
   ]
  },
  {
   "cell_type": "markdown",
   "metadata": {},
   "source": [
    "## Il Quartetto Causale\n",
    "\n",
    "I dati forniti da {cite:t}`d2024causal` sono disponibili nel pacchetto R \"quartets\". È possibile effettuare l'importazione di tali dati nell'ambiente Python attraverso la seguente procedura. Tuttavia, è importante notare che è necessario aver precedentemente installato il modulo \"rpy2\"."
   ]
  },
  {
   "cell_type": "code",
   "execution_count": 3,
   "metadata": {},
   "outputs": [
    {
     "name": "stdout",
     "output_type": "stream",
     "text": [
      "3.5.11\n"
     ]
    }
   ],
   "source": [
    "import rpy2\n",
    "print(rpy2.__version__)"
   ]
  },
  {
   "cell_type": "code",
   "execution_count": null,
   "metadata": {
    "tags": [
     "hide-output"
    ]
   },
   "outputs": [],
   "source": [
    "import rpy2.robjects as robjects\n",
    "from rpy2.robjects.packages import importr, data\n",
    "from rpy2.robjects import pandas2ri\n",
    "\n",
    "utils = importr('utils')\n",
    "\n",
    "# Specify your CRAN mirror\n",
    "cran_mirror = 'https://cloud.r-project.org/'\n",
    "\n",
    "# Install the package without being prompted for a mirror choice\n",
    "utils.install_packages('quartets', repos=cran_mirror)"
   ]
  },
  {
   "cell_type": "markdown",
   "metadata": {},
   "source": [
    "## Collider"
   ]
  },
  {
   "cell_type": "markdown",
   "metadata": {},
   "source": [
    "Il primo set di dati è denominato \"causal_collider\" e comprende le variabili \"exposure,\" \"outcome,\" e \"covariate.\" Queste variabili sono state generatе seguendo la struttura causale di un collider, come descritto nel diagramma aciclico diretto (DAG) riportato di seguito."
   ]
  },
  {
   "cell_type": "code",
   "execution_count": 48,
   "metadata": {},
   "outputs": [
    {
     "name": "stdout",
     "output_type": "stream",
     "text": [
      "   exposure   outcome  covariate\n",
      "1  0.486219  1.705884   2.240050\n",
      "2  0.065271  0.669207   0.924204\n",
      "3 -1.402070 -1.596622  -0.999364\n",
      "4 -0.546029 -1.733149  -2.343315\n",
      "5 -0.401101  0.616867   0.207155\n"
     ]
    }
   ],
   "source": [
    "# Ensure the conversion methods are set up\n",
    "pandas2ri.activate()\n",
    "quartets = importr('quartets')\n",
    "causal_collider = data(quartets).fetch('causal_collider')['causal_collider']\n",
    "# Convert the R data frame to a Pandas DataFrame\n",
    "causal_collider_df = pandas2ri.rpy2py(causal_collider)\n",
    "print(causal_collider_df.head())  "
   ]
  },
  {
   "cell_type": "code",
   "execution_count": 49,
   "metadata": {},
   "outputs": [
    {
     "data": {
      "image/svg+xml": [
       "<?xml version=\"1.0\" encoding=\"UTF-8\" standalone=\"no\"?>\n",
       "<!DOCTYPE svg PUBLIC \"-//W3C//DTD SVG 1.1//EN\"\n",
       " \"http://www.w3.org/Graphics/SVG/1.1/DTD/svg11.dtd\">\n",
       "<!-- Generated by graphviz version 9.0.0 (0)\n",
       " -->\n",
       "<!-- Pages: 1 -->\n",
       "<svg width=\"200pt\" height=\"116pt\"\n",
       " viewBox=\"0.00 0.00 200.35 116.00\" xmlns=\"http://www.w3.org/2000/svg\" xmlns:xlink=\"http://www.w3.org/1999/xlink\">\n",
       "<g id=\"graph0\" class=\"graph\" transform=\"scale(1 1) rotate(0) translate(4 112)\">\n",
       "<polygon fill=\"white\" stroke=\"none\" points=\"-4,4 -4,-112 196.35,-112 196.35,4 -4,4\"/>\n",
       "<!-- exposure -->\n",
       "<g id=\"node1\" class=\"node\">\n",
       "<title>exposure</title>\n",
       "<ellipse fill=\"none\" stroke=\"black\" cx=\"44.19\" cy=\"-90\" rx=\"44.19\" ry=\"18\"/>\n",
       "<text text-anchor=\"middle\" x=\"44.19\" y=\"-84.95\" font-family=\"Times,serif\" font-size=\"14.00\">exposure</text>\n",
       "</g>\n",
       "<!-- outcome -->\n",
       "<g id=\"node2\" class=\"node\">\n",
       "<title>outcome</title>\n",
       "<ellipse fill=\"none\" stroke=\"black\" cx=\"149.19\" cy=\"-90\" rx=\"43.16\" ry=\"18\"/>\n",
       "<text text-anchor=\"middle\" x=\"149.19\" y=\"-84.95\" font-family=\"Times,serif\" font-size=\"14.00\">outcome</text>\n",
       "</g>\n",
       "<!-- exposure&#45;&gt;outcome -->\n",
       "<g id=\"edge3\" class=\"edge\">\n",
       "<title>exposure&#45;&gt;outcome</title>\n",
       "<path fill=\"none\" stroke=\"black\" d=\"M88.48,-90C90.35,-90 92.22,-90 94.08,-90\"/>\n",
       "<polygon fill=\"black\" stroke=\"black\" points=\"94.04,-93.5 104.04,-90 94.04,-86.5 94.04,-93.5\"/>\n",
       "</g>\n",
       "<!-- covariate -->\n",
       "<g id=\"node3\" class=\"node\">\n",
       "<title>covariate</title>\n",
       "<ellipse fill=\"none\" stroke=\"black\" cx=\"96.19\" cy=\"-18\" rx=\"44.7\" ry=\"18\"/>\n",
       "<text text-anchor=\"middle\" x=\"96.19\" y=\"-12.95\" font-family=\"Times,serif\" font-size=\"14.00\">covariate</text>\n",
       "</g>\n",
       "<!-- exposure&#45;&gt;covariate -->\n",
       "<g id=\"edge1\" class=\"edge\">\n",
       "<title>exposure&#45;&gt;covariate</title>\n",
       "<path fill=\"none\" stroke=\"black\" d=\"M56.51,-72.41C62.66,-64.13 70.24,-53.92 77.12,-44.66\"/>\n",
       "<polygon fill=\"black\" stroke=\"black\" points=\"79.9,-46.8 83.05,-36.68 74.28,-42.63 79.9,-46.8\"/>\n",
       "</g>\n",
       "<!-- outcome&#45;&gt;covariate -->\n",
       "<g id=\"edge2\" class=\"edge\">\n",
       "<title>outcome&#45;&gt;covariate</title>\n",
       "<path fill=\"none\" stroke=\"black\" d=\"M136.63,-72.41C130.29,-64.04 122.47,-53.71 115.39,-44.37\"/>\n",
       "<polygon fill=\"black\" stroke=\"black\" points=\"118.4,-42.54 109.57,-36.68 112.82,-46.76 118.4,-42.54\"/>\n",
       "</g>\n",
       "</g>\n",
       "</svg>\n"
      ],
      "text/plain": [
       "<graphviz.graphs.Digraph at 0x1838eac10>"
      ]
     },
     "execution_count": 49,
     "metadata": {},
     "output_type": "execute_result"
    }
   ],
   "source": [
    "f = graphviz.Digraph()\n",
    "with f.subgraph() as s:\n",
    "    s.attr(rank='same')\n",
    "    s.node(\"exposure\")\n",
    "    s.node(\"outcome\")\n",
    "\n",
    "f.node(\"covariate\")\n",
    "f.edge(\"exposure\", \"covariate\",)\n",
    "f.edge(\"outcome\", \"covariate\")\n",
    "f.edge(\"exposure\", \"outcome\")\n",
    "\n",
    "f"
   ]
  },
  {
   "cell_type": "markdown",
   "metadata": {},
   "source": [
    "Se esaminiamo la relazione tra `exposure` e `outcome` notiamo una associazione positiva tra queste due variabili. Il coefficiente di regressione bivariato è 1 e corrisponde al vero effetto causale tra le due variabili. I dati, infatti, sono stati generati nel modo seguente: $Y = X + \\varepsilon_y$."
   ]
  },
  {
   "cell_type": "code",
   "execution_count": 50,
   "metadata": {},
   "outputs": [
    {
     "data": {
      "image/png": "[encoded data removed]",
      "text/plain": [
       "<Figure size 720x480 with 1 Axes>"
      ]
     },
     "metadata": {
      "image/png": {
       "height": 491,
       "width": 731
      }
     },
     "output_type": "display_data"
    }
   ],
   "source": [
    "_ = sns.scatterplot(causal_collider_df, x=\"exposure\", y=\"outcome\")"
   ]
  },
  {
   "cell_type": "code",
   "execution_count": null,
   "metadata": {},
   "outputs": [],
   "source": [
    "# Calculate the Pearson correlation between 'exposure' and 'outcome'\n",
    "correlation = causal_collider_df['exposure'].corr(causal_collider_df['outcome'])\n",
    "print(\"Correlation between 'exposure' and 'outcome':\", correlation)"
   ]
  },
  {
   "cell_type": "markdown",
   "metadata": {},
   "source": [
    "La struttura causale descritta, dove $X \\rightarrow Y$, $X \\rightarrow Z$ e $Y \\rightarrow Z$, rappresenta un tipico scenario di collider con $Z$ come variabile collider. In questo scenario, $Z$ è influenzato sia da $X$ che da $Y$. La questione centrale qui è capire come la scelta delle variabili nel modello di regressione influenzi la stima dell'effetto causale di $X$ su $Y$.\n",
    "\n",
    "### Modello di regressione `Y ~ X`\n",
    "\n",
    "Nel modello di regressione $Y \\sim X$, stiamo stimando l'effetto di $X$ su $Y$ senza includere il collider $Z$ nel modello. Secondo il criterio del backdoor di Pearl, per ottenere una stima non distorta dell'effetto causale, dobbiamo chiudere i percorsi backdoor tra le variabili di causa ($X$) e effetto ($Y$) e non dobbiamo aprire nuovi percorsi che potrebbero introdurre delle correlazioni spurie.\n",
    "\n",
    "Nella struttura data:\n",
    "\n",
    "- Non ci sono variabili confondenti non controllate tra $X$ e $Y$ che richiedano aggiustamenti per soddisfare il criterio del backdoor.\n",
    "- Includere $X$ come predittore di $Y$ in un modello di regressione chiude l'unico percorso diretto da $X$ a $Y$, senza la necessità di controllare altre variabili per ottenere una stima non distorta dell'effetto causale di $X$ su $Y$.\n",
    "\n",
    "### Modello di regressione `Y ~ X + Z`\n",
    "\n",
    "Nel modello di regressione $Y \\sim X + Z$, includiamo il collider $Z$ come variabile nel modello insieme a $X$. Questo approccio introduce un problema: quando condizioniamo su un collider (cioè, includiamo il collider come variabile nel modello di regressione), apriamo un percorso non causale tra $X$ e $Y$ che era precedentemente chiuso. Questo può introdurre una correlazione spuria tra $X$ e $Y$ attraverso $Z$, portando a una stima distorta dell'effetto causale di $X$ su $Y$.\n",
    "\n",
    "In termini del criterio del backdoor, condizionando su $Z$, si viola la condizione per una stima imparziale perché:\n",
    "\n",
    "1. Si apre un percorso attraverso $Z$ (il collider), che non era un problema prima di condizionare su di esso.\n",
    "2. Questo percorso aperto introduce una correlazione tra $X$ e $Y$ che non riflette l'effetto causale diretto di $X$ su $Y$, ma piuttosto l'effetto indiretto mediato da $Z$, che in questo caso non è desiderato per la stima dell'effetto causale diretto."
   ]
  },
  {
   "cell_type": "markdown",
   "metadata": {},
   "source": [
    "Eseguiamo l'analisi di regressione `outcome ~ exposure` per i dati nel set `causal_collider`. Poiché i dati nel set `causal_collider` sono generati in conformità con la struttura causale del collider,questa regressione produrrà una stima non distorta dell'effetto causale reale tra le due variabili."
   ]
  },
  {
   "cell_type": "code",
   "execution_count": null,
   "metadata": {
    "tags": [
     "hide-output"
    ]
   },
   "outputs": [],
   "source": [
    "mod8 = bmb.Model(\"outcome ~ exposure\", causal_collider_df)\n",
    "results8 = mod8.fit(method=\"nuts_numpyro\", idata_kwargs={\"log_likelihood\": True})"
   ]
  },
  {
   "cell_type": "code",
   "execution_count": 26,
   "metadata": {
    "tags": []
   },
   "outputs": [
    {
     "data": {
      "text/html": [
       "<div>\n",
       "<style scoped>\n",
       "    .dataframe tbody tr th:only-of-type {\n",
       "        vertical-align: middle;\n",
       "    }\n",
       "\n",
       "    .dataframe tbody tr th {\n",
       "        vertical-align: top;\n",
       "    }\n",
       "\n",
       "    .dataframe thead th {\n",
       "        text-align: right;\n",
       "    }\n",
       "</style>\n",
       "<table border=\"1\" class=\"dataframe\">\n",
       "  <thead>\n",
       "    <tr style=\"text-align: right;\">\n",
       "      <th></th>\n",
       "      <th>mean</th>\n",
       "      <th>sd</th>\n",
       "      <th>hdi_3%</th>\n",
       "      <th>hdi_97%</th>\n",
       "      <th>mcse_mean</th>\n",
       "      <th>mcse_sd</th>\n",
       "      <th>ess_bulk</th>\n",
       "      <th>ess_tail</th>\n",
       "      <th>r_hat</th>\n",
       "    </tr>\n",
       "  </thead>\n",
       "  <tbody>\n",
       "    <tr>\n",
       "      <th>Intercept</th>\n",
       "      <td>0.13</td>\n",
       "      <td>0.09</td>\n",
       "      <td>-0.03</td>\n",
       "      <td>0.31</td>\n",
       "      <td>0.0</td>\n",
       "      <td>0.0</td>\n",
       "      <td>3438.59</td>\n",
       "      <td>2329.75</td>\n",
       "      <td>1.0</td>\n",
       "    </tr>\n",
       "    <tr>\n",
       "      <th>exposure</th>\n",
       "      <td>1.00</td>\n",
       "      <td>0.08</td>\n",
       "      <td>0.85</td>\n",
       "      <td>1.17</td>\n",
       "      <td>0.0</td>\n",
       "      <td>0.0</td>\n",
       "      <td>3975.77</td>\n",
       "      <td>3087.08</td>\n",
       "      <td>1.0</td>\n",
       "    </tr>\n",
       "    <tr>\n",
       "      <th>outcome_sigma</th>\n",
       "      <td>0.89</td>\n",
       "      <td>0.06</td>\n",
       "      <td>0.77</td>\n",
       "      <td>1.01</td>\n",
       "      <td>0.0</td>\n",
       "      <td>0.0</td>\n",
       "      <td>3477.38</td>\n",
       "      <td>3014.96</td>\n",
       "      <td>1.0</td>\n",
       "    </tr>\n",
       "  </tbody>\n",
       "</table>\n",
       "</div>"
      ],
      "text/plain": [
       "               mean    sd  hdi_3%  hdi_97%  mcse_mean  mcse_sd  ess_bulk  \\\n",
       "Intercept      0.13  0.09   -0.03     0.31        0.0      0.0   3438.59   \n",
       "exposure       1.00  0.08    0.85     1.17        0.0      0.0   3975.77   \n",
       "outcome_sigma  0.89  0.06    0.77     1.01        0.0      0.0   3477.38   \n",
       "\n",
       "               ess_tail  r_hat  \n",
       "Intercept       2329.75    1.0  \n",
       "exposure        3087.08    1.0  \n",
       "outcome_sigma   3014.96    1.0  "
      ]
     },
     "execution_count": 26,
     "metadata": {},
     "output_type": "execute_result"
    }
   ],
   "source": [
    "az.summary(results8, round_to=2)"
   ]
  },
  {
   "cell_type": "markdown",
   "metadata": {},
   "source": [
    "Se invece aggiungiamo `covariate` nel modello di regressione come predittore di `outcome` otteniamo invece una stima distorta dell'effetto causale di `exposure` su `outcome`."
   ]
  },
  {
   "cell_type": "code",
   "execution_count": null,
   "metadata": {
    "tags": [
     "hide-output"
    ]
   },
   "outputs": [],
   "source": [
    "mod8_bis = bmb.Model(\"outcome ~ exposure + covariate\", causal_collider_df)\n",
    "results8_bis = mod8_bis.fit(method=\"nuts_numpyro\", idata_kwargs={\"log_likelihood\": True})"
   ]
  },
  {
   "cell_type": "code",
   "execution_count": 28,
   "metadata": {},
   "outputs": [
    {
     "data": {
      "text/html": [
       "<div>\n",
       "<style scoped>\n",
       "    .dataframe tbody tr th:only-of-type {\n",
       "        vertical-align: middle;\n",
       "    }\n",
       "\n",
       "    .dataframe tbody tr th {\n",
       "        vertical-align: top;\n",
       "    }\n",
       "\n",
       "    .dataframe thead th {\n",
       "        text-align: right;\n",
       "    }\n",
       "</style>\n",
       "<table border=\"1\" class=\"dataframe\">\n",
       "  <thead>\n",
       "    <tr style=\"text-align: right;\">\n",
       "      <th></th>\n",
       "      <th>mean</th>\n",
       "      <th>sd</th>\n",
       "      <th>hdi_3%</th>\n",
       "      <th>hdi_97%</th>\n",
       "      <th>mcse_mean</th>\n",
       "      <th>mcse_sd</th>\n",
       "      <th>ess_bulk</th>\n",
       "      <th>ess_tail</th>\n",
       "      <th>r_hat</th>\n",
       "    </tr>\n",
       "  </thead>\n",
       "  <tbody>\n",
       "    <tr>\n",
       "      <th>Intercept</th>\n",
       "      <td>0.12</td>\n",
       "      <td>0.08</td>\n",
       "      <td>-0.01</td>\n",
       "      <td>0.27</td>\n",
       "      <td>0.0</td>\n",
       "      <td>0.0</td>\n",
       "      <td>3574.76</td>\n",
       "      <td>2811.39</td>\n",
       "      <td>1.0</td>\n",
       "    </tr>\n",
       "    <tr>\n",
       "      <th>exposure</th>\n",
       "      <td>0.56</td>\n",
       "      <td>0.10</td>\n",
       "      <td>0.36</td>\n",
       "      <td>0.74</td>\n",
       "      <td>0.0</td>\n",
       "      <td>0.0</td>\n",
       "      <td>2752.59</td>\n",
       "      <td>2591.09</td>\n",
       "      <td>1.0</td>\n",
       "    </tr>\n",
       "    <tr>\n",
       "      <th>covariate</th>\n",
       "      <td>0.38</td>\n",
       "      <td>0.06</td>\n",
       "      <td>0.27</td>\n",
       "      <td>0.49</td>\n",
       "      <td>0.0</td>\n",
       "      <td>0.0</td>\n",
       "      <td>2703.49</td>\n",
       "      <td>2871.66</td>\n",
       "      <td>1.0</td>\n",
       "    </tr>\n",
       "    <tr>\n",
       "      <th>outcome_sigma</th>\n",
       "      <td>0.75</td>\n",
       "      <td>0.05</td>\n",
       "      <td>0.65</td>\n",
       "      <td>0.85</td>\n",
       "      <td>0.0</td>\n",
       "      <td>0.0</td>\n",
       "      <td>3402.67</td>\n",
       "      <td>2677.96</td>\n",
       "      <td>1.0</td>\n",
       "    </tr>\n",
       "  </tbody>\n",
       "</table>\n",
       "</div>"
      ],
      "text/plain": [
       "               mean    sd  hdi_3%  hdi_97%  mcse_mean  mcse_sd  ess_bulk  \\\n",
       "Intercept      0.12  0.08   -0.01     0.27        0.0      0.0   3574.76   \n",
       "exposure       0.56  0.10    0.36     0.74        0.0      0.0   2752.59   \n",
       "covariate      0.38  0.06    0.27     0.49        0.0      0.0   2703.49   \n",
       "outcome_sigma  0.75  0.05    0.65     0.85        0.0      0.0   3402.67   \n",
       "\n",
       "               ess_tail  r_hat  \n",
       "Intercept       2811.39    1.0  \n",
       "exposure        2591.09    1.0  \n",
       "covariate       2871.66    1.0  \n",
       "outcome_sigma   2677.96    1.0  "
      ]
     },
     "execution_count": 28,
     "metadata": {},
     "output_type": "execute_result"
    }
   ],
   "source": [
    "az.summary(results8_bis, round_to=2)"
   ]
  },
  {
   "cell_type": "markdown",
   "metadata": {},
   "source": [
    "In sintesi, la corretta applicazione del criterio del backdoor in questa struttura causale suggerisce che per stimare l'effetto causale di $X$ su $Y$, dovremmo utilizzare il modello di regressione $Y \\sim X$, e non $Y \\sim X + Z$. Includere $Z$ nel modello introduce un bias nella stima dell'effetto causale di $X$ su $Y$ a causa dell'apertura di un percorso attraverso il collider $Z$, che non rappresenta l'effetto causale diretto che vogliamo stimare."
   ]
  },
  {
   "cell_type": "markdown",
   "metadata": {},
   "source": [
    "## Confounder\n",
    "\n",
    "Il secondo data set è chiamato `causal_confounding`."
   ]
  },
  {
   "cell_type": "code",
   "execution_count": 34,
   "metadata": {},
   "outputs": [
    {
     "name": "stdout",
     "output_type": "stream",
     "text": [
      "   covariate  exposure   outcome\n",
      "1  -0.622268  0.033178 -0.429296\n",
      "2   1.136951  0.362695  2.674816\n",
      "3  -0.237867  0.242180 -0.647128\n",
      "4   1.529001  1.463265  2.238149\n",
      "5  -0.154499  0.779136  1.044306\n"
     ]
    }
   ],
   "source": [
    "causal_confounding = data(quartets).fetch('causal_confounding')['causal_confounding']\n",
    "# Convert the R data frame to a Pandas DataFrame\n",
    "causal_confounding_df = pandas2ri.rpy2py(causal_confounding)\n",
    "print(causal_confounding_df.head())  "
   ]
  },
  {
   "cell_type": "code",
   "execution_count": 52,
   "metadata": {},
   "outputs": [
    {
     "data": {
      "image/svg+xml": [
       "<?xml version=\"1.0\" encoding=\"UTF-8\" standalone=\"no\"?>\n",
       "<!DOCTYPE svg PUBLIC \"-//W3C//DTD SVG 1.1//EN\"\n",
       " \"http://www.w3.org/Graphics/SVG/1.1/DTD/svg11.dtd\">\n",
       "<!-- Generated by graphviz version 9.0.0 (0)\n",
       " -->\n",
       "<!-- Pages: 1 -->\n",
       "<svg width=\"200pt\" height=\"116pt\"\n",
       " viewBox=\"0.00 0.00 200.35 116.00\" xmlns=\"http://www.w3.org/2000/svg\" xmlns:xlink=\"http://www.w3.org/1999/xlink\">\n",
       "<g id=\"graph0\" class=\"graph\" transform=\"scale(1 1) rotate(0) translate(4 112)\">\n",
       "<polygon fill=\"white\" stroke=\"none\" points=\"-4,4 -4,-112 196.35,-112 196.35,4 -4,4\"/>\n",
       "<!-- exposure -->\n",
       "<g id=\"node1\" class=\"node\">\n",
       "<title>exposure</title>\n",
       "<ellipse fill=\"none\" stroke=\"black\" cx=\"44.19\" cy=\"-18\" rx=\"44.19\" ry=\"18\"/>\n",
       "<text text-anchor=\"middle\" x=\"44.19\" y=\"-12.95\" font-family=\"Times,serif\" font-size=\"14.00\">exposure</text>\n",
       "</g>\n",
       "<!-- outcome -->\n",
       "<g id=\"node2\" class=\"node\">\n",
       "<title>outcome</title>\n",
       "<ellipse fill=\"none\" stroke=\"black\" cx=\"149.19\" cy=\"-18\" rx=\"43.16\" ry=\"18\"/>\n",
       "<text text-anchor=\"middle\" x=\"149.19\" y=\"-12.95\" font-family=\"Times,serif\" font-size=\"14.00\">outcome</text>\n",
       "</g>\n",
       "<!-- exposure&#45;&gt;outcome -->\n",
       "<g id=\"edge3\" class=\"edge\">\n",
       "<title>exposure&#45;&gt;outcome</title>\n",
       "<path fill=\"none\" stroke=\"black\" d=\"M88.48,-18C90.35,-18 92.22,-18 94.08,-18\"/>\n",
       "<polygon fill=\"black\" stroke=\"black\" points=\"94.04,-21.5 104.04,-18 94.04,-14.5 94.04,-21.5\"/>\n",
       "</g>\n",
       "<!-- covariate -->\n",
       "<g id=\"node3\" class=\"node\">\n",
       "<title>covariate</title>\n",
       "<ellipse fill=\"none\" stroke=\"black\" cx=\"96.19\" cy=\"-90\" rx=\"44.7\" ry=\"18\"/>\n",
       "<text text-anchor=\"middle\" x=\"96.19\" y=\"-84.95\" font-family=\"Times,serif\" font-size=\"14.00\">covariate</text>\n",
       "</g>\n",
       "<!-- covariate&#45;&gt;exposure -->\n",
       "<g id=\"edge1\" class=\"edge\">\n",
       "<title>covariate&#45;&gt;exposure</title>\n",
       "<path fill=\"none\" stroke=\"black\" d=\"M83.86,-72.41C77.71,-64.13 70.13,-53.92 63.25,-44.66\"/>\n",
       "<polygon fill=\"black\" stroke=\"black\" points=\"66.1,-42.63 57.32,-36.68 60.48,-46.8 66.1,-42.63\"/>\n",
       "</g>\n",
       "<!-- covariate&#45;&gt;outcome -->\n",
       "<g id=\"edge2\" class=\"edge\">\n",
       "<title>covariate&#45;&gt;outcome</title>\n",
       "<path fill=\"none\" stroke=\"black\" d=\"M108.75,-72.41C115.08,-64.04 122.91,-53.71 129.98,-44.37\"/>\n",
       "<polygon fill=\"black\" stroke=\"black\" points=\"132.56,-46.76 135.8,-36.68 126.98,-42.54 132.56,-46.76\"/>\n",
       "</g>\n",
       "</g>\n",
       "</svg>\n"
      ],
      "text/plain": [
       "<graphviz.graphs.Digraph at 0x1828df090>"
      ]
     },
     "execution_count": 52,
     "metadata": {},
     "output_type": "execute_result"
    }
   ],
   "source": [
    "f = graphviz.Digraph()\n",
    "with f.subgraph() as s:\n",
    "    s.attr(rank='same')\n",
    "    s.node(\"exposure\")\n",
    "    s.node(\"outcome\")\n",
    "\n",
    "f.node(\"covariate\")\n",
    "f.edge(\"covariate\", \"exposure\")\n",
    "f.edge(\"covariate\", \"outcome\")\n",
    "f.edge(\"exposure\", \"outcome\")\n",
    "\n",
    "f"
   ]
  },
  {
   "cell_type": "code",
   "execution_count": 40,
   "metadata": {},
   "outputs": [
    {
     "data": {
      "image/png": "[encoded data removed]",
      "text/plain": [
       "<Figure size 720x480 with 1 Axes>"
      ]
     },
     "metadata": {
      "image/png": {
       "height": 491,
       "width": 731
      }
     },
     "output_type": "display_data"
    }
   ],
   "source": [
    "_ = sns.scatterplot(causal_confounding_df, x=\"exposure\", y=\"outcome\")"
   ]
  },
  {
   "cell_type": "code",
   "execution_count": 35,
   "metadata": {},
   "outputs": [
    {
     "name": "stdout",
     "output_type": "stream",
     "text": [
      "Correlation between 'exposure' and 'outcome': 0.7354068318349989\n"
     ]
    }
   ],
   "source": [
    "# Calculate the Pearson correlation between 'exposure' and 'outcome'\n",
    "correlation = causal_confounding_df['exposure'].corr(causal_confounding_df['outcome'])\n",
    "print(\"Correlation between 'exposure' and 'outcome':\", correlation)"
   ]
  },
  {
   "cell_type": "markdown",
   "metadata": {},
   "source": [
    "Quando i dati sono generati con una struttura di confounder, in cui $Z \\rightarrow X$ e $Z \\rightarrow Y$, oltre al percorso diretto $X \\rightarrow Y$, ci troviamo in una configurazione classica in cui $Z$ funge da variabile confondente. Questo scenario è significativamente diverso dal caso del collider discusso precedentemente. Qui, $Z$ influisce sia sulla variabile indipendente ($X$) che sulla variabile dipendente ($Y$), creando un percorso backdoor che deve essere bloccato per ottenere una stima non distorta dell'effetto causale di $X$ su $Y$.\n",
    "\n",
    "### Modello di regressione `Y ~ X + Z`\n",
    "\n",
    "Secondo il criterio del backdoor di Pearl, per ottenere una stima imparziale dell'effetto causale di $X$ su $Y$, dobbiamo controllare per (o aggiustare per) tutte le variabili confondenti che aprono percorsi backdoor tra $X$ e $Y$. In questo scenario, $Z$ è una variabile confondente perché influisce sia su $X$ che su $Y$, aprendo un percorso backdoor tra queste due variabili. \n",
    "\n",
    "Aggiustare per $Z$ (cioè, includere $Z$ nel modello di regressione $Y \\sim X + Z$) blocca il percorso backdoor da $X$ a $Y$ attraverso $Z$, permettendoci di isolare l'effetto diretto di $X$ su $Y$. Facendo ciò, otteniamo una stima non distorta dell'effetto causale perché abbiamo eliminato l'influenza del confondente $Z$ sull'associazione tra $X$ e $Y$.\n",
    "\n",
    "### Modello di regressione `Y ~ X`\n",
    "\n",
    "Se utilizziamo il modello di regressione $Y \\sim X$ senza includere il confondente $Z$, non stiamo bloccando il percorso backdoor aperto da $Z$. Ciò significa che qualsiasi associazione osservata tra $X$ e $Y$ potrebbe essere influenzata (confusa) dall'effetto di $Z$ su entrambe queste variabili, portando a una stima distorta dell'effetto causale di $X$ su $Y$. In altre parole, non possiamo essere sicuri che l'associazione osservata tra $X$ e $Y$ rifletta un effetto causale diretto di $X$ su $Y$, piuttosto che un'associazione indotta dal confondente comune $Z$."
   ]
  },
  {
   "cell_type": "markdown",
   "metadata": {},
   "source": [
    "Nel modello di regressione, se ignoriamo `covariate`, otteniamo una stima distorta dell'effetto causale di `exposure` su `outcome`. I dati sono stati generati con $Y = 0.5X + Z + \\varepsilon_y$."
   ]
  },
  {
   "cell_type": "code",
   "execution_count": null,
   "metadata": {
    "tags": [
     "hide-output"
    ]
   },
   "outputs": [],
   "source": [
    "mod9 = bmb.Model(\"outcome ~ exposure\", causal_confounding_df)\n",
    "results9 = mod9.fit(method=\"nuts_numpyro\", idata_kwargs={\"log_likelihood\": True})"
   ]
  },
  {
   "cell_type": "code",
   "execution_count": 37,
   "metadata": {},
   "outputs": [
    {
     "data": {
      "text/html": [
       "<div>\n",
       "<style scoped>\n",
       "    .dataframe tbody tr th:only-of-type {\n",
       "        vertical-align: middle;\n",
       "    }\n",
       "\n",
       "    .dataframe tbody tr th {\n",
       "        vertical-align: top;\n",
       "    }\n",
       "\n",
       "    .dataframe thead th {\n",
       "        text-align: right;\n",
       "    }\n",
       "</style>\n",
       "<table border=\"1\" class=\"dataframe\">\n",
       "  <thead>\n",
       "    <tr style=\"text-align: right;\">\n",
       "      <th></th>\n",
       "      <th>mean</th>\n",
       "      <th>sd</th>\n",
       "      <th>hdi_3%</th>\n",
       "      <th>hdi_97%</th>\n",
       "      <th>mcse_mean</th>\n",
       "      <th>mcse_sd</th>\n",
       "      <th>ess_bulk</th>\n",
       "      <th>ess_tail</th>\n",
       "      <th>r_hat</th>\n",
       "    </tr>\n",
       "  </thead>\n",
       "  <tbody>\n",
       "    <tr>\n",
       "      <th>Intercept</th>\n",
       "      <td>-0.00</td>\n",
       "      <td>0.12</td>\n",
       "      <td>-0.24</td>\n",
       "      <td>0.23</td>\n",
       "      <td>0.0</td>\n",
       "      <td>0.0</td>\n",
       "      <td>4238.23</td>\n",
       "      <td>2821.67</td>\n",
       "      <td>1.0</td>\n",
       "    </tr>\n",
       "    <tr>\n",
       "      <th>exposure</th>\n",
       "      <td>0.99</td>\n",
       "      <td>0.09</td>\n",
       "      <td>0.82</td>\n",
       "      <td>1.17</td>\n",
       "      <td>0.0</td>\n",
       "      <td>0.0</td>\n",
       "      <td>4013.54</td>\n",
       "      <td>2988.76</td>\n",
       "      <td>1.0</td>\n",
       "    </tr>\n",
       "    <tr>\n",
       "      <th>outcome_sigma</th>\n",
       "      <td>1.22</td>\n",
       "      <td>0.09</td>\n",
       "      <td>1.06</td>\n",
       "      <td>1.38</td>\n",
       "      <td>0.0</td>\n",
       "      <td>0.0</td>\n",
       "      <td>4072.92</td>\n",
       "      <td>2944.73</td>\n",
       "      <td>1.0</td>\n",
       "    </tr>\n",
       "  </tbody>\n",
       "</table>\n",
       "</div>"
      ],
      "text/plain": [
       "               mean    sd  hdi_3%  hdi_97%  mcse_mean  mcse_sd  ess_bulk  \\\n",
       "Intercept     -0.00  0.12   -0.24     0.23        0.0      0.0   4238.23   \n",
       "exposure       0.99  0.09    0.82     1.17        0.0      0.0   4013.54   \n",
       "outcome_sigma  1.22  0.09    1.06     1.38        0.0      0.0   4072.92   \n",
       "\n",
       "               ess_tail  r_hat  \n",
       "Intercept       2821.67    1.0  \n",
       "exposure        2988.76    1.0  \n",
       "outcome_sigma   2944.73    1.0  "
      ]
     },
     "execution_count": 37,
     "metadata": {},
     "output_type": "execute_result"
    }
   ],
   "source": [
    "az.summary(results9, round_to=2)"
   ]
  },
  {
   "cell_type": "markdown",
   "metadata": {},
   "source": [
    "Se invece condizioniamo su `covariate`, otteniamo una stima non distorta dell'effetto causale di `exposure` su `outcome`."
   ]
  },
  {
   "cell_type": "code",
   "execution_count": null,
   "metadata": {
    "tags": [
     "hide-output"
    ]
   },
   "outputs": [],
   "source": [
    "mod9_bis = bmb.Model(\"outcome ~ exposure + covariate\", causal_confounding_df)\n",
    "results9_bis = mod9_bis.fit(method=\"nuts_numpyro\", idata_kwargs={\"log_likelihood\": True})"
   ]
  },
  {
   "cell_type": "code",
   "execution_count": 39,
   "metadata": {},
   "outputs": [
    {
     "data": {
      "text/html": [
       "<div>\n",
       "<style scoped>\n",
       "    .dataframe tbody tr th:only-of-type {\n",
       "        vertical-align: middle;\n",
       "    }\n",
       "\n",
       "    .dataframe tbody tr th {\n",
       "        vertical-align: top;\n",
       "    }\n",
       "\n",
       "    .dataframe thead th {\n",
       "        text-align: right;\n",
       "    }\n",
       "</style>\n",
       "<table border=\"1\" class=\"dataframe\">\n",
       "  <thead>\n",
       "    <tr style=\"text-align: right;\">\n",
       "      <th></th>\n",
       "      <th>mean</th>\n",
       "      <th>sd</th>\n",
       "      <th>hdi_3%</th>\n",
       "      <th>hdi_97%</th>\n",
       "      <th>mcse_mean</th>\n",
       "      <th>mcse_sd</th>\n",
       "      <th>ess_bulk</th>\n",
       "      <th>ess_tail</th>\n",
       "      <th>r_hat</th>\n",
       "    </tr>\n",
       "  </thead>\n",
       "  <tbody>\n",
       "    <tr>\n",
       "      <th>Intercept</th>\n",
       "      <td>-0.03</td>\n",
       "      <td>0.10</td>\n",
       "      <td>-0.22</td>\n",
       "      <td>0.14</td>\n",
       "      <td>0.0</td>\n",
       "      <td>0.0</td>\n",
       "      <td>3902.06</td>\n",
       "      <td>2984.80</td>\n",
       "      <td>1.0</td>\n",
       "    </tr>\n",
       "    <tr>\n",
       "      <th>exposure</th>\n",
       "      <td>0.50</td>\n",
       "      <td>0.11</td>\n",
       "      <td>0.30</td>\n",
       "      <td>0.71</td>\n",
       "      <td>0.0</td>\n",
       "      <td>0.0</td>\n",
       "      <td>2897.25</td>\n",
       "      <td>2793.78</td>\n",
       "      <td>1.0</td>\n",
       "    </tr>\n",
       "    <tr>\n",
       "      <th>covariate</th>\n",
       "      <td>0.97</td>\n",
       "      <td>0.15</td>\n",
       "      <td>0.70</td>\n",
       "      <td>1.26</td>\n",
       "      <td>0.0</td>\n",
       "      <td>0.0</td>\n",
       "      <td>2912.16</td>\n",
       "      <td>2959.36</td>\n",
       "      <td>1.0</td>\n",
       "    </tr>\n",
       "    <tr>\n",
       "      <th>outcome_sigma</th>\n",
       "      <td>1.02</td>\n",
       "      <td>0.07</td>\n",
       "      <td>0.88</td>\n",
       "      <td>1.16</td>\n",
       "      <td>0.0</td>\n",
       "      <td>0.0</td>\n",
       "      <td>3801.62</td>\n",
       "      <td>2997.84</td>\n",
       "      <td>1.0</td>\n",
       "    </tr>\n",
       "  </tbody>\n",
       "</table>\n",
       "</div>"
      ],
      "text/plain": [
       "               mean    sd  hdi_3%  hdi_97%  mcse_mean  mcse_sd  ess_bulk  \\\n",
       "Intercept     -0.03  0.10   -0.22     0.14        0.0      0.0   3902.06   \n",
       "exposure       0.50  0.11    0.30     0.71        0.0      0.0   2897.25   \n",
       "covariate      0.97  0.15    0.70     1.26        0.0      0.0   2912.16   \n",
       "outcome_sigma  1.02  0.07    0.88     1.16        0.0      0.0   3801.62   \n",
       "\n",
       "               ess_tail  r_hat  \n",
       "Intercept       2984.80    1.0  \n",
       "exposure        2793.78    1.0  \n",
       "covariate       2959.36    1.0  \n",
       "outcome_sigma   2997.84    1.0  "
      ]
     },
     "execution_count": 39,
     "metadata": {},
     "output_type": "execute_result"
    }
   ],
   "source": [
    "az.summary(results9_bis, round_to=2)"
   ]
  },
  {
   "cell_type": "markdown",
   "metadata": {},
   "source": [
    "In sintesi, il criterio del backdoor ci dice che, nella presenza di variabili confondenti che aprono percorsi backdoor tra la variabile indipendente e la variabile dipendente, è essenziale controllare per queste variabili nel modello di regressione per ottenere una stima imparziale dell'effetto causale. Nel caso della struttura con $Z$ come confondente che influisce sia su $X$ che su $Y$, il modello $Y \\sim X + Z$ fornisce una stima corretta dell'effetto causale di $X$ su $Y$ perché blocca il percorso backdoor attraverso $Z$, mentre il modello $Y \\sim X$ non lo fa, lasciando la stima dell'effetto causale potenzialmente distorta."
   ]
  },
  {
   "cell_type": "markdown",
   "metadata": {},
   "source": [
    "## Mediazione\n",
    "\n",
    "Il terzo set di dati si chiama `causal_mediator`."
   ]
  },
  {
   "cell_type": "code",
   "execution_count": 54,
   "metadata": {},
   "outputs": [
    {
     "name": "stdout",
     "output_type": "stream",
     "text": [
      "   exposure  covariate   outcome\n",
      "1  0.067197   0.129825 -0.140413\n",
      "2  0.087756   0.002409 -0.031944\n",
      "3 -0.751281   0.383943  0.632418\n",
      "4  0.076000  -0.376841 -0.910737\n",
      "5 -1.569622  -1.661511 -2.834616\n"
     ]
    }
   ],
   "source": [
    "causal_mediator = data(quartets).fetch('causal_mediator')['causal_mediator']\n",
    "# Convert the R data frame to a Pandas DataFrame\n",
    "causal_mediator_df = pandas2ri.rpy2py(causal_mediator)\n",
    "print(causal_mediator_df.head())  "
   ]
  },
  {
   "cell_type": "code",
   "execution_count": 53,
   "metadata": {},
   "outputs": [
    {
     "data": {
      "image/svg+xml": [
       "<?xml version=\"1.0\" encoding=\"UTF-8\" standalone=\"no\"?>\n",
       "<!DOCTYPE svg PUBLIC \"-//W3C//DTD SVG 1.1//EN\"\n",
       " \"http://www.w3.org/Graphics/SVG/1.1/DTD/svg11.dtd\">\n",
       "<!-- Generated by graphviz version 9.0.0 (0)\n",
       " -->\n",
       "<!-- Pages: 1 -->\n",
       "<svg width=\"344pt\" height=\"44pt\"\n",
       " viewBox=\"0.00 0.00 344.09 44.00\" xmlns=\"http://www.w3.org/2000/svg\" xmlns:xlink=\"http://www.w3.org/1999/xlink\">\n",
       "<g id=\"graph0\" class=\"graph\" transform=\"scale(1 1) rotate(0) translate(4 40)\">\n",
       "<polygon fill=\"white\" stroke=\"none\" points=\"-4,4 -4,-40 340.09,-40 340.09,4 -4,4\"/>\n",
       "<!-- exposure -->\n",
       "<g id=\"node1\" class=\"node\">\n",
       "<title>exposure</title>\n",
       "<ellipse fill=\"none\" stroke=\"black\" cx=\"44.19\" cy=\"-18\" rx=\"44.19\" ry=\"18\"/>\n",
       "<text text-anchor=\"middle\" x=\"44.19\" y=\"-12.95\" font-family=\"Times,serif\" font-size=\"14.00\">exposure</text>\n",
       "</g>\n",
       "<!-- covariate -->\n",
       "<g id=\"node2\" class=\"node\">\n",
       "<title>covariate</title>\n",
       "<ellipse fill=\"none\" stroke=\"black\" cx=\"169.07\" cy=\"-18\" rx=\"44.7\" ry=\"18\"/>\n",
       "<text text-anchor=\"middle\" x=\"169.07\" y=\"-12.95\" font-family=\"Times,serif\" font-size=\"14.00\">covariate</text>\n",
       "</g>\n",
       "<!-- exposure&#45;&gt;covariate -->\n",
       "<g id=\"edge1\" class=\"edge\">\n",
       "<title>exposure&#45;&gt;covariate</title>\n",
       "<path fill=\"none\" stroke=\"black\" d=\"M88.86,-18C96.55,-18 104.65,-18 112.62,-18\"/>\n",
       "<polygon fill=\"black\" stroke=\"black\" points=\"112.61,-21.5 122.61,-18 112.61,-14.5 112.61,-21.5\"/>\n",
       "</g>\n",
       "<!-- outcome -->\n",
       "<g id=\"node3\" class=\"node\">\n",
       "<title>outcome</title>\n",
       "<ellipse fill=\"none\" stroke=\"black\" cx=\"292.93\" cy=\"-18\" rx=\"43.16\" ry=\"18\"/>\n",
       "<text text-anchor=\"middle\" x=\"292.93\" y=\"-12.95\" font-family=\"Times,serif\" font-size=\"14.00\">outcome</text>\n",
       "</g>\n",
       "<!-- covariate&#45;&gt;outcome -->\n",
       "<g id=\"edge2\" class=\"edge\">\n",
       "<title>covariate&#45;&gt;outcome</title>\n",
       "<path fill=\"none\" stroke=\"black\" d=\"M214.06,-18C221.94,-18 230.23,-18 238.34,-18\"/>\n",
       "<polygon fill=\"black\" stroke=\"black\" points=\"238.12,-21.5 248.12,-18 238.12,-14.5 238.12,-21.5\"/>\n",
       "</g>\n",
       "</g>\n",
       "</svg>\n"
      ],
      "text/plain": [
       "<graphviz.graphs.Digraph at 0x182120e50>"
      ]
     },
     "execution_count": 53,
     "metadata": {},
     "output_type": "execute_result"
    }
   ],
   "source": [
    "f = graphviz.Digraph()\n",
    "\n",
    "# Definizione dei nodi e degli archi\n",
    "f.edge(\"exposure\", \"covariate\")\n",
    "f.edge(\"covariate\", \"outcome\")\n",
    "\n",
    "# Impostazione dell'orientamento orizzontale\n",
    "f.attr(rankdir='LR')\n",
    "f"
   ]
  },
  {
   "cell_type": "code",
   "execution_count": 55,
   "metadata": {},
   "outputs": [
    {
     "data": {
      "image/png": "[encoded data removed]",
      "text/plain": [
       "<Figure size 720x480 with 1 Axes>"
      ]
     },
     "metadata": {
      "image/png": {
       "height": 491,
       "width": 731
      }
     },
     "output_type": "display_data"
    }
   ],
   "source": [
    "_ = sns.scatterplot(causal_mediator_df, x=\"exposure\", y=\"outcome\")"
   ]
  },
  {
   "cell_type": "code",
   "execution_count": 56,
   "metadata": {},
   "outputs": [
    {
     "name": "stdout",
     "output_type": "stream",
     "text": [
      "Correlation between 'exposure' and 'outcome': 0.5944519516171227\n"
     ]
    }
   ],
   "source": [
    "# Calculate the Pearson correlation between 'exposure' and 'outcome'\n",
    "correlation = causal_mediator_df['exposure'].corr(causal_mediator_df['outcome'])\n",
    "print(\"Correlation between 'exposure' and 'outcome':\", correlation)"
   ]
  },
  {
   "cell_type": "markdown",
   "metadata": {},
   "source": [
    "Nella struttura di mediazione, $X \\rightarrow Z \\rightarrow Y$, $Z$ agisce come variabile mediatrice nel percorso causale da $X$ a $Y$. Questo significa che l'effetto di $X$ su $Y$ passa attraverso $Z$. L'obiettivo della modellazione causale in questo scenario è spesso di stimare l'effetto totale di $X$ su $Y$, che include sia l'effetto diretto di $X$ su $Y$ (se presente) sia l'effetto indiretto mediato da $Z$.\n",
    "\n",
    "### Modello di regressione `Y ~ X`\n",
    "\n",
    "Nel modello di regressione $Y \\sim X$, stiamo cercando di stimare l'effetto totale di $X$ su $Y$, senza cercare di decomporre questo effetto in componenti diretti e indiretti. In questa configurazione, non dobbiamo aggiustare per la variabile mediatrice $Z$ quando il nostro obiettivo è stimare l'effetto totale, perché fare ciò rimuoverebbe l'effetto indiretto di $X$ su $Y$ attraverso $Z$ dalla nostra stima, lasciandoci solo con l'effetto diretto (se esiste).\n",
    "\n",
    "Secondo il criterio del backdoor di Pearl, non ci sono percorsi backdoor tra $X$ e $Y$ che richiedono di essere bloccati, poiché l'unico percorso da $X$ a $Y$ è attraverso $Z$, che è il percorso causale di interesse. Pertanto, il modello $Y \\sim X$ non apre nuovi percorsi backdoor e ci fornisce una stima corretta dell'effetto totale di $X$ su $Y$.\n",
    "\n",
    "### Modello di regressione `Y ~ X + Z`\n",
    "\n",
    "Nel modello di regressione $Y \\sim X + Z$, stiamo cercando di controllare per $Z$ oltre a includere $X$. Mentre questo modello può essere utile per esplorare l'effetto diretto di $X$ su $Y$ controllando per l'effetto mediatore di $Z$, questo approccio non è appropriato quando l'obiettivo è stimare l'effetto totale di $X$ su $Y$. Aggiustando per $Z$, rimuoviamo l'effetto della mediazione di $Z$ dall'effetto totale di $X$ su $Y$, il che potrebbe portarci a sottostimare l'effetto totale di $X$ su $Y$ poiché escludiamo l'effetto indiretto attraverso $Z$.\n",
    "\n",
    "Inoltre, secondo il criterio del backdoor, aggiustare per la variabile mediatrice in un percorso causale diretto (come $X \\rightarrow Z \\rightarrow Y$) non è necessario per ottenere una stima imparziale dell'effetto totale di $X$ su $Y$, e può effettivamente introdurre bias se il nostro obiettivo è di stimare l'effetto totale piuttosto che isolare l'effetto diretto."
   ]
  },
  {
   "cell_type": "markdown",
   "metadata": {},
   "source": [
    "Adattando ai dati un modello di regressione bivariato otteniamo una stima non distorta del vero effetto causale di `exposure` su `outcome`. Infatti, i dati sono stati generati con $Y = Z + \\varepsilon_y$."
   ]
  },
  {
   "cell_type": "code",
   "execution_count": null,
   "metadata": {
    "tags": [
     "hide-output"
    ]
   },
   "outputs": [],
   "source": [
    "mod10 = bmb.Model(\"outcome ~ exposure\", causal_mediator_df)\n",
    "results10 = mod10.fit(method=\"nuts_numpyro\", idata_kwargs={\"log_likelihood\": True})"
   ]
  },
  {
   "cell_type": "code",
   "execution_count": 58,
   "metadata": {},
   "outputs": [
    {
     "data": {
      "text/html": [
       "<div>\n",
       "<style scoped>\n",
       "    .dataframe tbody tr th:only-of-type {\n",
       "        vertical-align: middle;\n",
       "    }\n",
       "\n",
       "    .dataframe tbody tr th {\n",
       "        vertical-align: top;\n",
       "    }\n",
       "\n",
       "    .dataframe thead th {\n",
       "        text-align: right;\n",
       "    }\n",
       "</style>\n",
       "<table border=\"1\" class=\"dataframe\">\n",
       "  <thead>\n",
       "    <tr style=\"text-align: right;\">\n",
       "      <th></th>\n",
       "      <th>mean</th>\n",
       "      <th>sd</th>\n",
       "      <th>hdi_3%</th>\n",
       "      <th>hdi_97%</th>\n",
       "      <th>mcse_mean</th>\n",
       "      <th>mcse_sd</th>\n",
       "      <th>ess_bulk</th>\n",
       "      <th>ess_tail</th>\n",
       "      <th>r_hat</th>\n",
       "    </tr>\n",
       "  </thead>\n",
       "  <tbody>\n",
       "    <tr>\n",
       "      <th>Intercept</th>\n",
       "      <td>-0.01</td>\n",
       "      <td>0.14</td>\n",
       "      <td>-0.26</td>\n",
       "      <td>0.26</td>\n",
       "      <td>0.0</td>\n",
       "      <td>0.0</td>\n",
       "      <td>3891.46</td>\n",
       "      <td>3024.54</td>\n",
       "      <td>1.0</td>\n",
       "    </tr>\n",
       "    <tr>\n",
       "      <th>exposure</th>\n",
       "      <td>1.00</td>\n",
       "      <td>0.14</td>\n",
       "      <td>0.74</td>\n",
       "      <td>1.25</td>\n",
       "      <td>0.0</td>\n",
       "      <td>0.0</td>\n",
       "      <td>3625.00</td>\n",
       "      <td>2737.08</td>\n",
       "      <td>1.0</td>\n",
       "    </tr>\n",
       "    <tr>\n",
       "      <th>outcome_sigma</th>\n",
       "      <td>1.40</td>\n",
       "      <td>0.10</td>\n",
       "      <td>1.22</td>\n",
       "      <td>1.59</td>\n",
       "      <td>0.0</td>\n",
       "      <td>0.0</td>\n",
       "      <td>3557.68</td>\n",
       "      <td>2478.55</td>\n",
       "      <td>1.0</td>\n",
       "    </tr>\n",
       "  </tbody>\n",
       "</table>\n",
       "</div>"
      ],
      "text/plain": [
       "               mean    sd  hdi_3%  hdi_97%  mcse_mean  mcse_sd  ess_bulk  \\\n",
       "Intercept     -0.01  0.14   -0.26     0.26        0.0      0.0   3891.46   \n",
       "exposure       1.00  0.14    0.74     1.25        0.0      0.0   3625.00   \n",
       "outcome_sigma  1.40  0.10    1.22     1.59        0.0      0.0   3557.68   \n",
       "\n",
       "               ess_tail  r_hat  \n",
       "Intercept       3024.54    1.0  \n",
       "exposure        2737.08    1.0  \n",
       "outcome_sigma   2478.55    1.0  "
      ]
     },
     "execution_count": 58,
     "metadata": {},
     "output_type": "execute_result"
    }
   ],
   "source": [
    "az.summary(results10, round_to=2)"
   ]
  },
  {
   "cell_type": "markdown",
   "metadata": {},
   "source": [
    "Se invece condizioniamo sul mediatore (`covariate`) otteniamo una stima distorta dell'effetto causale di `exposure` su `outcome`."
   ]
  },
  {
   "cell_type": "code",
   "execution_count": null,
   "metadata": {
    "tags": [
     "hide-output"
    ]
   },
   "outputs": [],
   "source": [
    "mod10_bis = bmb.Model(\"outcome ~ exposure + covariate\", causal_mediator_df)\n",
    "results10_bis = mod10_bis.fit(method=\"nuts_numpyro\", idata_kwargs={\"log_likelihood\": True})"
   ]
  },
  {
   "cell_type": "code",
   "execution_count": 60,
   "metadata": {},
   "outputs": [
    {
     "data": {
      "text/html": [
       "<div>\n",
       "<style scoped>\n",
       "    .dataframe tbody tr th:only-of-type {\n",
       "        vertical-align: middle;\n",
       "    }\n",
       "\n",
       "    .dataframe tbody tr th {\n",
       "        vertical-align: top;\n",
       "    }\n",
       "\n",
       "    .dataframe thead th {\n",
       "        text-align: right;\n",
       "    }\n",
       "</style>\n",
       "<table border=\"1\" class=\"dataframe\">\n",
       "  <thead>\n",
       "    <tr style=\"text-align: right;\">\n",
       "      <th></th>\n",
       "      <th>mean</th>\n",
       "      <th>sd</th>\n",
       "      <th>hdi_3%</th>\n",
       "      <th>hdi_97%</th>\n",
       "      <th>mcse_mean</th>\n",
       "      <th>mcse_sd</th>\n",
       "      <th>ess_bulk</th>\n",
       "      <th>ess_tail</th>\n",
       "      <th>r_hat</th>\n",
       "    </tr>\n",
       "  </thead>\n",
       "  <tbody>\n",
       "    <tr>\n",
       "      <th>Intercept</th>\n",
       "      <td>0.02</td>\n",
       "      <td>0.09</td>\n",
       "      <td>-0.16</td>\n",
       "      <td>0.19</td>\n",
       "      <td>0.0</td>\n",
       "      <td>0.0</td>\n",
       "      <td>3741.77</td>\n",
       "      <td>2731.21</td>\n",
       "      <td>1.0</td>\n",
       "    </tr>\n",
       "    <tr>\n",
       "      <th>exposure</th>\n",
       "      <td>0.01</td>\n",
       "      <td>0.13</td>\n",
       "      <td>-0.23</td>\n",
       "      <td>0.25</td>\n",
       "      <td>0.0</td>\n",
       "      <td>0.0</td>\n",
       "      <td>3150.10</td>\n",
       "      <td>2987.55</td>\n",
       "      <td>1.0</td>\n",
       "    </tr>\n",
       "    <tr>\n",
       "      <th>covariate</th>\n",
       "      <td>1.06</td>\n",
       "      <td>0.09</td>\n",
       "      <td>0.88</td>\n",
       "      <td>1.23</td>\n",
       "      <td>0.0</td>\n",
       "      <td>0.0</td>\n",
       "      <td>3184.17</td>\n",
       "      <td>2840.50</td>\n",
       "      <td>1.0</td>\n",
       "    </tr>\n",
       "    <tr>\n",
       "      <th>outcome_sigma</th>\n",
       "      <td>0.92</td>\n",
       "      <td>0.07</td>\n",
       "      <td>0.80</td>\n",
       "      <td>1.05</td>\n",
       "      <td>0.0</td>\n",
       "      <td>0.0</td>\n",
       "      <td>3401.09</td>\n",
       "      <td>2737.42</td>\n",
       "      <td>1.0</td>\n",
       "    </tr>\n",
       "  </tbody>\n",
       "</table>\n",
       "</div>"
      ],
      "text/plain": [
       "               mean    sd  hdi_3%  hdi_97%  mcse_mean  mcse_sd  ess_bulk  \\\n",
       "Intercept      0.02  0.09   -0.16     0.19        0.0      0.0   3741.77   \n",
       "exposure       0.01  0.13   -0.23     0.25        0.0      0.0   3150.10   \n",
       "covariate      1.06  0.09    0.88     1.23        0.0      0.0   3184.17   \n",
       "outcome_sigma  0.92  0.07    0.80     1.05        0.0      0.0   3401.09   \n",
       "\n",
       "               ess_tail  r_hat  \n",
       "Intercept       2731.21    1.0  \n",
       "exposure        2987.55    1.0  \n",
       "covariate       2840.50    1.0  \n",
       "outcome_sigma   2737.42    1.0  "
      ]
     },
     "execution_count": 60,
     "metadata": {},
     "output_type": "execute_result"
    }
   ],
   "source": [
    "az.summary(results10_bis, round_to=2)"
   ]
  },
  {
   "cell_type": "markdown",
   "metadata": {},
   "source": [
    "In sintesi, per stimare correttamente l'effetto totale di $X$ su $Y$ in una struttura di mediazione, è necessario utilizzare il modello di regressione $Y \\sim X$, che ci fornisce una stima dell'effetto totale includendo sia gli effetti diretti che quelli indiretti mediati da $Z$. Il modello $Y \\sim X + Z$ è appropriato solo se siamo interessati a isolare l'effetto diretto di $X$ su $Y$, controllando per l'effetto di $Z$, ma non per stimare l'effetto totale di $X$ su $Y$."
   ]
  },
  {
   "cell_type": "markdown",
   "metadata": {},
   "source": [
    "## Causal M-bias\n",
    "\n",
    "Nell'ultimo set di dati ci sono due fattori aggiuntivi, U1 e U2. Entrambi causano Z, U1 causa `exposure`, X, e U2 causa `outcome`, Y. Effettuare un aggiustamento per Z durante la stima dell'effetto di X su Y produce un risultato distorto."
   ]
  },
  {
   "cell_type": "code",
   "execution_count": 62,
   "metadata": {},
   "outputs": [
    {
     "name": "stdout",
     "output_type": "stream",
     "text": [
      "         u1        u2  covariate  exposure   outcome\n",
      "1  0.544050 -1.354656   5.236805  2.451155 -0.142505\n",
      "2  0.085600  0.131291  -0.047646  0.976479  0.711355\n",
      "3  0.674619 -0.461275   6.377459  0.282988 -0.198427\n",
      "4  1.896146  0.580910  15.866842  1.961346  4.188398\n",
      "5  0.350692 -1.709183   0.796247  0.854928 -1.845741\n"
     ]
    }
   ],
   "source": [
    "causal_m_bias = data(quartets).fetch('causal_m_bias')['causal_m_bias']\n",
    "# Convert the R data frame to a Pandas DataFrame\n",
    "causal_m_bias_df = pandas2ri.rpy2py(causal_m_bias)\n",
    "print(causal_m_bias_df.head())  "
   ]
  },
  {
   "cell_type": "code",
   "execution_count": 61,
   "metadata": {},
   "outputs": [
    {
     "data": {
      "image/svg+xml": [
       "<?xml version=\"1.0\" encoding=\"UTF-8\" standalone=\"no\"?>\n",
       "<!DOCTYPE svg PUBLIC \"-//W3C//DTD SVG 1.1//EN\"\n",
       " \"http://www.w3.org/Graphics/SVG/1.1/DTD/svg11.dtd\">\n",
       "<!-- Generated by graphviz version 9.0.0 (0)\n",
       " -->\n",
       "<!-- Pages: 1 -->\n",
       "<svg width=\"222pt\" height=\"188pt\"\n",
       " viewBox=\"0.00 0.00 222.19 188.00\" xmlns=\"http://www.w3.org/2000/svg\" xmlns:xlink=\"http://www.w3.org/1999/xlink\">\n",
       "<g id=\"graph0\" class=\"graph\" transform=\"scale(1 1) rotate(0) translate(4 184)\">\n",
       "<polygon fill=\"white\" stroke=\"none\" points=\"-4,4 -4,-184 218.19,-184 218.19,4 -4,4\"/>\n",
       "<!-- U1 -->\n",
       "<g id=\"node1\" class=\"node\">\n",
       "<title>U1</title>\n",
       "<ellipse fill=\"none\" stroke=\"black\" cx=\"98.19\" cy=\"-162\" rx=\"27\" ry=\"18\"/>\n",
       "<text text-anchor=\"middle\" x=\"98.19\" y=\"-156.95\" font-family=\"Times,serif\" font-size=\"14.00\">U1</text>\n",
       "</g>\n",
       "<!-- covariate -->\n",
       "<g id=\"node2\" class=\"node\">\n",
       "<title>covariate</title>\n",
       "<ellipse fill=\"none\" stroke=\"black\" cx=\"151.19\" cy=\"-90\" rx=\"44.7\" ry=\"18\"/>\n",
       "<text text-anchor=\"middle\" x=\"151.19\" y=\"-84.95\" font-family=\"Times,serif\" font-size=\"14.00\">covariate</text>\n",
       "</g>\n",
       "<!-- U1&#45;&gt;covariate -->\n",
       "<g id=\"edge1\" class=\"edge\">\n",
       "<title>U1&#45;&gt;covariate</title>\n",
       "<path fill=\"none\" stroke=\"black\" d=\"M109.95,-145.46C116.42,-136.92 124.61,-126.1 131.98,-116.36\"/>\n",
       "<polygon fill=\"black\" stroke=\"black\" points=\"134.56,-118.76 137.8,-108.67 128.98,-114.53 134.56,-118.76\"/>\n",
       "</g>\n",
       "<!-- exposure -->\n",
       "<g id=\"node3\" class=\"node\">\n",
       "<title>exposure</title>\n",
       "<ellipse fill=\"none\" stroke=\"black\" cx=\"44.19\" cy=\"-90\" rx=\"44.19\" ry=\"18\"/>\n",
       "<text text-anchor=\"middle\" x=\"44.19\" y=\"-84.95\" font-family=\"Times,serif\" font-size=\"14.00\">exposure</text>\n",
       "</g>\n",
       "<!-- U1&#45;&gt;exposure -->\n",
       "<g id=\"edge2\" class=\"edge\">\n",
       "<title>U1&#45;&gt;exposure</title>\n",
       "<path fill=\"none\" stroke=\"black\" d=\"M86.2,-145.46C79.61,-136.92 71.26,-126.1 63.75,-116.36\"/>\n",
       "<polygon fill=\"black\" stroke=\"black\" points=\"66.69,-114.45 57.81,-108.67 61.15,-118.72 66.69,-114.45\"/>\n",
       "</g>\n",
       "<!-- outcome -->\n",
       "<g id=\"node5\" class=\"node\">\n",
       "<title>outcome</title>\n",
       "<ellipse fill=\"none\" stroke=\"black\" cx=\"134.19\" cy=\"-18\" rx=\"43.16\" ry=\"18\"/>\n",
       "<text text-anchor=\"middle\" x=\"134.19\" y=\"-12.95\" font-family=\"Times,serif\" font-size=\"14.00\">outcome</text>\n",
       "</g>\n",
       "<!-- exposure&#45;&gt;outcome -->\n",
       "<g id=\"edge5\" class=\"edge\">\n",
       "<title>exposure&#45;&gt;outcome</title>\n",
       "<path fill=\"none\" stroke=\"black\" d=\"M64.16,-73.46C76.36,-63.97 92.16,-51.68 105.67,-41.18\"/>\n",
       "<polygon fill=\"black\" stroke=\"black\" points=\"107.64,-44.08 113.38,-35.18 103.34,-38.56 107.64,-44.08\"/>\n",
       "</g>\n",
       "<!-- U2 -->\n",
       "<g id=\"node4\" class=\"node\">\n",
       "<title>U2</title>\n",
       "<ellipse fill=\"none\" stroke=\"black\" cx=\"187.19\" cy=\"-162\" rx=\"27\" ry=\"18\"/>\n",
       "<text text-anchor=\"middle\" x=\"187.19\" y=\"-156.95\" font-family=\"Times,serif\" font-size=\"14.00\">U2</text>\n",
       "</g>\n",
       "<!-- U2&#45;&gt;covariate -->\n",
       "<g id=\"edge3\" class=\"edge\">\n",
       "<title>U2&#45;&gt;covariate</title>\n",
       "<path fill=\"none\" stroke=\"black\" d=\"M178.84,-144.76C174.78,-136.87 169.78,-127.16 165.17,-118.18\"/>\n",
       "<polygon fill=\"black\" stroke=\"black\" points=\"168.37,-116.76 160.68,-109.47 162.15,-119.96 168.37,-116.76\"/>\n",
       "</g>\n",
       "<!-- U2&#45;&gt;outcome -->\n",
       "<g id=\"edge4\" class=\"edge\">\n",
       "<title>U2&#45;&gt;outcome</title>\n",
       "<path fill=\"none\" stroke=\"black\" d=\"M196.48,-144.74C205.73,-126.24 216.99,-95.53 205.19,-72 198.04,-57.76 185.06,-46.36 172.12,-37.84\"/>\n",
       "<polygon fill=\"black\" stroke=\"black\" points=\"174,-34.88 163.63,-32.68 170.36,-40.86 174,-34.88\"/>\n",
       "</g>\n",
       "</g>\n",
       "</svg>\n"
      ],
      "text/plain": [
       "<graphviz.graphs.Digraph at 0x1843d7810>"
      ]
     },
     "execution_count": 61,
     "metadata": {},
     "output_type": "execute_result"
    }
   ],
   "source": [
    "f = graphviz.Digraph()\n",
    "f.edge(\"U1\", \"covariate\")\n",
    "f.edge(\"U1\", \"exposure\")\n",
    "f.edge(\"U2\", \"covariate\")\n",
    "f.edge(\"U2\", \"outcome\")\n",
    "f.edge(\"exposure\", \"outcome\")\n",
    "\n",
    "f"
   ]
  },
  {
   "cell_type": "code",
   "execution_count": 63,
   "metadata": {},
   "outputs": [
    {
     "data": {
      "image/png": "[encoded data removed]",
      "text/plain": [
       "<Figure size 720x480 with 1 Axes>"
      ]
     },
     "metadata": {
      "image/png": {
       "height": 491,
       "width": 731
      }
     },
     "output_type": "display_data"
    }
   ],
   "source": [
    "_ = sns.scatterplot(causal_m_bias_df, x=\"exposure\", y=\"outcome\")"
   ]
  },
  {
   "cell_type": "code",
   "execution_count": 64,
   "metadata": {},
   "outputs": [
    {
     "name": "stdout",
     "output_type": "stream",
     "text": [
      "Correlation between 'exposure' and 'outcome': 0.7241883907049459\n"
     ]
    }
   ],
   "source": [
    "# Calculate the Pearson correlation between 'exposure' and 'outcome'\n",
    "correlation = causal_m_bias_df['exposure'].corr(causal_m_bias_df['outcome'])\n",
    "print(\"Correlation between 'exposure' and 'outcome':\", correlation)"
   ]
  },
  {
   "cell_type": "markdown",
   "metadata": {},
   "source": [
    "La struttura causale nota come struttura di M-bias (o a volte chiamata struttura a collider aperto) è caratterizzata da due variabili non osservate ($U1$ e $U2$) che influenzano sia la covariata che l'esposizione o l'esito, rispettivamente, oltre al percorso diretto da esposizione a esito. In questo scenario, la covariata è collegata sia all'esposizione che all'esito attraverso le variabili non osservate, formando una struttura a \"M\".\n",
    "\n",
    "### Modello di regressione `Y ~ X`\n",
    "\n",
    "Quando stimiamo l'effetto causale dell'esposizione sull'esito con il modello $outcome \\sim exposure$, non includiamo la covariata nel modello. In questo caso, stiamo effettivamente ignorando la struttura a \"M\" e stimando direttamente l'effetto dell'esposizione sull'esito. Poiché il criterio del backdoor ci dice di bloccare i percorsi backdoor per ottenere una stima non distorta dell'effetto causale e non ci sono percorsi backdoor aperti tra esposizione ed esito che passano attraverso le variabili osservate, questo modello fornisce una stima corretta dell'effetto causale di esposizione su esito, assumendo che non ci siano altre variabili confondenti non controllate.\n",
    "\n",
    "### Modello di regressione `Y ~ X + Z`\n",
    "\n",
    "Tuttavia, quando aggiungiamo la covariata al modello ($outcome \\sim exposure + covariate$), introduciamo potenzialmente un bias nella nostra stima dell'effetto causale. Questo accade perché condizionando sulla covariata, che è al centro della struttura a \"M\", apriamo un percorso non causale tra esposizione ed esito attraverso le variabili non osservate ($U1$ e $U2$). In altre parole, includere la covariata nel modello crea una correlazione spuria tra esposizione ed esito attraverso le variabili latenti che influenzano sia la covariata che l'esposizione o l'esito. \n",
    "\n",
    "In un contesto di M-bias, condizionare sulla covariata \"apre\" il collider (la covariata stessa), che non era un problema quando la covariata non era inclusa nel modello. Questo rende il modello $outcome \\sim exposure + covariate$ inadatto per la stima corretta dell'effetto causale di esposizione su esito in questa specifica struttura causale."
   ]
  },
  {
   "cell_type": "markdown",
   "metadata": {},
   "source": [
    "Nel caso di questa struttura casusale, il vero effetto causale di `exposure` su `outcome` è $\\beta$ = 1. Se ignoriamo `covariate` nel modello di regressione otteniamo una stima non distorta del vero effetto causale."
   ]
  },
  {
   "cell_type": "code",
   "execution_count": null,
   "metadata": {
    "tags": [
     "hide-output"
    ]
   },
   "outputs": [],
   "source": [
    "mod11 = bmb.Model(\"outcome ~ exposure\", causal_m_bias_df)\n",
    "results11 = mod11.fit(method=\"nuts_numpyro\", idata_kwargs={\"log_likelihood\": True})"
   ]
  },
  {
   "cell_type": "code",
   "execution_count": 66,
   "metadata": {},
   "outputs": [
    {
     "data": {
      "text/html": [
       "<div>\n",
       "<style scoped>\n",
       "    .dataframe tbody tr th:only-of-type {\n",
       "        vertical-align: middle;\n",
       "    }\n",
       "\n",
       "    .dataframe tbody tr th {\n",
       "        vertical-align: top;\n",
       "    }\n",
       "\n",
       "    .dataframe thead th {\n",
       "        text-align: right;\n",
       "    }\n",
       "</style>\n",
       "<table border=\"1\" class=\"dataframe\">\n",
       "  <thead>\n",
       "    <tr style=\"text-align: right;\">\n",
       "      <th></th>\n",
       "      <th>mean</th>\n",
       "      <th>sd</th>\n",
       "      <th>hdi_3%</th>\n",
       "      <th>hdi_97%</th>\n",
       "      <th>mcse_mean</th>\n",
       "      <th>mcse_sd</th>\n",
       "      <th>ess_bulk</th>\n",
       "      <th>ess_tail</th>\n",
       "      <th>r_hat</th>\n",
       "    </tr>\n",
       "  </thead>\n",
       "  <tbody>\n",
       "    <tr>\n",
       "      <th>Intercept</th>\n",
       "      <td>-0.22</td>\n",
       "      <td>0.14</td>\n",
       "      <td>-0.48</td>\n",
       "      <td>0.07</td>\n",
       "      <td>0.0</td>\n",
       "      <td>0.0</td>\n",
       "      <td>4170.38</td>\n",
       "      <td>2798.08</td>\n",
       "      <td>1.0</td>\n",
       "    </tr>\n",
       "    <tr>\n",
       "      <th>exposure</th>\n",
       "      <td>1.00</td>\n",
       "      <td>0.10</td>\n",
       "      <td>0.83</td>\n",
       "      <td>1.19</td>\n",
       "      <td>0.0</td>\n",
       "      <td>0.0</td>\n",
       "      <td>3803.14</td>\n",
       "      <td>2607.62</td>\n",
       "      <td>1.0</td>\n",
       "    </tr>\n",
       "    <tr>\n",
       "      <th>outcome_sigma</th>\n",
       "      <td>1.44</td>\n",
       "      <td>0.10</td>\n",
       "      <td>1.24</td>\n",
       "      <td>1.63</td>\n",
       "      <td>0.0</td>\n",
       "      <td>0.0</td>\n",
       "      <td>4507.37</td>\n",
       "      <td>3145.03</td>\n",
       "      <td>1.0</td>\n",
       "    </tr>\n",
       "  </tbody>\n",
       "</table>\n",
       "</div>"
      ],
      "text/plain": [
       "               mean    sd  hdi_3%  hdi_97%  mcse_mean  mcse_sd  ess_bulk  \\\n",
       "Intercept     -0.22  0.14   -0.48     0.07        0.0      0.0   4170.38   \n",
       "exposure       1.00  0.10    0.83     1.19        0.0      0.0   3803.14   \n",
       "outcome_sigma  1.44  0.10    1.24     1.63        0.0      0.0   4507.37   \n",
       "\n",
       "               ess_tail  r_hat  \n",
       "Intercept       2798.08    1.0  \n",
       "exposure        2607.62    1.0  \n",
       "outcome_sigma   3145.03    1.0  "
      ]
     },
     "execution_count": 66,
     "metadata": {},
     "output_type": "execute_result"
    }
   ],
   "source": [
    "az.summary(results11, round_to=2)"
   ]
  },
  {
   "cell_type": "markdown",
   "metadata": {},
   "source": [
    "Se invece usiamo `covariate` come predittore nel modello di regressione otteniamo una stima distorta dell'effetto causale di `exposure` su `outcome`."
   ]
  },
  {
   "cell_type": "code",
   "execution_count": null,
   "metadata": {
    "tags": [
     "hide-output"
    ]
   },
   "outputs": [],
   "source": [
    "mod11_bis = bmb.Model(\"outcome ~ exposure + covariate\", causal_m_bias_df)\n",
    "results11_bis = mod11_bis.fit(method=\"nuts_numpyro\", idata_kwargs={\"log_likelihood\": True})"
   ]
  },
  {
   "cell_type": "code",
   "execution_count": 68,
   "metadata": {},
   "outputs": [
    {
     "data": {
      "text/html": [
       "<div>\n",
       "<style scoped>\n",
       "    .dataframe tbody tr th:only-of-type {\n",
       "        vertical-align: middle;\n",
       "    }\n",
       "\n",
       "    .dataframe tbody tr th {\n",
       "        vertical-align: top;\n",
       "    }\n",
       "\n",
       "    .dataframe thead th {\n",
       "        text-align: right;\n",
       "    }\n",
       "</style>\n",
       "<table border=\"1\" class=\"dataframe\">\n",
       "  <thead>\n",
       "    <tr style=\"text-align: right;\">\n",
       "      <th></th>\n",
       "      <th>mean</th>\n",
       "      <th>sd</th>\n",
       "      <th>hdi_3%</th>\n",
       "      <th>hdi_97%</th>\n",
       "      <th>mcse_mean</th>\n",
       "      <th>mcse_sd</th>\n",
       "      <th>ess_bulk</th>\n",
       "      <th>ess_tail</th>\n",
       "      <th>r_hat</th>\n",
       "    </tr>\n",
       "  </thead>\n",
       "  <tbody>\n",
       "    <tr>\n",
       "      <th>Intercept</th>\n",
       "      <td>-0.23</td>\n",
       "      <td>0.14</td>\n",
       "      <td>-0.48</td>\n",
       "      <td>0.05</td>\n",
       "      <td>0.0</td>\n",
       "      <td>0.0</td>\n",
       "      <td>3656.19</td>\n",
       "      <td>2633.75</td>\n",
       "      <td>1.0</td>\n",
       "    </tr>\n",
       "    <tr>\n",
       "      <th>exposure</th>\n",
       "      <td>0.88</td>\n",
       "      <td>0.13</td>\n",
       "      <td>0.64</td>\n",
       "      <td>1.13</td>\n",
       "      <td>0.0</td>\n",
       "      <td>0.0</td>\n",
       "      <td>2816.96</td>\n",
       "      <td>2871.51</td>\n",
       "      <td>1.0</td>\n",
       "    </tr>\n",
       "    <tr>\n",
       "      <th>covariate</th>\n",
       "      <td>0.04</td>\n",
       "      <td>0.03</td>\n",
       "      <td>-0.01</td>\n",
       "      <td>0.09</td>\n",
       "      <td>0.0</td>\n",
       "      <td>0.0</td>\n",
       "      <td>3165.08</td>\n",
       "      <td>2786.07</td>\n",
       "      <td>1.0</td>\n",
       "    </tr>\n",
       "    <tr>\n",
       "      <th>outcome_sigma</th>\n",
       "      <td>1.44</td>\n",
       "      <td>0.10</td>\n",
       "      <td>1.24</td>\n",
       "      <td>1.62</td>\n",
       "      <td>0.0</td>\n",
       "      <td>0.0</td>\n",
       "      <td>3612.32</td>\n",
       "      <td>2735.96</td>\n",
       "      <td>1.0</td>\n",
       "    </tr>\n",
       "  </tbody>\n",
       "</table>\n",
       "</div>"
      ],
      "text/plain": [
       "               mean    sd  hdi_3%  hdi_97%  mcse_mean  mcse_sd  ess_bulk  \\\n",
       "Intercept     -0.23  0.14   -0.48     0.05        0.0      0.0   3656.19   \n",
       "exposure       0.88  0.13    0.64     1.13        0.0      0.0   2816.96   \n",
       "covariate      0.04  0.03   -0.01     0.09        0.0      0.0   3165.08   \n",
       "outcome_sigma  1.44  0.10    1.24     1.62        0.0      0.0   3612.32   \n",
       "\n",
       "               ess_tail  r_hat  \n",
       "Intercept       2633.75    1.0  \n",
       "exposure        2871.51    1.0  \n",
       "covariate       2786.07    1.0  \n",
       "outcome_sigma   2735.96    1.0  "
      ]
     },
     "execution_count": 68,
     "metadata": {},
     "output_type": "execute_result"
    }
   ],
   "source": [
    "az.summary(results11_bis, round_to=2)"
   ]
  },
  {
   "cell_type": "markdown",
   "metadata": {},
   "source": [
    "In sintesi, in una struttura causale di M-bias, il modello di regressione $outcome \\sim exposure$ senza includere la covariata è preferibile per stimare l'effetto causale dell'esposizione sull'esito, perché evita di introdurre il collider bias che si verificherebbe includendo la covariata nel modello. Questo esempio dimostra l'importanza di considerare attentamente la struttura causale sottostante e il criterio del backdoor quando si sceglie quali variabili includere nei modelli di regressione per la stima degli effetti causali."
   ]
  },
  {
   "cell_type": "markdown",
   "metadata": {},
   "source": [
    "## Riflessioni Conclusive\n",
    "\n",
    "In conclusione, analizzando i quattro insiemi di dati, se non teniamo conto di `covariate`, otteniamo sempre una stima dell'\"effetto medio del trattamento\" (ATE) pari a 1. Tuttavia, l'effetto causale reale è pari a 1 solo quando i dati provengono dalla struttura causale del collider e dell'M-bias. In queste situazioni, quindi, senza considerare `covariate`, otteniamo una stima corretta dell'effetto causale dell'`esposizione` sull'`esito`. Se invece includiamo `covariate` nell'analisi, le stime di ATE risultano distorte: 0.55 nel caso del collider e 0.88 nel caso dell'M-bias.\n",
    "\n",
    "Quando i dati sono generati dalla struttura causale del confounder, l'effetto causale corretto è 0.5. Senza considerare `covariate`, la stima ottenuta è distorta e pari a 1. Includendo `covariate`, otteniamo invece una stima non distorta dell'effetto causale reale.\n",
    "\n",
    "Nel contesto della struttura causale della mediazione, l'effetto totale dell'`esposizione` sull'`esito` è 1, ma l'effetto diretto è 0. Senza tenere conto di `covariate`, la stima dell'effetto totale non è distorta. Considerando `covariate`, otteniamo una stima distorta (0) dell'effetto totale.\n",
    "\n",
    "Questi esempi di {cite:t}`d2024causal` dimostrano che l'inferenza causale non è solamente un problema di statistica. In altre parole, senza conoscenze supplementari, che non possono essere derivate unicamente dai dati osservati, non è possibile ottenere una stima non distorta degli effetti causali. Come suggerisce il titolo dell'articolo: l'inferenza causale va oltre la statistica. Non è una questione che può essere risolta solo con le tecniche di analisi dei dati, ma richiede informazioni aggiuntive sulle caratteristiche del fenomeno in esame.\n",
    "\n",
    "Sono necessarie informazioni aggiuntive riguardo al meccanismo di generazione dei dati per trarre conclusioni corrette. Sebbene la conoscenza del processo di generazione dei dati sia essenziale per stimare l'effetto causale corretto in ciascuno dei casi presentati, e non sempre questa conoscenza è disponibile, i ricercatori possono adottare alcune misure per ridurre la probabilità di commettere errori come quelli illustrati. Il primo passo è sicuramente quello di riflettere su quali potrebbero essere i meccanismi causali alla luce delle conoscenze nel campo; questo deve essere fatto prima di cercare di stimare gli effetti causali in maniera ingenua. Disegnare le relazioni proposte tramite diagrammi causali, come i grafici aciclici diretti, prima di calcolare qualsiasi quantità statistica, può aiutare i ricercarori a garantire di aggiustare solo per fattori che soddisfano il \"backdoor criterion\" {cite:p}`pearl2009causality`, ovvero correggere solo per fattori che chiudono tutti i percorsi indiretti tra l'esposizione e l'esito di interesse.\n",
    "\n",
    "In assenza di competenze specifiche sul tema, è fondamentale che i ricercatori considerino l'ordine temporale dei fattori disponibili. Questo approccio si basa sui principi fondamentali dell'inferenza causale, che richiedono che l'esposizione di interesse avvenga prima dell'esito per stabilire una relazione causale plausibile. Pertanto, per evitare potenziali confondimenti, è essenziale che qualsiasi covariata presa in considerazione nell'analisi preceda temporalmente l'esposizione. L'inclusione di queste informazioni temporali aiuta a prevenire l'errata specificazione di modelli, in particolare nei casi del \"collider\" e del \"mediatore\". Se le informazioni temporali indicano che il fattore Z si verifica dopo l'esposizione e l'esito (nel caso del collider) o si colloca temporalmente tra l'esposizione e l'esito (nel caso del mediatore), l'analisi può essere adeguatamente orientata per evitare conclusioni erronee.\n",
    "\n",
    "La correzione per fattori misurati prima dell'esposizione è una pratica ampiamente raccomandata e sostenuta da molti metodologi dell'inferenza causale. Questi esperti suggeriscono di condizionare l'analisi su tutti i fattori rilevati prima dell'esposizione, al fine di isolare l'effetto causale dell'esposizione sull'esito da eventuali altri fattori confondenti.\n",
    "\n",
    "Tuttavia, le informazioni temporali da sole non sono sufficienti per affrontare adeguatamente il modello sotto il quarto meccanismo di generazione dei dati, noto come M-bias. Questo perché il fattore Z può essere temporalmente antecedente sia a X (esposizione) che a Y (esito) e, nonostante ciò, introdurre un bias nell'analisi. È importante notare che il dibattito scientifico attuale considera questo specifico scenario di M-bias come relativamente raro nella pratica. La maggior parte delle situazioni reali presenta una complessità tale che l'assunzione di un M-bias stretto (ossia, un bias derivante esclusivamente da una configurazione in cui le variabili non hanno relazioni dirette l'una con l'altra al di fuori di quelle mediate da U1 e U2) appare poco probabile.\n",
    "\n",
    "In conclusione, in assenza di informazioni dettagliate sul meccanismo generatore dei dati, i ricercatori dovrebbero fare affidamento sull'ordine temporale delle variabili in esame per guidare le loro analisi. Per minimizzare il rischio di stime distorte degli effetti causali, è cruciale condizionare l'analisi solo su fattori rilevati prima dell'esposizione, evitando di includere variabili misurate successivamente. Questo approccio aiuta a garantire che l'analisi sia più vicina possibile alla rappresentazione corretta delle relazioni causali tra le variabili studiate."
   ]
  },
  {
   "cell_type": "code",
   "execution_count": 2,
   "metadata": {},
   "outputs": [
    {
     "name": "stdout",
     "output_type": "stream",
     "text": [
      "The watermark extension is already loaded. To reload it, use:\n",
      "  %reload_ext watermark\n",
      "Last updated: Tue Jan 30 2024\n",
      "\n",
      "Python implementation: CPython\n",
      "Python version       : 3.11.7\n",
      "IPython version      : 8.19.0\n",
      "\n",
      "Compiler    : Clang 16.0.6 \n",
      "OS          : Darwin\n",
      "Release     : 23.3.0\n",
      "Machine     : x86_64\n",
      "Processor   : i386\n",
      "CPU cores   : 8\n",
      "Architecture: 64bit\n",
      "\n",
      "Watermark: 2.4.3\n",
      "\n"
     ]
    }
   ],
   "source": [
    "%load_ext watermark\n",
    "%watermark -n -u -v -iv -w -m"
   ]
  }
 ],
 "metadata": {
  "kernelspec": {
   "display_name": "pymc",
   "language": "python",
   "name": "python3"
  },
  "language_info": {
   "codemirror_mode": {
    "name": "ipython",
    "version": 3
   },
   "file_extension": ".py",
   "mimetype": "text/x-python",
   "name": "python",
   "nbconvert_exporter": "python",
   "pygments_lexer": "ipython3",
   "version": "3.11.7"
  },
  "vscode": {
   "interpreter": {
    "hash": "030ae53b1150d0ca6a72bb4a7a0454cbd9dab0eb2818ba119bbca0111e46e432"
   }
  }
 },
 "nbformat": 4,
 "nbformat_minor": 2
}