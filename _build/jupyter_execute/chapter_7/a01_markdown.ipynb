{
 "cells": [
  {
   "attachments": {},
   "cell_type": "markdown",
   "metadata": {},
   "source": [
    "(sec-appendix-markdown)=\n",
    "# Jupyter Notebook\n",
    "\n",
    "## Formattazione del Testo con Markdown\n",
    "\n",
    "All'interno delle celle di testo di un Jupyter Notebook, è possibile formattare il testo in modo semplice ed efficiente utilizzando il linguaggio di markup Markdown.\n",
    "\n",
    "Markdown si basa su una serie di simboli e convenzioni di formattazione che consentono di creare titoli, elenchi, tabelle, citazioni, testo in grassetto, corsivo e altro ancora. Di seguito sono riportati alcuni esempi di formattazione del testo in Markdown:\n",
    "\n",
    "- **Titoli**: Per creare un titolo, è sufficiente utilizzare il simbolo \"#\" seguito dal testo del titolo. Ad esempio, `# Titolo del documento` genererà un titolo di primo livello.\n",
    "\n",
    "- **Elenchi puntati**: Per creare una lista puntata, è possibile utilizzare il simbolo \"-\" seguito dal testo dell'elemento della lista. Ad esempio, `- Elemento 1` genererà un elemento di lista puntata.\n",
    "\n",
    "- **Collegamenti ipertestuali**: Per creare un collegamento ipertestuale, basta utilizzare il simbolo \"[\" seguito dal testo del collegamento e dal simbolo \"]\" seguito dall'URL del collegamento. Ad esempio, `[Link a Google](https://www.google.com/)` creerà un collegamento con il testo \"Link a Google\" che reindirizza alla homepage di Google.\n",
    "\n",
    "- **Testo in grassetto**: Per formattare il testo in grassetto, è possibile utilizzare il simbolo \"**\" prima e dopo il testo da formattare. Ad esempio, `**Testo in grassetto**` renderà il testo in grassetto.\n",
    "\n",
    "- **Testo in corsivo**: Per formattare il testo in corsivo, è possibile utilizzare il simbolo \"*\" prima e dopo il testo da formattare. Ad esempio, `*Testo in corsivo*` renderà il testo in corsivo.\n",
    "\n",
    "## Comandi Magici in Jupyter Notebook\n",
    "\n",
    "I \"command magic\" rappresentano una serie di comandi speciali che possono essere utilizzati all'interno dei Jupyter Notebook per eseguire varie azioni. Ecco una breve spiegazione dei comandi magici più comuni:\n",
    "\n",
    "- `%run`: Questo comando consente di eseguire un file Python come programma direttamente all'interno del notebook.\n",
    "\n",
    "- `%timeit`: Utilizzando questo comando, è possibile eseguire una riga di codice più volte e calcolare il tempo medio di esecuzione. Questo è utile per valutare le prestazioni del codice.\n",
    "\n",
    "- `%matplotlib`: Questo comando abilita l'integrazione di Matplotlib per la visualizzazione dei grafici direttamente all'interno del notebook, semplificando la creazione di grafici e visualizzazioni.\n",
    "\n",
    "- `%load`: Con questo comando è possibile caricare il codice da un file esterno direttamente in una cella del notebook, facilitando l'importazione di codice da altre fonti.\n",
    "\n",
    "- `%reset`: Questo comando rimuove tutte le variabili presenti nella sessione corrente del notebook, consentendo una pulizia rapida delle variabili non desiderate.\n",
    "\n",
    "- `%pwd`: Restituisce il percorso della directory corrente, utile per tenere traccia della posizione dei file e delle risorse all'interno del notebook.\n",
    "\n",
    "- `%cd`: Cambia la directory di lavoro corrente direttamente all'interno del notebook, semplificando la gestione dei file e delle directory.\n",
    "\n",
    "- `%%time`: Questo comando calcola il tempo di esecuzione di un'intera cella di codice, utile per valutare le prestazioni di blocchi di codice più ampi.\n",
    "\n",
    "I Jupyter Notebook offrono una vasta gamma di altri \"command magic\" che consentono di eseguire una varietà di operazioni speciali. Per visualizzare l'elenco completo di questi comandi, è possibile digitare `%lsmagic` all'interno di una cella del notebook. "
   ]
  }
 ],
 "metadata": {
  "kernelspec": {
   "display_name": "bambi_env",
   "language": "python",
   "name": "python3"
  },
  "language_info": {
   "codemirror_mode": {
    "name": "ipython",
    "version": 3
   },
   "file_extension": ".py",
   "mimetype": "text/x-python",
   "name": "python",
   "nbconvert_exporter": "python",
   "pygments_lexer": "ipython3",
   "version": "3.8.15 (default, Nov 24 2022, 09:04:07) \n[Clang 14.0.6 ]"
  },
  "vscode": {
   "interpreter": {
    "hash": "e957f8d2d9272acec629608affb587206e5d92bb0d8d335f71da72c549770d8b"
   }
  }
 },
 "nbformat": 4,
 "nbformat_minor": 2
}