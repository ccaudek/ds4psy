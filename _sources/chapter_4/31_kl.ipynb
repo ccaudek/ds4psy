{
 "cells": [
  {
   "cell_type": "markdown",
   "metadata": {},
   "source": [
    "<a target=\"_blank\" rel=\"noopener noreferrer\" href=\"https://colab.research.google.com/github/ccaudek/ds4psy_2023/blob/main/kl.ipynb\">![Open In Colab](https://colab.research.google.com/assets/colab-badge.svg)</a>\n",
    "\n",
    "(kl_notebook)=\n",
    "# La divergenza di Kullback-Leibler"
   ]
  },
  {
   "cell_type": "markdown",
   "metadata": {},
   "source": [
    "```{admonition} Obiettivi di apprendimento\n",
    "Dopo aver completato questo capitolo, acquisirete le competenze per:\n",
    "\n",
    "- comprendere il concetto di divervenza di Kullback-Leibler (KL);\n",
    "- calcolare la divergenza KL dall'entropia;\n",
    "- comprendere il concetto della Densità Logaritmica Predittiva Prevista (ELPD);\n",
    "- mettere in relazione il concetto di entropia con la ELPD;\n",
    "- calcolare la ELPD con PyMC.\n",
    "```"
   ]
  },
  {
   "cell_type": "markdown",
   "metadata": {},
   "source": [
    "**Distribuzioni di Probabilità e la Necessità di Approssimazioni**\n",
    "\n",
    "Immaginate di avere una ricetta complessa, con molti ingredienti e passaggi. Questa ricetta rappresenta una distribuzione di probabilità complessa, chiamata $p$. A volte, questa ricetta è troppo complicata per essere seguita esattamente. Quindi, usiamo una versione più semplice, una ricetta \"approssimativa\", chiamata $q$.\n",
    "\n",
    "In statistica e machine learning, spesso incontriamo situazioni simili. La distribuzione $p$ potrebbe essere troppo complessa o sconosciuta, quindi usiamo $q$ come una versione semplificata. Però, ci chiediamo: quanto è \"buona\" questa versione semplificata rispetto all'originale?\n",
    "\n",
    "**La Divergenza di Kullback-Leibler**\n",
    "\n",
    "Per valutare quanto bene la nostra ricetta approssimativa $q$ si avvicina alla ricetta originale $p$, usiamo qualcosa chiamato *Divergenza di Kullback-Leibler* ($\\mathbb{KL}$). Questo è come confrontare il gusto dei piatti preparati con le due ricette diverse.\n",
    "\n",
    "Se la Divergenza $\\mathbb{KL}$ è zero, significa che le due ricette producono esattamente lo stesso piatto. Valori maggiori di zero indicano differenze maggiori tra i piatti. Quindi, un valore basso di $\\mathbb{KL}$ significa che la nostra ricetta approssimativa è molto vicina all'originale.\n",
    "\n",
    "Un altro strumento importante è l'*Expected Log Predictive Density* (elpd), che è come valutare quanto bene una ricetta si adatta ai gusti di diversi ospiti. L'elpd guarda quanto bene una ricetta (modello statistico) si adatta ai dati (gusti degli ospiti), bilanciando la semplicità della ricetta con la sua capacità di soddisfare tutti.\n",
    "\n",
    "Un modello che si adatta perfettamente ai dati ma è troppo complicato potrebbe non essere pratico, proprio come una ricetta troppo elaborata. Allo stesso modo, una ricetta troppo semplice potrebbe non soddisfare tutti i gusti. L'elpd ci aiuta a trovare il giusto equilibrio.\n",
    "\n",
    "In questo capitolo, ci concentreremo sulla Divergenza $\\mathbb{KL}$ e l'elpd. Esploreremo come questi strumenti ci aiutano a valutare e confrontare modelli statistici, specialmente in contesti bayesiani. Comprendendo bene $\\mathbb{KL}$ e elpd, potrete scegliere e analizzare modelli statistici più efficacemente, adattandoli ai dati specifici che avete."
   ]
  },
  {
   "cell_type": "code",
   "execution_count": 71,
   "metadata": {},
   "outputs": [],
   "source": [
    "import numpy as np\n",
    "import pandas as pd\n",
    "import scipy as sp\n",
    "import scipy.stats as stats\n",
    "import statsmodels.api as sm\n",
    "from statsmodels.graphics import tsaplots\n",
    "import matplotlib.pyplot as plt\n",
    "import seaborn as sns\n",
    "import pymc as pm\n",
    "import pymc.sampling_jax\n",
    "from scipy.stats import beta\n",
    "from scipy.integrate import quad\n",
    "import arviz as az"
   ]
  },
  {
   "cell_type": "code",
   "execution_count": 72,
   "metadata": {},
   "outputs": [],
   "source": [
    "%config InlineBackend.figure_format = 'retina'\n",
    "RANDOM_SEED = 42\n",
    "rng = np.random.default_rng(RANDOM_SEED)\n",
    "az.style.use(\"arviz-darkgrid\")\n",
    "sns.set_theme(palette=\"colorblind\")"
   ]
  },
  {
   "cell_type": "markdown",
   "metadata": {},
   "source": [
    "**Cos'è la Divergenza di Kullback-Leibler?**\n",
    "\n",
    "La Divergenza di Kullback-Leibler ($\\mathbb{KL}$), chiamata anche entropia relativa, è come un metro di misura che ci dice quanta informazione perdiamo quando sostituiamo una distribuzione di probabilità complessa o sconosciuta (chiamata $p$) con una più semplice (chiamata $q$).\n",
    "\n",
    "**Definizione Matematica della Divergenza KL**\n",
    "\n",
    "Matematicamente, la Divergenza $\\mathbb{KL}$ si definisce come la somma di tutte le differenze tra le probabilità logaritmiche di ogni evento in $p$ e $q$, moltiplicate per le probabilità di quegli eventi in $p$. Ecco la formula:\n",
    "\n",
    "$$\n",
    "\\mathbb{KL}(p \\mid\\mid q) = \\sum_{i=1}^n p_i (\\log p_i - \\log q_i),\n",
    "$$\n",
    "\n",
    "dove $i$ rappresenta ciascun possibile evento nelle distribuzioni. Questa somma ci dà una valutazione della \"distanza\" media tra $p$ e $q$ in termini di probabilità logaritmiche.\n",
    "\n",
    "**Divergenza KL e Entropia**\n",
    "\n",
    "Possiamo anche vedere la Divergenza $\\mathbb{KL}$ in termini di entropia, che è una misura di incertezza o imprevedibilità. Qui, confrontiamo due cose:\n",
    "\n",
    "1. **Entropia Incrociata ($h(p, q)$)**: Rappresenta quanto è \"disordinata\" o imprevedibile la distribuzione $q$ quando la valutiamo con le probabilità di $p$.\n",
    "   \n",
    "   $$\n",
    "   h(p, q) = -\\sum_{i=1}^n p_i \\log q_i.\n",
    "   $$\n",
    "\n",
    "2. **Entropia di $p$ ($h(p)$)**: Questa è l'incertezza intrinseca nella distribuzione vera $p$.\n",
    "   \n",
    "   $$\n",
    "   h(p) = -\\sum_{i=1}^n p_i \\log p_i.\n",
    "   $$\n",
    "\n",
    "Allora, la Divergenza $\\mathbb{KL}$ è la differenza tra queste due entropie:\n",
    "\n",
    "$$\n",
    "\\mathbb{KL}(p \\mid\\mid q) = h(p, q) - h(p).\n",
    "$$\n",
    "\n",
    "**Significato Pratico della Divergenza KL**\n",
    "\n",
    "In pratica, la Divergenza $\\mathbb{KL}$ ci dice quanto siamo \"fuori strada\" usando $q$ invece di $p$. Se la Divergenza $\\mathbb{KL}$ è bassa, significa che $q$ è una buona approssimazione di $p$ e perdiamo poca informazione nel processo. Se è alta, significa che stiamo perdendo molte informazioni importanti, e $q$ potrebbe non essere una buona scelta per approssimare $p$.\n",
    "\n",
    "\n",
    "### Un Esempio Empirico\n",
    "\n",
    "Per comprendere meglio questi concetti, esaminiamo ora un esempio numerico, dove definiremo due distribuzioni di probabilità discrete, $p$ e $q$."
   ]
  },
  {
   "cell_type": "code",
   "execution_count": 45,
   "metadata": {},
   "outputs": [],
   "source": [
    "p = np.array([0.2, 0.5, 0.3])\n",
    "q = np.array([0.1, 0.2, 0.7])"
   ]
  },
  {
   "cell_type": "markdown",
   "metadata": {},
   "source": [
    "Calcoliamo l'entropia di $p$."
   ]
  },
  {
   "cell_type": "code",
   "execution_count": 46,
   "metadata": {},
   "outputs": [
    {
     "name": "stdout",
     "output_type": "stream",
     "text": [
      "Entropia di p:  1.0296530140645737\n"
     ]
    }
   ],
   "source": [
    "h_p = -np.sum(p * np.log(p))\n",
    "print(\"Entropia di p: \", h_p)"
   ]
  },
  {
   "cell_type": "markdown",
   "metadata": {},
   "source": [
    "Calcoliamo l'entropia incrociata tra $p$ e $q$."
   ]
  },
  {
   "cell_type": "code",
   "execution_count": 47,
   "metadata": {},
   "outputs": [
    {
     "name": "stdout",
     "output_type": "stream",
     "text": [
      "Entropia incrociata tra p e q:  1.372238457997479\n"
     ]
    }
   ],
   "source": [
    "h_pq = -np.sum(p * np.log(q))\n",
    "print(\"Entropia incrociata tra p e q: \", h_pq)"
   ]
  },
  {
   "cell_type": "markdown",
   "metadata": {},
   "source": [
    "Calcoliamo la divergenza di Kullback-Leibler da $p$ a $q$."
   ]
  },
  {
   "cell_type": "code",
   "execution_count": 48,
   "metadata": {},
   "outputs": [
    {
     "name": "stdout",
     "output_type": "stream",
     "text": [
      "Divergenza KL da p a q:  0.34258544393290524\n"
     ]
    }
   ],
   "source": [
    "kl_pq = h_pq - h_p\n",
    "print(\"Divergenza KL da p a q: \", kl_pq)"
   ]
  },
  {
   "cell_type": "markdown",
   "metadata": {},
   "source": [
    "Lo stesso risultato si ottiene applicando la formula della Divergenza $\\mathbb{KL}$."
   ]
  },
  {
   "cell_type": "code",
   "execution_count": 52,
   "metadata": {},
   "outputs": [
    {
     "data": {
      "text/plain": [
       "0.3425854439329054"
      ]
     },
     "execution_count": 52,
     "metadata": {},
     "output_type": "execute_result"
    }
   ],
   "source": [
    "np.sum(p * (np.log(p) - np.log(q)))"
   ]
  },
  {
   "cell_type": "markdown",
   "metadata": {},
   "source": [
    "Se invece $q$ è molto simile a $p$, la differenza $\\mathbb{KL}$ è molto minore."
   ]
  },
  {
   "cell_type": "code",
   "execution_count": 53,
   "metadata": {},
   "outputs": [
    {
     "data": {
      "text/plain": [
       "0.007041377136023895"
      ]
     },
     "execution_count": 53,
     "metadata": {},
     "output_type": "execute_result"
    }
   ],
   "source": [
    "p = np.array([0.2, 0.5, 0.3])\n",
    "q = np.array([0.2, 0.55, 0.25])\n",
    "np.sum(p * (np.log(p) - np.log(q)))"
   ]
  },
  {
   "cell_type": "markdown",
   "metadata": {},
   "source": [
    "Consideriamo un secondo esempio. Sia $p$ una distribuzione binomiale di parametri $\\theta = 0.2$ e $n = 5$."
   ]
  },
  {
   "cell_type": "code",
   "execution_count": 10,
   "metadata": {},
   "outputs": [
    {
     "name": "stdout",
     "output_type": "stream",
     "text": [
      "[0.4096 0.4096 0.1536 0.0256 0.0016]\n"
     ]
    }
   ],
   "source": [
    "# Define the parameters\n",
    "n = 4\n",
    "p = 0.2\n",
    "\n",
    "# Compute the probability mass function\n",
    "true_py = stats.binom.pmf(range(n + 1), n, p)\n",
    "print(true_py)"
   ]
  },
  {
   "cell_type": "markdown",
   "metadata": {},
   "source": [
    "Sia $q_1$ una approssimazione a $p$:"
   ]
  },
  {
   "cell_type": "code",
   "execution_count": 12,
   "metadata": {},
   "outputs": [
    {
     "name": "stdout",
     "output_type": "stream",
     "text": [
      "[0.46 0.42 0.1  0.01 0.01]\n"
     ]
    }
   ],
   "source": [
    "q1 = np.array([0.46, 0.42, 0.10, 0.01, 0.01])\n",
    "print(q1)"
   ]
  },
  {
   "cell_type": "markdown",
   "metadata": {},
   "source": [
    "Sia $q_2$ una distribuzione uniforme:"
   ]
  },
  {
   "cell_type": "code",
   "execution_count": 14,
   "metadata": {},
   "outputs": [
    {
     "name": "stdout",
     "output_type": "stream",
     "text": [
      "[0.2, 0.2, 0.2, 0.2, 0.2]\n"
     ]
    }
   ],
   "source": [
    "q2 = [0.2] * 5\n",
    "print(q2)"
   ]
  },
  {
   "cell_type": "markdown",
   "metadata": {},
   "source": [
    "La divergenza $\\mathbb{KL}$ di $q_1$ da $p$ è"
   ]
  },
  {
   "cell_type": "code",
   "execution_count": 19,
   "metadata": {},
   "outputs": [
    {
     "name": "stdout",
     "output_type": "stream",
     "text": [
      "Divergenza KL di q1 da p:  0.02925199033345885\n"
     ]
    }
   ],
   "source": [
    "kl_pq1 = np.sum(true_py * (np.log(true_py) - np.log(q1)))\n",
    "print(\"Divergenza KL di q1 da p: \", kl_pq1)"
   ]
  },
  {
   "cell_type": "markdown",
   "metadata": {},
   "source": [
    "La divergenza $\\mathbb{KL}$ di $q_2$ da $p$ è:"
   ]
  },
  {
   "cell_type": "code",
   "execution_count": 20,
   "metadata": {},
   "outputs": [
    {
     "name": "stdout",
     "output_type": "stream",
     "text": [
      "Divergenza KL di q2 da p:  0.4863577787141543\n"
     ]
    }
   ],
   "source": [
    "kl_pq2 = np.sum(true_py * (np.log(true_py) - np.log(q2)))\n",
    "print(\"Divergenza KL di q2 da p: \", kl_pq2)"
   ]
  },
  {
   "cell_type": "markdown",
   "metadata": {},
   "source": [
    "È chiaro che perdiamo una quantità maggiore di informazioni se, per descrivere la distribuzione binomiale $p$, usiamo la distribuzione uniforme $q_2$ anziché $q_1$.\n",
    "\n",
    "### La Divergenza Dipende dalla Direzione\n",
    "\n",
    "La Divergenza $ \\mathbb{KL} $ può essere vista come una misura di \"distanza\" tra due distribuzioni di probabilità, ma è importante sottolineare che non è una vera e propria distanza in senso matematico poiché non è simmetrica. Questa asimmetria riflette il fatto che sostituire $p$ con $q$ non è equivalente a sostituire $q$ con $p$ in termini di perdita di informazione.\n",
    "\n",
    "La relazione tra la Divergenza $\\mathbb{KL}$, l'entropia $h(p)$ e l'entropia incrociata $h(p, q)$ è cruciale per comprendere come la $ \\mathbb{KL} $ quantifichi la perdita di informazione. L'entropia di $p$ rappresenta l'incertezza intrinseca nella distribuzione vera, mentre l'entropia incrociata tra $p$ e $q$ rappresenta l'incertezza quando si utilizza la distribuzione approssimata $q$ per rappresentare $p$.\n",
    "\n",
    "Illustriamo numericamente questi concetti per due distribuzioni $p = \\{0.01, 0.99\\}$ e $q = \\{0.7, 0.3\\}$."
   ]
  },
  {
   "cell_type": "markdown",
   "metadata": {},
   "source": [
    "### La Divergenza Dipende dalla Direzione\n",
    "\n",
    "La Divergenza $\\mathbb{KL}$ è spesso paragonata a una \"distanza\" tra due distribuzioni di probabilità, ma è fondamentale capire che non è simmetrica. Questo significa che la misura di quanto $p$ è diversa da $q$ non è la stessa di quanto $q$ è diversa da $p$. Questa asimmetria riflette la differenza nella perdita di informazione quando si sostituisce una distribuzione con l'altra.\n",
    "\n",
    "Per comprendere meglio la Divergenza $\\mathbb{KL}$, è utile considerare l'entropia e l'entropia incrociata. Facciamo un esempio numerico."
   ]
  },
  {
   "cell_type": "code",
   "execution_count": 55,
   "metadata": {},
   "outputs": [
    {
     "name": "stdout",
     "output_type": "stream",
     "text": [
      "Entropia di p: 0.056001534354847345\n",
      "Entropia incrociata da p a q: 1.1954998257220641\n",
      "Divergenza KL da p a q: 1.1394982913672167\n",
      "\n",
      "Entropia di q: 0.6108643020548935\n",
      "Entropia incrociata da q a p: 3.226634230947714\n",
      "Divergenza KL da q a p: 2.6157699288928207\n"
     ]
    }
   ],
   "source": [
    "# Definire le distribuzioni p e q\n",
    "p = np.array([0.01, 0.99])\n",
    "q = np.array([0.7, 0.3])\n",
    "\n",
    "# Calcolo dell'entropia di p\n",
    "h_p = -np.sum(p * np.log(p))\n",
    "\n",
    "# Calcolo dell'entropia incrociata da p a q\n",
    "h_pq = -np.sum(p * np.log(q))\n",
    "\n",
    "# Calcolo della divergenza KL da p a q\n",
    "kl_pq = h_pq - h_p\n",
    "\n",
    "# Calcolo dell'entropia di q\n",
    "h_q = -np.sum(q * np.log(q))\n",
    "\n",
    "# Calcolo dell'entropia incrociata da q a p\n",
    "h_qp = -np.sum(q * np.log(p))\n",
    "\n",
    "# Calcolo della divergenza KL da q a p\n",
    "kl_qp = h_qp - h_q\n",
    "\n",
    "print(f\"Entropia di p: {h_p}\")\n",
    "print(f\"Entropia incrociata da p a q: {h_pq}\")\n",
    "print(f\"Divergenza KL da p a q: {kl_pq}\")\n",
    "\n",
    "print(f\"\\nEntropia di q: {h_q}\")\n",
    "print(f\"Entropia incrociata da q a p: {h_qp}\")\n",
    "print(f\"Divergenza KL da q a p: {kl_qp}\")"
   ]
  },
  {
   "cell_type": "markdown",
   "metadata": {},
   "source": [
    "- **Entropia di $p$ ($h(p)$)**: Misura l'incertezza o la variabilità all'interno della distribuzione vera $p$. Nel nostro esempio, l'entropia di $p$ è 0.056.\n",
    "- **Entropia Incrociata da $p$ a $q$ ($h(p, q)$)**: Misura l'incertezza quando si usa $q$ per rappresentare $p$. Nel nostro esempio, è 1.195.\n",
    "\n",
    "La Divergenza $\\mathbb{KL}$ da $p$ a $q$ si calcola come la differenza tra l'entropia incrociata e l'entropia di $p$, che nel nostro caso è 1.139. Questo valore indica la perdita di informazione quando si utilizza $q$ per approssimare $p$.\n",
    "\n",
    "Quando invertiamo le distribuzioni e calcoliamo la Divergenza $\\mathbb{KL}$ da $q$ a $p$, otteniamo un risultato diverso. L'entropia di $q$ è 0.611 e l'entropia incrociata da $q$ a $p$ è 3.227. La Divergenza $\\mathbb{KL}$ risultante da $q$ a $p$ è 2.616, molto più grande rispetto a quella da $p$ a $q$.\n",
    "\n",
    "Questi risultati dimostrano chiaramente che la Divergenza $\\mathbb{KL}$ è asimmetrica. La quantità di informazione che si perde nel sostituire $p$ con $q$ non è la stessa che si perde sostituendo $q$ con $p$. Questa asimmetria è una caratteristica cruciale della Divergenza $\\mathbb{KL}$ e sottolinea l'importanza di considerare attentamente quale distribuzione si sta utilizzando come approssimazione dell'altra."
   ]
  },
  {
   "cell_type": "markdown",
   "metadata": {},
   "source": [
    "## Confronto di Modelli Utilizzando la Divergenza di Kullback-Leibler\n",
    "\n",
    "La Divergenza $\\mathbb{KL}$ è uno strumento essenziale per confrontare diversi modelli statistici. Questo metodo misura la differenza tra la distribuzione di probabilità teorizzata da un modello, che chiamiamo $p_{\\mathcal{M}}$, e la distribuzione di probabilità che ha effettivamente generato i dati, denominata $p_t$.\n",
    "\n",
    "### Distribuzione Predittiva Posteriori\n",
    "\n",
    "Abbiamo introdotto il concetto di distribuzione predittiva posteriori, definita come:\n",
    "\n",
    "$$\n",
    "p(\\tilde{y} \\mid y) = \\int_\\Theta p(\\tilde{y} \\mid \\theta) p(\\theta \\mid y) \\, \\mathrm{d}\\theta .\n",
    "$$\n",
    "\n",
    "Questa formula rappresenta la previsione del tipo di dati che il modello $\\mathcal{M}$ potrebbe generare. Questa previsione è basata sulle nostre conoscenze precedenti, espresse come $p(\\theta)$, e sui dati osservati, $y$.\n",
    "\n",
    "### Misurare la Somiglianza tra Distribuzioni\n",
    "\n",
    "L'obiettivo è valutare quanto la distribuzione $q_{\\mathcal{M}} = p(\\tilde{y} \\mid y)$ si avvicini alla distribuzione del modello generatore reale $p_t(\\tilde{y})$. In altre parole, cerchiamo di quantificare la similitudine tra i dati prodotti dal modello teorico $q_{\\mathcal{M}}$ e quelli generati dal modello reale $p_t$. Questo viene fatto attraverso la Divergenza di Kullback-Leibler:\n",
    "\n",
    "$$\n",
    "\\mathbb{KL}(p_t \\mid\\mid q_{\\mathcal{M}}).\n",
    "$$\n",
    "\n",
    "### Confrontare Più Modelli\n",
    "\n",
    "Supponiamo di avere una serie di $k$ modelli distinti $\\{q_{\\mathcal{M}_1}, q_{\\mathcal{M}_2}, \\ldots, q_{\\mathcal{M}_k}\\}$. Se conoscessimo $p_t$, potremmo calcolare la Divergenza KL per ogni modello in questo modo:\n",
    "\n",
    "$$\n",
    "\\begin{align*}\n",
    "\\mathbb{KL} (p_t \\mid\\mid q_{\\mathcal{M}_1}) &= \\mathbb{E} (\\log p_t) - \\mathbb{E} (\\log q_{\\mathcal{M}_1}), \\\\\n",
    "\\mathbb{KL} (p_t \\mid\\mid q_{\\mathcal{M}_2}) &= \\mathbb{E} (\\log p_t) - \\mathbb{E} (\\log q_{\\mathcal{M}_2}), \\\\\n",
    "&\\vdots \\\\\n",
    "\\mathbb{KL} (p_t \\mid\\mid q_{\\mathcal{M}_k}) &= \\mathbb{E} (\\log p_t) - \\mathbb{E} (\\log q_{\\mathcal{M}_k}).\n",
    "\\end{align*}\n",
    "$$ (eq-kl-mod-comp)\n",
    "\n",
    "In pratica, però, $p_t$ è sconosciuta. Fortunatamente, $p_t$ rimane costante in tutte le equazioni, permettendoci di confrontare i modelli focalizzandoci sul secondo termine della Divergenza KL, che è indipendente da $p_t$. Per un modello generico $\\mathcal{M}$, questo termine è:\n",
    "\n",
    "$$\n",
    "\\mathbb{E} \\log p_{\\mathcal{M}}(y) = \\int_{-\\infty}^{+\\infty} p_t(y) \\log p_{\\mathcal{M}}(y) \\, \\mathrm{d}y .\n",
    "$$ (eq-kl-div-cont-t2)\n",
    "\n",
    "In questo modo, possiamo costruire un metodo per confrontare i modelli senza dover conoscere il modello generatore effettivo dei dati.\n",
    "\n",
    "In conclusione, l'eq. {eq}`eq-kl-div-cont-t2` calcola la densità logaritmica media della distribuzione $p_{\\mathcal{M}}(y)$ basata sulla distribuzione reale $p_t(y)$. Ciò indica quanto accuratamente il modello $\\mathcal{M}$ rappresenta i dati reali generati da $p_t$."
   ]
  },
  {
   "cell_type": "markdown",
   "metadata": {},
   "source": [
    "## La Densità Logaritmica Predittiva Attesa \n",
    "\n",
    "La *Densità Logaritmica Predittiva Attesa* (*Expected Log Predictive Density*, ELPD) è una misura fondamentale per valutare la capacità di un modello di fare previsioni accurate. L'ELPD si concentra sulle previsioni future piuttosto che sull'adattamento ai dati già osservati. Riformuliamo l'eq. {eq}`eq-kl-div-cont-t2` per esprimere l'ELPD:\n",
    "\n",
    "$$\n",
    "\\begin{equation}\n",
    "elpd = \\int_{\\tilde{y}} p_{t}(\\tilde{y}) \\log p(\\tilde{y} \\mid y) \\, \\mathrm{d}\\tilde{y} .\n",
    "\\end{equation}\n",
    "$$ (eq-elpd)\n",
    "\n",
    "Questa equazione ci aiuta a capire tre aspetti fondamentali:\n",
    "\n",
    "1. **Focalizzazione sui Dati Futuri**: L'ELPD utilizza $\\tilde{y}$ per rappresentare i dati futuri, potenzialmente osservabili. Questo è diverso dall'equazione precedente, dove $y$ rappresentava i dati già osservati.\n",
    "\n",
    "2. **Uso della Distribuzione Predittiva Posteriori**: Qui, $p(\\tilde{y} \\mid y)$ è la distribuzione predittiva posteriori, che stima le previsioni future del modello basandosi sulle osservazioni passate $y$. Questo si differenzia dall'eq. {eq}`eq-kl-div-cont-t2`, che considerava il modello probabilistico basato sui dati osservati.\n",
    "\n",
    "3. **Rilevanza di $p_t$**: In entrambe le equazioni, $p_t$ è la distribuzione \"vera\" dei dati. Nell'equazione della divergenza $\\mathbb{KL}$, $p_t$ serve a valutare l'adattamento del modello ai dati osservati; nell'ELPD, invece, pesa la qualità delle previsioni future del modello.\n",
    "\n",
    "In conclusione, mentre la formula della divergenza $\\mathbb{KL}$ misura l'adattamento del modello ai dati attuali, l'ELPD valuta quanto bene il modello può prevedere nuovi dati. Entrambe si collegano al concetto di divergenza $\\mathbb{KL}$, ma in contesti diversi: la prima per l'adattamento ai dati, la seconda per la capacità predittiva.\n",
    "\n",
    "### Sfide nella Stima dell'ELPD\n",
    "\n",
    "Una sfida principale nella stima dell'ELPD è che la vera distribuzione di probabilità dei dati, $p_t$, è in genere sconosciuta. Questo rende impossibile calcolare l'ELPD esattamente. Tuttavia, possiamo avvicinarci a una stima affidabile utilizzando tecniche specifiche.\n",
    "\n",
    "Anche se non possiamo formulare analiticamente in modo preciso la distribuzione predittiva posteriori $p(\\tilde{y} \\mid y)$, possiamo approssimarla con metodi di simulazione. Tuttavia, l'ELPD include il termine $p_t(\\tilde{y})$, rappresentante la distribuzione dei futuri dati potenziali secondo il modello \"vero\". Poiché questa distribuzione è tipicamente ignota, l'ELPD può essere solo stimata, non calcolata direttamente. Il prossimo argomento di discussione sarà come stimare efficacemente l'ELPD basandoci su un campione di osservazioni."
   ]
  },
  {
   "cell_type": "markdown",
   "metadata": {},
   "source": [
    "### Un Esempio Empirico\n",
    "\n",
    "Per comprenderne meglio il funzionamento dell'ELPD, esaminiamo un esempio tratto dal testo [Bayesian Data Analysis for Cognitive Science](https://vasishth.github.io/bayescogsci/book/expected-log-predictive-density-of-a-model.html), in cui questa quantità viene calcolata sia in forma esatta che approssimata.\n",
    "\n",
    "Supponiamo di avere un campione di $n$ osservazioni e di conoscere il vero processo generativo dei dati, rappresentato dalla distribuzione $p_t(y) = Beta(1, 3).$ Da questo campione, generato in modo artificiale, ad esempio tramite"
   ]
  },
  {
   "cell_type": "code",
   "execution_count": 13,
   "metadata": {},
   "outputs": [
    {
     "name": "stdout",
     "output_type": "stream",
     "text": [
      "[0.21810354 0.05532253 0.13545025 0.42102514 0.14728608 0.11052926]\n"
     ]
    }
   ],
   "source": [
    "np.random.seed(75)\n",
    "\n",
    "# Number of samples\n",
    "n = 10000\n",
    "\n",
    "# Draw samples from a Beta distribution\n",
    "y_data = np.random.beta(1, 3, n)\n",
    "print(y_data[:6])"
   ]
  },
  {
   "cell_type": "markdown",
   "metadata": {},
   "source": [
    "abbiamo adattato un modello bayesiano $\\mathcal{M}$ e ottenuto la distribuzione a posteriori per i parametri del modello descritta da $p(y^{rep} \\mid y) \\sim Beta(2, 2).$\n",
    "\n",
    "L'ELPD si calcola con l'integrazione:\n",
    "\n",
    "$$\n",
    "\\text{ELPD} = \\int_{y^{rep}}p_{t}(y^{rep})\\log p(y^{rep} \\mid y) \\,\\operatorname {d}\\!y^{rep}.\n",
    "$$\n",
    "\n",
    "Svolgendo i calcoli otteniamo:"
   ]
  },
  {
   "cell_type": "code",
   "execution_count": 14,
   "metadata": {},
   "outputs": [
    {
     "name": "stdout",
     "output_type": "stream",
     "text": [
      "-0.37490719743844486\n"
     ]
    }
   ],
   "source": [
    "# True distribution\n",
    "def p_t(y):\n",
    "    return beta.pdf(y, 1, 3)\n",
    "\n",
    "# Predictive distribution\n",
    "def p(y):\n",
    "    return beta.pdf(y, 2, 2)\n",
    "\n",
    "# Integration\n",
    "def integrand(y):\n",
    "    return p_t(y) * np.log(p(y))\n",
    "\n",
    "# Perform numerical integration\n",
    "result, error = quad(integrand, 0, 1)\n",
    "\n",
    "print(result)"
   ]
  },
  {
   "cell_type": "markdown",
   "metadata": {},
   "source": [
    "In pratica, non conoscendo $p_t(y)$, approssimiamo l'ELPD usando l'eq. {eq}`eq-elpd`:\n",
    "\n",
    "$$\n",
    "\\frac{1}{n} \\sum_{i=1}^n \\log p(y_i \\mid y).\n",
    "$$ (eq-empirical-elpd)\n",
    "\n",
    "Questo metodo è un'approssimazione Monte Carlo basata sui dati osservati, usando $\\{y_1, y_2, \\ldots, y_n\\}$ come rappresentazione empirica di possibili futuri dati.\n",
    "\n",
    "Esaminiamo in dettaglio le componenti dell'eq. {eq}`eq-empirical-elpd`:\n",
    "\n",
    "1. **Densità Logaritmica Predittiva $ \\log p(y_i \\mid y) $ per un dato $ y_i $**: Questa misura valuta quanto efficacemente il modello predice un singolo dato $y_i$, data la distribuzione osservata $y$. Valori più alti indicano una migliore performance predittiva.\n",
    "2. **Media della Densità Logaritmica Predittiva**: La media di questi valori logaritmici predittivi fornisce una stima complessiva dell'efficacia predittiva del modello sull'intero set di dati.\n",
    "\n",
    "Nel caso dell'esempio in discussione, usando l'eq. {eq}`eq-empirical-elpd` otteniamo un valore approssimato a quello trovato in precedenza:"
   ]
  },
  {
   "cell_type": "code",
   "execution_count": 16,
   "metadata": {},
   "outputs": [
    {
     "data": {
      "text/plain": [
       "-0.3721938430299501"
      ]
     },
     "execution_count": 16,
     "metadata": {},
     "output_type": "execute_result"
    }
   ],
   "source": [
    "1 / n * np.sum(np.log(p(y_data)))"
   ]
  },
  {
   "cell_type": "markdown",
   "metadata": {},
   "source": [
    "L'ELPD funge da misura complessiva dell'efficacia di un modello nel prevedere dati non ancora osservati. Un valore elevato dell'ELPD suggerisce una maggiore efficacia del modello in termini di previsioni accurate. Tuttavia, è essenziale riconoscere che l'ELPD è una stima basata sui dati attualmente disponibili; la sua affidabilità può essere compromessa se i dati futuri si discostano significativamente da quelli su cui si basa la stima."
   ]
  },
  {
   "cell_type": "markdown",
   "metadata": {},
   "source": [
    "### Un Secondo Esempio Empirico\n",
    "\n",
    "Generiamo un set di dati artificiali seguendo una distribuzione normale con una media (`loc`) di 5 e una deviazione standard (`scale`) di 2. Scegliamo una dimensione (`size`) del campione di 100."
   ]
  },
  {
   "cell_type": "code",
   "execution_count": 85,
   "metadata": {},
   "outputs": [
    {
     "name": "stdout",
     "output_type": "stream",
     "text": [
      "[ 5.99342831  4.7234714   6.29537708  8.04605971  4.53169325  4.53172609\n",
      "  8.15842563  6.53486946  4.06105123  6.08512009  4.07316461  4.06854049\n",
      "  5.48392454  1.17343951  1.55016433  3.87542494  2.97433776  5.62849467\n",
      "  3.18395185  2.1753926   7.93129754  4.5484474   5.13505641  2.15050363\n",
      "  3.91123455  5.22184518  2.69801285  5.75139604  3.79872262  4.4166125\n",
      "  3.79658678  8.70455637  4.97300555  2.88457814  6.64508982  2.5583127\n",
      "  5.41772719  1.08065975  2.3436279   5.39372247  6.47693316  5.34273656\n",
      "  4.76870344  4.39779261  2.04295602  3.56031158  4.07872246  7.11424445\n",
      "  5.68723658  1.47391969  5.64816794  4.22983544  3.646156    6.22335258\n",
      "  7.06199904  6.86256024  3.32156495  4.38157525  5.66252686  6.95109025\n",
      "  4.04165152  4.62868205  2.78733005  2.60758675  6.62505164  7.71248006\n",
      "  4.85597976  7.0070658   5.72327205  3.70976049  5.72279121  8.07607313\n",
      "  4.92834792  8.12928731 -0.23949021  6.64380501  5.17409414  4.4019853\n",
      "  5.18352155  1.02486217  4.56065622  5.71422514  7.95578809  3.96345956\n",
      "  3.38301279  3.99648591  6.83080424  5.65750222  3.94047959  6.02653487\n",
      "  5.1941551   6.93728998  3.59589381  4.34467571  4.21578369  2.0729701\n",
      "  5.59224055  5.52211054  5.01022691  4.53082573]\n"
     ]
    }
   ],
   "source": [
    "SEED = 42  # Scegli un valore per il seed\n",
    "np.random.seed(SEED)\n",
    "\n",
    "data = np.random.normal(loc=5, scale=2, size=100)\n",
    "print(data)"
   ]
  },
  {
   "cell_type": "markdown",
   "metadata": {},
   "source": [
    "Utilizziamo PyMC per adattare un modello normale ai dati. Stimiamo la media (`mu`) e la deviazione standard (`sigma`) del modello attraverso il campionamento."
   ]
  },
  {
   "cell_type": "code",
   "execution_count": 86,
   "metadata": {
    "tags": [
     "hide-output"
    ]
   },
   "outputs": [
    {
     "name": "stderr",
     "output_type": "stream",
     "text": [
      "Compiling...\n"
     ]
    },
    {
     "name": "stderr",
     "output_type": "stream",
     "text": [
      "Compilation time = 0:00:00.354432\n",
      "Sampling...\n",
      "Compiling.. :   0%|          | 0/2000 [00:00<?, ?it/s]\n",
      "\u001b[A\n",
      "\u001b[A\n",
      "\n",
      "\u001b[A\u001b[A\n",
      "\n",
      "\u001b[A\u001b[A\n",
      "Running chain 0:   0%|          | 0/2000 [00:01<?, ?it/s]\n",
      "\n",
      "Running chain 0: 100%|██████████| 2000/2000 [00:01<00:00, 1513.56it/s]\n",
      "Running chain 1: 100%|██████████| 2000/2000 [00:01<00:00, 1514.35it/s]\n",
      "Running chain 2: 100%|██████████| 2000/2000 [00:01<00:00, 1515.66it/s]\n",
      "Running chain 3: 100%|██████████| 2000/2000 [00:01<00:00, 1516.75it/s]\n",
      "Sampling time = 0:00:01.407999\n",
      "Transforming variables...\n",
      "Transformation time = 0:00:00.042917\n",
      "Sampling: [y]\n"
     ]
    },
    {
     "data": {
      "text/html": [
       "\n",
       "<style>\n",
       "    /* Turns off some styling */\n",
       "    progress {\n",
       "        /* gets rid of default border in Firefox and Opera. */\n",
       "        border: none;\n",
       "        /* Needs to be in here for Safari polyfill so background images work as expected. */\n",
       "        background-size: auto;\n",
       "    }\n",
       "    progress:not([value]), progress:not([value])::-webkit-progress-bar {\n",
       "        background: repeating-linear-gradient(45deg, #7e7e7e, #7e7e7e 10px, #5c5c5c 10px, #5c5c5c 20px);\n",
       "    }\n",
       "    .progress-bar-interrupted, .progress-bar-interrupted::-webkit-progress-bar {\n",
       "        background: #F44336;\n",
       "    }\n",
       "</style>\n"
      ],
      "text/plain": [
       "<IPython.core.display.HTML object>"
      ]
     },
     "metadata": {},
     "output_type": "display_data"
    },
    {
     "data": {
      "text/html": [
       "\n",
       "    <div>\n",
       "      <progress value='4000' class='' max='4000' style='width:300px; height:20px; vertical-align: middle;'></progress>\n",
       "      100.00% [4000/4000 00:00&lt;00:00]\n",
       "    </div>\n",
       "    "
      ],
      "text/plain": [
       "<IPython.core.display.HTML object>"
      ]
     },
     "metadata": {},
     "output_type": "display_data"
    }
   ],
   "source": [
    "with pm.Model() as model:\n",
    "    mu = pm.Normal(\"mu\", mu=0, sigma=10)\n",
    "    sigma = pm.HalfNormal(\"sigma\", sigma=10)\n",
    "    y = pm.Normal(\"y\", mu=mu, sigma=sigma, observed=data)\n",
    "    # Sampling from the posterior\n",
    "    trace = pm.sampling_jax.sample_numpyro_nuts(1000)\n",
    "    # Generating posterior predictive samples\n",
    "    ppc = pm.sample_posterior_predictive(\n",
    "        trace, var_names=[\"y\"]\n",
    "    )"
   ]
  },
  {
   "cell_type": "markdown",
   "metadata": {},
   "source": [
    "#### Una Singola Osservazione\n",
    "\n",
    "Generiamo la distribuzione predittiva a posteriori per la variabile `y` e visualizziamo questa distribuzione per la prima osservazione (`y_i`) del campione."
   ]
  },
  {
   "cell_type": "code",
   "execution_count": 87,
   "metadata": {},
   "outputs": [
    {
     "data": {
      "image/png": "[encoded data removed]",
      "text/plain": [
       "<Figure size 720x480 with 1 Axes>"
      ]
     },
     "metadata": {
      "image/png": {
       "height": 491,
       "width": 731
      }
     },
     "output_type": "display_data"
    }
   ],
   "source": [
    "post_pred = ppc.posterior_predictive\n",
    "y_i_post_pred = post_pred[\"y\"].values[:, :, 0]\n",
    "\n",
    "plt.hist(y_i_post_pred.flatten(), bins=30, alpha=0.5)\n",
    "plt.axvline(data[0], color=\"r\")\n",
    "plt.title(\"Posterior Predictive Check for the First Observation\")\n",
    "plt.xlabel(\"Value\")\n",
    "plt.ylabel(\"Frequency\")\n",
    "plt.legend([\"Observed Data\", \"Posterior Predictive\"])\n",
    "plt.show()"
   ]
  },
  {
   "cell_type": "markdown",
   "metadata": {},
   "source": [
    "Per la prima osservazione, calcoliamo il valore della funzione di densità di probabilità (PDF) utilizzando ogni coppia di parametri `mu` e `sigma` dalla distribuzione posteriore. Convertiamo poi questi valori della PDF in logaritmi e calcoliamo la media di questi logaritmi. Questo fornisce una stima empirica della ELPD per la prima osservazione.\n",
    "\n",
    "Selezione della prima osservazione:"
   ]
  },
  {
   "cell_type": "code",
   "execution_count": 88,
   "metadata": {},
   "outputs": [
    {
     "data": {
      "text/plain": [
       "5.993428306022466"
      ]
     },
     "execution_count": 88,
     "metadata": {},
     "output_type": "execute_result"
    }
   ],
   "source": [
    "y_i = data[0]\n",
    "y_i"
   ]
  },
  {
   "cell_type": "markdown",
   "metadata": {},
   "source": [
    "Estrazione dei parametri dal campione posteriore:"
   ]
  },
  {
   "cell_type": "code",
   "execution_count": 89,
   "metadata": {},
   "outputs": [
    {
     "data": {
      "text/plain": [
       "array([4.79289413, 4.81249101, 4.70262076, 4.68269681, 5.05300161,\n",
       "       4.5963555 , 4.56669298, 5.10101077, 4.83274092, 4.62293247])"
      ]
     },
     "execution_count": 89,
     "metadata": {},
     "output_type": "execute_result"
    }
   ],
   "source": [
    "mu_samples = trace.posterior[\"mu\"].values.flatten()\n",
    "mu_samples[0:10]"
   ]
  },
  {
   "cell_type": "code",
   "execution_count": 90,
   "metadata": {},
   "outputs": [
    {
     "data": {
      "text/plain": [
       "array([2.03452238, 1.58033655, 1.97327429, 1.68947152, 2.00762103,\n",
       "       1.66937237, 1.6087742 , 1.8807339 , 1.74777769, 1.78643193])"
      ]
     },
     "execution_count": 90,
     "metadata": {},
     "output_type": "execute_result"
    }
   ],
   "source": [
    "sigma_samples = trace.posterior[\"sigma\"].values.flatten()\n",
    "sigma_samples[0:10]"
   ]
  },
  {
   "cell_type": "markdown",
   "metadata": {},
   "source": [
    "Calcolo della densità di probabilità per ogni coppia di parametri:"
   ]
  },
  {
   "cell_type": "code",
   "execution_count": 91,
   "metadata": {},
   "outputs": [
    {
     "data": {
      "text/plain": [
       "[0.16475467035365546,\n",
       " 0.1909426394443699,\n",
       " 0.16323153492595321,\n",
       " 0.17476636477989982,\n",
       " 0.17806590128235975]"
      ]
     },
     "execution_count": 91,
     "metadata": {},
     "output_type": "execute_result"
    }
   ],
   "source": [
    "pdf_values = [\n",
    "    stats.norm.pdf(y_i, mu, sigma) for mu, sigma in zip(mu_samples, sigma_samples)\n",
    "]\n",
    "\n",
    "pdf_values[0:5]"
   ]
  },
  {
   "cell_type": "markdown",
   "metadata": {},
   "source": [
    "Calcolo del logaritmo delle densità:"
   ]
  },
  {
   "cell_type": "code",
   "execution_count": 92,
   "metadata": {},
   "outputs": [
    {
     "data": {
      "text/plain": [
       "array([-1.80329776, -1.65578221, -1.81258563, -1.74430526, -1.72560157])"
      ]
     },
     "execution_count": 92,
     "metadata": {},
     "output_type": "execute_result"
    }
   ],
   "source": [
    "log_pdf_values = np.log(pdf_values)\n",
    "log_pdf_values[0:5]"
   ]
  },
  {
   "cell_type": "markdown",
   "metadata": {},
   "source": [
    "Calcolo della media dei valori logaritmici:"
   ]
  },
  {
   "cell_type": "code",
   "execution_count": 93,
   "metadata": {},
   "outputs": [
    {
     "data": {
      "text/plain": [
       "-1.7478000243511456"
      ]
     },
     "execution_count": 93,
     "metadata": {},
     "output_type": "execute_result"
    }
   ],
   "source": [
    "mean_log_density = np.mean(log_pdf_values)\n",
    "mean_log_density"
   ]
  },
  {
   "cell_type": "markdown",
   "metadata": {},
   "source": [
    "Questo calcolo ci fornisce una stima empirica della media della densità logaritmica predittiva (ELPD) per la prima osservazione del campione."
   ]
  },
  {
   "cell_type": "markdown",
   "metadata": {},
   "source": [
    "#### Estensione a Tutte le Osservazioni\n",
    "\n",
    "Ripetiamo il processo per ogni osservazione nel set di dati. Calcoliamo la densità logaritmica predittiva per ogni osservazione utilizzando lo stesso metodo usato per la prima osservazione. Infine, calcoliamo la media di tutte queste densità logaritmiche predittive. Questo valore rappresenta la stima della ELPD per l'intero set di dati."
   ]
  },
  {
   "cell_type": "code",
   "execution_count": 94,
   "metadata": {},
   "outputs": [],
   "source": [
    "# Calcolo della densità logaritmica predittiva per ogni osservazione\n",
    "all_log_densities = []\n",
    "for y_i in data:\n",
    "    pdf_values = [\n",
    "        stats.norm.pdf(y_i, mu, sigma) for mu, sigma in zip(mu_samples, sigma_samples)\n",
    "    ]\n",
    "    log_pdf_values = np.log(pdf_values)\n",
    "    mean_log_density = np.mean(log_pdf_values)\n",
    "    all_log_densities.append(mean_log_density)"
   ]
  },
  {
   "cell_type": "code",
   "execution_count": 95,
   "metadata": {},
   "outputs": [
    {
     "data": {
      "text/plain": [
       "-2.020915797882413"
      ]
     },
     "execution_count": 95,
     "metadata": {},
     "output_type": "execute_result"
    }
   ],
   "source": [
    "# Calcolo della media su tutte le osservazioni\n",
    "overall_mean_log_density = np.mean(all_log_densities)\n",
    "overall_mean_log_density"
   ]
  },
  {
   "cell_type": "markdown",
   "metadata": {},
   "source": [
    "## Commenti e Considerazioni Finali \n",
    "\n",
    "Nel corso di questo capitolo, abbiamo esplorato in profondità il concetto della Densità Logaritmica Predittiva Prevista (ELPD), una metrica fondamentale nell'ambito dell'analisi statistica bayesiana. L'ELPD si distingue non solo come strumento per valutare le prestazioni di un modello statistico, ma assume un ruolo cruciale nel confronto tra diversi modelli.\n",
    "\n",
    "L'adozione dell'ELPD come criterio di confronto offre una prospettiva oggettiva e basata sui dati per determinare quale modello sia più aderente e rappresentativo rispetto alle informazioni a nostra disposizione. In un panorama scientifico e applicativo di crescente complessità, dove le alternative di modellazione si moltiplicano e divergono, l'ELPD emerge come un faro guida per orientare la scelta verso il modello più appropriato. Questa metrica si rivela particolarmente utile sia nel confronto tra modelli di diversa complessità, sia nella selezione tra vari approcci modellistici, fornendo una valutazione quantitativa e imparziale della loro capacità predittiva.\n",
    "\n",
    "In sintesi, l'ELPD rappresenta uno strumento imprescindibile nell'arsenale dell'analista dei dati moderno. Il suo impiego in fase di scelta e valutazione dei modelli contribuisce in modo significativo a chiarire e guidare le decisioni analitiche, portando a risultati più robusti e modelli statistici maggiormente efficaci. In definitiva, l'ELPD non solo facilita la comprensione delle performance dei modelli, ma promuove anche una maggiore fiducia nelle previsioni che essi generano, un aspetto fondamentale in qualsiasi campo di applicazione statistica.\n",
    "\n",
    "## Watermark"
   ]
  },
  {
   "cell_type": "code",
   "execution_count": 56,
   "metadata": {},
   "outputs": [
    {
     "name": "stdout",
     "output_type": "stream",
     "text": [
      "Last updated: Thu Jan 25 2024\n",
      "\n",
      "Python implementation: CPython\n",
      "Python version       : 3.11.7\n",
      "IPython version      : 8.19.0\n",
      "\n",
      "scipy      : 1.11.4\n",
      "numpy      : 1.26.2\n",
      "pymc       : 5.10.3\n",
      "pandas     : 2.1.4\n",
      "seaborn    : 0.13.0\n",
      "matplotlib : 3.8.2\n",
      "statsmodels: 0.14.1\n",
      "arviz      : 0.17.0\n",
      "\n",
      "Watermark: 2.4.3\n",
      "\n"
     ]
    }
   ],
   "source": [
    "%load_ext watermark\n",
    "%watermark -n -u -v -iv -w"
   ]
  }
 ],
 "metadata": {
  "kernelspec": {
   "display_name": "pymc5_env",
   "language": "python",
   "name": "python3"
  },
  "language_info": {
   "codemirror_mode": {
    "name": "ipython",
    "version": 3
   },
   "file_extension": ".py",
   "mimetype": "text/x-python",
   "name": "python",
   "nbconvert_exporter": "python",
   "pygments_lexer": "ipython3",
   "version": "3.11.7"
  },
  "orig_nbformat": 4
 },
 "nbformat": 4,
 "nbformat_minor": 2
}
