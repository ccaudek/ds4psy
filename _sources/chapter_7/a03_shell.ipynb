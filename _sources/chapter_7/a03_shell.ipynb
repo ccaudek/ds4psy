{
 "cells": [
  {
   "attachments": {},
   "cell_type": "markdown",
   "metadata": {},
   "source": [
    "(appendix-shell)=\n",
    "# La Shell"
   ]
  },
  {
   "cell_type": "markdown",
   "metadata": {},
   "source": [
    "## Che cos'è una Shell?\n",
    "\n",
    "Una shell è un programma che riceve comandi da file o dall'utente tramite tastiera e li passa al sistema operativo per l'esecuzione. Può essere accessibile tramite un terminale o un emulatore di terminale.\n",
    "\n",
    "### Breve Storia della Shell\n",
    "\n",
    "- **1971**: Ken Thompson di Bell Labs sviluppa la shell per UNIX.\n",
    "- **1977**: Stephen Bourne introduce la Bourne shell (sh).\n",
    "- **Dopo il 1977**: Viene sviluppata la C shell (csh) e tcsh.\n",
    "- **Bash**: Sviluppata da Brian Fox come sostituto migliorato della Bourne shell.\n",
    "- **1990**: Paul Falsted sviluppa Zsh, che diventa la shell predefinita per macOS dal 2019.\n",
    "\n",
    "### Windows vs macOS/Linux\n",
    "\n",
    "- **Windows 10**: Possibilità di usare Bash attivando il Windows Subsystem for Linux. In genere, si usa PowerShell.\n",
    "- **macOS/Linux**: Zsh è la shell predefinita.\n",
    "\n",
    "### Comandi di Base\n",
    "\n",
    "- `pwd`: Mostra il percorso della directory corrente.\n",
    "- `ls`: Elenca file e cartelle nella directory corrente.\n",
    "- `cd`: Cambia directory. Senza argomenti, ti porta alla directory home.\n",
    "- `mkdir`: Crea una nuova directory.\n",
    "- `rmdir`: Rimuove una directory vuota.\n",
    "- **Importante**: Evitare spazi nei nomi di file e cartelle.\n",
    "\n",
    "### Gestione File\n",
    "\n",
    "- `mv`: Rinomina o sposta file (usa `\\` o `''` per i nomi di file con spazi).\n",
    "- `cp`: Copia file o cartelle (usa `-r` per le cartelle).\n",
    "- `rm`: Rimuove file o cartelle (usa `-i` per confermare prima di eliminare).\n",
    "\n",
    "### Visualizzazione e Manipolazione Contenuti dei File\n",
    "\n",
    "- `less`/`more`: Visualizza il contenuto dei file con possibilità di navigazione.\n",
    "- `cat`: Mostra l'intero contenuto di un file.\n",
    "- `head`: Mostra le prime righe di un file.\n",
    "- `tail`: Mostra le ultime righe di un file.\n",
    "\n",
    "### Suggerimenti\n",
    "\n",
    "- **Navigazione**: Imparate i percorsi relativi per spostarvi facilmente tra le directory.\n",
    "\n",
    "### Conclusione\n",
    "\n",
    "Con la pratica, la riga di comando diventa uno strumento molto efficiente. Questa guida ti fornisce le basi per iniziare a esplorare e gestire i file dal terminale, offrendo una base di partenza per ulteriori apprendimenti.\n",
    "\n",
    "Questo materiale dovrebbe integrarsi bene con la data science, permettendovi di manipolare e gestire i dati in modo più efficiente. La familiarità con la shell è fondamentale nella data science, specialmente quando si lavora con grandi set di dati o si utilizzano risorse di calcolo remote."
   ]
  }
 ],
 "metadata": {
  "kernelspec": {
   "display_name": "bambi_env",
   "language": "python",
   "name": "python3"
  },
  "language_info": {
   "codemirror_mode": {
    "name": "ipython",
    "version": 3
   },
   "file_extension": ".py",
   "mimetype": "text/x-python",
   "name": "python",
   "nbconvert_exporter": "python",
   "pygments_lexer": "ipython3",
   "version": "3.8.15 (default, Nov 24 2022, 09:04:07) \n[Clang 14.0.6 ]"
  },
  "orig_nbformat": 4,
  "vscode": {
   "interpreter": {
    "hash": "e957f8d2d9272acec629608affb587206e5d92bb0d8d335f71da72c549770d8b"
   }
  }
 },
 "nbformat": 4,
 "nbformat_minor": 2
}
