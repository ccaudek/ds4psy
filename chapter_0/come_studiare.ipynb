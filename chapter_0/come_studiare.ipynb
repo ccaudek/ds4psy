{
 "cells": [
  {
   "attachments": {},
   "cell_type": "markdown",
   "metadata": {},
   "source": [
    "# Come studiare\n",
    "\n",
    "## 👩🏻‍💻 Flip teaching\n",
    "\n",
    "Nel corso, adotteremo la metodologia del flip teaching, una pratica che promuove un apprendimento attivo e collaborativo. Tale approccio prevede due fasi distinte: lo studio individuale del materiale didattico e la partecipazione alle lezioni in aula. Prima della lezione, gli studenti saranno chiamati a dedicarsi all'approfondimento dei materiali e alla risoluzione degli esercizi assegnati, mentre durante le lezioni si svolgeranno attività di discussione, approfondimento e consolidamento degli argomenti trattati. L'obiettivo è favorire un apprendimento pratico, in cui gli studenti possano applicare i concetti appresi durante gli esercizi assistiti in aula.\n",
    "\n",
    "Per il corretto funzionamento di questa metodologia, chiedo agli studenti di:\n",
    "\n",
    "- Studiare attentamente il materiale didattico prima di ogni lezione;\n",
    "- Svolgere gli esercizi presenti nella dispensa in preparazione delle lezioni;\n",
    "- Partecipare attivamente alle discussioni in aula;\n",
    "- Avere a disposizione un computer, poiché utilizzeremo Python per le esercitazioni.\n",
    "\n",
    "La fase iniziale dello studio richiede uno sforzo individuale da parte degli studenti, durante la quale dovranno acquisire le conoscenze teoriche relative ai problemi che verranno trattati nell'esame. Al fine di agevolare questo processo, la dispensa fornirà esercizi per ciascun argomento trattato. Questi esercizi includeranno sia esercitazioni teoriche che pratiche, utili per prepararsi alle discussioni in aula e valutare la comprensione dei contenuti trattati.\n",
    "\n",
    "```{admonition} Importante\n",
    "Gli esercizi presenti nella dispensa rappresentano il livello di difficoltà necessario per superare l'esame e consentono agli studenti di valutare se le competenze sviluppate fino a quel punto siano adeguate alle richieste dell'esame.\n",
    "```\n",
    "\n",
    "La seconda fase di studio si concentra sull'applicazione delle conoscenze acquisite attraverso il confronto e gli incontri di gruppo, sia in aula che al di fuori. L'interazione con i compagni favorirà l'apprendimento del linguaggio di programmazione per risolvere i problemi presentati durante l'esame. È tuttavia importante notare che le due fasi di studio non sono completamente separate: l'applicazione delle conoscenze contribuisce alla comprensione critica dei concetti di base.\n",
    "\n",
    "Poiché il programma d'esame è ampio, è fondamentale evitare di concentrare tutto lo studio alla fine del semestre. Per prepararsi adeguatamente all'esame, è necessario seguire attentamente le istruzioni fornite:\n",
    "\n",
    "- Studiare il materiale assegnato prima di ciascuna lezione;\n",
    "- Svolgere gli esercizi warmup assegnati prima di ciascuna lezione;\n",
    "- Chiedere chiarimenti in classe e sul forum;\n",
    "- Utilizzare Python per applicare i concetti appresi;\n",
    "- Confrontarsi con gli altri studenti;\n",
    "- Partecipare in modo attivo alle lezioni.\n",
    "\n",
    "Seguendo queste indicazioni, avrete l'opportunità di affrontare l'esame in modo preparato e competente.\n",
    "\n",
    "## 💬 Forum \n",
    "\n",
    "Una risorsa importante, ma spesso sotto-utilizzata, per prepararsi all'esame è il forum dedicato al corso su Moodle. Gli studenti che hanno dubbi dopo aver studiato il materiale assegnato possono porre domande e chiedere chiarimenti utilizzando questo forum.\n",
    "\n",
    "Partecipare al forum offre vantaggi sia per coloro che chiedono aiuto, sia per coloro che rispondono, poiché spiegare gli argomenti aiuta a consolidare l'apprendimento. È incoraggiato che siano gli stessi studenti a rispondere alle domande degli altri, contribuendo così alla creazione di una comunità di apprendimento collaborativa.\n",
    "\n",
    "Il docente interverrà sul forum, se necessario, per fornire ulteriori chiarimenti, ma l'idea principale è promuovere l'interazione tra gli studenti per la condivisione delle conoscenze.\n",
    "\n",
    "È essenziale mantenere un tono rispettoso e costruttivo nelle discussioni del forum, focalizzandosi sugli argomenti pertinenti al corso e evitando discussioni non inerenti all'insegnamento. In questo modo, il forum diventerà un'importante piattaforma di supporto e approfondimento, arricchendo l'esperienza di apprendimento per tutti gli studenti.\n"
   ]
  }
 ],
 "metadata": {
  "kernelspec": {
   "display_name": "Python 3",
   "language": "python",
   "name": "python3"
  },
  "language_info": {
   "name": "python",
   "version": "3.10.9"
  },
  "orig_nbformat": 4,
  "vscode": {
   "interpreter": {
    "hash": "2fb22ef73048ab480306a3a8971dd9d9ae74918bef9be9e93ea3e01644b9825e"
   }
  }
 },
 "nbformat": 4,
 "nbformat_minor": 2
}
