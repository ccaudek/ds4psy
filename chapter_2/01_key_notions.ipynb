{
 "cells": [
  {
   "attachments": {},
   "cell_type": "markdown",
   "metadata": {},
   "source": [
    "(key-notions-notebook)=\n",
    "# Concetti chiave "
   ]
  },
  {
   "cell_type": "markdown",
   "metadata": {},
   "source": [
    "In questo capitolo, esploreremo i concetti fondamentali dell'analisi dei dati. Inizieremo con la definizione di popolazione e campione, e distingueremo tra variabili indipendenti e dipendenti. Introdurremo la matrice dei dati e considereremo l'effetto delle variabili all'interno dell'analisi statistica. Successivamente, affronteremo i concetti di stima e inferenza. Infine, discuteremo il concetto di modello psicologico, fondamentale per comprendere i processi mentali e comportamentali degli individui."
   ]
  },
  {
   "cell_type": "markdown",
   "metadata": {},
   "source": [
    "## Popolazioni e campioni\n",
    "\n",
    "Per iniziare l'analisi dei dati, è fondamentale individuare le unità che contengono le informazioni rilevanti per il fenomeno di interesse. Questo insieme di unità costituisce la *popolazione* o *universo* ($\\Omega$), che rappresenta l'insieme completo di entità capaci di fornire informazioni per l'indagine statistica in questione. Possiamo rappresentare la popolazione come $\\Omega = \\{\\omega_i\\}_{i=1, \\dots, n}= \\{\\omega_1, \\omega_2, \\dots, \\omega_n\\}$, oppure $\\Omega = \\{\\omega_1, \\omega_2, \\dots \\}$ nel caso di popolazioni *finite* o *infinite*, rispettivamente. Le singole unità $\\omega_i$ dell'insieme $\\Omega$ sono chiamate *unità statistiche*.\n",
    "\n",
    "Nella ricerca psicologica, sia nelle ricerche sperimentali che in quelle osservazionali, l'obiettivo principale è studiare i fenomeni psicologici all'interno di una specifica popolazione. Pertanto, è essenziale definire con chiarezza la popolazione di interesse, ovvero l'insieme di individui ai quali verranno applicati i risultati della ricerca. Tale popolazione può essere reale, come ad esempio tutte le persone sopravvissute per un anno dopo il bombardamento atomico di Hiroshima, o ipotetica, come ad esempio tutte le persone depresse che potrebbero beneficiare di un intervento psicologico. Il ricercatore deve sempre essere in grado di identificare se un individuo specifico appartiene o meno alla popolazione in questione.\n",
    "\n",
    "Una *sotto-popolazione* è un sottoinsieme di individui che possiedono proprietà specifiche ben definite. Ad esempio, potremmo essere interessati alla sotto-popolazione degli uomini di età inferiore ai 30 anni o alla sotto-popolazione dei pazienti depressi che hanno ricevuto uno specifico intervento psicologico. Molte questioni scientifiche cercano di descrivere le differenze tra sotto-popolazioni, come ad esempio il confronto tra un gruppo di pazienti sottoposti a psicoterapia e un gruppo di controllo per valutare l'efficacia di un trattamento.\n",
    "\n",
    "Il *campione* è un sottoinsieme della popolazione composto da un insieme di elementi $\\omega_i$, ognuno dei quali rappresenta un'unità statistica (abbreviata con u.s.) portatrice delle informazioni che verranno rilevate tramite un'operazione di misurazione. Il campione viene utilizzato per ottenere informazioni sulla popolazione di riferimento.\n",
    "\n",
    "A differenza di una sotto-popolazione, che viene definita in base a criteri specifici, il campione viene generalmente selezionato attraverso una procedura casuale. Il *campionamento casuale* consente al ricercatore di trarre conclusioni sulla popolazione e di quantificare l'incertezza dei risultati. Un esempio di campione casuale è quello utilizzato in un sondaggio. Tuttavia, molti studi osservazionali non utilizzano dati campionati casualmente, ma piuttosto un *campione di convenienza*, come ad esempio una coorte di studenti selezionati da un unico istituto.\n",
    "\n",
    "Il ricercatore, indipendentemente dal metodo di acquisizione dei dati, deve sempre considerare la questione della *rappresentatività statistica* del campione, ovvero se il campione scelto è in grado di riflettere in modo accurato e privo di distorsioni le caratteristiche di interesse della popolazione. Selezionare le unità statistiche in modo casuale rappresenta il metodo più semplice per garantire la rappresentatività del campione. Tuttavia, in molti casi, soprattutto in psicologia, i ricercatori possono non avere a disposizione le risorse necessarie, inclusi i fondi, per utilizzare la tecnica del campionamento casuale nelle loro ricerche.\n",
    "\n",
    "## Variabili e costanti\n",
    "\n",
    "Le *variabili* sono elementi fondamentali nell'analisi statistica poiché rappresentano le caratteristiche o proprietà che possono assumere diversi valori, sia numerici che categoriali. In altre parole, esse corrispondono a elementi misurabili o osservabili, a cui le unità statistiche forniscono risposte. Ad esempio, se chiediamo \"Qual è l'età di questo partecipante?\" e la risposta è \"19 anni\", allora \"età\" è la variabile, mentre \"19\" è il suo valore.\n",
    "\n",
    "Per esaminare le probabilità associate alle variabili, consideriamo una variabile $X$ che può assumere diversi valori. La probabilità che la variabile $X$ assuma un valore specifico $x$ viene indicata come $P(X = x)$ o, più semplicemente, $P(x)$. Ad esempio, $P(X = 19)$ rappresenta la probabilità che un individuo scelto casualmente dalla popolazione abbia 19 anni. Inoltre, possiamo esaminare la probabilità *congiunta* di più valori contemporaneamente; ad esempio, la probabilità di $X = x$ e $Y = y$ viene scritta come $P(X = x, Y = y)$ o $P(x, y)$. La nozione di \"variabile\" si contrappone a quella di \"costante\", che è una proprietà invariante per tutte le unità statistiche.\n",
    "\n",
    "Le *modalità* sono le diverse varianti con cui una variabile statistica può manifestarsi. L'*insieme delle modalità* di una variabile statistica è l'insieme $M$ di tutte le possibili espressioni con cui la variabile può presentarsi. Le modalità che osserviamo e che fanno parte del campione sono definite come *dati*.\n",
    "\n",
    "**Esempio 1:** Consideriamo uno studio sull'intelligenza, con la popolazione composta da tutti gli italiani adulti. La variabile di interesse è il punteggio ottenuto nel test standardizzato WAIS-IV, con modalità come 112, 92, 121, e così via. Questa variabile è di tipo quantitativo discreto.\n",
    "\n",
    "**Esempio 2:** Nel caso dello studio sul compito Stroop, la popolazione è costituita da bambini dai 6 agli 8 anni. La variabile considerata è il reciproco dei tempi di reazione in secondi, con modalità come 1.93, 2.35, 1.32, e così via. Questa variabile è di tipo quantitativo continuo.\n",
    "\n",
    "**Esempio 3:** Supponiamo di studiare il disturbo di personalità, con la popolazione costituita dai detenuti nelle carceri italiane. La variabile in esame è l'assessment del disturbo di personalità ottenuto tramite interviste cliniche strutturate, con modalità come i Cluster A, Cluster B, Cluster C descritti dal DSM-V. Questa variabile è di tipo qualitativo.\n",
    "\n",
    "### La matrice dei dati\n",
    "\n",
    "Nell'analisi statistica, le informazioni raccolte sulle variabili vengono organizzate in una matrice dei dati. Questa matrice è una tabella composta da righe e colonne, dove ogni riga rappresenta un'unità statistica e ogni colonna corrisponde a una variabile statistica esaminata.\n",
    "\n",
    "È importante sottolineare che nella matrice dei dati, generalmente, non esiste un ordine progressivo tra le diverse unità statistiche. L'indice assegnato alle unità statistiche riflette solo la riga che esse occupano nella tabella e non ha un significato intrinseco o ordinale. Questa struttura organizzata ci permette di raccogliere, visualizzare e analizzare in modo efficace le informazioni raccolte durante la rilevazione statistica.\n",
    "\n",
    "## Capire i dati\n",
    "\n",
    "A titolo di esempio, consideriamo il dataset contenuto nel file `STAR.csv`. Dopo aver caricato i pacchetti necessari, possiamo leggerlo in Python come segue (si noti che come argomento di `read_csv()` viene specificato il percorso relativo del file rispetto alla cartella in cui è salvato lo script `.ipynb`):"
   ]
  },
  {
   "cell_type": "code",
   "execution_count": 4,
   "metadata": {},
   "outputs": [
    {
     "data": {
      "text/plain": [
       "(1274, 4)"
      ]
     },
     "execution_count": 4,
     "metadata": {},
     "output_type": "execute_result"
    }
   ],
   "source": [
    "import numpy as np\n",
    "import pandas as pd\n",
    "\n",
    "df_star = pd.read_csv(\"../data/STAR.csv\")\n",
    "df_star.shape"
   ]
  },
  {
   "cell_type": "markdown",
   "metadata": {},
   "source": [
    "Dato che il file è troppo grande (1274 righe e 4 colonne), stampiamo sullo schermo le prime 5 righe."
   ]
  },
  {
   "cell_type": "code",
   "execution_count": 3,
   "metadata": {},
   "outputs": [
    {
     "data": {
      "text/html": [
       "<div>\n",
       "<style scoped>\n",
       "    .dataframe tbody tr th:only-of-type {\n",
       "        vertical-align: middle;\n",
       "    }\n",
       "\n",
       "    .dataframe tbody tr th {\n",
       "        vertical-align: top;\n",
       "    }\n",
       "\n",
       "    .dataframe thead th {\n",
       "        text-align: right;\n",
       "    }\n",
       "</style>\n",
       "<table border=\"1\" class=\"dataframe\">\n",
       "  <thead>\n",
       "    <tr style=\"text-align: right;\">\n",
       "      <th></th>\n",
       "      <th>classtype</th>\n",
       "      <th>reading</th>\n",
       "      <th>math</th>\n",
       "      <th>graduated</th>\n",
       "    </tr>\n",
       "  </thead>\n",
       "  <tbody>\n",
       "    <tr>\n",
       "      <th>0</th>\n",
       "      <td>small</td>\n",
       "      <td>578</td>\n",
       "      <td>610</td>\n",
       "      <td>1</td>\n",
       "    </tr>\n",
       "    <tr>\n",
       "      <th>1</th>\n",
       "      <td>regular</td>\n",
       "      <td>612</td>\n",
       "      <td>612</td>\n",
       "      <td>1</td>\n",
       "    </tr>\n",
       "    <tr>\n",
       "      <th>2</th>\n",
       "      <td>regular</td>\n",
       "      <td>583</td>\n",
       "      <td>606</td>\n",
       "      <td>1</td>\n",
       "    </tr>\n",
       "    <tr>\n",
       "      <th>3</th>\n",
       "      <td>small</td>\n",
       "      <td>661</td>\n",
       "      <td>648</td>\n",
       "      <td>1</td>\n",
       "    </tr>\n",
       "    <tr>\n",
       "      <th>4</th>\n",
       "      <td>small</td>\n",
       "      <td>614</td>\n",
       "      <td>636</td>\n",
       "      <td>1</td>\n",
       "    </tr>\n",
       "  </tbody>\n",
       "</table>\n",
       "</div>"
      ],
      "text/plain": [
       "  classtype  reading  math  graduated\n",
       "0     small      578   610          1\n",
       "1   regular      612   612          1\n",
       "2   regular      583   606          1\n",
       "3     small      661   648          1\n",
       "4     small      614   636          1"
      ]
     },
     "execution_count": 3,
     "metadata": {},
     "output_type": "execute_result"
    }
   ],
   "source": [
    "df_star.head()"
   ]
  },
  {
   "cell_type": "markdown",
   "metadata": {},
   "source": [
    "Questi dati reali fanno riferimento al progetto STAR (Student-Teacher Achievement Ratio), un esperimento educativo condotto negli Stati Uniti tra il 1985 e il 1990. L'obiettivo principale di questo progetto era di esaminare l'effetto delle dimensioni delle classi sulle prestazioni degli studenti. Gli studenti venivano assegnati casualmente a classi di piccole dimensioni (13-17 studenti) o grandi dimensioni (22-25 studenti).\n",
    "\n",
    "Parlando dei dati, il termine \"osservazione\" si riferisce all'informazione raccolta da un individuo o un'entità specifica coinvolta nello studio. Nel dataset STAR, l'unità di osservazione sono gli studenti. Di conseguenza, ogni riga del dataframe `df_star` rappresenta un diverso studente coinvolto nello studio.\n",
    "\n",
    "Passando alle variabili, queste rappresentano le diverse caratteristiche dei singoli individui o entità nello studio. Nel dataset del progetto STAR:\n",
    "\n",
    "- Ogni colonna del dataframe `df_star` rappresenta una variabile che cattura una specifica caratteristica comune a tutti gli studenti nello studio.\n",
    "- Le colonne sono etichettate con i nomi delle variabili, ad esempio, `classtype` (il tipo di classe assegnata, con le modalità `small` e `regular`), `reading` (il punteggio nel test standardizzato di lettura), `math` (il punteggio nel test standardizzato di matematica) e `graduated` (indica se lo studente ha ottenuto il diploma di scuola superiore, con \"1\" per indicare che lo ha ottenuto e \"0\" per indicare che non lo ha ottenuto).\n",
    "\n",
    "In generale, per rappresentare ogni singola osservazione della generica variabile $X$, utilizziamo $X_i$, dove $i$ è l'indice dell'osservazione. L'indice $i$ indica che abbiamo un valore diverso di $X$ per ogni valore di $i$. Nel caso specifico in cui ci sono 1274 osservazioni, $i$ può assumere i valori 1, ..., 1274. Ad esempio, per rappresentare la seconda osservazione (quella con $i=2$), utilizziamo  la notazione $X_2$. È importante notare che in Python l'indice parte da 0, mentre in notazione matematica, come $X_i$, l'indice parte da 1."
   ]
  },
  {
   "cell_type": "code",
   "execution_count": 5,
   "metadata": {},
   "outputs": [
    {
     "data": {
      "text/plain": [
       "612"
      ]
     },
     "execution_count": 5,
     "metadata": {},
     "output_type": "execute_result"
    }
   ],
   "source": [
    "df_star[\"reading\"][1]"
   ]
  },
  {
   "cell_type": "markdown",
   "metadata": {},
   "source": [
    "Una delle prime cose da fare, quando esaminiamo un dataset, è capire che tipo di variabili sono incluse."
   ]
  },
  {
   "cell_type": "code",
   "execution_count": 6,
   "metadata": {},
   "outputs": [
    {
     "data": {
      "text/plain": [
       "classtype    object\n",
       "reading       int64\n",
       "math          int64\n",
       "graduated     int64\n",
       "dtype: object"
      ]
     },
     "execution_count": 6,
     "metadata": {},
     "output_type": "execute_result"
    }
   ],
   "source": [
    "df_star.dtypes"
   ]
  },
  {
   "cell_type": "markdown",
   "metadata": {},
   "source": [
    "Nel caso specifico, notiamo che la variabile `classtype` è di tipo `object`, quindi è una variabile qualitativa, mentre le altre variabili sono numeriche, rappresentate come numeri interi (`int64`). Se elenchiamo le modalità presenti in `classtype` utilizzando il metodo `unique()`, scopriamo che corrispondono a \"small\" e \"regular\"."
   ]
  },
  {
   "cell_type": "code",
   "execution_count": 9,
   "metadata": {},
   "outputs": [
    {
     "data": {
      "text/plain": [
       "array(['small', 'regular'], dtype=object)"
      ]
     },
     "execution_count": 9,
     "metadata": {},
     "output_type": "execute_result"
    }
   ],
   "source": [
    "df_star[\"classtype\"].unique()"
   ]
  },
  {
   "cell_type": "markdown",
   "metadata": {},
   "source": [
    "Con l'istruzione seguente verifichiamo che la variabile `graduated` sia una variabile binaria. "
   ]
  },
  {
   "cell_type": "code",
   "execution_count": 10,
   "metadata": {},
   "outputs": [
    {
     "data": {
      "text/plain": [
       "array([1, 0])"
      ]
     },
     "execution_count": 10,
     "metadata": {},
     "output_type": "execute_result"
    }
   ],
   "source": [
    "df_star[\"graduated\"].unique()"
   ]
  },
  {
   "attachments": {},
   "cell_type": "markdown",
   "metadata": {},
   "source": [
    "## Variabili indipendenti e variabili dipendenti\n",
    "\n",
    "Nella ricerca statistica, è comune distinguere tra variabili indipendenti e variabili dipendenti. Per identificare correttamente queste variabili, è essenziale considerare la domanda di ricerca e la conoscenza del fenomeno in esame. In molti casi, è possibile distinguere chiaramente le variabili dipendenti (che rappresentano l'esito da spiegare) da quelle predittive o indipendenti (che fungono da fattori che influenzano l'esito). Tuttavia, in alcune situazioni, potrebbe essere più complesso farlo. Ad esempio, quando studiamo l'associazione tra esercizio fisico e insonnia, potrebbe non essere chiaro quale sia la causa e quale l'effetto. In questo contesto, un'analisi più approfondita delle evidenze disponibili e una conoscenza approfondita del fenomeno possono aiutare a identificare in modo più accurato le variabili dipendenti e indipendenti. È importante sottolineare che la corretta identificazione delle variabili è fondamentale per effettuare previsioni e inferenze valide e accurate sul fenomeno in studio.\n",
    "\n",
    "**Esempio 5** Immaginiamo che uno psicologo abbia convocato 120 studenti universitari per un test di memoria. Prima di iniziare l'esperimento, a metà dei soggetti viene detto che si tratta di un compito particolarmente difficile, mentre agli altri soggetti non viene data alcuna indicazione. Lo psicologo misura il punteggio nella prova di memoria di ciascun soggetto. In questo esperimento, la variabile indipendente è rappresentata dall'informazione sulla difficoltà della prova. La variabile indipendente viene manipolata dallo sperimentatore assegnando casualmente i soggetti alla condizione \"informazione assegnata\" o alla condizione \"informazione non data\". La variabile dipendente, invece, è ciò che viene misurato nell'esperimento, ovvero il punteggio nella prova di memoria di ciascun soggetto.\n",
    "\n",
    "## Effetto\n",
    "\n",
    "Il concetto di \"effetto\" è fondamentale nell'analisi dei dati e nella statistica, poiché rappresenta una misura del cambiamento o dell'influenza tra le variabili. Ad esempio, consideriamo uno studio sulla memoria che indaga l'effetto delle mnemotecniche sul miglioramento della memoria. In questo studio, un gruppo riceve un intervento relativo al rilassamento, mentre un altro partecipa a un workshop di riorganizzazione mnemonica. Alla fine, i partecipanti vengono sottoposti a test di memoria e l'effetto delle mnemotecniche è determinato dalla differenza tra i punteggi medi dei due gruppi. Se il gruppo che ha seguito il workshop mostra un punteggio medio superiore, si può affermare che le mnemotecniche hanno un effetto positivo sulla memoria.\n",
    "\n",
    "L'effetto viene misurato attraverso diverse statistiche, come la differenza di medie, il rapporto di probabilità, ecc. Quando si analizzano i dati con metodi statistici, l'obiettivo è determinare se l'effetto osservato è credibile, ovvero se ci sono evidenze che l'effetto sia generalizzabile alla popolazione nel suo insieme. Questo aiuta a valutare l'importanza dell'effetto e a trarre conclusioni sulle relazioni tra le variabili nello studio.\n",
    "\n",
    "## Variabili casuali\n",
    "\n",
    "Il termine *variabile* utilizzato nella statistica ha un equivalente nella teoria delle probabilità, ed è noto come *variabile casuale*. Nello studio degli interventi psicologici, ci occupiamo di variabili casuali che misurano i risultati di tali interventi. Una variabile casuale cattura una caratteristica specifica degli individui nella popolazione, e i suoi valori tendono a variare tra gli individui. In teoria, una variabile casuale può assumere una gamma di possibili valori, anche se in pratica osserviamo un valore specifico per ciascun individuo. \n",
    "\n",
    "Nell'ambito delle variabili casuali, utilizzeremo lettere maiuscole come $X$ e $Y$ per riferirci a queste variabili, mentre useremo lettere minuscole come $x$ e $y$ per fare riferimento ai valori specifici assunti da una variabile casuale in una data situazione.\n",
    "\n",
    "Ma qual è la differenza tra una variabile casuale e una variabile statistica? La distinzione tra questi due concetti può essere spiegata attraverso l'incertezza epistemica del ricercatore. Supponiamo di avere un *esperimento casuale*, come il lancio di un dado, e la variabile di interesse $X$ sia l'esito del lancio. Durante un singolo lancio, la variabile $X$ può assumere il valore 5, ma prima del lancio del dado, essa è una *variabile casuale* in quanto sappiamo che può assumere valori da 1 a 6, ma non conosciamo il valore specifico che si verificherà. Solo dopo aver effettuato il lancio e osservato il risultato $X = 5$, la variabile $X$ diventa una *variabile statistica*, poiché ora costituisce un dato osservato nel campione di osservazioni.\n",
    "\n",
    "## Stima e inferenza\n",
    "\n",
    "La stima è un processo fondamentale che ci consente di ottenere informazioni sulle caratteristiche della popolazione di interesse utilizzando i dati del campione disponibili. Ad esempio, calcolando la media o la mediana del campione, possiamo stimare la media o la mediana della popolazione. La stima può riguardare le caratteristiche della popolazione, chiamate spesso \"parametri\", o la distribuzione di una variabile casuale.\n",
    "\n",
    "Una volta ottenute le stime dal campione, passiamo all'inferenza statistica, un processo che ci permette di rispondere a domande di ricerca e valutare ipotesi specifiche riguardanti la popolazione. L'inferenza statistica ci aiuta a fare previsioni e trarre conclusioni sulla popolazione in base alle informazioni ottenute dal campione. Esistono diverse metodologie per l'inferenza statistica, tra cui l'inferenza bayesiana e l'approccio frequentista.\n",
    "\n",
    "## Modelli psicologici\n",
    "\n",
    "In statistica e nella data science, il termine \"modello\" si riferisce a una rappresentazione matematica semplificata di un fenomeno di interesse. Un modello statistico è composto da un insieme di ipotesi sulla distribuzione della variabile casuale di interesse, le cui specifiche possono dipendere dai dati e dalla domanda di ricerca. Spesso, esistono più modelli che possono essere utilizzati per affrontare la stessa domanda di ricerca, e l'obiettivo è identificare il modello che meglio rappresenta i dati disponibili e che soddisfa i criteri di bontà previsti.\n",
    "\n",
    "In psicologia, un modello di comportamento umano o di funzionamento mentale deve descrivere le caratteristiche del fenomeno in questione, formulare predizioni sulle caratteristiche future del fenomeno, essere supportato da evidenze empiriche e poter essere falsificabile. L'analisi dei dati permette di valutare un modello psicologico attraverso l'applicazione di strumenti statistici, verificandone la capacità di spiegare i dati disponibili e la sua capacità di fare previsioni accurate su nuovi dati.\n",
    "\n",
    "## Statistica\n",
    "\n",
    "Si noti che il termine \"statistica\" ha diversi significati. In primo luogo, si riferisce alla disciplina che descrive le tecniche statistiche utilizzate per l'analisi dei dati. In questa accezione, la statistica è lo studio e l'applicazione di metodi per raccogliere, organizzare, analizzare, interpretare e presentare dati. \n",
    "\n",
    "Inoltre, con il termine \"statistica\", si può fare riferimento a qualsiasi funzione calcolata a partire da un campione di una variabile casuale. In questo senso, una statistica rappresenta un numero che descrive una particolare caratteristica del campione. Ad esempio, la media campionaria, la deviazione standard campionaria, il coefficiente di correlazione campionario sono tutte esempi di statistiche utilizzate per sintetizzare le informazioni contenute nei dati campionari.\n"
   ]
  },
  {
   "attachments": {},
   "cell_type": "markdown",
   "metadata": {},
   "source": [
    "## Riassunto del contenuto\n",
    "\n",
    "Dopo aver letto questo capitolo, dovresti essere in grado di:\n",
    "\n",
    "- ✅ comprendere cos'è un campione casuale;\n",
    "- ✅ conoscere il significato di variabile campionaria e come sia associata alle variabili casuali nella teoria della probabilità;\n",
    "- ✅ distinguere tra variabili dipendenti e indipendenti;\n",
    "- ✅ comprendere il concetto di effetto statistico;\n",
    "- ✅ avere un'idea di cosa sia l'inferenza statistica."
   ]
  }
 ],
 "metadata": {
  "kernelspec": {
   "display_name": "Python 3",
   "language": "python",
   "name": "python3"
  },
  "language_info": {
   "codemirror_mode": {
    "name": "ipython",
    "version": 3
   },
   "file_extension": ".py",
   "mimetype": "text/x-python",
   "name": "python",
   "nbconvert_exporter": "python",
   "pygments_lexer": "ipython3",
   "version": "3.11.4"
  },
  "orig_nbformat": 4,
  "vscode": {
   "interpreter": {
    "hash": "aee8b7b246df8f9039afb4144a1f6fd8d2ca17a180786b69acc140d282b71a49"
   }
  }
 },
 "nbformat": 4,
 "nbformat_minor": 2
}
