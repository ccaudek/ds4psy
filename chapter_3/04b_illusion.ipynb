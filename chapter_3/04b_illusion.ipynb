{
 "cells": [
  {
   "attachments": {},
   "cell_type": "markdown",
   "metadata": {},
   "source": [
    "<a target=\"_blank\" rel=\"noopener noreferrer\" href=\"https://colab.research.google.com/github/ccaudek/ds4psy_2023/blob/main/4b_illusion.ipynb\">![Open In Colab](https://colab.research.google.com/assets/colab-badge.svg)</a>\n",
    "\n",
    "(illusion-notebook)=\n",
    "# Incertezza inferenziale e variabilità dei risultati"
   ]
  },
  {
   "attachments": {},
   "cell_type": "markdown",
   "metadata": {},
   "source": [
    "Nel presente capitolo, ci addentreremo nell'analisi degli errori standard della media. Sebbene l'errore standard sia un concetto tipico della statistica frequentista, e questo corso ponga l'accento sulla statistica bayesiana, è importante esplorare questo tema, in quanto il suo utilizzo nella ricerca è estremamente diffuso. In particolare, ci focalizzeremo su un articolo di {cite:t}`zhang2023illusion`, che stabilisce un collegamento tra l'incertezza inferenziale, espressa dall'errore standard, e la deviazione standard, che simboleggia la variabilità dei risultati all'interno di uno studio. Comprendere il legame tra questi due concetti è fondamentale. Infatti, {cite:t}`zhang2023illusion` sottolineano che l'approccio dominante nella visualizzazione scientifica, il quale include esclusivamente l'incertezza inferenziale (vale a dire la rappresentazione grafica della media con l'aggiunta delle barre d'errore corrispondenti agli errori standard), può portare a interpretazioni fuorvianti dei dati. Questo può condurre a una sovrastima sistematica degli effetti del trattamento, un fenomeno che può verificarsi persino tra gli esperti più qualificati del settore. Attraverso questo approfondimento, miriamo a fornire una visione chiara di come l'errore standard e la deviazione standard interagiscano, e di come la loro corretta interpretazione possa evitare possibili equivoci nell'analisi e nella comunicazione dei risultati della ricerca."
   ]
  },
  {
   "cell_type": "code",
   "execution_count": 1,
   "metadata": {},
   "outputs": [],
   "source": [
    "import pandas as pd\n",
    "import numpy as np\n",
    "from matplotlib import pyplot as plt\n",
    "import matplotlib.image as mpimg\n",
    "import seaborn as sns\n",
    "import statistics as st\n",
    "import scipy.stats as stats\n",
    "import math\n",
    "import itertools\n",
    "import arviz as az"
   ]
  },
  {
   "cell_type": "code",
   "execution_count": 2,
   "metadata": {},
   "outputs": [],
   "source": [
    "%config InlineBackend.figure_format = 'retina'\n",
    "RANDOM_SEED = 42\n",
    "rng = np.random.default_rng(RANDOM_SEED)\n",
    "az.style.use(\"arviz-viridish\")"
   ]
  },
  {
   "cell_type": "markdown",
   "metadata": {},
   "source": [
    "## La rappresentazione dell'incertezza inferenziale\n",
    "\n",
    "{cite:t}`zhang2023illusion` iniziano la loro analisi esplorando la relazione tra incertezza inferenziale e variabilità dei risultati nel contesto della ricerca empirica. Nell'ambito della ricerca empirica, l'obiettivo è fare inferenze sulla popolazione intera utilizzando un campione ristretto di dati. Questo può riguardare, ad esempio, il confronto tra il benessere psicologico di un gruppo sottoposto a trattamento sperimentale e un gruppo di controllo, o la valutazione dell'efficacia di un intervento psicologico tra individui con differenti caratteristiche personologiche. In tali casi, trarre conclusioni valide può essere complicato, specialmente quando si ha a che fare con campioni piccoli e risultati altamente variabili all'interno di ciascun campione.\n",
    "\n",
    "La risposta comune a questi problemi è concentrarsi su misure aggregate, come le medie dei gruppi, invece che sui singoli risultati, e fornire una misura dell'incertezza inferenziale relativa alla precisione della stima della media. L'incertezza inferenziale è spesso espressa attraverso errori standard (SE), intervalli di confidenza, intervalli di credibilità Bayesiani, o metodologie analoghe.\n",
    "\n",
    "La quantificazione dell'incertezza inferenziale è fondamentale, in quanto fornisce un intervallo plausibile di valori per la quantità di interesse e previene interpretazioni erronee dovute alla variazione casuale nei campioni. Ciò assicura che le conclusioni siano rappresentative delle tendenze reali nella popolazione e non siano semplici artefatti dei campioni specifici.\n",
    "\n",
    "Tuttavia, {cite:t}`zhang2023illusion` evidenziano una problematica che può sorgere quando la ricerca si focalizza unicamente sui risultati aggregati e sull'incertezza inferenziale, ovvero il fatto che viene trascurata la variabilità dei risultati individuali. Questa variabilità, spesso quantificata attraverso la deviazione standard (SD) o la varianza, è cruciale per valutare le dimensioni dell'effetto e la prevedibilità dei risultati futuri.\n",
    "\n",
    "Benché esistano associazioni tra incertezza inferenziale e variabilità dei risultati, questi sono concetti distinti e facilmente confondibili. L'incertezza inferenziale si riferisce alla fiducia nelle stime di parametri specifici, come la media, mentre la variabilità dei risultati riguarda le differenze nei risultati individuali all'interno di un gruppo.\n",
    "\n",
    "La confusione tra questi due aspetti e/o l'eccessiva enfasi sull'incertezza inferenziale può generare interpretazioni sbagliate riguardo all'ampiezza e alla rilevanza dei risultati della ricerca. Ciò può verificarsi anche tra gli specialisti che si occupano di creare e interpretare questi dati, sottolineando l'importanza di una comunicazione chiara e di una maggiore consapevolezza nella presentazione delle analisi statistiche.\n",
    "\n",
    "## Illusione di prevedibilità\n",
    "\n",
    "Per comprendere le differenze tra incertezza inferenziale e variabilità dei risultati, e cogliere come focalizzarsi sulla prima possa portare a conclusioni errate sulla seconda, {cite:t}`zhang2023illusion`, citando un esempio basato su un celebre studio di {cite:t}`anderson2000video`. \n",
    "Questo studio riguarda l'effetto dei videogiochi violenti sul comportamento aggressivo dei giocatori e include una serie di esperimenti in cui i partecipanti sono stati esposti a videogiochi con diversi livelli di contenuti violenti. In seguito, sono stati misurati vari aspetti dell'aggressività attraverso questionari e osservazioni comportamentali. Gli autori hanno scoperto che c'era una correlazione significativa tra il gioco di videogiochi violenti e un aumento dell'aggressività nei partecipanti. Hanno concluso che i videogiochi violenti possono aumentare i comportamenti aggressivi e hanno suggerito che tale effetto potrebbe essere dovuto all'immersione in un contesto violento e all'apprendimento di nuovi schemi comportamentali attraverso il gioco. Questo studio è diventato un punto di riferimento nelle discussioni sulla regolamentazione dei contenuti dei videogiochi e sull'impatto potenziale che i media possono avere sul comportamento.\n",
    "\n",
    "Ispirandosi ai risultati riportati da {cite:t}`anderson2000video`, {cite:t}`zhang2023illusion` hanno costruito la figura seguente."
   ]
  },
  {
   "attachments": {},
   "cell_type": "markdown",
   "metadata": {},
   "source": [
    "```{figure} ../images/zhang_fig_1.png\n",
    "---\n",
    "height: 600px\n",
    "name: file-collection\n",
    "---\n",
    "Incertezza inferenziale vs. variabilità dei risultati. (Sinistra) Medie stimate e una barra di errore che rappresenta un errore standard (SE) sopra e uno sotto la media, per due condizioni in un esperimento. L'errore standard è una misura dell'incertezza nella nostra inferenza della media. (Destra) Risultati individuali mostrati in aggiunta agli stessi errori standard sulla Sinistra. Con solo 100 partecipanti per condizione (Sopra), abbiamo stime meno sicure della media rispetto a quando abbiamo 800 partecipanti per condizione (Sotto). Tuttavia, più dati non riducono sistematicamente la variabilità nei risultati stessi. La figura è tratta da {cite:t}`zhang2023illusion`.\n",
    "```\n",
    "\n",
    "- I grafici a sinistra mostrano i punteggi medi di aggressività per i due gruppi (videogioco violento e non violento), con le barre di errore che simbolizzano l'incertezza inferenziale. Questo formato agevola l'\"inferenza visiva\", permettendo una deduzione immediata dell'intervallo possibile per i valori medi.\n",
    "\n",
    "- I grafici a destra includono le stesse informazioni dei grafici a sinistra, ma aggiungono dei punti colorati che rappresentano i risultati individuali. Questo formato, proposto originariamente da Gardner e Altman, evidenzia non solo l'incertezza inferenziale ma anche la variabilità dei risultati e la dimensione dell'effetto.\n",
    "\n",
    "Sebbene a prima vista i grafici forniti a sinistra e a destra nella figura possano sembrare equivalenti, essi enfatizzano aspetti differenti. I grafici a sinistra possono portare a un'\"illusione di prevedibilità\", dove la variabilità dei risultati viene sottovalutata e l'effetto dei videogiochi violenti sul comportamento aggressivo viene visto come più forte e determinante di quanto effettivamente sia.\n",
    "\n",
    "I grafici a destra, invece, mettendo in luce i risultati individuali, forniscono una visione più equilibrata. Fanno capire che la relazione tra videogiochi violenti e comportamento aggressivo non è deterministica e sottolineano l'importanza di considerare la variabilità all'interno di ciascun gruppo.\n",
    "\n",
    "Questa distinzione diventa ancora più evidente con l'aumentare della dimensione del campione. L'aumento delle dimensioni del campione non riduce necessariamente la variabilità dei risultati, e questa è una sfumatura che può essere persa se si enfatizza solo l'incertezza inferenziale.\n",
    "\n",
    "In sintesi, la scelta del formato grafico può avere un impatto importante sulle conclusioni tratte dal lettore. Sebbene i grafici focalizzati sull'incertezza inferenziale siano spesso considerati una \"migliore pratica\", {cite:t}`zhang2023illusion` sottolineano che essi possono indurre in errore, specialmente se non vengono chiaramente distinti da altri concetti come la variabilità dei risultati.\n",
    "\n",
    "In pratica, l'ambiguità nella terminologia statistica utilizzata e nelle descrizioni delle rappresentazioni grafiche può ulteriormente confondere il lettore. È invece essenziale fornire una comunicazione chiara e trasparente nella presentazione dei risultati statistici. La scelta del formato appropriato non è dunque una mera questione di stile, ma riveste un aspetto di sostanza fondamentale, mirato a garantire una comprensione accurata e onesta dei risultati della ricerca empirica.\n",
    "\n",
    "I risultati degli esperimenti di {cite:t}`zhang2023illusion`, i quali hanno chiesto a gruppi di esperti di interpretare dei grafici come quelli illustrati sopraa, mettono in luce una problematica seria nella comunicazione scientifica, evidenziando come l'enfasi pervasiva sull'incertezza inferenziale nelle visualizzazioni dei dati possa ingannare persino gli esperti in merito alla dimensione e all'importanza dei risultati della ricerca. Questa situazione può portare a una percezione distorta degli effetti, facendoli apparire più significativi di quanto non siano realmente. Tale 'illusione di prevedibilità' sembra originarsi dalla confusione tra i concetti di incertezza inferenziale, che si riferisce all'intervallo entro cui è probabile che si trovi il valore vero di un parametro, e la variabilità dei risultati, che descrive quanto i dati individuali possano differire tra loro.\n",
    "\n",
    "Proprio per risolvere questo problema, {cite:t}`zhang2023illusion` propongono una soluzione semplice e diretta: visualizzare contemporaneamente sia l'incertezza inferenziale che la variabilità dei risultati, rappresentando i dati individuali accanto alle stime statistiche -- come nei grafici forniti nella colonna di sinistra della figura precedente. Questo approccio permette ai lettori di distinguere più chiaramente tra queste due nozioni, contribuendo così a una comprensione più precisa e onesta della grandezza e della rilevanza dell'effetto studiato, senza rischiare di sovrastimarne l'importanza.\n",
    "\n",
    "````{prf:example}\n",
    ":label: illusion-expl-1\n",
    "\n",
    "Consideriamo ora i dati utilizzti da {cite:t}`zhang2023illusion`. Poniamoci il problema di ottenere i valori numerici che rappresentano l'incertezza inferenziale e la variabilità dei risultati.\n",
    "````\n",
    "\n",
    "Iniziamo importando i dati."
   ]
  },
  {
   "cell_type": "code",
   "execution_count": 3,
   "metadata": {},
   "outputs": [
    {
     "data": {
      "text/html": [
       "<div>\n",
       "<style scoped>\n",
       "    .dataframe tbody tr th:only-of-type {\n",
       "        vertical-align: middle;\n",
       "    }\n",
       "\n",
       "    .dataframe tbody tr th {\n",
       "        vertical-align: top;\n",
       "    }\n",
       "\n",
       "    .dataframe thead th {\n",
       "        text-align: right;\n",
       "    }\n",
       "</style>\n",
       "<table border=\"1\" class=\"dataframe\">\n",
       "  <thead>\n",
       "    <tr style=\"text-align: right;\">\n",
       "      <th></th>\n",
       "      <th>outcome</th>\n",
       "      <th>condition</th>\n",
       "    </tr>\n",
       "  </thead>\n",
       "  <tbody>\n",
       "    <tr>\n",
       "      <th>0</th>\n",
       "      <td>7.145137</td>\n",
       "      <td>Violent game</td>\n",
       "    </tr>\n",
       "    <tr>\n",
       "      <th>1</th>\n",
       "      <td>7.484930</td>\n",
       "      <td>Violent game</td>\n",
       "    </tr>\n",
       "    <tr>\n",
       "      <th>2</th>\n",
       "      <td>7.297470</td>\n",
       "      <td>Violent game</td>\n",
       "    </tr>\n",
       "    <tr>\n",
       "      <th>3</th>\n",
       "      <td>7.760477</td>\n",
       "      <td>Violent game</td>\n",
       "    </tr>\n",
       "    <tr>\n",
       "      <th>4</th>\n",
       "      <td>6.497964</td>\n",
       "      <td>Violent game</td>\n",
       "    </tr>\n",
       "  </tbody>\n",
       "</table>\n",
       "</div>"
      ],
      "text/plain": [
       "    outcome     condition\n",
       "0  7.145137  Violent game\n",
       "1  7.484930  Violent game\n",
       "2  7.297470  Violent game\n",
       "3  7.760477  Violent game\n",
       "4  6.497964  Violent game"
      ]
     },
     "execution_count": 3,
     "metadata": {},
     "output_type": "execute_result"
    }
   ],
   "source": [
    "df = pd.read_csv(\"../data/video_games.csv\")\n",
    "df.head()"
   ]
  },
  {
   "cell_type": "markdown",
   "metadata": {},
   "source": [
    "Il dataset completo usato da {cite:t}`zhang2023illusion` contiene 800 osservazioni."
   ]
  },
  {
   "cell_type": "code",
   "execution_count": 4,
   "metadata": {},
   "outputs": [
    {
     "data": {
      "text/plain": [
       "(800, 2)"
      ]
     },
     "execution_count": 4,
     "metadata": {},
     "output_type": "execute_result"
    }
   ],
   "source": [
    "df.shape"
   ]
  },
  {
   "cell_type": "markdown",
   "metadata": {},
   "source": [
    "Per il dataset completo calcoliamo la media della variabile di esito nei due gruppi, insieme alle deviazioni standard e agli errori standard della media."
   ]
  },
  {
   "cell_type": "code",
   "execution_count": 5,
   "metadata": {},
   "outputs": [
    {
     "name": "stdout",
     "output_type": "stream",
     "text": [
      "                  mean  standard_deviation  standard_error\n",
      "condition                                                 \n",
      "Non-violent game  6.65                0.53          0.0265\n",
      "Violent game      6.81                0.51          0.0255\n"
     ]
    }
   ],
   "source": [
    "summary = df.groupby('condition')['outcome'].agg(\n",
    "    mean='mean',\n",
    "    standard_deviation='std',\n",
    "    standard_error=lambda x: x.std() / len(x) ** 0.5\n",
    ")\n",
    "\n",
    "print(summary)"
   ]
  },
  {
   "cell_type": "markdown",
   "metadata": {},
   "source": [
    "Consideriamo ora un sottoinsieme di questi dati, ovvero selezioniamo in maniera casuale 100 righe dal DataFrame precedente."
   ]
  },
  {
   "cell_type": "code",
   "execution_count": 6,
   "metadata": {},
   "outputs": [],
   "source": [
    "# Assuming df has at least 100 rows\n",
    "df_100 = df.sample(n=100)"
   ]
  },
  {
   "cell_type": "markdown",
   "metadata": {},
   "source": [
    "Svolgiamo gli stessi calcoli per questo sottoinsieme di dati."
   ]
  },
  {
   "cell_type": "code",
   "execution_count": 7,
   "metadata": {},
   "outputs": [
    {
     "name": "stdout",
     "output_type": "stream",
     "text": [
      "                      mean  standard_deviation  standard_error\n",
      "condition                                                     \n",
      "Non-violent game  6.578816            0.550398        0.081152\n",
      "Violent game      6.717075            0.491723        0.066915\n"
     ]
    }
   ],
   "source": [
    "summary_100 = df_100.groupby('condition')['outcome'].agg(\n",
    "    mean='mean',\n",
    "    standard_deviation='std',\n",
    "    standard_error=lambda x: x.std() / len(x) ** 0.5\n",
    ")\n",
    "\n",
    "print(summary_100)"
   ]
  },
  {
   "cell_type": "markdown",
   "metadata": {},
   "source": [
    "Si noti che, nelle analisi condotte su due campioni di dimensioni differenti, $n$ = 800 e $n$ = 100, si manifestano delle lievi differenze nei valori delle medie e delle deviazioni standard. Queste discrepanze sono attese e si possono attribuire alla variabilità naturale dei campioni. Nonostante ciò, possiamo dire che le medie e deviazioni standard sono sostanzialmente simili nei due campioni di grandezze diverse.\n",
    "\n",
    "Un discorso diverso invece riguarda invece l'errore standard della media: esso è, per definizione, più piccolo quando la numerosità campionaria è più grande. In altre parole, l'incertezza inferenziale sul vero valore della media della popolazione $\\mu$ diminuisce all'aumentare della grandezza del campione.\n",
    "\n",
    "Questo fenomeno, tuttavia, non ha alcun collegamento con l'effetto che i video-game, violenti o meno, possono avere sull'aggressività del comportamento successivo. La correlazione tra il tipo di video-game giocato e il successivo comportamento aggressivo risulta essere molto debole, indipendentemente dalla grandezza del campione analizzato.\n",
    "\n",
    "Per una valutazione più dettagliata della relazione tra tipo di videogioco e agressività successiva, possiamo calcolare l'indice $d$ di Cohen, una misura standardizzata che quantifica la differenza tra le medie dei due gruppi. Iniziamo con il campione di dimensioni maggiori."
   ]
  },
  {
   "cell_type": "code",
   "execution_count": 8,
   "metadata": {},
   "outputs": [],
   "source": [
    "def cohen_d(mean1, mean2, sd1, sd2, n1, n2):\n",
    "    pooled_sd = math.sqrt(((n1 - 1) * sd1**2 + (n2 - 1) * sd2**2) / (n1 + n2 - 2))\n",
    "    return (mean2 - mean1) / pooled_sd"
   ]
  },
  {
   "cell_type": "code",
   "execution_count": 9,
   "metadata": {},
   "outputs": [
    {
     "name": "stdout",
     "output_type": "stream",
     "text": [
      "Cohen's d: 0.3637871999925845\n"
     ]
    }
   ],
   "source": [
    "mean1 = 6.663322\n",
    "mean2 = 6.861076\n",
    "sd1 = 0.566330\n",
    "sd2 = 0.519873\n",
    "n1 = n2 = 100\n",
    "\n",
    "result = cohen_d(mean1, mean2, sd1, sd2, n1, n2)\n",
    "print(\"Cohen's d:\", result)"
   ]
  },
  {
   "cell_type": "markdown",
   "metadata": {},
   "source": [
    "Calcoliamo ora il $d$ di Cohen nel caso di $n$ = 100."
   ]
  },
  {
   "cell_type": "code",
   "execution_count": 10,
   "metadata": {},
   "outputs": [
    {
     "name": "stdout",
     "output_type": "stream",
     "text": [
      "Cohen's d: 0.3076354277014899\n"
     ]
    }
   ],
   "source": [
    "mean1 = 6.65\n",
    "mean2 = 6.81\n",
    "sd1 = 0.53\n",
    "sd2 = 0.51\n",
    "n1 = n2 = 800\n",
    "\n",
    "result = cohen_d(mean1, mean2, sd1, sd2, n1, n2)\n",
    "print(\"Cohen's d:\", result)"
   ]
  },
  {
   "cell_type": "markdown",
   "metadata": {},
   "source": [
    "In entrambi i casi, possiamo dire che la dimensione dell'effetto è piccola, secondo la metrica dell'indice $d$ di Cohen, che definisce un effetto come \"debole\" quando il valore è compreso tra 0.2 e 0.4.\n",
    "\n",
    "Questo significa che, all'aumentare delle dimensioni del campione, l'incertezza inferenziale nella stima della differenza tra le medie dei due gruppi diminuisce, e ciò può portare a rilevare una differenza statistica tra le medie dei due gruppi. Tuttavia, ciò non implica che un aumento della dimensione del campione renda l'effetto del trattamento più marcato. La grandezza dell'effetto del trattamento è indipendente dalla dimensione del campione; essa dipende invece dalla differenza tra le medie dei due gruppi e dalla variabilità delle osservazioni all'interno di ciascun gruppo. In altre parole, la misura dell'effetto è determinata dalle caratteristiche intrinseche del fenomeno studiato e non è influenzata dall'ampiezza dei campioni utilizzati nell'analisi.\n",
    "\n",
    "## Commenti e considerazioni conclusive\n",
    "\n",
    "{cite:t}`zhang2023illusion` concludono il loro articolo riflettendo sul modo in cui la ricerca scientifica viene condotta e i suoi risultati vengono comunicati. Essi evidenziano che, in molti campi scientifici, l'attenzione si è concentrata per lungo tempo sull'inferenza (ossia, sull'ottenimento di stime non distorte degli effetti sperimentali) piuttosto che sulla previsione (come, ad esempio, la proiezione dei possibili risultati futuri). Questa enfasi potrebbe derivare, in parte, dalla complessità intrinseca della previsione, specialmente quando confrontata con l'inferenza. Infatti, stimare un effetto medio su una popolazione, come avviene nell'inferenza statistica standard, è indubbiamente più semplice che prevedere i risultati individuali, tenendo conto di tutti i fattori che potrebbero influenzare un fenomeno specifico. Tuttavia, questa enfasi sull'inferenza può generare confusione nella comunicazione dei risultati dello studio, dando l'impressione che i risultati della ricerca possano prevedere gli esiti individuali, quando in realtà hanno soltanto stabilito un effetto medio. Di conseguenza, anche gli esperti possono finire con l'equiparare le rappresentazioni visive che esprimono l'incertezza inferenziale con quelle che trasmettono informazioni sulla previsione dei dati individuali.\n",
    "\n",
    "Per {cite:t}`zhang2023illusion`, la soluzione a questo problema sta nella comunicazione chiara e integrata sia dell'incertezza inferenziale che della variabilità dei risultati. Invece di favorire l'inferenza rispetto alla previsione (o viceversa), gli autori propongono un approccio olistico che consideri entrambi gli aspetti dell'indagine scientifica, presentandoli in modo parallelo e comprensibile. Ciò consentirebbe ai lettori di trarre inferenze più accurate ed appropriate dai dati presentati. Questa prospettiva integrata potrebbe rappresentare un passo importante verso una comprensione e una comunicazione della ricerca più trasparenti e precise, contribuendo a colmare il divario tra ciò che gli studi effettivamente dimostrano e ciò che viene percepito da chi li legge."
   ]
  },
  {
   "attachments": {},
   "cell_type": "markdown",
   "metadata": {},
   "source": [
    "## Watermark"
   ]
  },
  {
   "cell_type": "code",
   "execution_count": 11,
   "metadata": {},
   "outputs": [
    {
     "name": "stdout",
     "output_type": "stream",
     "text": [
      "Last updated: Fri Oct 27 2023\n",
      "\n",
      "Python implementation: CPython\n",
      "Python version       : 3.11.6\n",
      "IPython version      : 8.16.1\n",
      "\n",
      "matplotlib: 3.8.0\n",
      "pandas    : 2.1.1\n",
      "arviz     : 0.16.1\n",
      "numpy     : 1.25.2\n",
      "seaborn   : 0.13.0\n",
      "scipy     : 1.11.3\n",
      "\n"
     ]
    }
   ],
   "source": [
    "%load_ext watermark\n",
    "%watermark -n -u -v -iv "
   ]
  }
 ],
 "metadata": {
  "kernelspec": {
   "display_name": "bambi_env",
   "language": "python",
   "name": "python3"
  },
  "language_info": {
   "codemirror_mode": {
    "name": "ipython",
    "version": 3
   },
   "file_extension": ".py",
   "mimetype": "text/x-python",
   "name": "python",
   "nbconvert_exporter": "python",
   "pygments_lexer": "ipython3",
   "version": "3.11.6"
  },
  "orig_nbformat": 4,
  "vscode": {
   "interpreter": {
    "hash": "e957f8d2d9272acec629608affb587206e5d92bb0d8d335f71da72c549770d8b"
   }
  }
 },
 "nbformat": 4,
 "nbformat_minor": 2
}
