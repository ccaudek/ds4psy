{
 "cells": [
  {
   "cell_type": "markdown",
   "metadata": {},
   "source": [
    "<a target=\"_blank\" rel=\"noopener noreferrer\" href=\"https://colab.research.google.com/github/ccaudek/ds4psy_2023/blob/main/kl.ipynb\">![Open In Colab](https://colab.research.google.com/assets/colab-badge.svg)</a>\n",
    "\n",
    "(kl_notebook)=\n",
    "# La divergenza di Kullback-Leibler"
   ]
  },
  {
   "cell_type": "markdown",
   "metadata": {},
   "source": [
    "Nel campo della statistica e del machine learning, è spesso necessario utilizzare una distribuzione di probabilità $ q $ come approssimazione di un'altra distribuzione $ p $. Questa esigenza diventa particolarmente saliente quando la distribuzione $ p $ è sconosciuta o eccessivamente complessa da trattare direttamente. Di fronte a questa sfida, sorge una domanda fondamentale: quanta informazione andiamo a perdere utilizzando $ q $ come surrogato di $ p $? E quale grado di incertezza aggiuntiva viene introdotto nell'analisi statistica a causa di tale approssimazione?\n",
    "\n",
    "Come descritto nel capitolo precedente, un indicatore fondamentale per rispondere a questa domanda è la *Divergenza di Kullback-Leibler* (KL). Indicata con $ \\mathbb{KL}(p \\mid\\mid q) $, questa metrica misura la discrepanza tra le due distribuzioni di probabilità. Un valore di zero indica che $ q $ è perfettamente in linea con $ p $, mentre valori crescenti segnalano un aumento della differenza tra le due distribuzioni. In questo modo, la Divergenza KL serve come un criterio per giudicare la \"vicinanza\" tra le distribuzioni in questione.\n",
    "\n",
    "Un altro strumento utilizzato per valutare i modelli statistici è l'*Expected Log Predictive Density* (elpd). L'elpd fornisce una valutazione dell'adeguatezza di un modello rispetto ai dati osservati. Questa misura è particolarmente utile per confrontare vari modelli, in quanto bilancia la capacità del modello di adattarsi ai dati con la sua complessità intrinseca.\n",
    "\n",
    "L'obiettivo di questo capitolo è presentare e approfondire sia la Divergenza KL che l'elpd, sottolineando la loro importanza nella valutazione e nel confronto di modelli statistici. Tale enfasi è particolarmente pertinente nel contesto bayesiano. Con una comprensione approfondita di questi concetti, il lettore sarà in grado di applicare queste metriche in modo efficace nella selezione e nell'analisi di modelli appropriati per specifici set di dati."
   ]
  },
  {
   "cell_type": "code",
   "execution_count": 18,
   "metadata": {},
   "outputs": [
    {
     "name": "stderr",
     "output_type": "stream",
     "text": [
      "/Users/corrado/mambaforge/envs/pymc_env/lib/python3.11/site-packages/tqdm/auto.py:21: TqdmWarning: IProgress not found. Please update jupyter and ipywidgets. See https://ipywidgets.readthedocs.io/en/stable/user_install.html\n",
      "  from .autonotebook import tqdm as notebook_tqdm\n"
     ]
    }
   ],
   "source": [
    "import numpy as np\n",
    "import pandas as pd\n",
    "import scipy as sp\n",
    "import scipy.stats as stats\n",
    "import statsmodels.api as sm\n",
    "from statsmodels.graphics import tsaplots\n",
    "import matplotlib.pyplot as plt\n",
    "import seaborn as sns\n",
    "import pymc as pm\n",
    "import pymc.sampling_jax\n",
    "import arviz as az"
   ]
  },
  {
   "cell_type": "code",
   "execution_count": 19,
   "metadata": {},
   "outputs": [],
   "source": [
    "%config InlineBackend.figure_format = 'retina'\n",
    "\n",
    "RANDOM_SEED = 42\n",
    "rng = np.random.default_rng(RANDOM_SEED)\n",
    "\n",
    "from aquarel import load_theme\n",
    "theme = load_theme(\"minimal_light\")\n",
    "theme.apply()\n",
    "sns.set_palette(\"colorblind\")"
   ]
  },
  {
   "cell_type": "markdown",
   "metadata": {},
   "source": [
    "## Perdita di informazione e divergenza di Kullback-Leibler\n",
    "\n",
    "Per quantificare la quantità di informazione che viene \"persa\" quando sostituire una distribuzione di probabilità vera $ p $ con una distribuzione approssimata $ q $, si utilizza un indice noto come Divergenza di Kullback-Leibler (KL), o entropia relativa. Questo indice è definito matematicamente come l'aspettazione del logaritmo della razione tra $ p $ e $ q $, pesata in base alla distribuzione $ p $. La formula è la seguente:\n",
    "\n",
    "$$\n",
    "\\mathbb{KL} (p \\mid\\mid q) = \\sum_i^n p_i (\\log p_i - \\log q_i).\n",
    "$$\n",
    "\n",
    "Questo indice offre una misura della discrepanza media nelle probabilità logaritmiche quando $ q $ è utilizzata come approssimazione di $ p $.\n",
    "\n",
    "Inoltre, la Divergenza di Kullback-Leibler può essere riformulata in termini di entropia, come la differenza tra l'entropia incrociata $ h(p, q) $ e l'entropia $ h(p) $. Le formule per queste entropie sono:\n",
    "\n",
    "$$\n",
    "\\begin{align*}\n",
    "h(p) & = -\\sum_i^n p_i \\log p_i, \\\\\n",
    "h(p, q) & = -\\sum_i^n p_i \\log q_i.\n",
    "\\end{align*}\n",
    "$$\n",
    "\n",
    "In questo contesto, $ h(p) $ rappresenta l'incertezza intrinseca nella distribuzione $ p $, mentre $ h(p, q) $ indica l'incertezza risultante dall'utilizzo delle probabilità logaritmiche di $ q $, ma pesate secondo le probabilità di $ p $.\n",
    "\n",
    "La formula della Divergenza di Kullback-Leibler diventa quindi:\n",
    "\n",
    "$$\n",
    "\\mathbb{KL} (p \\mid\\mid q) = h(p, q) - h(p).\n",
    "$$\n",
    "\n",
    "In sintesi, la Divergenza KL rappresenta la differenza nella quantità di incertezza tra l'utilizzo di $ q $ come approssimazione di $ p $ e l'incertezza originale associata a $ p $. Essa è un indicatore di quanto efficacemente $ q $ approssima $ p $ e quantifica la perdita di informazione dovuta a questa approssimazione. \n",
    "\n",
    "### Un esempio empirico\n",
    "\n",
    "Ora vediamo un esempio numerico in Python per illustrare meglio questi concetti.  Definiamo due distribuzioni di probabilità discreta $p$ e $q$."
   ]
  },
  {
   "cell_type": "code",
   "execution_count": 2,
   "metadata": {},
   "outputs": [],
   "source": [
    "p = np.array([0.2, 0.5, 0.3])\n",
    "q = np.array([0.1, 0.6, 0.3])"
   ]
  },
  {
   "cell_type": "markdown",
   "metadata": {},
   "source": [
    "Calcoliamo l'entropia di $p$."
   ]
  },
  {
   "cell_type": "code",
   "execution_count": 6,
   "metadata": {},
   "outputs": [
    {
     "name": "stdout",
     "output_type": "stream",
     "text": [
      "Entropia di p:  1.4854752972273344\n"
     ]
    }
   ],
   "source": [
    "h_p = -np.sum(p * np.log2(p))\n",
    "print(\"Entropia di p: \", h_p)"
   ]
  },
  {
   "cell_type": "markdown",
   "metadata": {},
   "source": [
    "Calcoliamo l'entropia incrociata tra $p$ e $q$."
   ]
  },
  {
   "cell_type": "code",
   "execution_count": 7,
   "metadata": {},
   "outputs": [
    {
     "name": "stdout",
     "output_type": "stream",
     "text": [
      "Entropia incrociata tra p e q:  1.5539580943104374\n"
     ]
    }
   ],
   "source": [
    "h_pq = -np.sum(p * np.log2(q))\n",
    "print(\"Entropia incrociata tra p e q: \", h_pq)"
   ]
  },
  {
   "cell_type": "markdown",
   "metadata": {},
   "source": [
    "Calcoliamo la divergenza di Kullback-Leibler da $p$ a $q$."
   ]
  },
  {
   "cell_type": "code",
   "execution_count": 8,
   "metadata": {},
   "outputs": [
    {
     "name": "stdout",
     "output_type": "stream",
     "text": [
      "Divergenza KL da p a q:  0.06848279708310301\n"
     ]
    }
   ],
   "source": [
    "kl_pq = h_pq - h_p\n",
    "print(\"Divergenza KL da p a q: \", kl_pq)"
   ]
  },
  {
   "cell_type": "markdown",
   "metadata": {},
   "source": [
    "Consideriamo un secondo esempio. Sia $p$ una distribuzione binomiale di parametri $\\theta = 0.2$ e $n = 5$."
   ]
  },
  {
   "cell_type": "code",
   "execution_count": 9,
   "metadata": {},
   "outputs": [
    {
     "name": "stdout",
     "output_type": "stream",
     "text": [
      "[0.4096 0.4096 0.1536 0.0256 0.0016]\n"
     ]
    }
   ],
   "source": [
    "# Define the parameters\n",
    "n = 4\n",
    "p = 0.2\n",
    "\n",
    "# Compute the probability mass function\n",
    "true_py = stats.binom.pmf(range(n + 1), n, p)\n",
    "print(true_py)"
   ]
  },
  {
   "cell_type": "markdown",
   "metadata": {},
   "source": [
    "Sia $q_1$ una approssimazione a $p$:"
   ]
  },
  {
   "cell_type": "code",
   "execution_count": 10,
   "metadata": {},
   "outputs": [
    {
     "name": "stdout",
     "output_type": "stream",
     "text": [
      "[0.46 0.42 0.1  0.01 0.01]\n"
     ]
    }
   ],
   "source": [
    "q1 = np.array([0.46, 0.42, 0.10, 0.01, 0.01])\n",
    "print(q1)"
   ]
  },
  {
   "cell_type": "markdown",
   "metadata": {},
   "source": [
    "Sia $q_2$ una distribuzione uniforme:"
   ]
  },
  {
   "cell_type": "code",
   "execution_count": 11,
   "metadata": {},
   "outputs": [
    {
     "name": "stdout",
     "output_type": "stream",
     "text": [
      "[0.2, 0.2, 0.2, 0.2, 0.2]\n"
     ]
    }
   ],
   "source": [
    "q2 = [0.2] * 5\n",
    "print(q2)"
   ]
  },
  {
   "cell_type": "markdown",
   "metadata": {},
   "source": [
    "La divergenza $\\mathbb{KL}$ di $q_1$ da $p$ è"
   ]
  },
  {
   "cell_type": "code",
   "execution_count": 12,
   "metadata": {},
   "outputs": [
    {
     "name": "stdout",
     "output_type": "stream",
     "text": [
      "Divergenza KL da p a q1:  0.029251990333458988\n"
     ]
    }
   ],
   "source": [
    "kl_pq1 = np.sum(true_py * np.log(true_py / q1))\n",
    "print(\"Divergenza KL da p a q1: \", kl_pq1)"
   ]
  },
  {
   "cell_type": "markdown",
   "metadata": {},
   "source": [
    "La divergenza $\\mathbb{KL}$ di $q_2$ da $p$ è:"
   ]
  },
  {
   "cell_type": "code",
   "execution_count": 13,
   "metadata": {},
   "outputs": [
    {
     "name": "stdout",
     "output_type": "stream",
     "text": [
      "Divergenza KL da p a q2:  0.4863577787141544\n"
     ]
    }
   ],
   "source": [
    "kl_pq2 = np.sum(true_py * np.log(true_py / q2))\n",
    "print(\"Divergenza KL da p a q2: \", kl_pq2)"
   ]
  },
  {
   "cell_type": "markdown",
   "metadata": {},
   "source": [
    "È chiaro che perdiamo una quantità maggiore di informazioni se, per descrivere la distribuzione binomiale $p$, usiamo la distribuzione uniforme $q_2$ anziché $q_1$.\n",
    "\n",
    "### La divergenza dipende dalla direzione\n",
    "\n",
    "La divergenza di Kullback-Leibler ($ \\mathbb{KL} $) non è simmetrica, il che significa che $ \\mathbb{KL}(p \\mid\\mid q) \\neq \\mathbb{KL}(q \\mid\\mid p) $. Illustriamo numericamente questo concetto per due distribuzioni $p = \\{0.01, 0.99\\}$ e $q = \\{0.7, 0.3\\}$."
   ]
  },
  {
   "cell_type": "code",
   "execution_count": 14,
   "metadata": {},
   "outputs": [
    {
     "name": "stdout",
     "output_type": "stream",
     "text": [
      "Entropia di p: 0.056001534354847345\n",
      "Entropia incrociata da p a q: 1.1954998257220641\n",
      "Divergenza KL da p a q: 1.1394982913672167\n",
      "\n",
      "Entropia di q: 0.6108643020548935\n",
      "Entropia incrociata da q a p: 3.226634230947714\n",
      "Divergenza KL da q a p: 2.6157699288928207\n"
     ]
    }
   ],
   "source": [
    "# Definire le distribuzioni p e q\n",
    "p = np.array([0.01, 0.99])\n",
    "q = np.array([0.7, 0.3])\n",
    "\n",
    "# Calcolo dell'entropia di p\n",
    "h_p = -np.sum(p * np.log(p))\n",
    "\n",
    "# Calcolo dell'entropia incrociata da p a q\n",
    "h_pq = -np.sum(p * np.log(q))\n",
    "\n",
    "# Calcolo della divergenza KL da p a q\n",
    "kl_pq = h_pq - h_p\n",
    "\n",
    "# Calcolo dell'entropia di q\n",
    "h_q = -np.sum(q * np.log(q))\n",
    "\n",
    "# Calcolo dell'entropia incrociata da q a p\n",
    "h_qp = -np.sum(q * np.log(p))\n",
    "\n",
    "# Calcolo della divergenza KL da q a p\n",
    "kl_qp = h_qp - h_q\n",
    "\n",
    "print(f\"Entropia di p: {h_p}\")\n",
    "print(f\"Entropia incrociata da p a q: {h_pq}\")\n",
    "print(f\"Divergenza KL da p a q: {kl_pq}\")\n",
    "\n",
    "print(f\"\\nEntropia di q: {h_q}\")\n",
    "print(f\"Entropia incrociata da q a p: {h_qp}\")\n",
    "print(f\"Divergenza KL da q a p: {kl_qp}\")"
   ]
  },
  {
   "cell_type": "markdown",
   "metadata": {},
   "source": [
    "## Confronto tra modelli tramite la divergenza $\\mathbb{KL}$\n",
    "\n",
    "La divergenza $\\mathbb{KL}$ è uno strumento utilizzato per confrontare diversi modelli probabilistici. Essa quantifica la discrepanza tra la distribuzione di probabilità generata da un modello ipotetico $p_{\\mathcal{M}}$ e quella del modello che effettivamente ha generato i dati, $p_t$.\n",
    "\n",
    "### Distribuzione predittiva a posteriori\n",
    "\n",
    "Abbiamo precedentemente introdotto il concetto di distribuzione predittiva a posteriori, formulata come segue:\n",
    "\n",
    "$$\n",
    "p(\\tilde{y} \\mid y) = \\int_\\Theta p(\\tilde{y} \\mid \\theta) p(\\theta \\mid y) \\, \\mathrm{d}\\theta .\n",
    "$$\n",
    "\n",
    "Questa distribuzione riflette il tipo di dati che ci aspettiamo siano generati dal modello $\\mathcal{M}$, considerando sia le nostre credenze a priori $p(\\theta)$ sia i dati effettivamente osservati $y$.\n",
    "\n",
    "### Valutazione della somiglianza tra distribuzioni\n",
    "\n",
    "L'obiettivo è di valutare quanto bene la distribuzione $q_{\\mathcal{M}} = p(\\tilde{y} \\mid y)$ approssimi la distribuzione del modello generatore reale $p_t(\\tilde{y})$. In altre parole, vogliamo quantificare quanto siano \"simili\" i dati generati dal modello ipotetico $q_{\\mathcal{M}}$ rispetto a quelli generati dal modello reale $p_t$. La misura di questa somiglianza è fornita dalla divergenza di Kullback-Leibler:\n",
    "\n",
    "$$\n",
    "\\mathbb{KL}(p_t \\mid\\mid q_{\\mathcal{M}}).\n",
    "$$\n",
    "\n",
    "### Confronto tra modelli multipli\n",
    "\n",
    "Immaginiamo di avere $k$ modelli distinti $ \\{q_{\\mathcal{M}_1}, q_{\\mathcal{M}_2}, \\ldots, q_{\\mathcal{M}_k}\\} $. Se conoscessimo $p_t$, potremmo calcolare la divergenza di Kullback-Leibler per ogni modello come segue:\n",
    "\n",
    "$$\n",
    "\\begin{align*}\n",
    "\\mathbb{KL} (p_t \\mid\\mid q_{\\mathcal{M}_1}) &= \\mathbb{E} (\\log p_{t}) - \\mathbb{E} (\\log q_{\\mathcal{M}_1}) \\\\\n",
    "\\mathbb{KL} (p_t \\mid\\mid q_{\\mathcal{M}_2}) &= \\mathbb{E} (\\log p_{t}) - \\mathbb{E} (\\log q_{\\mathcal{M}_2}) \\\\\n",
    "&\\vdots \\\\\n",
    "\\mathbb{KL} (p_t \\mid\\mid q_{\\mathcal{M}_k}) &= \\mathbb{E} (\\log p_{t}) - \\mathbb{E} (\\log q_{\\mathcal{M}_k}) .\n",
    "\\end{align*}\n",
    "$$ (eq-kl-mod-comp)\n",
    "\n",
    "Anche se nella pratica $p_t$ è sconosciuta, notiamo che essa è costante in tutti i termini della divergenza. Di conseguenza, possiamo confrontare i modelli focalizzandoci sul secondo termine della divergenza di Kullback-Leibler, che è indipendente da $p_t$. Per un modello generico $\\mathcal{M}$, questo termine può essere espresso come:\n",
    "\n",
    "$$\n",
    "\\mathbb{E} \\log p_{\\mathcal{M}}(y) = \\int_{-\\infty}^{+\\infty} p_{t}(y) \\log p_{\\mathcal{M}}(y) \\, \\mathrm{d}y .\n",
    "$$ (eq-kl-div-cont-t2)\n",
    "\n",
    "In questo modo, siamo in grado di costruire un criterio di confronto tra modelli che non richiede la conoscenza del modello generatore reale dei dati.\n",
    "\n",
    "In conclusione, l'eq. {eq}`eq-kl-div-cont-t2` esprime la densità logaritmica media della distribuzione $p_{\\mathcal{M}}(y)$ secondo la distribuzione vera $p_t(y)$. In altre parole, questa equazione ci dice quanto bene il modello $\\mathcal{M}$ può rappresentare i dati veri generati da $p_t$."
   ]
  },
  {
   "cell_type": "markdown",
   "metadata": {},
   "source": [
    "## Expected Log Predictive Density\n",
    "\n",
    "Dopo aver discusso l'equazione {eq}`eq-kl-div-cont-t2`, possiamo riformularla come segue:\n",
    "\n",
    "$$\n",
    "\\begin{equation}\n",
    "elpd = \\int_{\\tilde{y}} p_{t}(\\tilde{y}) \\log p(\\tilde{y} \\mid y) \\, \\mathrm{d}\\tilde{y} .\n",
    "\\end{equation}\n",
    "$$ (eq-elpd)\n",
    "\n",
    "L'equazione {eq}`eq-elpd` è conosciuta come *Expected Log Predictive Density* (elpd). Esaminiamo con attenzione le differenze tra la elpd e l'eq. {eq}`eq-kl-div-cont-t2`.\n",
    "\n",
    "1. **Variabile di Interesse**: Nell'eq. {eq}`eq-kl-div-cont-t2`, $y$ rappresenta i dati osservati. Nell'eq. {eq}`eq-elpd`, invece, $\\tilde{y}$ rappresenta potenziali nuovi dati che potrebbero essere osservati in futuro.\n",
    "\n",
    "2. **Modello di Probabilità**: Nell'eq. {eq}`eq-kl-div-cont-t2`, $p_{\\mathcal{M}}(y) $ rappresenta il modello probabilitico basato sui dati osservati. Nell'eq. {eq}`eq-elpd`, invece, $p(\\tilde{y} \\mid y)$ è la distribuzione predittiva a posteriori, che rappresenta le previsioni del modello per nuovi dati, date le osservazioni precedenti $y$.\n",
    "\n",
    "3. **Ruolo di $p_t$**: In entrambe le formule, $p_t$ rappresenta la \"vera\" distribuzione dei dati. Nella prima formula, essa valuta quanto accuratamente il modello rappresenta i dati effettivamente osservati, mentre nella seconda pesa la qualità delle previsioni del modello per nuovi dati.\n",
    "\n",
    "Quindi, mentre l'eq. {eq}`eq-kl-div-cont-t2` fornisce una misura di quanto bene il modello si adatta ai dati osservati, l'eq. {eq}`eq-elpd` valuta la probabilità che il modello effettui predizioni accurate su nuovi dati. Entrambe le formule sono collegate al concetto di divergenza $\\mathbb{KL}$, ma sono applicate in contesti diversi: la prima per la valutazione del fit del modello, la seconda per la sua capacità predittiva.\n",
    "\n",
    "### Approssimazione e stima\n",
    "\n",
    "Non è necessario trovare una formulazione analitica esatta per $p(\\tilde{y} \\mid y)$, in quanto è possibile approssimare questa distribuzione attraverso simulazioni. Tuttavia, è importante notare che l'eq. {eq}`eq-elpd` include il termine $p_t(\\tilde{y})$, che rappresenta la distribuzione dei potenziali dati futuri secondo il \"vero\" modello generatore. Poiché $p_t$ è in pratica ignoto, l'elpd non può essere calcolata esattamente ma può solo essere stimata. Il prossimo punto di discussione in questo capitolo riguarderà le strategie per stimare efficacemente l'elpd utilizzando un campione di osservazioni.\n",
    "\n",
    "### Un esempio pratico\n",
    "\n",
    "Esaminiamo un esempio tratto da [Bayesian Data Analysis for Cognitive Science](https://vasishth.github.io/bayescogsci/book/expected-log-predictive-density-of-a-model.html) nel quale la elpd viene calcolata in forma esatta oppure mediante approssimazione. Supponiamo di disporre di un campione di $n$ osservazioni. Supponiamo inoltre di conoscere il vero processo generativo dei dati (qualcosa che in pratica non è mai possibile), ovvero:\n",
    "\n",
    "$$\n",
    "p_t(y) = Beta(1, 3).\n",
    "$$ \n",
    "\n",
    "I dati sono"
   ]
  },
  {
   "cell_type": "code",
   "execution_count": 14,
   "metadata": {},
   "outputs": [
    {
     "name": "stdout",
     "output_type": "stream",
     "text": [
      "[0.21810354 0.05532253 0.13545025 0.42102514 0.14728608 0.11052926]\n"
     ]
    }
   ],
   "source": [
    "np.random.seed(75)\n",
    "\n",
    "# Number of samples\n",
    "n = 10000\n",
    "\n",
    "# Draw samples from a Beta distribution\n",
    "y_data = np.random.beta(1, 3, n)\n",
    "\n",
    "# Print the first 6 elements of the array, equivalent to R's head function\n",
    "print(y_data[:6])"
   ]
  },
  {
   "cell_type": "markdown",
   "metadata": {},
   "source": [
    "Supponiamo inoltre di avere adattato ai dati un modello bayesiano $\\mathcal{M}$ e di avere ottenuto la distribuzione a posteriori per i parametri del modello. Inoltre, supponiamo di avere derivato la forma analitica della distribuzione predittiva a posteriori per il modello:\n",
    "\n",
    "$$\n",
    "p(y^{rep} \\mid y) \\sim Beta(2, 2).\n",
    "$$\n",
    "\n",
    "Questa distribuzione ci dice quanto sono credibili i possibili dati futuri.\n",
    "\n",
    "Conoscendo la vera distribuzione dei dati $p_t(y)$ possiamo calcolare in forma esatta la quantità $\\text{ELPD}$, ovvero\n",
    "\n",
    "$$\n",
    "\\text{ELPD} = \\int_{y^{rep}}p_{t}(y^{rep})\\log p(y^{rep} \\mid y) \\,\\operatorname {d}\\!y^{rep}.\n",
    "$$\n",
    "\n",
    "Svolgiamo i calcoli otteniamo:"
   ]
  },
  {
   "cell_type": "code",
   "execution_count": 15,
   "metadata": {},
   "outputs": [
    {
     "name": "stdout",
     "output_type": "stream",
     "text": [
      "-0.3749071974384449\n",
      "3.0236368964153826e-12\n"
     ]
    }
   ],
   "source": [
    "from scipy.stats import beta\n",
    "from scipy.integrate import quad\n",
    "\n",
    "# True distribution\n",
    "def p_t(y):\n",
    "    return beta.pdf(y, 1, 3)\n",
    "\n",
    "# Predictive distribution\n",
    "def p(y):\n",
    "    return beta.pdf(y, 2, 2)\n",
    "\n",
    "# Integration\n",
    "def integrand(y):\n",
    "    return p_t(y) * np.log(p(y))\n",
    "\n",
    "# Perform numerical integration\n",
    "result, error = quad(integrand, 0, 1)\n",
    "\n",
    "print(result)\n",
    "print(error)"
   ]
  },
  {
   "cell_type": "markdown",
   "metadata": {},
   "source": [
    "Tuttavia, in pratica non conosciamo mai $p_t(y)$. Quindi approssimiamo $\\text{ELPD}$ usando l'eq. {eq}`eq-elpd`:\n",
    "\n",
    "$$\n",
    "\\frac{1}{n} \\sum_{i=1}^n \\log p(y_i \\mid y).\n",
    "$$ (eq-empirical-elpd)\n",
    "\n",
    "L'espressione {eq}`eq-empirical-elpd` è una forma empirica della $\\text{ELPD}$, utilizzata quando abbiamo a disposizione un campione di dati osservati $\\{y_1, y_2, \\ldots, y_n\\}$ per approssimare l'integrazione in $\\text{ELPD}$. Mentre la definizione più generale di $\\text{ELPD}$ è un'integrazione su tutte le possibili realizzazioni future $\\tilde{y}$ pesate dalla loro probabilità \"vera\" $p_t(\\tilde{y})$, in pratica potremmo non avere accesso a questa distribuzione vera $p_t$. \n",
    "\n",
    "In questo caso, utilizziamo il nostro campione osservato come un'approssimazione empirica della distribuzione vera. In altre parole, stiamo utilizzando i dati osservati come un set rappresentativo di \"possibili futuri dati\". Questo è fondamentalmente un'approssimazione Monte Carlo della $\\text{ELPD}$, che si basa sul principio che, data una quantità sufficiente di dati, la media campionaria può approssimare l'integrazione prevista.\n",
    "\n",
    "La formula $\\frac{1}{n} \\sum_{i=1}^n \\log p(y_i \\mid y)$ si concentra sul calcolo del logaritmo della densità predittiva a posteriori $p(y_i \\mid y) $ per ogni punto dati osservato $y_i$ e poi prende la media aritmetica. Se $n$ è grande e il campione è rappresentativo, questa media aritmetica dovrebbe avvicinarsi all'$\\text{ELPD}$ vero e proprio, definito come $\\int_{\\tilde{y}} p_{t}(\\tilde{y}) \\log p(\\tilde{y} \\mid y) \\, \\mathrm{d}\\tilde{y}.$ Tuttavia, è importante sottolineare che questa è un'approssimazione e può essere imprecisa se la dimensione del campione è piccola o se i dati osservati non sono una buona rappresentazione della distribuzione \"vera\" $p_t$.\n",
    "\n",
    "Nel caso dell'esempio in discussione, usando l'eq. {eq}`eq-empirical-elpd` otteniamo un valore approssimato a quello trovato in precedenza:"
   ]
  },
  {
   "cell_type": "code",
   "execution_count": 16,
   "metadata": {},
   "outputs": [
    {
     "data": {
      "text/plain": [
       "-0.3721938430299501"
      ]
     },
     "execution_count": 16,
     "metadata": {},
     "output_type": "execute_result"
    }
   ],
   "source": [
    "1 / n * np.sum(np.log(p(y_data)))"
   ]
  },
  {
   "cell_type": "markdown",
   "metadata": {},
   "source": [
    "La formula empirica {eq}`eq-empirical-elpd` è frequentemente utilizzata per approssimare la ELPD in applicazioni pratiche. In sostanza, attraverso l'ELPD, miriamo a valutare la capacità del nostro modello di effettuare previsioni affidabili su nuovi dati non ancora analizzati. Esaminiamo i vari elementi della formula:\n",
    "\n",
    "1. **Densità logaritmica predittiva $ \\log p(y_i \\mid y) $ per un dato $ y_i $**: Si tratta di un indice che misura l'efficacia con cui il modello prevede un singolo dato $ y_i $, avendo a disposizione un set di dati $ y $. Valori più elevati di $ \\log p(y_i \\mid y) $ suggeriscono che il modello attribuisce una probabilità alta ai dati effettivamente osservati, segno che il modello è performante.\n",
    "\n",
    "2. **Media della densità logaritmica predittiva**: Sommando i logaritmi delle densità predittive per ciascun punto del set di dati e dividendo per $ n $, otteniamo una media. Questo valore medio fornisce un'indicazione complessiva dell'efficacia predittiva del modello sull'intero set di dati. In questo caso, l'aspettativa (o media) è un'approssimazione basata sui dati a disposizione. Invece di calcolare l'integrale sotto la curva di densità per ogni possibile nuovo dato $ \\tilde{y} $, utilizziamo i dati osservati $ y_1, y_2, \\ldots, y_n $ come un surrogato empirico. Questa metodologia è una forma di approssimazione Monte Carlo.\n",
    "\n",
    "Un alto valore di ELPD suggerisce che, in media, la densità predittiva del modello per i dati osservati è elevata. Dato che utilizziamo questi dati come approssimazione per futuri dati non ancora osservati, un alto ELPD è indicativo della probabile efficacia del modello nel prevedere nuovi dati.\n",
    "\n",
    "In sintesi, l'ELPD serve come un indicatore globale della capacità del modello di effettuare previsioni accurate su dati non ancora osservati. Valori più alti sono sintomatici di un modello più efficace. È importante, tuttavia, tener presente che questa è una stima, calcolata in relazione al set di dati osservati; potrebbe quindi non essere un indicatore affidabile se i dati futuri differiscono significativamente da quelli osservati.\n",
    "\n",
    "## Validazione incrociata Leave One Out (LOO)\n",
    "\n",
    "Ma come si può ottenere in pratica il valore dell'ELPD? Se si ricorre a un metodo di stima MCMC, l'ELPD può essere approssimata mediante la *Leave One Out Cross-Validation* (LOO-CV). Con il metodo LOO, si rimuove un'osservazione dal campione, si adatta il modello ai dati rimanenti, e si verifica quanto bene esso predice l'osservazione esclusa. Si ripete questo processo per ogni osservazione nel set di dati, una per volta, e infine si calcola la media dei risultati per ottenere una stima LOO-CV. La libreria PyMC automatizza questo procedimento.\n",
    "\n",
    "### Valori diagnostici Pareto $k$\n",
    "\n",
    "Quanto affidabile è l'approssimazione effettuata attraverso LOO-CV? Per rispondere a questa domanda, si ricorre a un parametro diagnostico noto come valore Pareto $ k $.\n",
    "\n",
    "Nel contesto della validazione incrociata di tipo Leave-One-Out (LOO), il valore Pareto $ k $ serve come un barometro per giudicare la precisione dell'approssimazione LOO. Il valore di $ k $ funge da indicatore della qualità dell'approssimazione e ha le seguenti interpretazioni:\n",
    "\n",
    "- **$ k < 0.5 $**: In questo caso, l'approssimazione è generalmente ottima e l'errore associato è trascurabile.\n",
    "  \n",
    "- **$ 0.5 \\leq k < 0.7 $**: L'approssimazione rimane buona, sebbene con qualche motivo di cautela. Un'analisi più approfondita del modello e dei dati potrebbe essere vantaggiosa.\n",
    "\n",
    "- **$ 0.7 \\leq k < 1 $**: La qualità dell'approssimazione è mediocre. I risultati derivanti da LOO possono essere poco affidabili; potrebbe quindi essere utile considerare metodi di validazione alternativi o apportare modifiche al modello.\n",
    "\n",
    "- **$ k \\geq 1 $**: Qui, l'approssimazione è inadeguata e i risultati da LOO sono molto probabilmente inaffidabili. Questo è un campanello d'allarme che indica potenziali problemi con il modello o con il metodo di approssimazione adottato.\n",
    "\n",
    "Il valore diagnostico Pareto $ k $ è basato sulla distribuzione di Pareto e serve a valutare in che misura le code della distribuzione delle differenze di log-verosimiglianza (tra la log-verosimiglianza del punto dati escluso e quella relativa all'intero set di dati) divergono da una distribuzione esponenziale. Un valore di $ k $ elevato suggerisce che le code della distribuzione sono più pesanti del previsto, indicando che l'approssimazione LOO potrebbe essere imprecisa.\n",
    "\n",
    "In sintesi, il valore Pareto $ k $ offre uno strumento pratico per verificare l'affidabilità dell'approssimazione LOO. Permette inoltre ai ricercatori di identificare e indagare su potenziali problematiche relative sia al modello che alla metodologia di validazione incrociata adottata.\n",
    "\n",
    "### Ruolo dell'ELPD nella valutazione comparativa dei modelli\n",
    "\n",
    "L'ELPD è una metrica essenziale per effettuare confronti tra vari modelli statistici. Ottenendo una stima dell'ELPD attraverso metodologie come la Validazione Incrociata Leave-One-Out (LOO-CV), si può acquisire una valutazione obiettiva dell'adeguatezza di ciascun modello rispetto ai dati a disposizione. Questo aspetto assume particolare importanza quando si è chiamati a selezionare il modello più idoneo tra diverse alternative, o quando si desidera determinare se un modello di maggiore complessità offra un migliore adattamento rispetto a uno più semplice.\n",
    "\n",
    "In sintesi, l'ELPD funge da indicatore affidabile della capacità predittiva di un modello. Allo stesso tempo, la tecnica del LOO-CV fornisce un mezzo efficace per approssimare tale metrica. Grazie alla LOO-CV, gli analisti possono condurre una valutazione sia accurata che robusta delle prestazioni di differenti modelli, agevolando la decisione relativa al modello più appropriato per uno specifico contesto.\n",
    "\n",
    "L'opportunità di automatizzare queste procedure di valutazione attraverso l'uso di librerie software come PyMC rende l'intero approccio ancor più accessibile e pratico, consolidando la sua utilità come strumento per l'accurata selezione e validazione di modelli statistici.\n",
    "\n",
    "### Simulazione\n",
    "\n",
    "Per illustrare questa metodologia di confronto tra modelli utilizzando la LOO-CV, procediamo con una simulazione. Genereremo dati sintetici in cui esiste una relazione lineare tra le variabili $x$ e $y$. In questo scenario, potremmo essere interessati a confrontare un modello lineare con un modello più semplice, che considera solo il termine di intercetta. Utilizzeremo la LOO-CV per stabilire quale dei due modelli si adatta meglio ai dati in questione. La stima dell'ELPD servirà come criterio quantitativo per orientare questa scelta di modello."
   ]
  },
  {
   "cell_type": "code",
   "execution_count": 20,
   "metadata": {},
   "outputs": [],
   "source": [
    "# Generate synthetic data\n",
    "np.random.seed(42)\n",
    "X = np.linspace(0, 10, 100)\n",
    "y_true = 3 + 2 * X\n",
    "y_obs = y_true + np.random.normal(scale=3, size=100)"
   ]
  },
  {
   "cell_type": "markdown",
   "metadata": {},
   "source": [
    "Adattiamo ai dati un modello che rispecchia il vero meccanismo generativo dei dati.\n",
    "\n",
    "Si noti che, per calcolare LOO e WAIC, ArviZ ha bisogno di accedere alla log-likelihood per ogni campione posteriore. Possiamo trovarla tramite `compute_log_likelihood()`. In alternativa, possiamo passare `idata_kwargs={\"log_likelihood\": True}` a `sample()` per farla calcolare automaticamente alla fine del campionamento."
   ]
  },
  {
   "cell_type": "code",
   "execution_count": 21,
   "metadata": {},
   "outputs": [],
   "source": [
    "# Linear model\n",
    "with pm.Model() as linear_model:\n",
    "    alpha = pm.Normal(\"alpha\", mu=0, sigma=10)\n",
    "    beta = pm.Normal(\"beta\", mu=0, sigma=10)\n",
    "    sigma = pm.HalfNormal(\"sigma\", sigma=10)\n",
    "    mu = alpha + beta * X\n",
    "    y = pm.Normal(\"y\", mu=mu, sigma=sigma, observed=y_obs)"
   ]
  },
  {
   "cell_type": "code",
   "execution_count": 22,
   "metadata": {
    "tags": [
     "hide-output"
    ]
   },
   "outputs": [
    {
     "name": "stdout",
     "output_type": "stream",
     "text": [
      "Compiling...\n",
      "Compilation time =  0:00:01.346263\n",
      "Sampling...\n"
     ]
    },
    {
     "name": "stderr",
     "output_type": "stream",
     "text": [
      "Compiling.. :   0%|          | 0/2000 [00:00<?, ?it/s]\n",
      "\u001b[A\n",
      "\u001b[A\n",
      "\n",
      "\u001b[A\u001b[A\n",
      "\n",
      "\u001b[A\u001b[A\n",
      "\u001b[A\n",
      "\n",
      "Running chain 0: 100%|██████████| 2000/2000 [00:03<00:00, 644.41it/s]\n",
      "Running chain 1: 100%|██████████| 2000/2000 [00:03<00:00, 644.87it/s]\n",
      "Running chain 2: 100%|██████████| 2000/2000 [00:03<00:00, 645.41it/s]\n",
      "Running chain 3: 100%|██████████| 2000/2000 [00:03<00:00, 645.82it/s]\n"
     ]
    },
    {
     "name": "stdout",
     "output_type": "stream",
     "text": [
      "Sampling time =  0:00:03.760673\n",
      "Transforming variables...\n",
      "Transformation time =  0:00:00.026621\n",
      "Computing Log Likelihood...\n",
      "Log Likelihood time =  0:00:00.373083\n"
     ]
    }
   ],
   "source": [
    "with linear_model:\n",
    "    linear_trace = pm.sampling_jax.sample_numpyro_nuts(idata_kwargs={\"log_likelihood\": True})"
   ]
  },
  {
   "cell_type": "markdown",
   "metadata": {},
   "source": [
    "Adattiamo ora un secondo modello che non tiene conto della relazione lineare tra x e y."
   ]
  },
  {
   "cell_type": "code",
   "execution_count": 23,
   "metadata": {},
   "outputs": [],
   "source": [
    "# Intercept model\n",
    "with pm.Model() as intercept_model:\n",
    "    alpha = pm.Normal(\"alpha\", mu=0, sigma=10)\n",
    "    mu = alpha \n",
    "    y = pm.Normal(\"y\", mu=mu, observed=y_obs)"
   ]
  },
  {
   "cell_type": "code",
   "execution_count": 24,
   "metadata": {
    "tags": [
     "hide-output"
    ]
   },
   "outputs": [
    {
     "name": "stdout",
     "output_type": "stream",
     "text": [
      "Compiling...\n",
      "Compilation time =  0:00:00.627551\n",
      "Sampling...\n"
     ]
    },
    {
     "name": "stderr",
     "output_type": "stream",
     "text": [
      "Compiling.. :   0%|          | 0/2000 [00:00<?, ?it/s]\n",
      "\u001b[A\n",
      "\u001b[A\n",
      "\n",
      "\u001b[A\u001b[A\n",
      "\n",
      "Running chain 0:   0%|          | 0/2000 [00:02<?, ?it/s]\n",
      "\u001b[A\n",
      "\n",
      "Running chain 0: 100%|██████████| 2000/2000 [00:02<00:00, 771.03it/s]\n",
      "Running chain 1: 100%|██████████| 2000/2000 [00:02<00:00, 771.73it/s]\n",
      "Running chain 2: 100%|██████████| 2000/2000 [00:02<00:00, 772.39it/s]\n",
      "Running chain 3: 100%|██████████| 2000/2000 [00:02<00:00, 772.83it/s]"
     ]
    },
    {
     "name": "stdout",
     "output_type": "stream",
     "text": [
      "Sampling time =  0:00:02.695263\n",
      "Transforming variables...\n",
      "Transformation time =  0:00:00.005692\n",
      "Computing Log Likelihood...\n",
      "Log Likelihood time =  0:00:00.105470\n"
     ]
    },
    {
     "name": "stderr",
     "output_type": "stream",
     "text": [
      "\n"
     ]
    }
   ],
   "source": [
    "with intercept_model:\n",
    "    intercept_trace = pm.sampling_jax.sample_numpyro_nuts(idata_kwargs={\"log_likelihood\": True})"
   ]
  },
  {
   "cell_type": "markdown",
   "metadata": {},
   "source": [
    "Troviamo ora elpd con il metodo LOO."
   ]
  },
  {
   "cell_type": "code",
   "execution_count": 25,
   "metadata": {},
   "outputs": [
    {
     "data": {
      "text/plain": [
       "Computed from 4000 posterior samples and 100 observations log-likelihood matrix.\n",
       "\n",
       "         Estimate       SE\n",
       "elpd_loo  -244.46     6.86\n",
       "p_loo        2.73        -\n",
       "------\n",
       "\n",
       "Pareto k diagnostic values:\n",
       "                         Count   Pct.\n",
       "(-Inf, 0.5]   (good)      100  100.0%\n",
       " (0.5, 0.7]   (ok)          0    0.0%\n",
       "   (0.7, 1]   (bad)         0    0.0%\n",
       "   (1, Inf)   (very bad)    0    0.0%"
      ]
     },
     "execution_count": 25,
     "metadata": {},
     "output_type": "execute_result"
    }
   ],
   "source": [
    "linear_loo = az.loo(linear_trace)\n",
    "linear_loo"
   ]
  },
  {
   "cell_type": "code",
   "execution_count": 26,
   "metadata": {},
   "outputs": [
    {
     "data": {
      "text/plain": [
       "Computed from 4000 posterior samples and 100 observations log-likelihood matrix.\n",
       "\n",
       "         Estimate       SE\n",
       "elpd_loo -2251.68   195.86\n",
       "p_loo       41.93        -\n",
       "------\n",
       "\n",
       "Pareto k diagnostic values:\n",
       "                         Count   Pct.\n",
       "(-Inf, 0.5]   (good)      100  100.0%\n",
       " (0.5, 0.7]   (ok)          0    0.0%\n",
       "   (0.7, 1]   (bad)         0    0.0%\n",
       "   (1, Inf)   (very bad)    0    0.0%"
      ]
     },
     "execution_count": 26,
     "metadata": {},
     "output_type": "execute_result"
    }
   ],
   "source": [
    "intercept_loo = az.loo(intercept_trace)\n",
    "intercept_loo"
   ]
  },
  {
   "cell_type": "markdown",
   "metadata": {},
   "source": [
    "Infine, calcoliamo `eldp_diff`. L'incertezza di questa quantità è espressa dall'errore standard. Se il rapporto tra `eldp_diff` e il suo errore standard è almeno uguale a 2, allora possiamo concludere che vi è una differenza credibile tra di due modelli."
   ]
  },
  {
   "cell_type": "code",
   "execution_count": 27,
   "metadata": {},
   "outputs": [
    {
     "data": {
      "text/html": [
       "<div>\n",
       "<style scoped>\n",
       "    .dataframe tbody tr th:only-of-type {\n",
       "        vertical-align: middle;\n",
       "    }\n",
       "\n",
       "    .dataframe tbody tr th {\n",
       "        vertical-align: top;\n",
       "    }\n",
       "\n",
       "    .dataframe thead th {\n",
       "        text-align: right;\n",
       "    }\n",
       "</style>\n",
       "<table border=\"1\" class=\"dataframe\">\n",
       "  <thead>\n",
       "    <tr style=\"text-align: right;\">\n",
       "      <th></th>\n",
       "      <th>rank</th>\n",
       "      <th>elpd_loo</th>\n",
       "      <th>p_loo</th>\n",
       "      <th>elpd_diff</th>\n",
       "      <th>weight</th>\n",
       "      <th>se</th>\n",
       "      <th>dse</th>\n",
       "      <th>warning</th>\n",
       "      <th>scale</th>\n",
       "    </tr>\n",
       "  </thead>\n",
       "  <tbody>\n",
       "    <tr>\n",
       "      <th>linear_model</th>\n",
       "      <td>0</td>\n",
       "      <td>-244.460062</td>\n",
       "      <td>2.734655</td>\n",
       "      <td>0.000000</td>\n",
       "      <td>1.000000e+00</td>\n",
       "      <td>6.859261</td>\n",
       "      <td>0.00000</td>\n",
       "      <td>False</td>\n",
       "      <td>log</td>\n",
       "    </tr>\n",
       "    <tr>\n",
       "      <th>intercept_model</th>\n",
       "      <td>1</td>\n",
       "      <td>-2251.676007</td>\n",
       "      <td>41.927999</td>\n",
       "      <td>2007.215945</td>\n",
       "      <td>3.758487e-10</td>\n",
       "      <td>195.862766</td>\n",
       "      <td>195.52407</td>\n",
       "      <td>False</td>\n",
       "      <td>log</td>\n",
       "    </tr>\n",
       "  </tbody>\n",
       "</table>\n",
       "</div>"
      ],
      "text/plain": [
       "                 rank     elpd_loo      p_loo    elpd_diff        weight  \\\n",
       "linear_model        0  -244.460062   2.734655     0.000000  1.000000e+00   \n",
       "intercept_model     1 -2251.676007  41.927999  2007.215945  3.758487e-10   \n",
       "\n",
       "                         se        dse  warning scale  \n",
       "linear_model       6.859261    0.00000    False   log  \n",
       "intercept_model  195.862766  195.52407    False   log  "
      ]
     },
     "execution_count": 27,
     "metadata": {},
     "output_type": "execute_result"
    }
   ],
   "source": [
    "df_comp_loo = az.compare({\"linear_model\": linear_trace, \"intercept_model\": intercept_trace})\n",
    "df_comp_loo"
   ]
  },
  {
   "cell_type": "markdown",
   "metadata": {},
   "source": [
    "Nel caso presente, sappiamo che il modello che include una relazione lineare tra le due variabili è quello che rispecchia il modo in cui i dati sono stati generati. Infatti, troviamo che il rapporto tra `eldp_diff` e il suo errore standard è molto maggiore di 2, il che conferma che, per questi dati, il modello lineare è da preferire al modello che include solo l'intercetta."
   ]
  },
  {
   "cell_type": "code",
   "execution_count": 28,
   "metadata": {},
   "outputs": [
    {
     "data": {
      "image/png": "[encoded data removed]",
      "text/plain": [
       "<Figure size 600x200 with 1 Axes>"
      ]
     },
     "metadata": {
      "image/png": {
       "height": 253,
       "width": 760
      }
     },
     "output_type": "display_data"
    }
   ],
   "source": [
    "az.plot_compare(df_comp_loo, insample_dev=False);"
   ]
  },
  {
   "cell_type": "markdown",
   "metadata": {},
   "source": [
    "## Commenti e considerazioni finali \n",
    "\n",
    "Questo capitolo ha esplorato il ruolo fondamentale della Densità Logaritmica Predittiva Prevista (ELPD) nel campo della statistica applicata. L'ELPD non è solo una metrica per valutare le prestazioni di un singolo modello, ma serve anche come criterio per confrontare vari modelli tra loro.\n",
    "\n",
    "Adottare l'ELPD come metrica per la comparazione di modelli fornisce un quadro oggettivo per stabilire quale modello si allinea meglio ai dati a nostra disposizione. In un ambiente di crescente complessità, dove le opzioni di modellazione sono numerose, l'ELPD diventa un criterio determinante per la selezione del modello più adatto. Che si tratti di confrontare un modello complesso con uno più semplice, o di scegliere tra modelli diversi, l'ELPD offre un orientamento affidabile e fondato sui dati.\n",
    "\n",
    "In breve, l'ELPD è uno strumento utile nell'analisi dei dati moderna. Il suo utilizzo può rendere più chiare le decisioni su quale modello usare, contribuendo a risultati più affidabili e modelli più efficaci.\n",
    "\n",
    "## Watermark"
   ]
  },
  {
   "cell_type": "code",
   "execution_count": null,
   "metadata": {},
   "outputs": [],
   "source": [
    "%load_ext watermark\n",
    "%watermark -n -u -v -iv -w"
   ]
  }
 ],
 "metadata": {
  "kernelspec": {
   "display_name": "pymc5_env",
   "language": "python",
   "name": "python3"
  },
  "language_info": {
   "codemirror_mode": {
    "name": "ipython",
    "version": 3
   },
   "file_extension": ".py",
   "mimetype": "text/x-python",
   "name": "python",
   "nbconvert_exporter": "python",
   "pygments_lexer": "ipython3",
   "version": "3.11.5"
  },
  "orig_nbformat": 4
 },
 "nbformat": 4,
 "nbformat_minor": 2
}
